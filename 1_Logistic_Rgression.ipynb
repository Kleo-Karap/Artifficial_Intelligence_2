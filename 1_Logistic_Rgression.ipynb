{
 "cells": [
  {
   "cell_type": "markdown",
   "id": "00fa3b57",
   "metadata": {
    "papermill": {
     "duration": 0.011536,
     "end_time": "2023-12-21T00:02:51.574554",
     "exception": false,
     "start_time": "2023-12-21T00:02:51.563018",
     "status": "completed"
    },
    "tags": []
   },
   "source": [
    "Intro:\n",
    "This is a sequence classification task, where given an input sentence (tweet) in Greek , the classifier is supposed to output one out of the 3 sentiments (positive/negative/neutral). We 're therefore dealing with a multiclass classification task.\n",
    "The context of our classifier is politics and specifcally the General elections in Greece."
   ]
  },
  {
   "cell_type": "code",
   "execution_count": 1,
   "id": "68ef19db",
   "metadata": {
    "execution": {
     "iopub.execute_input": "2023-12-21T00:02:51.597072Z",
     "iopub.status.busy": "2023-12-21T00:02:51.596669Z",
     "iopub.status.idle": "2023-12-21T00:02:51.614296Z",
     "shell.execute_reply": "2023-12-21T00:02:51.613191Z"
    },
    "papermill": {
     "duration": 0.031061,
     "end_time": "2023-12-21T00:02:51.616293",
     "exception": false,
     "start_time": "2023-12-21T00:02:51.585232",
     "status": "completed"
    },
    "tags": []
   },
   "outputs": [
    {
     "name": "stdout",
     "output_type": "stream",
     "text": [
      "/kaggle/input/stopwords-gr/clean_gr_stops.csv\n",
      "/kaggle/input/sentiment-dicts/updated_negative_words.txt\n",
      "/kaggle/input/sentiment-dicts/updated_positive_words.txt\n",
      "/kaggle/input/ys19-2023-assignment-1/sample_submission.csv\n",
      "/kaggle/input/ys19-2023-assignment-1/test_set.csv\n",
      "/kaggle/input/ys19-2023-assignment-1/valid_set.csv\n",
      "/kaggle/input/ys19-2023-assignment-1/train_set.csv\n"
     ]
    }
   ],
   "source": [
    "import os\n",
    "for dirname, _, filenames in os.walk('/kaggle/input'):\n",
    "    for filename in filenames:\n",
    "        print(os.path.join(dirname, filename))"
   ]
  },
  {
   "cell_type": "code",
   "execution_count": 2,
   "id": "674ade7f",
   "metadata": {
    "execution": {
     "iopub.execute_input": "2023-12-21T00:02:51.638985Z",
     "iopub.status.busy": "2023-12-21T00:02:51.638695Z",
     "iopub.status.idle": "2023-12-21T00:03:04.662742Z",
     "shell.execute_reply": "2023-12-21T00:03:04.661832Z"
    },
    "papermill": {
     "duration": 13.037833,
     "end_time": "2023-12-21T00:03:04.665107",
     "exception": false,
     "start_time": "2023-12-21T00:02:51.627274",
     "status": "completed"
    },
    "tags": []
   },
   "outputs": [
    {
     "name": "stdout",
     "output_type": "stream",
     "text": [
      "Collecting demoji\r\n",
      "  Downloading demoji-1.1.0-py3-none-any.whl (42 kB)\r\n",
      "\u001b[2K     \u001b[90m━━━━━━━━━━━━━━━━━━━━━━━━━━━━━━━━━━━━━━━━\u001b[0m \u001b[32m42.9/42.9 kB\u001b[0m \u001b[31m2.5 MB/s\u001b[0m eta \u001b[36m0:00:00\u001b[0m\r\n",
      "\u001b[?25hInstalling collected packages: demoji\r\n",
      "Successfully installed demoji-1.1.0\r\n"
     ]
    }
   ],
   "source": [
    "!pip install demoji"
   ]
  },
  {
   "cell_type": "code",
   "execution_count": 3,
   "id": "5eb39702",
   "metadata": {
    "execution": {
     "iopub.execute_input": "2023-12-21T00:03:04.689683Z",
     "iopub.status.busy": "2023-12-21T00:03:04.689370Z",
     "iopub.status.idle": "2023-12-21T00:03:07.387480Z",
     "shell.execute_reply": "2023-12-21T00:03:07.386521Z"
    },
    "id": "qr1iJ1mqH5td",
    "papermill": {
     "duration": 2.713506,
     "end_time": "2023-12-21T00:03:07.390233",
     "exception": false,
     "start_time": "2023-12-21T00:03:04.676727",
     "status": "completed"
    },
    "tags": []
   },
   "outputs": [
    {
     "name": "stderr",
     "output_type": "stream",
     "text": [
      "/opt/conda/lib/python3.10/site-packages/scipy/__init__.py:146: UserWarning: A NumPy version >=1.16.5 and <1.23.0 is required for this version of SciPy (detected version 1.23.5\n",
      "  warnings.warn(f\"A NumPy version >={np_minversion} and <{np_maxversion}\"\n"
     ]
    }
   ],
   "source": [
    "import pandas as pd\n",
    "import matplotlib.pyplot as plt\n",
    "import seaborn as sns\n",
    "import re\n",
    "import string\n",
    "import numpy as np\n",
    "import demoji\n",
    "#for vectorisation\n",
    "from sklearn.feature_extraction.text import TfidfVectorizer\n",
    "from sklearn.feature_extraction.text import CountVectorizer\n",
    "from collections import Counter\n",
    "from sklearn.preprocessing import StandardScaler\n",
    "\n",
    "#for training \n",
    "from sklearn.model_selection import train_test_split\n",
    "from sklearn.model_selection import learning_curve\n",
    "from sklearn.linear_model import LogisticRegression\n",
    "\n",
    "#Feature selection\n",
    "from sklearn.feature_selection import SelectKBest, mutual_info_classif\n",
    "\n",
    "#For evaluation of model\n",
    "from sklearn import metrics\n",
    "from sklearn.metrics import make_scorer\n",
    "from sklearn.metrics import precision_recall_fscore_support as score\n",
    "from sklearn.metrics import classification_report, confusion_matrix ,accuracy_score, precision_score, recall_score, f1_score\n",
    "\n",
    "\n",
    "#For Hyper-tuning model\n",
    "from sklearn.model_selection import GridSearchCV\n",
    "import pickle"
   ]
  },
  {
   "cell_type": "code",
   "execution_count": 4,
   "id": "88ddb7f1",
   "metadata": {
    "execution": {
     "iopub.execute_input": "2023-12-21T00:03:07.417774Z",
     "iopub.status.busy": "2023-12-21T00:03:07.417268Z",
     "iopub.status.idle": "2023-12-21T00:03:07.424981Z",
     "shell.execute_reply": "2023-12-21T00:03:07.424124Z"
    },
    "id": "Np6xPKpJIWA3",
    "outputId": "bf15d81b-3633-4517-b4b5-013710f1372d",
    "papermill": {
     "duration": 0.022385,
     "end_time": "2023-12-21T00:03:07.427108",
     "exception": false,
     "start_time": "2023-12-21T00:03:07.404723",
     "status": "completed"
    },
    "tags": []
   },
   "outputs": [],
   "source": [
    "def read_explore_clean_dataset(dataset_path, text_column='Text', label_column='Sentiment'):\n",
    "    # Load the dataset\n",
    "    df = pd.read_csv(dataset_path, encoding='utf-8')\n",
    "    print(df.info())\n",
    "    # Count the number of samples in each class\n",
    "    class_counts = df[label_column].value_counts()\n",
    "\n",
    "    # Clean the dataset\n",
    "    # Drop duplicate rows\n",
    "    df = df.drop_duplicates(subset=[text_column, label_column])\n",
    "\n",
    "    # Drop rows with NaN values\n",
    "    df = df.dropna(subset=[text_column, label_column])\n",
    "\n",
    "    # Reset index after dropping rows\n",
    "    df = df.reset_index(drop=True)\n",
    "    print('Dataframe checked for NaN values and duplicates!')\n",
    "\n",
    "    return df"
   ]
  },
  {
   "cell_type": "code",
   "execution_count": 5,
   "id": "b9e27e8a",
   "metadata": {
    "execution": {
     "iopub.execute_input": "2023-12-21T00:03:07.451209Z",
     "iopub.status.busy": "2023-12-21T00:03:07.450862Z",
     "iopub.status.idle": "2023-12-21T00:03:07.476603Z",
     "shell.execute_reply": "2023-12-21T00:03:07.475688Z"
    },
    "papermill": {
     "duration": 0.040991,
     "end_time": "2023-12-21T00:03:07.479155",
     "exception": false,
     "start_time": "2023-12-21T00:03:07.438164",
     "status": "completed"
    },
    "tags": []
   },
   "outputs": [],
   "source": [
    "def sep_punc(x):\n",
    "    punc = '!\"#$%&\\'()*+,-./:;<=>?@[\\\\]^_`{|}~؛،؟؛.»«”'\n",
    "    out = []\n",
    "    for char in x:\n",
    "        if char in punc:\n",
    "            out.append(' ' + char + ' ')\n",
    "        else:\n",
    "            out.append(char)\n",
    "    return ''.join(out)\n",
    "\n",
    "def remove_emojis(text):\n",
    "    return demoji.replace(text, '')\n",
    "\n",
    "def read_lexicon(file_path):\n",
    "    lexicon = {}\n",
    "    with open(file_path, 'r', encoding='utf-8') as file:\n",
    "        for line in file:\n",
    "            # Split the line into word and polarity using regex\n",
    "            match = re.match(r'(\\S+)\\s+\\(([-+]?\\d+)\\)', line.strip())\n",
    "            if match:\n",
    "                word, polarity = match.groups()\n",
    "                lexicon[word] = int(polarity)\n",
    "    return lexicon\n",
    "\n",
    "def add_sentiment_counts(df, positive_lexicon, negative_lexicon):\n",
    "    # Calculate the count of positive and negative words in each sentence\n",
    "    positive_counts = []\n",
    "    negative_counts = []\n",
    "\n",
    "    for tweet in df['Text']:\n",
    "        positive_count = sum(positive_lexicon.get(word, 0) for word in tweet.lower().split())\n",
    "        negative_count = sum(negative_lexicon.get(word, 0) for word in tweet.lower().split())\n",
    "\n",
    "        positive_counts.append(positive_count)\n",
    "        negative_counts.append(negative_count)\n",
    "\n",
    "    # Add the counts to the DataFrame\n",
    "    df['positive_count'] = positive_counts\n",
    "    df['negative_count'] = negative_counts\n",
    "\n",
    "def preprocess_text_first_step(text):\n",
    "    # Remove retweets\n",
    "    text = re.sub(r'^RT[\\s]+', '', text, flags=re.IGNORECASE)\n",
    "    # Remove usernames @\n",
    "    text = re.sub(r'@[^\\s]+', '', text)\n",
    "    # Remove URLs \n",
    "    text = re.sub(r'https\\S+', '', text)\n",
    "    url_words = ['url', 'URL', 'html', 'HTML', 'http', 'HTTP']\n",
    "    for u in url_words:\n",
    "        text = re.sub(u, '', text)\n",
    "    return text, len(text)\n",
    "\n",
    "def preprocess_text_second_step(text):\n",
    "  # Separate punctuation characters\n",
    "    text = sep_punc(text)\n",
    "    # Remove punctuation characters\n",
    "    text = re.sub(f\"[{re.escape(string.punctuation)}]\", '', text)\n",
    "    # Remove Latin characters\n",
    "    text = re.sub(r'[a-zA-Z]+', '', text)\n",
    "    # Remove numbers\n",
    "    text = re.sub(r'\\b\\d+\\b', '', text)\n",
    "    return text\n",
    "\n",
    "def preprocess_text_third_step(text,stopwords_file):\n",
    "  # Remove words with character length equal to or less than 3\n",
    "    words = text.split()\n",
    "    filtered_words = [word for word in words if len(word) > 1]\n",
    "    text = ' '.join(filtered_words)\n",
    "    text = str(text).lower().strip()\n",
    "    # Remove stopwords\n",
    "    stop_words_df = pd.read_csv(stopwords_file)\n",
    "    # Exclude specific stop words\n",
    "    excluded_stopwords = ['όχι', 'μην', 'δεν', 'πολύ', 'πολυ']\n",
    "    stop_words_set = set(stop_words_df['0'].tolist()) - set(excluded_stopwords)\n",
    "    words = text.split()\n",
    "    filtered_words = [word for word in words if word not in stop_words_set]\n",
    "    text = ' '.join(filtered_words)\n",
    "    text = remove_emojis(text)\n",
    "   # remove the extra whitespace\n",
    "    text = re.sub(' +', ' ', text)\n",
    "\n",
    "    return text\n",
    "\n",
    "\n",
    "def preprocess_dataframe(df, positive_lexicon_file, negative_lexicon_file, stopwords_file):\n",
    "    # Apply the first step of preprocessing and capture the character length\n",
    "    df['Text'], df['n_chars'] = zip(*df['Text'].map(preprocess_text_first_step))\n",
    "\n",
    "    # Apply the second step of preprocessing\n",
    "    df['Text'] = df['Text'].apply(preprocess_text_second_step)\n",
    "\n",
    "    # Map sentiment column to discrete values\n",
    "    #polarity_mapping = {'POSITIVE': 1, 'NEUTRAL': 0, 'NEGATIVE': -1}\n",
    "    #df['Sentiment'] = df['Sentiment'].map(polarity_mapping)\n",
    "\n",
    "    # Read lexicons from files\n",
    "    positive_lexicon = read_lexicon(positive_lexicon_file)\n",
    "    negative_lexicon = read_lexicon(negative_lexicon_file)\n",
    "\n",
    "    # Add sentiment counts\n",
    "    add_sentiment_counts(df, positive_lexicon, negative_lexicon)\n",
    "\n",
    "    # Apply the third step of preprocessing\n",
    "    df['Text'] = df['Text'].apply(lambda x: preprocess_text_third_step(x, stopwords_file))\n",
    "\n",
    "    return df"
   ]
  },
  {
   "cell_type": "code",
   "execution_count": 6,
   "id": "becd5f69",
   "metadata": {
    "execution": {
     "iopub.execute_input": "2023-12-21T00:03:07.510538Z",
     "iopub.status.busy": "2023-12-21T00:03:07.509625Z",
     "iopub.status.idle": "2023-12-21T00:03:07.515033Z",
     "shell.execute_reply": "2023-12-21T00:03:07.514112Z"
    },
    "id": "mnmuwl2cMMAR",
    "outputId": "81f664e9-29f6-495f-abbd-d4fd300a1a86",
    "papermill": {
     "duration": 0.024062,
     "end_time": "2023-12-21T00:03:07.517479",
     "exception": false,
     "start_time": "2023-12-21T00:03:07.493417",
     "status": "completed"
    },
    "tags": []
   },
   "outputs": [],
   "source": [
    "#def print_sentences_with_high_symbol_percentage(df, text_column='Text', threshold=0.5, num_sentences=5):\n",
    "    # Assuming 'Text' is the column containing the sentences\n",
    "#    sentences = df[text_column]\n",
    "\n",
    "    # Function to check if more than the specified percentage of words start with '@' or '#'\n",
    " #   def should_print(sentence):\n",
    " #       words = sentence.split()\n",
    " #       symbol_count = sum(1 for word in words if word.startswith('@') or word.startswith('#'))\n",
    " #       return symbol_count / len(words) > threshold\n",
    "\n",
    "    # Print some of the sentences that meet the condition\n",
    " #   print(f\"Some sentences with more than {threshold * 100}% symbols:\")\n",
    " #   for sentence in sentences[sentences.apply(should_print)].head(num_sentences):\n",
    " #       print(sentence)"
   ]
  },
  {
   "cell_type": "markdown",
   "id": "31dd9df6",
   "metadata": {
    "id": "bsyE3zvj0Cpx",
    "papermill": {
     "duration": 0.010832,
     "end_time": "2023-12-21T00:03:07.543562",
     "exception": false,
     "start_time": "2023-12-21T00:03:07.532730",
     "status": "completed"
    },
    "tags": []
   },
   "source": [
    "#WordCloud of Latin characters"
   ]
  },
  {
   "cell_type": "code",
   "execution_count": 7,
   "id": "712dcf91",
   "metadata": {
    "execution": {
     "iopub.execute_input": "2023-12-21T00:03:07.567114Z",
     "iopub.status.busy": "2023-12-21T00:03:07.566775Z",
     "iopub.status.idle": "2023-12-21T00:03:07.571260Z",
     "shell.execute_reply": "2023-12-21T00:03:07.570381Z"
    },
    "id": "71Cudo7P0Bth",
    "outputId": "c601fd15-26cf-4e3f-9d50-6ba96fcda17b",
    "papermill": {
     "duration": 0.01818,
     "end_time": "2023-12-21T00:03:07.573123",
     "exception": false,
     "start_time": "2023-12-21T00:03:07.554943",
     "status": "completed"
    },
    "tags": []
   },
   "outputs": [],
   "source": [
    "#latin_hashtags_text = ' '.join(latin_hashtags_list)\n",
    "\n",
    "#wordcloud = WordCloud(width=800, height=400, background_color='white').generate(latin_hashtags_text)\n",
    "\n",
    "#plt.figure(figsize=(10, 5))\n",
    "#plt.imshow(wordcloud, interpolation='bilinear')\n",
    "#plt.axis('off')\n",
    "#plt.title(\"Word Cloud of Tweets in Latin Characters in All Train Set\")\n",
    "#plt.show()"
   ]
  },
  {
   "cell_type": "markdown",
   "id": "70ed1c51",
   "metadata": {
    "id": "ZQ-Z_7EQ9byJ",
    "papermill": {
     "duration": 0.010859,
     "end_time": "2023-12-21T00:03:07.595084",
     "exception": false,
     "start_time": "2023-12-21T00:03:07.584225",
     "status": "completed"
    },
    "tags": []
   },
   "source": [
    "#Mean punct count per class\n",
    "Is the amount of puntuation used in a tweet a decissive factor for the sentiment classification?"
   ]
  },
  {
   "cell_type": "code",
   "execution_count": 8,
   "id": "1ae2b1d8",
   "metadata": {
    "execution": {
     "iopub.execute_input": "2023-12-21T00:03:07.618244Z",
     "iopub.status.busy": "2023-12-21T00:03:07.617902Z",
     "iopub.status.idle": "2023-12-21T00:03:07.622739Z",
     "shell.execute_reply": "2023-12-21T00:03:07.621865Z"
    },
    "id": "dFdph_Oe1Cs5",
    "outputId": "240826bd-20e0-4a0c-8420-076f244c8b6a",
    "papermill": {
     "duration": 0.018646,
     "end_time": "2023-12-21T00:03:07.624666",
     "exception": false,
     "start_time": "2023-12-21T00:03:07.606020",
     "status": "completed"
    },
    "tags": []
   },
   "outputs": [],
   "source": [
    "#def count_punctuation(tweet):\n",
    "#    return sum(1 for char in tweet if char in string.punctuation)\n",
    "\n",
    "#cleaned_df['PunctuationCount'] = cleaned_df['Text'].apply(count_punctuation)\n",
    "\n",
    "# Group by 'Sentiment' and calculate the mean count of punctuation characters\n",
    "#mean_punctuation_count_per_sentiment = cleaned_df.groupby('Sentiment')['PunctuationCount'].mean()\n",
    "\n",
    "#print(mean_punctuation_count_per_sentiment)\n",
    "# Plotting\n",
    "#plt.bar(mean_punctuation_count_per_sentiment.index, mean_punctuation_count_per_sentiment.values)\n",
    "#plt.xlabel('Sentiment Class')\n",
    "#plt.ylabel('Mean Punctuation Count')\n",
    "#plt.title('Mean Punctuation Count per Sentiment Class')\n",
    "#plt.show()"
   ]
  },
  {
   "cell_type": "markdown",
   "id": "9bdff4b9",
   "metadata": {
    "id": "JX6TFkk-A5au",
    "papermill": {
     "duration": 0.010878,
     "end_time": "2023-12-21T00:03:07.646529",
     "exception": false,
     "start_time": "2023-12-21T00:03:07.635651",
     "status": "completed"
    },
    "tags": []
   },
   "source": [
    "#Mean character length per tweet\n",
    "Test if the length of a tweet in characters is a decissive factor for the sentiment class"
   ]
  },
  {
   "cell_type": "code",
   "execution_count": 9,
   "id": "77891ca2",
   "metadata": {
    "execution": {
     "iopub.execute_input": "2023-12-21T00:03:07.669600Z",
     "iopub.status.busy": "2023-12-21T00:03:07.669273Z",
     "iopub.status.idle": "2023-12-21T00:03:07.673529Z",
     "shell.execute_reply": "2023-12-21T00:03:07.672642Z"
    },
    "id": "1fGA0wkBBH4n",
    "outputId": "74576a54-f90d-48c5-fd8b-6ae32ad24009",
    "papermill": {
     "duration": 0.018347,
     "end_time": "2023-12-21T00:03:07.675909",
     "exception": false,
     "start_time": "2023-12-21T00:03:07.657562",
     "status": "completed"
    },
    "tags": []
   },
   "outputs": [],
   "source": [
    "#cleaned_df['CharLength'] = cleaned_df['Text'].apply(len)\n",
    "\n",
    "# Calculate the mean character length per sentiment class\n",
    "#mean_char_length_per_sentiment = cleaned_df.groupby('Sentiment')['CharLength'].mean()\n",
    "\n",
    "#print(mean_char_length_per_sentiment)"
   ]
  },
  {
   "cell_type": "code",
   "execution_count": 10,
   "id": "3efe8f6b",
   "metadata": {
    "execution": {
     "iopub.execute_input": "2023-12-21T00:03:07.704777Z",
     "iopub.status.busy": "2023-12-21T00:03:07.704510Z",
     "iopub.status.idle": "2023-12-21T00:03:07.708930Z",
     "shell.execute_reply": "2023-12-21T00:03:07.708006Z"
    },
    "id": "gCVKaKq1B_Lv",
    "outputId": "af652076-7ac9-462c-ad21-e857fe66177b",
    "papermill": {
     "duration": 0.019179,
     "end_time": "2023-12-21T00:03:07.710871",
     "exception": false,
     "start_time": "2023-12-21T00:03:07.691692",
     "status": "completed"
    },
    "tags": []
   },
   "outputs": [],
   "source": [
    "#from scipy.stats import f_oneway\n",
    "\n",
    "# Plotting\n",
    "#plt.bar(mean_char_length_per_sentiment.index, mean_char_length_per_sentiment.values)\n",
    "#plt.xlabel('Sentiment Class')\n",
    "#plt.ylabel('Mean Character Length per Tweet')\n",
    "#plt.title('Mean Character Length per Tweet for Each Sentiment Class')\n",
    "#plt.show()\n",
    "\n",
    "# Statistical analysis\n",
    "#class_0 = cleaned_df[cleaned_df['Sentiment'] == 'POSITIVE']['CharLength']\n",
    "#class_1 = cleaned_df[cleaned_df['Sentiment'] == 'NEGATIVE']['CharLength']\n",
    "#class_2 = cleaned_df[cleaned_df['Sentiment'] == 'NEUTRAL']['CharLength']\n",
    "\n",
    "# Perform one-way ANOVA test\n",
    "#f_statistic, p_value = f_oneway(class_0, class_1, class_2)\n",
    "\n",
    "#print(f\"One-way ANOVA p-value: {p_value}\")\n",
    "\n",
    "#Post hoc test if the overall test is significant (p-value < 0.05)\n",
    "\n",
    "#from statsmodels.stats.multicomp import pairwise_tukeyhsd\n",
    "\n",
    "#tukey_result = pairwise_tukeyhsd(cleaned_df['CharLength'], cleaned_df['Sentiment'])\n",
    "#print(tukey_result)"
   ]
  },
  {
   "cell_type": "markdown",
   "id": "3f48c5b8",
   "metadata": {
    "id": "esV9OrcTDRBH",
    "papermill": {
     "duration": 0.010842,
     "end_time": "2023-12-21T00:03:07.732639",
     "exception": false,
     "start_time": "2023-12-21T00:03:07.721797",
     "status": "completed"
    },
    "tags": []
   },
   "source": [
    "**Finally a clue!**\n",
    "Mean character lenghth can be a **helpful** factor for classifiying Neutral/positive nad negative classes"
   ]
  },
  {
   "cell_type": "markdown",
   "id": "522ca1d0",
   "metadata": {
    "id": "n-w8zCB2U5tR",
    "papermill": {
     "duration": 0.010668,
     "end_time": "2023-12-21T00:03:07.754277",
     "exception": false,
     "start_time": "2023-12-21T00:03:07.743609",
     "status": "completed"
    },
    "tags": []
   },
   "source": [
    "#Adjectve counts"
   ]
  },
  {
   "cell_type": "code",
   "execution_count": 11,
   "id": "4a242272",
   "metadata": {
    "execution": {
     "iopub.execute_input": "2023-12-21T00:03:07.777452Z",
     "iopub.status.busy": "2023-12-21T00:03:07.777133Z",
     "iopub.status.idle": "2023-12-21T00:03:07.781336Z",
     "shell.execute_reply": "2023-12-21T00:03:07.780510Z"
    },
    "id": "OcqbQ0UaVTSo",
    "papermill": {
     "duration": 0.017969,
     "end_time": "2023-12-21T00:03:07.783212",
     "exception": false,
     "start_time": "2023-12-21T00:03:07.765243",
     "status": "completed"
    },
    "tags": []
   },
   "outputs": [],
   "source": [
    "#def add_adjective_count(df):\n",
    "    # Load the spaCy language model\n",
    "#    nlp = spacy.load('el_core_news_lg')\n",
    "\n",
    "    # Apply POS tagging and count adjectives for each tweet\n",
    "#    df['POS_tags'] = df['Text'].apply(lambda text: [token.pos_ for token in nlp(text)])\n",
    "#    df['Adjectives_count'] = df['POS_tags'].apply(lambda pos_tags: pos_tags.count('ADJ'))"
   ]
  },
  {
   "cell_type": "code",
   "execution_count": 12,
   "id": "01fc5f3a",
   "metadata": {
    "execution": {
     "iopub.execute_input": "2023-12-21T00:03:07.806841Z",
     "iopub.status.busy": "2023-12-21T00:03:07.806467Z",
     "iopub.status.idle": "2023-12-21T00:03:07.810773Z",
     "shell.execute_reply": "2023-12-21T00:03:07.809970Z"
    },
    "id": "qvuS0rPgVfuf",
    "outputId": "4eab3a29-58f9-428e-8496-5b936401151d",
    "papermill": {
     "duration": 0.018589,
     "end_time": "2023-12-21T00:03:07.812946",
     "exception": false,
     "start_time": "2023-12-21T00:03:07.794357",
     "status": "completed"
    },
    "tags": []
   },
   "outputs": [],
   "source": [
    "# Plot mean count of adjectives per sentiment class\n",
    "#plt.figure(figsize=(10, 6))\n",
    "#sns.barplot(x='Sentiment', y='Adjectives_count', data=df_no_outliers, ci='sd')\n",
    "#plt.xlabel('Sentiment Class')\n",
    "#plt.ylabel('Mean Count of Adjectives')\n",
    "#plt.title('Mean Count of Adjectives with Standard Deviation per Sentiment Class')\n",
    "#plt.show()"
   ]
  },
  {
   "cell_type": "markdown",
   "id": "37e4d949",
   "metadata": {
    "id": "v0rxHzRO2T5-",
    "papermill": {
     "duration": 0.01157,
     "end_time": "2023-12-21T00:03:07.875122",
     "exception": false,
     "start_time": "2023-12-21T00:03:07.863552",
     "status": "completed"
    },
    "tags": []
   },
   "source": [
    "Sentiment Lexicons"
   ]
  },
  {
   "cell_type": "code",
   "execution_count": 13,
   "id": "266ab88f",
   "metadata": {
    "execution": {
     "iopub.execute_input": "2023-12-21T00:03:07.898511Z",
     "iopub.status.busy": "2023-12-21T00:03:07.898180Z",
     "iopub.status.idle": "2023-12-21T00:03:07.902725Z",
     "shell.execute_reply": "2023-12-21T00:03:07.901813Z"
    },
    "id": "_TECp72B8Bke",
    "outputId": "8bad569e-c51e-4d5b-aaf8-08e67e14c072",
    "papermill": {
     "duration": 0.018629,
     "end_time": "2023-12-21T00:03:07.904775",
     "exception": false,
     "start_time": "2023-12-21T00:03:07.886146",
     "status": "completed"
    },
    "tags": []
   },
   "outputs": [],
   "source": [
    "#Let's visualize the positive words of the positive tweets in a WordCloud\n",
    "\n",
    "\n",
    "# Filter positive words in positive tweets based on the lexicon\n",
    "#positive_words = ' '.join([word for tweet, polarity in zip(df_no_outliers['Text'],df_no_outliers['Sentiment'])\n",
    "#                           if polarity == 1\n",
    "#                           for word in tweet.lower().split() if word in positive_lexicon])\n",
    "\n",
    "# Generate word cloud for positive words\n",
    "#positive_wordcloud = WordCloud(width=800, height=400, background_color='white').generate_from_text(positive_words)\n",
    "\n",
    "# Plot the word cloud\n",
    "#plt.figure(figsize=(8, 4))\n",
    "#plt.imshow(positive_wordcloud, interpolation='bilinear')\n",
    "#plt.title('Positive Words in Positive Tweets Word Cloud')\n",
    "#plt.axis('off')\n",
    "#plt.show()"
   ]
  },
  {
   "cell_type": "code",
   "execution_count": 14,
   "id": "cf8cb08a",
   "metadata": {
    "execution": {
     "iopub.execute_input": "2023-12-21T00:03:07.928049Z",
     "iopub.status.busy": "2023-12-21T00:03:07.927735Z",
     "iopub.status.idle": "2023-12-21T00:03:07.932129Z",
     "shell.execute_reply": "2023-12-21T00:03:07.931207Z"
    },
    "id": "_nrjuyIh-XRw",
    "outputId": "6d57d54a-06cf-4f33-cf23-af81b974b5e3",
    "papermill": {
     "duration": 0.018154,
     "end_time": "2023-12-21T00:03:07.934036",
     "exception": false,
     "start_time": "2023-12-21T00:03:07.915882",
     "status": "completed"
    },
    "tags": []
   },
   "outputs": [],
   "source": [
    "#Let's visualize the negative words of the negative tweets in a WordCloud\n",
    "# Filter negative words in positive tweets based on the lexicon\n",
    "#negative_words = ' '.join([word for tweet, polarity in zip(df_no_outliers['Text'], df_no_outliers['Sentiment'])\n",
    "#                           if polarity == -1\n",
    "#                           for word in tweet.lower().split() if word in negative_lexicon])\n",
    "\n",
    "# Generate word cloud for positive words\n",
    "#negative_wordcloud = WordCloud(width=800, height=400, background_color='white').generate_from_text(negative_words)\n",
    "\n",
    "# Plot the word cloud\n",
    "#plt.figure(figsize=(8, 4))\n",
    "#plt.imshow(negative_wordcloud, interpolation='bilinear')\n",
    "#plt.title('Negative Words in Negative Tweets Word Cloud')\n",
    "#plt.axis('off')\n",
    "#plt.show()"
   ]
  },
  {
   "cell_type": "markdown",
   "id": "10141a8c",
   "metadata": {
    "id": "0jSciTLo031u",
    "papermill": {
     "duration": 0.010943,
     "end_time": "2023-12-21T00:03:07.956002",
     "exception": false,
     "start_time": "2023-12-21T00:03:07.945059",
     "status": "completed"
    },
    "tags": []
   },
   "source": [
    "So based on the above Analysis the features we are going to train our model on are:\n",
    "1. the vectorised and preprocessed text (tfidf/countvectorizer)\n",
    "2. count of positive words\n",
    "3. the count of negative words\n",
    "4. the count of characters per tweet."
   ]
  },
  {
   "cell_type": "markdown",
   "id": "0f555644",
   "metadata": {
    "papermill": {
     "duration": 0.011376,
     "end_time": "2023-12-21T00:03:07.978772",
     "exception": false,
     "start_time": "2023-12-21T00:03:07.967396",
     "status": "completed"
    },
    "tags": []
   },
   "source": [
    "Implementations"
   ]
  },
  {
   "cell_type": "code",
   "execution_count": 15,
   "id": "0ddcab41",
   "metadata": {
    "execution": {
     "iopub.execute_input": "2023-12-21T00:03:08.003303Z",
     "iopub.status.busy": "2023-12-21T00:03:08.002944Z",
     "iopub.status.idle": "2023-12-21T00:03:08.007952Z",
     "shell.execute_reply": "2023-12-21T00:03:08.007126Z"
    },
    "papermill": {
     "duration": 0.019358,
     "end_time": "2023-12-21T00:03:08.009800",
     "exception": false,
     "start_time": "2023-12-21T00:03:07.990442",
     "status": "completed"
    },
    "tags": []
   },
   "outputs": [],
   "source": [
    "dataset_path='/kaggle/input/ys19-2023-assignment-1/train_set.csv'\n",
    "dev_path='/kaggle/input/ys19-2023-assignment-1/valid_set.csv'\n",
    "positive_lexicon_file= '/kaggle/input/sentiment-dicts/updated_positive_words.txt'\n",
    "negative_lexicon_file='/kaggle/input/sentiment-dicts/updated_negative_words.txt'\n",
    "stopwords_file = '/kaggle/input/stopwords-gr/clean_gr_stops.csv'\n"
   ]
  },
  {
   "cell_type": "code",
   "execution_count": 16,
   "id": "729577a3",
   "metadata": {
    "execution": {
     "iopub.execute_input": "2023-12-21T00:03:08.033207Z",
     "iopub.status.busy": "2023-12-21T00:03:08.032890Z",
     "iopub.status.idle": "2023-12-21T00:04:45.483675Z",
     "shell.execute_reply": "2023-12-21T00:04:45.482870Z"
    },
    "papermill": {
     "duration": 97.465063,
     "end_time": "2023-12-21T00:04:45.486079",
     "exception": false,
     "start_time": "2023-12-21T00:03:08.021016",
     "status": "completed"
    },
    "tags": []
   },
   "outputs": [
    {
     "name": "stdout",
     "output_type": "stream",
     "text": [
      "<class 'pandas.core.frame.DataFrame'>\n",
      "RangeIndex: 36630 entries, 0 to 36629\n",
      "Data columns (total 4 columns):\n",
      " #   Column     Non-Null Count  Dtype \n",
      "---  ------     --------------  ----- \n",
      " 0   New_ID     36630 non-null  int64 \n",
      " 1   Text       36630 non-null  object\n",
      " 2   Sentiment  36630 non-null  object\n",
      " 3   Party      36630 non-null  object\n",
      "dtypes: int64(1), object(3)\n",
      "memory usage: 1.1+ MB\n",
      "None\n",
      "Dataframe checked for NaN values and duplicates!\n"
     ]
    }
   ],
   "source": [
    "df = read_explore_clean_dataset(dataset_path)\n",
    "df = preprocess_dataframe(df, positive_lexicon_file, negative_lexicon_file, stopwords_file)"
   ]
  },
  {
   "cell_type": "code",
   "execution_count": 17,
   "id": "713b160b",
   "metadata": {
    "execution": {
     "iopub.execute_input": "2023-12-21T00:04:45.510274Z",
     "iopub.status.busy": "2023-12-21T00:04:45.509992Z",
     "iopub.status.idle": "2023-12-21T00:04:45.519507Z",
     "shell.execute_reply": "2023-12-21T00:04:45.518633Z"
    },
    "papermill": {
     "duration": 0.023749,
     "end_time": "2023-12-21T00:04:45.521516",
     "exception": false,
     "start_time": "2023-12-21T00:04:45.497767",
     "status": "completed"
    },
    "tags": []
   },
   "outputs": [],
   "source": [
    "def get_columns_vectorize_stack_split(data, text_column, numeric_columns, target_column, selected_numeric_columns=None,\n",
    "                                      test_size=0.2, random_state=42, vectorizer=TfidfVectorizer,\n",
    "                                      ngram_range=(1, 1),max_features=1000):   \n",
    "    \"\"\"\n",
    "    Preprocesses data, vectorizes text data, scales numeric data, and splits it into training and testing sets.\n",
    "\n",
    "    Parameters:\n",
    "    - data: pandas DataFrame, input data\n",
    "    - text_column: str, the name of the text column in the DataFrame\n",
    "    - numeric_columns: list, names of all numeric columns in the DataFrame\n",
    "    - target_column: str, name of the target column in the DataFrame\n",
    "    - selected_numeric_columns: list or None, names of numeric columns to include in training (default is None, which includes all numeric columns)\n",
    "    - test_size: float, the proportion of the dataset to include in the test split (default is 0.2)\n",
    "    - random_state: int, random seed for reproducibility (default is 42)\n",
    "    - vectorizer: sklearn.feature_extraction.text vectorizer class (default is TfidfVectorizer)\n",
    "    - ngram_range: tuple, (min_n, max_n), the range of n-values for different n-grams (default is (1, 1))\n",
    "    - max_features: int or None, if not None, build a vocabulary that only considers the top max_features ordered by term frequency\n",
    "\n",
    "    Returns:\n",
    "    - X_train, X_test, Y_train, Y_test\n",
    "    \"\"\"\n",
    "    # Separate text and selected numeric data\n",
    "    text_data = data[text_column]\n",
    "    numeric_data = data[selected_numeric_columns] if selected_numeric_columns else data[numeric_columns]\n",
    "\n",
    "    # Vectorize text data\n",
    "    vectorizer = vectorizer(ngram_range=ngram_range, max_features=max_features)\n",
    "    X_text = vectorizer.fit_transform(text_data)\n",
    "    #print('Number of features:', len(vectorizer.vocabulary_))\n",
    "\n",
    "    if numeric_columns:\n",
    "        scaler = StandardScaler()\n",
    "        numeric_data_scaled = scaler.fit_transform(numeric_data)\n",
    "        X_combined = np.hstack((X_text.toarray(), numeric_data_scaled))\n",
    "    else:\n",
    "        X_combined = X_text.toarray()\n",
    "\n",
    "    # Target variable\n",
    "    y = data[target_column]\n",
    "\n",
    "    # Split the data\n",
    "    X_train, X_test, Y_train, Y_test = train_test_split(X_combined, y, test_size=test_size, random_state=random_state)\n",
    "\n",
    "    return X_train, X_test, Y_train, Y_test\n",
    "\n",
    "\n",
    "  \n",
    "\n",
    "        "
   ]
  },
  {
   "cell_type": "code",
   "execution_count": 18,
   "id": "55446197",
   "metadata": {
    "execution": {
     "iopub.execute_input": "2023-12-21T00:04:45.544879Z",
     "iopub.status.busy": "2023-12-21T00:04:45.544581Z",
     "iopub.status.idle": "2023-12-21T00:04:46.898848Z",
     "shell.execute_reply": "2023-12-21T00:04:46.897834Z"
    },
    "papermill": {
     "duration": 1.369048,
     "end_time": "2023-12-21T00:04:46.901486",
     "exception": false,
     "start_time": "2023-12-21T00:04:45.532438",
     "status": "completed"
    },
    "tags": []
   },
   "outputs": [],
   "source": [
    "selected_numeric_columns = ['n_chars', 'positive_count', 'negative_count']\n",
    "X_train, X_test, Y_train, Y_test = get_columns_vectorize_stack_split(df, 'Text', ['n_chars', 'positive_count', 'negative_count'], 'Sentiment', selected_numeric_columns)"
   ]
  },
  {
   "cell_type": "markdown",
   "id": "45309f2a",
   "metadata": {
    "papermill": {
     "duration": 0.012715,
     "end_time": "2023-12-21T00:04:46.927307",
     "exception": false,
     "start_time": "2023-12-21T00:04:46.914592",
     "status": "completed"
    },
    "tags": []
   },
   "source": [
    "Hpyperparameter tuning/optimisation with GridSearchCV  technique (brute force approach)"
   ]
  },
  {
   "cell_type": "code",
   "execution_count": 19,
   "id": "fc9aec2d",
   "metadata": {
    "execution": {
     "iopub.execute_input": "2023-12-21T00:04:46.954192Z",
     "iopub.status.busy": "2023-12-21T00:04:46.953791Z",
     "iopub.status.idle": "2023-12-21T00:04:46.961110Z",
     "shell.execute_reply": "2023-12-21T00:04:46.960099Z"
    },
    "papermill": {
     "duration": 0.023129,
     "end_time": "2023-12-21T00:04:46.963213",
     "exception": false,
     "start_time": "2023-12-21T00:04:46.940084",
     "status": "completed"
    },
    "tags": []
   },
   "outputs": [],
   "source": [
    "def find_best_parameters(X_train, Y_train):\n",
    "    \"\"\"\n",
    "    Performs a grid search to find the best hyperparameters for a logistic regression model.\n",
    "    Parameters:\n",
    "    - X_train: array-like or pd.DataFrame, training input samples\n",
    "    - Y_train: array-like or pd.Series, training labels\n",
    "\n",
    "    Returns:\n",
    "    - best_params: dict, the best hyperparameters found by the grid search\n",
    "    \"\"\"\n",
    "    # Define the hyperparameters to search\n",
    "    param_grid = {\n",
    "        'penalty': ['l1'],\n",
    "        'C': [0.001, 0.01, 0.1, 1.0],\n",
    "        'solver': ['saga']\n",
    "    }\n",
    "    model = LogisticRegression(max_iter=1000)\n",
    "    grid_search = GridSearchCV(estimator=model, param_grid=param_grid, scoring='f1_micro', cv=5)\n",
    "    grid_search.fit(X_train, Y_train)\n",
    "    best_params = grid_search.best_params_\n",
    "    print('Best parameters:',best_params)\n",
    "    print('Micro F1:',grid_search.best_score_)\n",
    "\n",
    "    return best_params"
   ]
  },
  {
   "cell_type": "code",
   "execution_count": 20,
   "id": "ffe08a6c",
   "metadata": {
    "execution": {
     "iopub.execute_input": "2023-12-21T00:04:46.990101Z",
     "iopub.status.busy": "2023-12-21T00:04:46.989713Z",
     "iopub.status.idle": "2023-12-21T01:46:58.774099Z",
     "shell.execute_reply": "2023-12-21T01:46:58.773198Z"
    },
    "papermill": {
     "duration": 6131.812661,
     "end_time": "2023-12-21T01:46:58.788650",
     "exception": false,
     "start_time": "2023-12-21T00:04:46.975989",
     "status": "completed"
    },
    "tags": []
   },
   "outputs": [
    {
     "name": "stderr",
     "output_type": "stream",
     "text": [
      "/opt/conda/lib/python3.10/site-packages/sklearn/linear_model/_sag.py:350: ConvergenceWarning: The max_iter was reached which means the coef_ did not converge\n",
      "  warnings.warn(\n",
      "/opt/conda/lib/python3.10/site-packages/sklearn/linear_model/_sag.py:350: ConvergenceWarning: The max_iter was reached which means the coef_ did not converge\n",
      "  warnings.warn(\n",
      "/opt/conda/lib/python3.10/site-packages/sklearn/linear_model/_sag.py:350: ConvergenceWarning: The max_iter was reached which means the coef_ did not converge\n",
      "  warnings.warn(\n",
      "/opt/conda/lib/python3.10/site-packages/sklearn/linear_model/_sag.py:350: ConvergenceWarning: The max_iter was reached which means the coef_ did not converge\n",
      "  warnings.warn(\n"
     ]
    },
    {
     "name": "stdout",
     "output_type": "stream",
     "text": [
      "Best parameters: {'C': 1.0, 'penalty': 'l1', 'solver': 'saga'}\n",
      "Micro F1: 0.381245072856791\n"
     ]
    },
    {
     "name": "stderr",
     "output_type": "stream",
     "text": [
      "/opt/conda/lib/python3.10/site-packages/sklearn/linear_model/_sag.py:350: ConvergenceWarning: The max_iter was reached which means the coef_ did not converge\n",
      "  warnings.warn(\n"
     ]
    }
   ],
   "source": [
    "best_hyperparameters=find_best_parameters(X_train, Y_train)"
   ]
  },
  {
   "cell_type": "markdown",
   "id": "80bd54fe",
   "metadata": {
    "papermill": {
     "duration": 0.011257,
     "end_time": "2023-12-21T01:46:58.811614",
     "exception": false,
     "start_time": "2023-12-21T01:46:58.800357",
     "status": "completed"
    },
    "tags": []
   },
   "source": [
    "Metrics (accuracy, F1 micro,precision micro, recall micro)"
   ]
  },
  {
   "cell_type": "code",
   "execution_count": 21,
   "id": "387de7fb",
   "metadata": {
    "execution": {
     "iopub.execute_input": "2023-12-21T01:46:58.835947Z",
     "iopub.status.busy": "2023-12-21T01:46:58.835618Z",
     "iopub.status.idle": "2023-12-21T01:46:58.841622Z",
     "shell.execute_reply": "2023-12-21T01:46:58.840825Z"
    },
    "papermill": {
     "duration": 0.020368,
     "end_time": "2023-12-21T01:46:58.843561",
     "exception": false,
     "start_time": "2023-12-21T01:46:58.823193",
     "status": "completed"
    },
    "tags": []
   },
   "outputs": [],
   "source": [
    "def print_metrics(Y_true, Y_pred):\n",
    "    # Calculate metrics\n",
    "    accuracy = accuracy_score(Y_true, Y_pred) * 100\n",
    "    precision = precision_score(Y_true, Y_pred, average='micro') * 100\n",
    "    recall = recall_score(Y_true, Y_pred, average='micro') * 100\n",
    "    f_measure = f1_score(Y_true, Y_pred, average='micro') * 100\n",
    "\n",
    "    print('\\nMetrics:')\n",
    "    print('Accuracy: {} %'.format(accuracy))\n",
    "    print('Precision: {} %'.format(precision))\n",
    "    print('Recall: {} %'.format(recall))\n",
    "    print('F1 Score: {} %'.format(f_measure))"
   ]
  },
  {
   "cell_type": "code",
   "execution_count": 22,
   "id": "1ba383a4",
   "metadata": {
    "execution": {
     "iopub.execute_input": "2023-12-21T01:46:58.868267Z",
     "iopub.status.busy": "2023-12-21T01:46:58.867996Z",
     "iopub.status.idle": "2023-12-21T02:03:38.148185Z",
     "shell.execute_reply": "2023-12-21T02:03:38.147092Z"
    },
    "papermill": {
     "duration": 999.294741,
     "end_time": "2023-12-21T02:03:38.150208",
     "exception": false,
     "start_time": "2023-12-21T01:46:58.855467",
     "status": "completed"
    },
    "tags": []
   },
   "outputs": [
    {
     "name": "stderr",
     "output_type": "stream",
     "text": [
      "/opt/conda/lib/python3.10/site-packages/sklearn/linear_model/_sag.py:350: ConvergenceWarning: The max_iter was reached which means the coef_ did not converge\n",
      "  warnings.warn(\n"
     ]
    },
    {
     "name": "stdout",
     "output_type": "stream",
     "text": [
      "\n",
      "Metrics:\n",
      "Accuracy: 37.687687687687685 %\n",
      "Precision: 37.687687687687685 %\n",
      "Recall: 37.687687687687685 %\n",
      "F1 Score: 37.687687687687685 %\n",
      "model saved!\n"
     ]
    }
   ],
   "source": [
    "def train_evaluate_and_save(X_train, Y_train, X_test, Y_test, model_save_path,feature_selection=None, k_best=None):\n",
    "    \"\"\"\n",
    "    Trains a logistic regression model based on the best parameters found through GridSearchCV, prints out metrics on\n",
    "    the splitted test set of the tran set, saves the trained model.\n",
    "    Optionally you can perform feature selection with mutual info classifcation calling: feature_selection='mutual_info_classif', k_best=10 --whatever\n",
    "    ok Kbest features you want to test\n",
    "    This is meant for the train set\n",
    "\n",
    "    Parameters:\n",
    "    - X_train: array-like or pd.DataFrame, training input samples\n",
    "    - Y_train: array-like or pd.Series, training labels\n",
    "    - X_test: array-like or pd.DataFrame, test input samples\n",
    "    - Y_test: array-like or pd.Series, test labels\n",
    "    - model_save_path: str, path to save the trained model\n",
    "    \n",
    "    \"\"\"\n",
    "    if feature_selection == 'mutual_info_classif':\n",
    "        if k_best is None:\n",
    "            raise ValueError(\"If feature_selection is specified, k_best must be provided.\")\n",
    "        \n",
    "        # Select top k_best features using mutual info classification\n",
    "        selector = SelectKBest(score_func=mutual_info_classif, k=k_best)\n",
    "        X_train = selector.fit_transform(X_train, Y_train)\n",
    "        X_test = selector.transform(X_test)\n",
    "    \n",
    "    # Create a logistic regression model\n",
    "    model = LogisticRegression(penalty='l1', C=1.0, solver='saga', n_jobs=-1, random_state=42, max_iter=1000)\n",
    "    \n",
    "    # Train the model on the entire training set\n",
    "    model.fit(X_train, Y_train)\n",
    "\n",
    "    # Predict on the test set\n",
    "    Y_pred = model.predict(X_test)\n",
    "\n",
    "    # Print metrics\n",
    "    print_metrics(Y_test, Y_pred)\n",
    "    \n",
    "    # Save the trained model to disk\n",
    "    with open(model_save_path, 'wb') as model_file:\n",
    "        pickle.dump(model, model_file)\n",
    "    print('model saved!')\n",
    "\n",
    "\n",
    "model_save_path = 'log_reg_tfidf_uni_model.pkl'\n",
    "train_evaluate_and_save(X_train, Y_train, X_test, Y_test, model_save_path)\n",
    "\n",
    "\n"
   ]
  },
  {
   "cell_type": "markdown",
   "id": "245b1df1",
   "metadata": {
    "papermill": {
     "duration": 0.012162,
     "end_time": "2023-12-21T02:03:38.174432",
     "exception": false,
     "start_time": "2023-12-21T02:03:38.162270",
     "status": "completed"
    },
    "tags": []
   },
   "source": [
    "Function for the **evaluation on the dev set** with all evaluation metrics, learning curve, confusion matx, classification report"
   ]
  },
  {
   "cell_type": "code",
   "execution_count": 23,
   "id": "8332e11b",
   "metadata": {
    "execution": {
     "iopub.execute_input": "2023-12-21T02:03:38.199170Z",
     "iopub.status.busy": "2023-12-21T02:03:38.198873Z",
     "iopub.status.idle": "2023-12-21T02:03:38.211653Z",
     "shell.execute_reply": "2023-12-21T02:03:38.210871Z"
    },
    "papermill": {
     "duration": 0.027359,
     "end_time": "2023-12-21T02:03:38.213485",
     "exception": false,
     "start_time": "2023-12-21T02:03:38.186126",
     "status": "completed"
    },
    "tags": []
   },
   "outputs": [],
   "source": [
    "def load_and_predict(saved_model, X_train, Y_train, X_test, Y_test, scoring='f1_micro'):\n",
    "    \"\"\"\n",
    "    Load a pre-trained model, predict on the test set, and evaluate the model.\n",
    "\n",
    "    Parameters:\n",
    "    - saved_model: str, path to the saved model file (pickle)\n",
    "    - X_train: array-like, training input samples\n",
    "    - Y_train: array-like, training labels\n",
    "    - X_test: array-like, test input samples\n",
    "    - Y_test: array-like, test labels\n",
    "\n",
    "    Returns:\n",
    "    - None\n",
    "    \"\"\"\n",
    "    # Load the pre-trained model\n",
    "    loaded_model = pickle.load(open(saved_model, 'rb'))\n",
    "\n",
    "    # Train the model using the training set\n",
    "    loaded_model.fit(X_train, Y_train)\n",
    "    print('\\nFitting data to the loaded logistic regression model...')\n",
    "\n",
    "    # Make model predictions\n",
    "    y_test_predict = loaded_model.predict(X_test)\n",
    "\n",
    "     # Calculate accuracy of Logistic regression model \n",
    "    LR_accuracy = metrics.accuracy_score(Y_test,y_test_predict)*100\n",
    "\n",
    "  # Precision score\n",
    "    precision = metrics.precision_score(Y_test,y_test_predict,average='micro')*100\n",
    "  \n",
    "  # Recall Score\n",
    "    recall = metrics.recall_score(Y_test,y_test_predict,average='micro')*100\n",
    "   \n",
    "  # F measure score\n",
    "    f_measure = metrics.f1_score(Y_test,y_test_predict,average='micro')*100\n",
    "  \n",
    "    print('\\nMetrics:')\n",
    "    print('Accuracy: {} %'.format(LR_accuracy))\n",
    "  \n",
    "    precision, recall, fscore, support = score(Y_test,y_test_predict)\n",
    "\n",
    "    print('precision: {}'.format(precision))\n",
    "    print('recall: {}'.format(recall))\n",
    "    print('fscore: {}'.format(fscore))\n",
    "    print('support: {}'.format(support))\n",
    "  \n",
    "  # Get the classificatin report from the confusion matrix\n",
    "    print('\\nClassification report:\\n',classification_report(Y_test,y_test_predict,labels = np.unique(y_test_predict)))\n",
    "\n",
    "  # Use the learning curve to get training and test scores along with train sizes\n",
    "    train_sizes, train_scores, validation_scores = learning_curve(loaded_model, X_train, Y_train, cv=5, n_jobs=1,scoring=scoring, train_sizes=np.linspace(0.01, 1.0, 5))\n",
    "    train_scores_mean = np.mean(train_scores, axis=1)\n",
    "    validation_scores_mean = np.mean(validation_scores, axis=1)\n",
    "\n",
    "    # Plot learning curve\n",
    "    plt.figure(figsize=(10, 6))\n",
    "    plt.plot(train_sizes, train_scores_mean, label='Training Score')\n",
    "    plt.plot(train_sizes, validation_scores_mean, label='Validation Score')\n",
    "    plt.title('Learning Curve')\n",
    "    plt.xlabel('Training Examples')\n",
    "    plt.ylabel(scoring.capitalize())\n",
    "    plt.legend()\n",
    "    plt.grid(True)\n",
    "    plt.show()\n",
    "    \n",
    "    cm = confusion_matrix(Y_test,y_test_predict)\n",
    "  # Visualize the confusion matrix\n",
    "    conf_matrix = pd.DataFrame(data = cm, columns = ['Predicted:0', 'Predicted:1','Predicted:-1'], index =['True:0', 'True:1','True:-1'])\n",
    "    plt.figure(figsize = (8, 5))\n",
    "    sns.heatmap(conf_matrix, annot = True, fmt = \"d\", cmap = \"Spectral\")\n",
    "  \n",
    "    return plt.show()"
   ]
  },
  {
   "cell_type": "code",
   "execution_count": 24,
   "id": "4b0ec5e1",
   "metadata": {
    "execution": {
     "iopub.execute_input": "2023-12-21T02:03:38.237698Z",
     "iopub.status.busy": "2023-12-21T02:03:38.237431Z",
     "iopub.status.idle": "2023-12-21T02:16:22.529468Z",
     "shell.execute_reply": "2023-12-21T02:16:22.528526Z"
    },
    "papermill": {
     "duration": 764.306613,
     "end_time": "2023-12-21T02:16:22.531669",
     "exception": false,
     "start_time": "2023-12-21T02:03:38.225056",
     "status": "completed"
    },
    "tags": []
   },
   "outputs": [
    {
     "name": "stdout",
     "output_type": "stream",
     "text": [
      "<class 'pandas.core.frame.DataFrame'>\n",
      "RangeIndex: 5232 entries, 0 to 5231\n",
      "Data columns (total 4 columns):\n",
      " #   Column     Non-Null Count  Dtype \n",
      "---  ------     --------------  ----- \n",
      " 0   New_ID     5232 non-null   int64 \n",
      " 1   Text       5232 non-null   object\n",
      " 2   Sentiment  5232 non-null   object\n",
      " 3   Party      5232 non-null   object\n",
      "dtypes: int64(1), object(3)\n",
      "memory usage: 163.6+ KB\n",
      "None\n",
      "Dataframe checked for NaN values and duplicates!\n",
      "\n",
      "Fitting data to the loaded logistic regression model...\n",
      "\n",
      "Metrics:\n",
      "Accuracy: 39.6370582617001 %\n",
      "precision: [0.38629283 0.38478747 0.4265233 ]\n",
      "recall: [0.34444444 0.50292398 0.34492754]\n",
      "fscore: [0.36417034 0.43599493 0.38141026]\n",
      "support: [360 342 345]\n",
      "\n",
      "Classification report:\n",
      "               precision    recall  f1-score   support\n",
      "\n",
      "    NEGATIVE       0.39      0.34      0.36       360\n",
      "     NEUTRAL       0.38      0.50      0.44       342\n",
      "    POSITIVE       0.43      0.34      0.38       345\n",
      "\n",
      "    accuracy                           0.40      1047\n",
      "   macro avg       0.40      0.40      0.39      1047\n",
      "weighted avg       0.40      0.40      0.39      1047\n",
      "\n"
     ]
    },
    {
     "data": {
      "image/png": "[encoded data removed]",
      "text/plain": [
       "<Figure size 1000x600 with 1 Axes>"
      ]
     },
     "metadata": {},
     "output_type": "display_data"
    },
    {
     "data": {
      "image/png": "[encoded data removed]",
      "text/plain": [
       "<Figure size 800x500 with 2 Axes>"
      ]
     },
     "metadata": {},
     "output_type": "display_data"
    }
   ],
   "source": [
    "saved_model_path = '/kaggle/working/log_reg_tfidf_uni_model.pkl'\n",
    "df_dev = read_explore_clean_dataset(dev_path)\n",
    "df_dev = preprocess_dataframe(df_dev, positive_lexicon_file, negative_lexicon_file, stopwords_file)\n",
    "selected_numeric_columns = ['n_chars', 'positive_count', 'negative_count']\n",
    "X_train_dev, X_test_dev, Y_train_dev, Y_test_dev = get_columns_vectorize_stack_split(df_dev, 'Text', ['n_chars', 'positive_count', 'negative_count'], 'Sentiment', selected_numeric_columns)\n",
    "evaluation = load_and_predict(saved_model_path, X_train_dev, Y_train_dev, X_test_dev, Y_test_dev,scoring='f1_micro')"
   ]
  },
  {
   "cell_type": "markdown",
   "id": "cb78a2f0",
   "metadata": {
    "papermill": {
     "duration": 0.012767,
     "end_time": "2023-12-21T02:16:22.558240",
     "exception": false,
     "start_time": "2023-12-21T02:16:22.545473",
     "status": "completed"
    },
    "tags": []
   },
   "source": [
    "**For submission**: the following functions are meant for the test set, where the Y_test column is missing. Based on the saved model we will generate the predictions of the Y_test and for that we need to first bring the X_test data (the predictors) in a form that our model will understand (X_combined: includes the text feature vectors and the 3 scaled numeric columns stacked together)"
   ]
  },
  {
   "cell_type": "code",
   "execution_count": 25,
   "id": "c924f72b",
   "metadata": {
    "execution": {
     "iopub.execute_input": "2023-12-21T02:16:22.586007Z",
     "iopub.status.busy": "2023-12-21T02:16:22.585679Z",
     "iopub.status.idle": "2023-12-21T02:16:22.593150Z",
     "shell.execute_reply": "2023-12-21T02:16:22.592278Z"
    },
    "papermill": {
     "duration": 0.023708,
     "end_time": "2023-12-21T02:16:22.594934",
     "exception": false,
     "start_time": "2023-12-21T02:16:22.571226",
     "status": "completed"
    },
    "tags": []
   },
   "outputs": [],
   "source": [
    "def get_columns_vectorize_stack(data, text_column, numeric_columns, selected_numeric_columns=None,\n",
    "                                random_state=42, vectorizer=TfidfVectorizer,\n",
    "                                      ngram_range=(1, 1),max_features=1000):   \n",
    "    \"\"\"\n",
    "    Preprocesses data, vectorizes text data, scales numeric data, and splits it into training and testing sets.\n",
    "\n",
    "    Parameters:\n",
    "    - data: pandas DataFrame, input data\n",
    "    - text_column: str, the name of the text column in the DataFrame\n",
    "    - numeric_columns: list, names of all numeric columns in the DataFrame\n",
    "    - target_column: str, name of the target column in the DataFrame\n",
    "    - selected_numeric_columns: list or None, names of numeric columns to include in training (default is None, which includes all numeric columns)\n",
    "    - random_state: int, random seed for reproducibility (default is 42)\n",
    "    - vectorizer: sklearn.feature_extraction.text vectorizer class (default is TfidfVectorizer)\n",
    "    - ngram_range: tuple, (min_n, max_n), the range of n-values for different n-grams (default is (1, 1))\n",
    "    - max_features: int or None, if not None, build a vocabulary that only considers the top max_features ordered by term frequency\n",
    "\n",
    "    Returns:\n",
    "    - X_combined\n",
    "    \"\"\"\n",
    "    # Separate text and selected numeric data\n",
    "    text_data = data[text_column]\n",
    "    numeric_data = data[selected_numeric_columns] if selected_numeric_columns else data[numeric_columns]\n",
    "    \n",
    "    # Vectorize text data\n",
    "    vectorizer = vectorizer(ngram_range=ngram_range, max_features=max_features)\n",
    "    X_text = vectorizer.fit_transform(text_data)\n",
    "    #print('Number of features:', len(vectorizer.vocabulary_))\n",
    "\n",
    "    if numeric_columns:\n",
    "        scaler = StandardScaler()\n",
    "        numeric_data_scaled = scaler.fit_transform(numeric_data)\n",
    "        X_combined = np.hstack((X_text.toarray(), numeric_data_scaled))\n",
    "    else:\n",
    "        X_combined = X_text.toarray()\n",
    "\n",
    "    return X_combined"
   ]
  },
  {
   "cell_type": "code",
   "execution_count": 26,
   "id": "65ff2f8d",
   "metadata": {
    "execution": {
     "iopub.execute_input": "2023-12-21T02:16:22.622300Z",
     "iopub.status.busy": "2023-12-21T02:16:22.621555Z",
     "iopub.status.idle": "2023-12-21T02:16:22.626186Z",
     "shell.execute_reply": "2023-12-21T02:16:22.625344Z"
    },
    "papermill": {
     "duration": 0.020121,
     "end_time": "2023-12-21T02:16:22.628025",
     "exception": false,
     "start_time": "2023-12-21T02:16:22.607904",
     "status": "completed"
    },
    "tags": []
   },
   "outputs": [],
   "source": [
    "def load_and_predict_test(saved_model,X_test):\n",
    "    \n",
    "    # Load the trained model\n",
    "    loaded_model = pickle.load(open(saved_model, 'rb'))\n",
    "\n",
    "    # Make model predictions\n",
    "    y_test_predict = loaded_model.predict(X_test)\n",
    "    print(y_test_predict)\n",
    "    return y_test_predict"
   ]
  },
  {
   "cell_type": "code",
   "execution_count": 27,
   "id": "5f7f5bf9",
   "metadata": {
    "execution": {
     "iopub.execute_input": "2023-12-21T02:16:22.655083Z",
     "iopub.status.busy": "2023-12-21T02:16:22.654315Z",
     "iopub.status.idle": "2023-12-21T02:16:50.854713Z",
     "shell.execute_reply": "2023-12-21T02:16:50.853102Z"
    },
    "papermill": {
     "duration": 28.217341,
     "end_time": "2023-12-21T02:16:50.858294",
     "exception": false,
     "start_time": "2023-12-21T02:16:22.640953",
     "status": "completed"
    },
    "tags": []
   },
   "outputs": [
    {
     "name": "stdout",
     "output_type": "stream",
     "text": [
      "['POSITIVE' 'POSITIVE' 'NEUTRAL' ... 'NEUTRAL' 'NEGATIVE' 'NEGATIVE']\n"
     ]
    }
   ],
   "source": [
    "saved_model_path = '/kaggle/working/log_reg_tfidf_uni_model.pkl'\n",
    "test=pd.read_csv('/kaggle/input/ys19-2023-assignment-1/test_set.csv')\n",
    "test= preprocess_dataframe(test, positive_lexicon_file, negative_lexicon_file, stopwords_file)\n",
    "test_X=get_columns_vectorize_stack(test, 'Text', ['n_chars', 'positive_count', 'negative_count'], selected_numeric_columns)\n",
    "predicted_polarities=load_and_predict_test(saved_model_path, test_X)"
   ]
  },
  {
   "cell_type": "code",
   "execution_count": 28,
   "id": "531793fb",
   "metadata": {
    "execution": {
     "iopub.execute_input": "2023-12-21T02:16:50.916738Z",
     "iopub.status.busy": "2023-12-21T02:16:50.916197Z",
     "iopub.status.idle": "2023-12-21T02:16:50.923636Z",
     "shell.execute_reply": "2023-12-21T02:16:50.922365Z"
    },
    "papermill": {
     "duration": 0.040429,
     "end_time": "2023-12-21T02:16:50.926984",
     "exception": false,
     "start_time": "2023-12-21T02:16:50.886555",
     "status": "completed"
    },
    "tags": []
   },
   "outputs": [
    {
     "name": "stdout",
     "output_type": "stream",
     "text": [
      "<class 'numpy.ndarray'>\n"
     ]
    }
   ],
   "source": [
    "print(type(predicted_polarities))"
   ]
  },
  {
   "cell_type": "code",
   "execution_count": 29,
   "id": "ca3ae0a6",
   "metadata": {
    "execution": {
     "iopub.execute_input": "2023-12-21T02:16:50.984203Z",
     "iopub.status.busy": "2023-12-21T02:16:50.983922Z",
     "iopub.status.idle": "2023-12-21T02:16:51.015011Z",
     "shell.execute_reply": "2023-12-21T02:16:51.014322Z"
    },
    "papermill": {
     "duration": 0.062427,
     "end_time": "2023-12-21T02:16:51.017089",
     "exception": false,
     "start_time": "2023-12-21T02:16:50.954662",
     "status": "completed"
    },
    "tags": []
   },
   "outputs": [],
   "source": [
    "my_submission = pd.DataFrame({'Id': test.New_ID, 'Predicted': predicted_polarities})\n",
    "my_submission.to_csv('submission-lt12200010.csv', index=False)"
   ]
  }
 ],
 "metadata": {
  "colab": {
   "provenance": []
  },
  "kaggle": {
   "accelerator": "nvidiaTeslaT4",
   "dataSources": [
    {
     "databundleVersionId": 6886092,
     "sourceId": 62857,
     "sourceType": "competition"
    },
    {
     "datasetId": 4018960,
     "sourceId": 6992207,
     "sourceType": "datasetVersion"
    },
    {
     "datasetId": 4019014,
     "sourceId": 6992327,
     "sourceType": "datasetVersion"
    }
   ],
   "dockerImageVersionId": 30558,
   "isGpuEnabled": true,
   "isInternetEnabled": true,
   "language": "python",
   "sourceType": "notebook"
  },
  "kernelspec": {
   "display_name": "Python 3",
   "language": "python",
   "name": "python3"
  },
  "language_info": {
   "codemirror_mode": {
    "name": "ipython",
    "version": 3
   },
   "file_extension": ".py",
   "mimetype": "text/x-python",
   "name": "python",
   "nbconvert_exporter": "python",
   "pygments_lexer": "ipython3",
   "version": "3.10.12"
  },
  "papermill": {
   "default_parameters": {},
   "duration": 8043.481432,
   "end_time": "2023-12-21T02:16:51.465259",
   "environment_variables": {},
   "exception": null,
   "input_path": "__notebook__.ipynb",
   "output_path": "__notebook__.ipynb",
   "parameters": {},
   "start_time": "2023-12-21T00:02:47.983827",
   "version": "2.4.0"
  }
 },
 "nbformat": 4,
 "nbformat_minor": 5
}
