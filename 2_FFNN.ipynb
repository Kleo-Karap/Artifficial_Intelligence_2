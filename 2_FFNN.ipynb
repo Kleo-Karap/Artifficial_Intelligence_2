{
 "cells": [
  {
   "cell_type": "code",
   "execution_count": 1,
   "id": "f42b093e",
   "metadata": {
    "_cell_guid": "b1076dfc-b9ad-4769-8c92-a6c4dae69d19",
    "_uuid": "8f2839f25d086af736a60e9eeb907d3b93b6e0e5",
    "execution": {
     "iopub.execute_input": "2023-12-22T13:14:06.698729Z",
     "iopub.status.busy": "2023-12-22T13:14:06.698357Z",
     "iopub.status.idle": "2023-12-22T13:14:07.028659Z",
     "shell.execute_reply": "2023-12-22T13:14:07.027149Z"
    },
    "papermill": {
     "duration": 0.343328,
     "end_time": "2023-12-22T13:14:07.031155",
     "exception": false,
     "start_time": "2023-12-22T13:14:06.687827",
     "status": "completed"
    },
    "tags": []
   },
   "outputs": [
    {
     "name": "stdout",
     "output_type": "stream",
     "text": [
      "/kaggle/input/stopwords/Greek-Stopwords (1).txt\n",
      "/kaggle/input/ys19-2023-assignment-2/sample_submission.csv\n",
      "/kaggle/input/ys19-2023-assignment-2/test_set.csv\n",
      "/kaggle/input/ys19-2023-assignment-2/valid_set.csv\n",
      "/kaggle/input/ys19-2023-assignment-2/train_set.csv\n",
      "/kaggle/input/w2v-200-model/w2v200_sg.model\n"
     ]
    }
   ],
   "source": [
    "# This Python 3 environment comes with many helpful analytics libraries installed\n",
    "# It is defined by the kaggle/python Docker image: https://github.com/kaggle/docker-python\n",
    "# For example, here's several helpful packages to load\n",
    "\n",
    "import numpy as np # linear algebra\n",
    "import pandas as pd # data processing, CSV file I/O (e.g. pd.read_csv)\n",
    "\n",
    "# Input data files are available in the read-only \"../input/\" directory\n",
    "# For example, running this (by clicking run or pressing Shift+Enter) will list all files under the input directory\n",
    "\n",
    "import os\n",
    "for dirname, _, filenames in os.walk('/kaggle/input'):\n",
    "    for filename in filenames:\n",
    "        print(os.path.join(dirname, filename))\n",
    "\n",
    "# You can write up to 20GB to the current directory (/kaggle/working/) that gets preserved as output when you create a version using \"Save & Run All\" \n",
    "# You can also write temporary files to /kaggle/temp/, but they won't be saved outside of the current session"
   ]
  },
  {
   "cell_type": "code",
   "execution_count": 2,
   "id": "009eb555",
   "metadata": {
    "execution": {
     "iopub.execute_input": "2023-12-22T13:14:07.049497Z",
     "iopub.status.busy": "2023-12-22T13:14:07.049013Z",
     "iopub.status.idle": "2023-12-22T13:14:18.872828Z",
     "shell.execute_reply": "2023-12-22T13:14:18.871645Z"
    },
    "papermill": {
     "duration": 11.83547,
     "end_time": "2023-12-22T13:14:18.875022",
     "exception": false,
     "start_time": "2023-12-22T13:14:07.039552",
     "status": "completed"
    },
    "tags": []
   },
   "outputs": [
    {
     "name": "stdout",
     "output_type": "stream",
     "text": [
      "Collecting demoji\r\n",
      "  Downloading demoji-1.1.0-py3-none-any.whl (42 kB)\r\n",
      "\u001b[2K     \u001b[90m━━━━━━━━━━━━━━━━━━━━━━━━━━━━━━━━━━━━━━━━\u001b[0m \u001b[32m42.9/42.9 kB\u001b[0m \u001b[31m3.2 MB/s\u001b[0m eta \u001b[36m0:00:00\u001b[0m\r\n",
      "\u001b[?25hRequirement already satisfied: optuna in /opt/conda/lib/python3.10/site-packages (3.5.0)\r\n",
      "Requirement already satisfied: alembic>=1.5.0 in /opt/conda/lib/python3.10/site-packages (from optuna) (1.13.0)\r\n",
      "Requirement already satisfied: colorlog in /opt/conda/lib/python3.10/site-packages (from optuna) (6.8.0)\r\n",
      "Requirement already satisfied: numpy in /opt/conda/lib/python3.10/site-packages (from optuna) (1.24.3)\r\n",
      "Requirement already satisfied: packaging>=20.0 in /opt/conda/lib/python3.10/site-packages (from optuna) (21.3)\r\n",
      "Requirement already satisfied: sqlalchemy>=1.3.0 in /opt/conda/lib/python3.10/site-packages (from optuna) (2.0.20)\r\n",
      "Requirement already satisfied: tqdm in /opt/conda/lib/python3.10/site-packages (from optuna) (4.66.1)\r\n",
      "Requirement already satisfied: PyYAML in /opt/conda/lib/python3.10/site-packages (from optuna) (6.0.1)\r\n",
      "Requirement already satisfied: Mako in /opt/conda/lib/python3.10/site-packages (from alembic>=1.5.0->optuna) (1.3.0)\r\n",
      "Requirement already satisfied: typing-extensions>=4 in /opt/conda/lib/python3.10/site-packages (from alembic>=1.5.0->optuna) (4.5.0)\r\n",
      "Requirement already satisfied: pyparsing!=3.0.5,>=2.0.2 in /opt/conda/lib/python3.10/site-packages (from packaging>=20.0->optuna) (3.0.9)\r\n",
      "Requirement already satisfied: greenlet!=0.4.17 in /opt/conda/lib/python3.10/site-packages (from sqlalchemy>=1.3.0->optuna) (2.0.2)\r\n",
      "Requirement already satisfied: MarkupSafe>=0.9.2 in /opt/conda/lib/python3.10/site-packages (from Mako->alembic>=1.5.0->optuna) (2.1.3)\r\n",
      "Installing collected packages: demoji\r\n",
      "Successfully installed demoji-1.1.0\r\n"
     ]
    }
   ],
   "source": [
    "!pip install demoji optuna"
   ]
  },
  {
   "cell_type": "code",
   "execution_count": 3,
   "id": "b48903bc",
   "metadata": {
    "execution": {
     "iopub.execute_input": "2023-12-22T13:14:18.894605Z",
     "iopub.status.busy": "2023-12-22T13:14:18.894195Z",
     "iopub.status.idle": "2023-12-22T13:14:33.374086Z",
     "shell.execute_reply": "2023-12-22T13:14:33.372938Z"
    },
    "papermill": {
     "duration": 14.492908,
     "end_time": "2023-12-22T13:14:33.376858",
     "exception": false,
     "start_time": "2023-12-22T13:14:18.883950",
     "status": "completed"
    },
    "tags": []
   },
   "outputs": [
    {
     "name": "stdout",
     "output_type": "stream",
     "text": [
      "[nltk_data] Downloading package punkt to /usr/share/nltk_data...\n",
      "[nltk_data]   Package punkt is already up-to-date!\n"
     ]
    }
   ],
   "source": [
    "import re # for regular expressions\n",
    "import pandas as pd\n",
    "pd.set_option(\"display.max_colwidth\", 200)\n",
    "import numpy as np\n",
    "import matplotlib.pyplot as plt\n",
    "import seaborn as sns\n",
    "import string\n",
    "import nltk # for text manipulation\n",
    "nltk.download('punkt')\n",
    "from nltk.tokenize import sent_tokenize, word_tokenize\n",
    "import warnings\n",
    "warnings.filterwarnings(\"ignore\", category=DeprecationWarning)\n",
    "from tqdm import tqdm\n",
    "%matplotlib inline\n",
    "import demoji\n",
    "import gensim\n",
    "from gensim.models import Word2Vec\n",
    "import random\n",
    "import shutil\n",
    "import optuna\n",
    "from optuna.trial import TrialState\n",
    "import torch\n",
    "import torch.nn as nn\n",
    "import torch.nn.functional as F\n",
    "import torch.optim as optim\n",
    "import torch.utils.data\n",
    "from torch.utils.data import TensorDataset, DataLoader\n",
    "import torch.optim.lr_scheduler as lr_scheduler\n",
    "\n",
    "from sklearn import metrics\n",
    "from sklearn.model_selection import learning_curve\n",
    "from sklearn.metrics import precision_recall_fscore_support as score\n",
    "from sklearn.metrics import accuracy_score, f1_score, precision_score, recall_score\n",
    "from sklearn.preprocessing import label_binarize\n",
    "from sklearn.preprocessing import StandardScaler\n",
    "from numpy import interp\n",
    "from itertools import cycle\n",
    "from sklearn.metrics import roc_curve, auc, classification_report"
   ]
  },
  {
   "cell_type": "markdown",
   "id": "a8269687",
   "metadata": {
    "papermill": {
     "duration": 0.008394,
     "end_time": "2023-12-22T13:14:33.394331",
     "exception": false,
     "start_time": "2023-12-22T13:14:33.385937",
     "status": "completed"
    },
    "tags": []
   },
   "source": [
    "Greek Stemming code from : https://gist.github.com/Patelis-GM/e1f8cf553f27ff40ed49db8c310611b3"
   ]
  },
  {
   "cell_type": "code",
   "execution_count": 4,
   "id": "80876cd4",
   "metadata": {
    "execution": {
     "iopub.execute_input": "2023-12-22T13:14:33.413685Z",
     "iopub.status.busy": "2023-12-22T13:14:33.413065Z",
     "iopub.status.idle": "2023-12-22T13:14:33.654538Z",
     "shell.execute_reply": "2023-12-22T13:14:33.653526Z"
    },
    "papermill": {
     "duration": 0.254075,
     "end_time": "2023-12-22T13:14:33.656903",
     "exception": false,
     "start_time": "2023-12-22T13:14:33.402828",
     "status": "completed"
    },
    "tags": []
   },
   "outputs": [],
   "source": [
    "__cases = dict()\n",
    "__cases[\"ΦΑΓΙΑ\"] = \"ΦΑ\"\n",
    "__cases[\"ΦΑΓΙΟΥ\"] = \"ΦΑ\"\n",
    "__cases[\"ΦΑΓΙΩΝ\"] = \"ΦΑ\"\n",
    "__cases[\"ΣΚΑΓΙΑ\"] = \"ΣΚΑ\"\n",
    "__cases[\"ΣΚΑΓΙΟΥ\"] = \"ΣΚΑ\"\n",
    "__cases[\"ΣΚΑΓΙΩΝ\"] = \"ΣΚΑ\"\n",
    "__cases[\"ΟΛΟΓΙΟΥ\"] = \"ΟΛΟ\"\n",
    "__cases[\"ΟΛΟΓΙΑ\"] = \"ΟΛΟ\"\n",
    "__cases[\"ΟΛΟΓΙΩΝ\"] = \"ΟΛΟ\"\n",
    "__cases[\"ΣΟΓΙΟΥ\"] = \"ΣΟ\"\n",
    "__cases[\"ΣΟΓΙΑ\"] = \"ΣΟ\"\n",
    "__cases[\"ΣΟΓΙΩΝ\"] = \"ΣΟ\"\n",
    "__cases[\"ΤΑΤΟΓΙΑ\"] = \"ΤΑΤΟ\"\n",
    "__cases[\"ΤΑΤΟΓΙΟΥ\"] = \"ΤΑΤΟ\"\n",
    "__cases[\"ΤΑΤΟΓΙΩΝ\"] = \"ΤΑΤΟ\"\n",
    "__cases[\"ΚΡΕΑΣ\"] = \"ΚΡΕ\"\n",
    "__cases[\"ΚΡΕΑΤΟΣ\"] = \"ΚΡΕ\"\n",
    "__cases[\"ΚΡΕΑΤΑ\"] = \"ΚΡΕ\"\n",
    "__cases[\"ΚΡΕΑΤΩΝ\"] = \"ΚΡΕ\"\n",
    "__cases[\"ΠΕΡΑΣ\"] = \"ΠΕΡ\"\n",
    "__cases[\"ΠΕΡΑΤΟΣ\"] = \"ΠΕΡ\"\n",
    "__cases[\"ΠΕΡΑΤΑ\"] = \"ΠΕΡ\"\n",
    "__cases[\"ΠΕΡΑΤΩΝ\"] = \"ΠΕΡ\"\n",
    "__cases[\"ΤΕΡΑΣ\"] = \"ΤΕΡ\"\n",
    "__cases[\"ΤΕΡΑΤΟΣ\"] = \"ΤΕΡ\"\n",
    "__cases[\"ΤΕΡΑΤΑ\"] = \"ΤΕΡ\"\n",
    "__cases[\"ΤΕΡΑΤΩΝ\"] = \"ΤΕΡ\"\n",
    "__cases[\"ΦΩΣ\"] = \"ΦΩ\"\n",
    "__cases[\"ΦΩΤΟΣ\"] = \"ΦΩ\"\n",
    "__cases[\"ΦΩΤΑ\"] = \"ΦΩ\"\n",
    "__cases[\"ΦΩΤΩΝ\"] = \"ΦΩ\"\n",
    "__cases[\"ΚΑΘΕΣΤΩΣ\"] = \"ΚΑΘΕΣΤ\"\n",
    "__cases[\"ΚΑΘΕΣΤΩΤΟΣ\"] = \"ΚΑΘΕΣΤ\"\n",
    "__cases[\"ΚΑΘΕΣΤΩΤΑ\"] = \"ΚΑΘΕΣΤ\"\n",
    "__cases[\"ΚΑΘΕΣΤΩΤΩΝ\"] = \"ΚΑΘΕΣΤ\"\n",
    "__cases[\"ΓΕΓΟΝΟΣ\"] = \"ΓΕΓΟΝ\"\n",
    "__cases[\"ΓΕΓΟΝΟΤΟΣ\"] = \"ΓΕΓΟΝ\"\n",
    "__cases[\"ΓΕΓΟΝΟΤΑ\"] = \"ΓΕΓΟΝ\"\n",
    "__cases[\"ΓΕΓΟΝΟΤΩΝ\"] = \"ΓΕΓΟΝ\"\n",
    "__vowels = \"[ΑΕΗΙΟΥΩ]\"\n",
    "__refinedVowels = \"[ΑΕΗΙΟΩ]\"\n",
    "\n",
    "\n",
    "def stemWord(w: str, exceptions: dict = None):\n",
    "    stem = None\n",
    "    suffix = None\n",
    "    test1 = True\n",
    "\n",
    "    if exceptions is not None and w in exceptions.keys():\n",
    "        return exceptions[w]\n",
    "\n",
    "    if len(w) < 4:\n",
    "        return w\n",
    "\n",
    "    pattern = None\n",
    "    pattern2 = None\n",
    "    pattern3 = None\n",
    "    pattern4 = None\n",
    "\n",
    "    # Step1\n",
    "    pattern = re.compile(\n",
    "        r\"(.*)(ΦΑΓΙΑ|ΦΑΓΙΟΥ|ΦΑΓΙΩΝ|ΣΚΑΓΙΑ|ΣΚΑΓΙΟΥ|ΣΚΑΓΙΩΝ|ΟΛΟΓΙΟΥ|ΟΛΟΓΙΑ|ΟΛΟΓΙΩΝ|ΣΟΓΙΟΥ|ΣΟΓΙΑ|ΣΟΓΙΩΝ|ΤΑΤΟΓΙΑ|ΤΑΤΟΓΙΟΥ|ΤΑΤΟΓΙΩΝ|ΚΡΕΑΣ|ΚΡΕΑΤΟΣ|ΚΡΕΑΤΑ|ΚΡΕΑΤΩΝ|ΠΕΡΑΣ|ΠΕΡΑΤΟΣ|ΠΕΡΑΤΑ|ΠΕΡΑΤΩΝ|ΤΕΡΑΣ|ΤΕΡΑΤΟΣ|ΤΕΡΑΤΑ|ΤΕΡΑΤΩΝ|ΦΩΣ|ΦΩΤΟΣ|ΦΩΤΑ|ΦΩΤΩΝ|ΚΑΘΕΣΤΩΣ|ΚΑΘΕΣΤΩΤΟΣ|ΚΑΘΕΣΤΩΤΑ|ΚΑΘΕΣΤΩΤΩΝ|ΓΕΓΟΝΟΣ|ΓΕΓΟΝΟΤΟΣ|ΓΕΓΟΝΟΤΑ|ΓΕΓΟΝΟΤΩΝ)$\")\n",
    "\n",
    "    if pattern.match(w):\n",
    "        fp = pattern.match(w).groups()\n",
    "        stem = fp[0]\n",
    "        suffix = fp[1]\n",
    "        w = stem + __cases[suffix]\n",
    "        test1 = False\n",
    "\n",
    "    # Step 2a\n",
    "    pattern = re.compile(r\"^(.+?)(ΑΔΕΣ|ΑΔΩΝ)$\")\n",
    "    if pattern.match(w):\n",
    "        fp = pattern.match(w).groups()\n",
    "        stem = fp[0]\n",
    "        w = stem\n",
    "        reg1 = re.compile(r\"(ΟΚ|ΜΑΜ|ΜΑΝ|ΜΠΑΜΠ|ΠΑΤΕΡ|ΓΙΑΓΙ|ΝΤΑΝΤ|ΚΥΡ|ΘΕΙ|ΠΕΘΕΡ)$\")\n",
    "\n",
    "        if not reg1.match(w):\n",
    "            w = w + \"ΑΔ\"\n",
    "\n",
    "    # Step 2b\n",
    "    pattern2 = re.compile(r\"^(.+?)(ΕΔΕΣ|ΕΔΩΝ)$\")\n",
    "    if pattern2.match(w):\n",
    "        fp = pattern2.match(w).groups()\n",
    "        stem = fp[0]\n",
    "        w = stem\n",
    "        except2 = re.compile(r\"(ΟΠ|ΙΠ|ΕΜΠ|ΥΠ|ΓΗΠ|ΔΑΠ|ΚΡΑΣΠ|ΜΙΛ)$\")\n",
    "        if except2.match(w):\n",
    "            w = w + \"ΕΔ\"\n",
    "\n",
    "    # Step 2c\n",
    "    pattern3 = re.compile(r\"^(.+?)(ΟΥΔΕΣ|ΟΥΔΩΝ)$\")\n",
    "    if pattern3.match(w):\n",
    "        fp = pattern3.match(w).groups()\n",
    "        stem = fp[0]\n",
    "        w = stem\n",
    "        except3 = re.compile(r\"(ΑΡΚ|ΚΑΛΙΑΚ|ΠΕΤΑΛ|ΛΙΧ|ΠΛΕΞ|ΣΚ|Σ|ΦΛ|ΦΡ|ΒΕΛ|ΛΟΥΛ|ΧΝ|ΣΠ|ΤΡΑΓ|ΦΕ)$\")\n",
    "        if except3.match(w):\n",
    "            w = w + \"ΟΥΔ\"\n",
    "\n",
    "    # Step 2d\n",
    "    pattern4 = re.compile(\"^(.+?)(ΕΩΣ|ΕΩΝ)$\")\n",
    "    if pattern4.match(w):\n",
    "        fp = pattern4.match(w).groups()\n",
    "        stem = fp[0]\n",
    "        w = stem\n",
    "        test1 = False\n",
    "        except4 = re.compile(r\"^(Θ|Δ|ΕΛ|ΓΑΛ|Ν|Π|ΙΔ|ΠΑΡ)$\")\n",
    "        if except4.match(w):\n",
    "            w = w + \"Ε\"\n",
    "\n",
    "    # Step 3\n",
    "    pattern = re.compile(r\"^(.+?)(ΙΑ|ΙΟΥ|ΙΩΝ)$\")\n",
    "    if pattern.match(w):\n",
    "        fp = pattern.match(w).groups()\n",
    "        stem = fp[0]\n",
    "        w = stem\n",
    "        pattern2 = re.compile(__vowels + \"$\")\n",
    "        test1 = False\n",
    "        if pattern2.match(w):\n",
    "            w = stem + \"Ι\"\n",
    "\n",
    "    # Step 4\n",
    "    pattern = re.compile(r\"^(.+?)(ΙΚΑ|ΙΚΟ|ΙΚΟΥ|ΙΚΩΝ)$\")\n",
    "    if pattern.match(w):\n",
    "        fp = pattern.match(w).groups()\n",
    "        stem = fp[0]\n",
    "        w = stem\n",
    "        test1 = False\n",
    "        pattern2 = re.compile(__vowels + \"$\")\n",
    "        except5 = re.compile(\n",
    "            r\"^(ΑΛ|ΑΔ|ΕΝΔ|ΑΜΑΝ|ΑΜΜΟΧΑΛ|ΗΘ|ΑΝΗΘ|ΑΝΤΙΔ|ΦΥΣ|ΒΡΩΜ|ΓΕΡ|ΕΞΩΔ|ΚΑΛΠ|ΚΑΛΛΙΝ|ΚΑΤΑΔ|ΜΟΥΛ|ΜΠΑΝ|ΜΠΑΓΙΑΤ|ΜΠΟΛ|ΜΠΟΣ|ΝΙΤ|ΞΙΚ|ΣΥΝΟΜΗΛ|ΠΕΤΣ|ΠΙΤΣ|ΠΙΚΑΝΤ|ΠΛΙΑΤΣ|ΠΟΣΤΕΛΝ|ΠΡΩΤΟΔ|ΣΕΡΤ|ΣΥΝΑΔ|ΤΣΑΜ|ΥΠΟΔ|ΦΙΛΟΝ|ΦΥΛΟΔ|ΧΑΣ)$\")\n",
    "        if except5.match(w) or pattern2.match(w):\n",
    "            w = w + \"ΙΚ\"\n",
    "\n",
    "    # step 5a\n",
    "    pattern = re.compile(r\"^(.+?)(ΑΜΕ)$\")\n",
    "    pattern2 = re.compile(r\"^(.+?)(ΑΓΑΜΕ|ΗΣΑΜΕ|ΟΥΣΑΜΕ|ΗΚΑΜΕ|ΗΘΗΚΑΜΕ)$\")\n",
    "    if w == \"ΑΓΑΜΕ\":\n",
    "        w = \"ΑΓΑΜ\"\n",
    "\n",
    "    if pattern2.match(w):\n",
    "        fp = pattern2.match(w).groups()\n",
    "        stem = fp[0]\n",
    "        w = stem\n",
    "        test1 = False\n",
    "\n",
    "    if pattern.match(w):\n",
    "        fp = pattern.match(w).groups()\n",
    "        stem = fp[0]\n",
    "        w = stem\n",
    "        test1 = False\n",
    "        except6 = re.compile(r\"^(ΑΝΑΠ|ΑΠΟΘ|ΑΠΟΚ|ΑΠΟΣΤ|ΒΟΥΒ|ΞΕΘ|ΟΥΛ|ΠΕΘ|ΠΙΚΡ|ΠΟΤ|ΣΙΧ|Χ)$\")\n",
    "        if except6.match(w):\n",
    "            w = w + \"ΑΜ\"\n",
    "\n",
    "    # Step 5b\n",
    "    pattern2 = re.compile(r\"^(.+?)(ΑΝΕ)$\")\n",
    "    pattern3 = re.compile(r\"^(.+?)(ΑΓΑΝΕ|ΗΣΑΝΕ|ΟΥΣΑΝΕ|ΙΟΝΤΑΝΕ|ΙΟΤΑΝΕ|ΙΟΥΝΤΑΝΕ|ΟΝΤΑΝΕ|ΟΤΑΝΕ|ΟΥΝΤΑΝΕ|ΗΚΑΝΕ|ΗΘΗΚΑΝΕ)$\")\n",
    "    if pattern3.match(w):\n",
    "        fp = pattern3.match(w).groups()\n",
    "        stem = fp[0]\n",
    "        w = stem\n",
    "        test1 = False\n",
    "        pattern3 = re.compile(r\"^(ΤΡ|ΤΣ)$\")\n",
    "        if pattern3.match(w):\n",
    "            w = w + \"ΑΓΑΝ\"\n",
    "\n",
    "    if pattern2.match(w):\n",
    "        fp = pattern2.match(w).groups()\n",
    "        stem = fp[0]\n",
    "        w = stem\n",
    "        test1 = False\n",
    "        pattern2 = re.compile(__refinedVowels + \"$\")\n",
    "        except7 = re.compile(\n",
    "            r\"^(ΒΕΤΕΡ|ΒΟΥΛΚ|ΒΡΑΧΜ|Γ|ΔΡΑΔΟΥΜ|Θ|ΚΑΛΠΟΥΖ|ΚΑΣΤΕΛ|ΚΟΡΜΟΡ|ΛΑΟΠΛ|ΜΩΑΜΕΘ|Μ|ΜΟΥΣΟΥΛΜ|Ν|ΟΥΛ|Π|ΠΕΛΕΚ|ΠΛ|ΠΟΛΙΣ|ΠΟΡΤΟΛ|ΣΑΡΑΚΑΤΣ|ΣΟΥΛΤ|ΤΣΑΡΛΑΤ|ΟΡΦ|ΤΣΙΓΓ|ΤΣΟΠ|ΦΩΤΟΣΤΕΦ|Χ|ΨΥΧΟΠΛ|ΑΓ|ΟΡΦ|ΓΑΛ|ΓΕΡ|ΔΕΚ|ΔΙΠΛ|ΑΜΕΡΙΚΑΝ|ΟΥΡ|ΠΙΘ|ΠΟΥΡΙΤ|Σ|ΖΩΝΤ|ΙΚ|ΚΑΣΤ|ΚΟΠ|ΛΙΧ|ΛΟΥΘΗΡ|ΜΑΙΝΤ|ΜΕΛ|ΣΙΓ|ΣΠ|ΣΤΕΓ|ΤΡΑΓ|ΤΣΑΓ|Φ|ΕΡ|ΑΔΑΠ|ΑΘΙΓΓ|ΑΜΗΧ|ΑΝΙΚ|ΑΝΟΡΓ|ΑΠΗΓ|ΑΠΙΘ|ΑΤΣΙΓΓ|ΒΑΣ|ΒΑΣΚ|ΒΑΘΥΓΑΛ|ΒΙΟΜΗΧ|ΒΡΑΧΥΚ|ΔΙΑΤ|ΔΙΑΦ|ΕΝΟΡΓ|ΘΥΣ|ΚΑΠΝΟΒΙΟΜΗΧ|ΚΑΤΑΓΑΛ|ΚΛΙΒ|ΚΟΙΛΑΡΦ|ΛΙΒ|ΜΕΓΛΟΒΙΟΜΗΧ|ΜΙΚΡΟΒΙΟΜΗΧ|ΝΤΑΒ|ΞΗΡΟΚΛΙΒ|ΟΛΙΓΟΔΑΜ|ΟΛΟΓΑΛ|ΠΕΝΤΑΡΦ|ΠΕΡΗΦ|ΠΕΡΙΤΡ|ΠΛΑΤ|ΠΟΛΥΔΑΠ|ΠΟΛΥΜΗΧ|ΣΤΕΦ|ΤΑΒ|ΤΕΤ|ΥΠΕΡΗΦ|ΥΠΟΚΟΠ|ΧΑΜΗΛΟΔΑΠ|ΨΗΛΟΤΑΒ)$\")\n",
    "        if (pattern2.match(w)) or (except7.match(w)):\n",
    "            w = w + \"ΑΝ\"\n",
    "\n",
    "    # //Step 5c\n",
    "    pattern3 = re.compile(r\"^(.+?)(ΕΤΕ)$\")\n",
    "    pattern4 = re.compile(r\"^(.+?)(ΗΣΕΤΕ)$\")\n",
    "    if pattern4.match(w):\n",
    "        fp = pattern4.match(w).groups()\n",
    "        stem = fp[0]\n",
    "        w = stem\n",
    "        test1 = False\n",
    "\n",
    "    if pattern3.match(w):\n",
    "        fp = pattern3.match(w).groups()\n",
    "        stem = fp[0]\n",
    "        w = stem\n",
    "        test1 = False\n",
    "        pattern3 = re.compile(__refinedVowels + \"$\")\n",
    "        except8 = re.compile(\n",
    "            r\"(ΟΔ|ΑΙΡ|ΦΟΡ|ΤΑΘ|ΔΙΑΘ|ΣΧ|ΕΝΔ|ΕΥΡ|ΤΙΘ|ΥΠΕΡΘ|ΡΑΘ|ΕΝΘ|ΡΟΘ|ΣΘ|ΠΥΡ|ΑΙΝ|ΣΥΝΔ|ΣΥΝ|ΣΥΝΘ|ΧΩΡ|ΠΟΝ|ΒΡ|ΚΑΘ|ΕΥΘ|ΕΚΘ|ΝΕΤ|ΡΟΝ|ΑΡΚ|ΒΑΡ|ΒΟΛ|ΩΦΕΛ)$\")\n",
    "        except9 = re.compile(\n",
    "            r\"^(ΑΒΑΡ|ΒΕΝ|ΕΝΑΡ|ΑΒΡ|ΑΔ|ΑΘ|ΑΝ|ΑΠΛ|ΒΑΡΟΝ|ΝΤΡ|ΣΚ|ΚΟΠ|ΜΠΟΡ|ΝΙΦ|ΠΑΓ|ΠΑΡΑΚΑΛ|ΣΕΡΠ|ΣΚΕΛ|ΣΥΡΦ|ΤΟΚ|Υ|Δ|ΕΜ|ΘΑΡΡ|Θ)$\")\n",
    "        if (pattern3.match(w)) or (except8.match(w)) or (except9.match(w)):\n",
    "            w = w + \"ΕΤ\"\n",
    "\n",
    "    # Step 5d\n",
    "    pattern = re.compile(r\"^(.+?)(ΟΝΤΑΣ|ΩΝΤΑΣ)$\")\n",
    "    if pattern.match(w):\n",
    "        fp = pattern.match(w).groups()\n",
    "        stem = fp[0]\n",
    "        w = stem\n",
    "        test1 = False\n",
    "        except10 = re.compile(r\"^(ΑΡΧ)$\")\n",
    "        except11 = re.compile(r\"(ΚΡΕ)$\")\n",
    "        if except10.match(w):\n",
    "            w = w + \"ΟΝΤ\"\n",
    "        if except11.match(w):\n",
    "            w = w + \"ΩΝΤ\"\n",
    "\n",
    "    # Step 5e\n",
    "    pattern = re.compile(r\"^(.+?)(ΟΜΑΣΤΕ|ΙΟΜΑΣΤΕ)$\")\n",
    "    if pattern.match(w):\n",
    "        fp = pattern.match(w).groups()\n",
    "        stem = fp[0]\n",
    "        w = stem\n",
    "        test1 = False\n",
    "        except11 = re.compile(\"^(ΟΝ)$\")\n",
    "        if except11.match(w):\n",
    "            w = w + \"ΟΜΑΣΤ\"\n",
    "\n",
    "    # Step 5f\n",
    "    pattern = re.compile(r\"^(.+?)(ΕΣΤΕ)$\")\n",
    "    pattern2 = re.compile(r\"^(.+?)(ΙΕΣΤΕ)$\")\n",
    "    if pattern2.match(w):\n",
    "        fp = pattern2.match(w).groups()\n",
    "        stem = fp[0]\n",
    "        w = stem\n",
    "        test1 = False\n",
    "        pattern2 = re.compile(r\"^(Π|ΑΠ|ΣΥΜΠ|ΑΣΥΜΠ|ΑΚΑΤΑΠ|ΑΜΕΤΑΜΦ)$\")\n",
    "        if pattern2.match(w):\n",
    "            w = w + \"ΙΕΣΤ\"\n",
    "\n",
    "    if pattern.match(w):\n",
    "        fp = pattern.match(w).groups()\n",
    "        stem = fp[0]\n",
    "        w = stem\n",
    "        test1 = False\n",
    "        except12 = re.compile(r\"^(ΑΛ|ΑΡ|ΕΚΤΕΛ|Ζ|Μ|Ξ|ΠΑΡΑΚΑΛ|ΑΡ|ΠΡΟ|ΝΙΣ)$\")\n",
    "        if except12.match(w):\n",
    "            w = w + \"ΕΣΤ\"\n",
    "\n",
    "    # Step 5g\n",
    "    pattern = re.compile(r\"^(.+?)(ΗΚΑ|ΗΚΕΣ|ΗΚΕ)$\")\n",
    "    pattern2 = re.compile(r\"^(.+?)(ΗΘΗΚΑ|ΗΘΗΚΕΣ|ΗΘΗΚΕ)$\")\n",
    "    if pattern2.match(w):\n",
    "        fp = pattern2.match(w).groups()\n",
    "        stem = fp[0]\n",
    "        w = stem\n",
    "        test1 = False\n",
    "\n",
    "    if pattern.match(w):\n",
    "        fp = pattern.match(w).groups()\n",
    "        stem = fp[0]\n",
    "        w = stem\n",
    "        test1 = False\n",
    "        except13 = re.compile(r\"(ΣΚΩΛ|ΣΚΟΥΛ|ΝΑΡΘ|ΣΦ|ΟΘ|ΠΙΘ)$\")\n",
    "        except14 = re.compile(r\"^(ΔΙΑΘ|Θ|ΠΑΡΑΚΑΤΑΘ|ΠΡΟΣΘ|ΣΥΝΘ|)$\")\n",
    "        if (except13.match(w)) or (except14.match(w)):\n",
    "            w = w + \"ΗΚ\"\n",
    "\n",
    "    # Step 5h\n",
    "    pattern = re.compile(r\"^(.+?)(ΟΥΣΑ|ΟΥΣΕΣ|ΟΥΣΕ)$\")\n",
    "    if pattern.match(w):\n",
    "        fp = pattern.match(w).groups()\n",
    "        stem = fp[0]\n",
    "        w = stem\n",
    "        test1 = False\n",
    "        except15 = re.compile(\n",
    "            r\"^(ΦΑΡΜΑΚ|ΧΑΔ|ΑΓΚ|ΑΝΑΡΡ|ΒΡΟΜ|ΕΚΛΙΠ|ΛΑΜΠΙΔ|ΛΕΧ|Μ|ΠΑΤ|Ρ|Λ|ΜΕΔ|ΜΕΣΑΖ|ΥΠΟΤΕΙΝ|ΑΜ|ΑΙΘ|ΑΝΗΚ|ΔΕΣΠΟΖ|ΕΝΔΙΑΦΕΡ|ΔΕ|ΔΕΥΤΕΡΕΥ|ΚΑΘΑΡΕΥ|ΠΛΕ|ΤΣΑ)$\")\n",
    "        except16 = re.compile(r\"(ΠΟΔΑΡ|ΒΛΕΠ|ΠΑΝΤΑΧ|ΦΡΥΔ|ΜΑΝΤΙΛ|ΜΑΛΛ|ΚΥΜΑΤ|ΛΑΧ|ΛΗΓ|ΦΑΓ|ΟΜ|ΠΡΩΤ)$\")\n",
    "        if (except15.match(w)) or (except16.match(w)):\n",
    "            w = w + \"ΟΥΣ\"\n",
    "\n",
    "    # Step 5i\n",
    "    pattern = re.compile(r\"^(.+?)(ΑΓΑ|ΑΓΕΣ|ΑΓΕ)$\")\n",
    "    if pattern.match(w):\n",
    "        fp = pattern.match(w).groups()\n",
    "        stem = fp[0]\n",
    "        w = stem\n",
    "        test1 = False\n",
    "        except17 = re.compile(r\"^(ΨΟΦ|ΝΑΥΛΟΧ)$\")\n",
    "        except20 = re.compile(r\"(ΚΟΛΛ)$\")\n",
    "        except18 = re.compile(\n",
    "            r\"^(ΑΒΑΣΤ|ΠΟΛΥΦ|ΑΔΗΦ|ΠΑΜΦ|Ρ|ΑΣΠ|ΑΦ|ΑΜΑΛ|ΑΜΑΛΛΙ|ΑΝΥΣΤ|ΑΠΕΡ|ΑΣΠΑΡ|ΑΧΑΡ|ΔΕΡΒΕΝ|ΔΡΟΣΟΠ|ΞΕΦ|ΝΕΟΠ|ΝΟΜΟΤ|ΟΛΟΠ|ΟΜΟΤ|ΠΡΟΣΤ|ΠΡΟΣΩΠΟΠ|ΣΥΜΠ|ΣΥΝΤ|Τ|ΥΠΟΤ|ΧΑΡ|ΑΕΙΠ|ΑΙΜΟΣΤ|ΑΝΥΠ|ΑΠΟΤ|ΑΡΤΙΠ|ΔΙΑΤ|ΕΝ|ΕΠΙΤ|ΚΡΟΚΑΛΟΠ|ΣΙΔΗΡΟΠ|Λ|ΝΑΥ|ΟΥΛΑΜ|ΟΥΡ|Π|ΤΡ|Μ)$\")\n",
    "        except19 = re.compile(r\"(ΟΦ|ΠΕΛ|ΧΟΡΤ|ΛΛ|ΣΦ|ΡΠ|ΦΡ|ΠΡ|ΛΟΧ|ΣΜΗΝ)$\")\n",
    "        if (except18.match(w) and except19.match(w)) and not ((except17.match(w)) or (except20.match(w))):\n",
    "            w = w + \"ΑΓ\"\n",
    "\n",
    "    # Step 5j\n",
    "    pattern = re.compile(\"^(.+?)(ΗΣΕ|ΗΣΟΥ|ΗΣΑ)$\")\n",
    "    if pattern.match(w):\n",
    "        fp = pattern.match(w).groups()\n",
    "        stem = fp[0]\n",
    "        w = stem\n",
    "        test1 = False\n",
    "        except21 = re.compile(r\"^(Ν|ΧΕΡΣΟΝ|ΔΩΔΕΚΑΝ|ΕΡΗΜΟΝ|ΜΕΓΑΛΟΝ|ΕΠΤΑΝ)$\")\n",
    "        if except21.match(w):\n",
    "            w = w + \"ΗΣ\"\n",
    "\n",
    "    # Step 5k\n",
    "    pattern = re.compile(r\"^(.+?)(ΗΣΤΕ)$\")\n",
    "\n",
    "    if pattern.match(w):\n",
    "        fp = pattern.match(w).groups()\n",
    "        stem = fp[0]\n",
    "        w = stem\n",
    "        test1 = False\n",
    "        except22 = re.compile(r\"^(ΑΣΒ|ΣΒ|ΑΧΡ|ΧΡ|ΑΠΛ|ΑΕΙΜΝ|ΔΥΣΧΡ|ΕΥΧΡ|ΚΟΙΝΟΧΡ|ΠΑΛΙΜΨ)$\")\n",
    "        if except22.match(w):\n",
    "            w = w + \"ΗΣΤ\"\n",
    "\n",
    "    # Step 5l\n",
    "    pattern = re.compile(\"^(.+?)(ΟΥΝΕ|ΗΣΟΥΝΕ|ΗΘΟΥΝΕ)$\")\n",
    "    if pattern.match(w):\n",
    "        fp = pattern.match(w).groups()\n",
    "        stem = fp[0]\n",
    "        w = stem\n",
    "        test1 = False\n",
    "        except23 = re.compile(\"^(Ν|Ρ|ΣΠΙ|ΣΤΡΑΒΟΜΟΥΤΣ|ΚΑΚΟΜΟΥΤΣ|ΕΞΩΝ)$\")\n",
    "        if except23.match(w):\n",
    "            w = w + \"ΟΥΝ\"\n",
    "\n",
    "    # Step 5l\n",
    "    pattern = re.compile(r\"^(.+?)(ΟΥΜΕ|ΗΣΟΥΜΕ|ΗΘΟΥΜΕ)$\")\n",
    "    if pattern.match(w):\n",
    "        fp = pattern.match(w).groups()\n",
    "        stem = fp[0]\n",
    "        w = stem\n",
    "        test1 = False\n",
    "        except24 = re.compile(r\"^(ΠΑΡΑΣΟΥΣ|Φ|Χ|ΩΡΙΟΠΛ|ΑΖ|ΑΛΛΟΣΟΥΣ|ΑΣΟΥΣ)$\")\n",
    "        if except24.match(w):\n",
    "            w = w + \"ΟΥΜ\"\n",
    "\n",
    "    # Step 6\n",
    "    pattern = re.compile(r\"^(.+?)(ΜΑΤΑ|ΜΑΤΩΝ|ΜΑΤΟΣ)$\")\n",
    "    pattern2 = re.compile(\n",
    "        r\"^(.+?)(Α|ΑΓΑΤΕ|ΑΓΑΝ|ΑΕΙ|ΑΜΑΙ|ΑΝ|ΑΣ|ΑΣΑΙ|ΑΤΑΙ|ΑΩ|Ε|ΕΙ|ΕΙΣ|ΕΙΤΕ|ΕΣΑΙ|ΕΣ|ΕΤΑΙ|Ι|ΙΕΜΑΙ|ΙΕΜΑΣΤΕ|ΙΕΤΑΙ|ΙΕΣΑΙ|ΙΕΣΑΣΤΕ|ΙΟΜΑΣΤΑΝ|ΙΟΜΟΥΝ|ΙΟΜΟΥΝΑ|ΙΟΝΤΑΝ|ΙΟΝΤΟΥΣΑΝ|ΙΟΣΑΣΤΑΝ|ΙΟΣΑΣΤΕ|ΙΟΣΟΥΝ|ΙΟΣΟΥΝΑ|ΙΟΤΑΝ|ΙΟΥΜΑ|ΙΟΥΜΑΣΤΕ|ΙΟΥΝΤΑΙ|ΙΟΥΝΤΑΝ|Η|ΗΔΕΣ|ΗΔΩΝ|ΗΘΕΙ|ΗΘΕΙΣ|ΗΘΕΙΤΕ|ΗΘΗΚΑΤΕ|ΗΘΗΚΑΝ|ΗΘΟΥΝ|ΗΘΩ|ΗΚΑΤΕ|ΗΚΑΝ|ΗΣ|ΗΣΑΝ|ΗΣΑΤΕ|ΗΣΕΙ|ΗΣΕΣ|ΗΣΟΥΝ|ΗΣΩ|Ο|ΟΙ|ΟΜΑΙ|ΟΜΑΣΤΑΝ|ΟΜΟΥΝ|ΟΜΟΥΝΑ|ΟΝΤΑΙ|ΟΝΤΑΝ|ΟΝΤΟΥΣΑΝ|ΟΣ|ΟΣΑΣΤΑΝ|ΟΣΑΣΤΕ|ΟΣΟΥΝ|ΟΣΟΥΝΑ|ΟΤΑΝ|ΟΥ|ΟΥΜΑΙ|ΟΥΜΑΣΤΕ|ΟΥΝ|ΟΥΝΤΑΙ|ΟΥΝΤΑΝ|ΟΥΣ|ΟΥΣΑΝ|ΟΥΣΑΤΕ|Υ|ΥΣ|Ω|ΩΝ)$\")\n",
    "\n",
    "    if pattern.match(w):\n",
    "        fp = pattern.match(w).groups()\n",
    "        stem = fp[0]\n",
    "        w = stem + \"ΜΑ\"\n",
    "\n",
    "    if pattern2.match(w) and test1:\n",
    "        fp = pattern2.match(w).groups()\n",
    "        stem = fp[0]\n",
    "        w = stem\n",
    "\n",
    "    # Step 7 (ΠΑΡΑΘΕΤΙΚΑ)\n",
    "    pattern = re.compile(r\"^(.+?)(ΕΣΤΕΡ|ΕΣΤΑΤ|ΟΤΕΡ|ΟΤΑΤ|ΥΤΕΡ|ΥΤΑΤ|ΩΤΕΡ|ΩΤΑΤ)$\")\n",
    "    if pattern.match(w):\n",
    "        fp = pattern.match(w).groups()\n",
    "        stem = fp[0]\n",
    "        w = stem\n",
    "\n",
    "    return w\n",
    "\n",
    "# Notes:\n",
    "# (1) Greek word to get stemmed should be in capital letters and without accents. E.g. ΨΩΜΙ and not Ψωμί\n",
    "# (2) Any word of length 1 - 3 will not get stemmed.\n",
    "# (3) The exceptions argument is a dictionary where a key is a word and a value is a custom stem of your liking\n",
    "\n",
    "\n"
   ]
  },
  {
   "cell_type": "markdown",
   "id": "99ed47f6",
   "metadata": {
    "papermill": {
     "duration": 0.008792,
     "end_time": "2023-12-22T13:14:33.676687",
     "exception": false,
     "start_time": "2023-12-22T13:14:33.667895",
     "status": "completed"
    },
    "tags": []
   },
   "source": [
    "Cleaning preprocessing funcs for Word2vec vocabulary training"
   ]
  },
  {
   "cell_type": "code",
   "execution_count": 5,
   "id": "c2e54adc",
   "metadata": {
    "execution": {
     "iopub.execute_input": "2023-12-22T13:14:33.697174Z",
     "iopub.status.busy": "2023-12-22T13:14:33.695729Z",
     "iopub.status.idle": "2023-12-22T13:14:33.718195Z",
     "shell.execute_reply": "2023-12-22T13:14:33.716920Z"
    },
    "papermill": {
     "duration": 0.0358,
     "end_time": "2023-12-22T13:14:33.720915",
     "exception": false,
     "start_time": "2023-12-22T13:14:33.685115",
     "status": "completed"
    },
    "tags": []
   },
   "outputs": [],
   "source": [
    "def read_explore_dataframe(csv_file):\n",
    "\n",
    "  # Open and read the csv file with utf-8 encoding\n",
    "  dataframe = pd.read_csv(csv_file,encoding='utf-8')\n",
    "\n",
    "  # Get the keys and their corresponding number of values\n",
    "  keys = dataframe.keys()\n",
    "  for key in keys:\n",
    "    df_len = len(dataframe[key].unique()) # the length of the unique values of each column\n",
    "    print('{0:25}{1:10}'.format(key,df_len))\n",
    "\n",
    "  dataframe.dropna(inplace=True) # remove missing values and keep the dataFrame with valid entries in the same variable\n",
    "  dataframe.reset_index(inplace=True,drop=True)\n",
    "\n",
    "  dataframe.duplicated() # check for duplicates\n",
    "  print('Number of duplicates in the dataframe:', dataframe.duplicated().sum())\n",
    "  print('Dataframe checked for NaN values and duplicates!')\n",
    "\n",
    "  return dataframe\n",
    "\n",
    "def replaceMultiple(main, replacements, new):\n",
    "  for elem in replacements:\n",
    "    if elem in main:\n",
    "      main = main.replace(elem, new)\n",
    "  return main\n",
    "\n",
    "def normalize(x):\n",
    "  x = replaceMultiple(x, ['ά', 'ὰ', 'ἀ','ἁ','ἂ','ἃ','ἄ','ἅ','ἆ','ἇ','ᾰ','ᾱ','ᾲ','ᾳ','ᾴ','ᾶ','ᾷ'], 'α')\n",
    "  x = replaceMultiple(x, ['έ','ὲ','ἐ','ἑ','ἒ','ἓ','ἔ','ἕ'], 'ε')\n",
    "  x = replaceMultiple(x, ['ή','ὴ','ἠ','ἡ','ἢ','ἣ','ἤ','ἥ','ἦ','ἧ','ῂ','ῃ','ῄ','ῆ','ῇ'], 'η')\n",
    "  x = replaceMultiple(x, ['ί','ὶ','ἰ','ἱ','ἲ','ἳ','ἴ','ἵ','ἶ','ἷ','ῐ','ῑ','ῒ','ΐ','ῖ','ῗ'], 'ι')\n",
    "  x = replaceMultiple(x, ['ὸ','ό','ὀ','ὁ','ὂ','ὃ','ὄ','ὅ'], 'ο')\n",
    "  x = replaceMultiple(x, ['ύ','ὺ','ΰ', 'ϋ','ὐ','ὑ','ὒ','ὓ','ὔ','ὕ','ὖ','ὗ','ῠ','ῡ','ῢ','ΰ','ῦ'], 'υ')\n",
    "  x = replaceMultiple(x, ['ώ','ὼ','ῶ','ῲ','ῳ','ῴ','ῶ','ῷ','ὠ','ὡ','ὢ','ὣ','ὤ','ὥ','ὦ','ὧ'], 'ω')\n",
    "  return x\n",
    "\n",
    "def remove_emojis(text):\n",
    "    return demoji.replace(text, '')\n",
    "\n",
    "def sep_punc(x):\n",
    "    punc = '!\"#$%&\\'()*+,-./:;<=>?@[\\\\]^_`{|}~؛،؟؛.»«”'\n",
    "    out = []\n",
    "    for char in x:\n",
    "        if char in punc:\n",
    "            out.append(' ' + char + ' ')\n",
    "        else:\n",
    "            out.append(char)\n",
    "    return ''.join(out)\n",
    "\n",
    "def preprocess_text_for_vec(text,stopwords_file):\n",
    "    with open(stopwords_file, 'r', encoding='utf-8') as file:\n",
    "        stopwords = set(file.read().splitlines())\n",
    "    # Remove retweets\n",
    "    text = re.sub(r'^RT[\\s]+', '', text, flags=re.IGNORECASE)\n",
    "    # Remove usernames @\n",
    "    text = re.sub(r'@[^\\s]+', '', text)\n",
    "    # Remove URLs\n",
    "    text = re.sub(r'https\\S+', '', text)\n",
    "    url_words = ['url', 'URL', 'html', 'HTML', 'http', 'HTTP']\n",
    "    for u in url_words:\n",
    "        text = re.sub(u, '', text)\n",
    "    text = text.lower()\n",
    "    text=normalize(text)\n",
    "     # Separate punctuation characters\n",
    "    text = sep_punc(text)\n",
    "    # Remove punctuation characters\n",
    "    text = re.sub(f\"[{''.join(re.escape(c) for c in string.punctuation if c != '_') }]\", ' ', text)\n",
    "    # Remove Latin characters\n",
    "    text = re.sub(r'[a-zA-Z]+', '', text)\n",
    "    # Remove numbers\n",
    "    text = re.sub(r'\\b\\d+\\b', '', text)\n",
    "  # Remove words with character length equal to or less than 1\n",
    "    words = text.split()\n",
    "    filtered_words = [word for word in words if len(word) > 1]\n",
    "    text = ' '.join(filtered_words)\n",
    "    text = remove_emojis(text)\n",
    "    text = str(text).upper().strip()\n",
    "    # Exclude specific stop words\n",
    "    specific_stopwords_to_keep = {'ΟΧΙ','ΜΗΝ','ΔΕΝ', 'ΚΑΘΟΛΟΥ','ΠΟΛΥ','ΟΤΙ'}\n",
    "    # Exclude specific stopwords from the set of all stopwords\n",
    "    final_stopwords = stopwords - specific_stopwords_to_keep\n",
    "    words = text.split()\n",
    "    filtered_words = [word for word in words if word not in final_stopwords]\n",
    "    text = ' '.join(filtered_words)\n",
    "    tokenized_tweet = word_tokenize(text)\n",
    "    tokenized_tweet = [stemWord(i) for i in tokenized_tweet]\n",
    "    return tokenized_tweet\n",
    "\n",
    "def postprocessing(df, text_column='Text'):\n",
    "    # Check for empty lists in the DataFrame\n",
    "    empty_lists = df[text_column].apply(lambda x: len(x) == 0)\n",
    "    print(\"\\nNumber of rows with empty lists:\", empty_lists.sum())\n",
    "\n",
    "    # Drop rows with empty lists and reset the index\n",
    "    df.drop(df[empty_lists].index, inplace=True)\n",
    "    df.reset_index(drop=True, inplace=True)\n",
    "    print(\"\\nShape after postprocessing:\", df.shape)\n",
    "    # Return the updated DataFrame\n",
    "    return df"
   ]
  },
  {
   "cell_type": "markdown",
   "id": "9e508649",
   "metadata": {
    "papermill": {
     "duration": 0.009929,
     "end_time": "2023-12-22T13:14:33.742032",
     "exception": false,
     "start_time": "2023-12-22T13:14:33.732103",
     "status": "completed"
    },
    "tags": []
   },
   "source": [
    "Word2Vec model training on our data"
   ]
  },
  {
   "cell_type": "code",
   "execution_count": 6,
   "id": "13b802c2",
   "metadata": {
    "execution": {
     "iopub.execute_input": "2023-12-22T13:14:33.764643Z",
     "iopub.status.busy": "2023-12-22T13:14:33.764284Z",
     "iopub.status.idle": "2023-12-22T13:14:33.768274Z",
     "shell.execute_reply": "2023-12-22T13:14:33.767366Z"
    },
    "papermill": {
     "duration": 0.016487,
     "end_time": "2023-12-22T13:14:33.770241",
     "exception": false,
     "start_time": "2023-12-22T13:14:33.753754",
     "status": "completed"
    },
    "tags": []
   },
   "outputs": [],
   "source": [
    "#train_vectors  = pd.read_csv(\"/kaggle/input/ys19-2023-assignment-2/train_set.csv\")\n",
    "#val_vectors=pd.read_csv(\"/kaggle/input/ys19-2023-assignment-2/valid_set.csv\")\n",
    "#stopwords_file = '/kaggle/input/stopwords/Greek-Stopwords (1).txt'\n",
    "#combi = pd.concat([train_vectors, val_vectors], ignore_index=True)\n",
    "#print(combi.shape)\n",
    "#combi['tidy_tweet'] = combi['Text'].apply(preprocess_text_for_vec, stopwords_file=stopwords_file)\n",
    "#combi.head()\n",
    "#combi = postprocessing(combi, text_column='tidy_tweet')\n",
    "#tokenized_tweet = combi['tidy_tweet'].tolist()\n",
    "#len(tokenized_tweet)"
   ]
  },
  {
   "cell_type": "code",
   "execution_count": 7,
   "id": "930d7484",
   "metadata": {
    "execution": {
     "iopub.execute_input": "2023-12-22T13:14:33.788882Z",
     "iopub.status.busy": "2023-12-22T13:14:33.788204Z",
     "iopub.status.idle": "2023-12-22T13:14:33.791939Z",
     "shell.execute_reply": "2023-12-22T13:14:33.791137Z"
    },
    "papermill": {
     "duration": 0.014755,
     "end_time": "2023-12-22T13:14:33.793620",
     "exception": false,
     "start_time": "2023-12-22T13:14:33.778865",
     "status": "completed"
    },
    "tags": []
   },
   "outputs": [],
   "source": [
    "#tokenized_tweet[:5]"
   ]
  },
  {
   "cell_type": "code",
   "execution_count": 8,
   "id": "e4e9c89d",
   "metadata": {
    "execution": {
     "iopub.execute_input": "2023-12-22T13:14:33.812014Z",
     "iopub.status.busy": "2023-12-22T13:14:33.811692Z",
     "iopub.status.idle": "2023-12-22T13:14:33.815026Z",
     "shell.execute_reply": "2023-12-22T13:14:33.814243Z"
    },
    "papermill": {
     "duration": 0.014474,
     "end_time": "2023-12-22T13:14:33.816684",
     "exception": false,
     "start_time": "2023-12-22T13:14:33.802210",
     "status": "completed"
    },
    "tags": []
   },
   "outputs": [],
   "source": [
    "#model_w2v=Word2Vec(sg = 1,min_count=1,window=4,vector_size=200, alpha=0.01, hs=0,negative=10,workers=3,sample=0.001, shrink_windows=True)\n",
    "#model_w2v.build_vocab(tokenized_tweet)\n",
    "#model_w2v.train(tokenized_tweet, total_examples= len(combi['tidy_tweet']), epochs=20)"
   ]
  },
  {
   "cell_type": "code",
   "execution_count": 9,
   "id": "ce462b56",
   "metadata": {
    "execution": {
     "iopub.execute_input": "2023-12-22T13:14:33.835998Z",
     "iopub.status.busy": "2023-12-22T13:14:33.835521Z",
     "iopub.status.idle": "2023-12-22T13:14:33.839049Z",
     "shell.execute_reply": "2023-12-22T13:14:33.838497Z"
    },
    "papermill": {
     "duration": 0.016034,
     "end_time": "2023-12-22T13:14:33.841418",
     "exception": false,
     "start_time": "2023-12-22T13:14:33.825384",
     "status": "completed"
    },
    "tags": []
   },
   "outputs": [],
   "source": [
    "#model_w2v.wv.most_similar(positive=\"ΝΔ\")\n",
    "#model_w2v.wv.most_similar(positive=\"ΣΥΡΙΖ\")\n",
    "#model_w2v.wv.most_similar(positive=\"ΚΚΕ\")\n",
    "#model_w2v.wv.most_similar(positive=\"ΠΑΣΟΚ\")\n",
    "#model_w2v.save('w2v200_sg.model')\n"
   ]
  },
  {
   "cell_type": "code",
   "execution_count": 10,
   "id": "0a14faab",
   "metadata": {
    "execution": {
     "iopub.execute_input": "2023-12-22T13:14:33.860856Z",
     "iopub.status.busy": "2023-12-22T13:14:33.860456Z",
     "iopub.status.idle": "2023-12-22T13:14:33.871456Z",
     "shell.execute_reply": "2023-12-22T13:14:33.870264Z"
    },
    "papermill": {
     "duration": 0.023066,
     "end_time": "2023-12-22T13:14:33.873504",
     "exception": false,
     "start_time": "2023-12-22T13:14:33.850438",
     "status": "completed"
    },
    "tags": []
   },
   "outputs": [],
   "source": [
    "def preprocess_text(text,stopwords_file):\n",
    "    with open(stopwords_file, 'r', encoding='utf-8') as file:\n",
    "        stopwords = set(file.read().splitlines())\n",
    "    # Remove retweets\n",
    "    text = re.sub(r'^RT[\\s]+', '', text, flags=re.IGNORECASE)\n",
    "    # Remove usernames @\n",
    "    text = re.sub(r'@[^\\s]+', '', text)\n",
    "    # Remove URLs\n",
    "    text = re.sub(r'https\\S+', '', text)\n",
    "    url_words = ['url', 'URL', 'html', 'HTML', 'http', 'HTTP']\n",
    "    for u in url_words:\n",
    "        text = re.sub(u, '', text)\n",
    "    text = text.lower()\n",
    "    text=normalize(text)\n",
    "     # Separate punctuation characters\n",
    "    text = sep_punc(text)\n",
    "    # Remove punctuation characters\n",
    "    text = re.sub(f\"[{''.join(re.escape(c) for c in string.punctuation if c != '_') }]\", ' ', text)\n",
    "    # Remove Latin characters\n",
    "    text = re.sub(r'[a-zA-Z]+', '', text)\n",
    "    # Remove numbers\n",
    "    text = re.sub(r'\\b\\d+\\b', '', text)\n",
    "  # Remove words with character length equal to or less than 1\n",
    "    words = text.split()\n",
    "    filtered_words = [word for word in words if len(word) > 1]\n",
    "    text = ' '.join(filtered_words)\n",
    "    text = remove_emojis(text)\n",
    "    text = str(text).upper().strip()\n",
    "    # Exclude specific stop words\n",
    "    specific_stopwords_to_keep = {'ΟΧΙ','ΜΗΝ','ΔΕΝ', 'ΚΑΘΟΛΟΥ','ΠΟΛΥ','ΟΤΙ'}\n",
    "    # Exclude specific stopwords from the set of all stopwords\n",
    "    final_stopwords = stopwords - specific_stopwords_to_keep\n",
    "    words = text.split()\n",
    "    filtered_words = [word for word in words if word not in final_stopwords]\n",
    "    text = ' '.join(filtered_words)\n",
    "    tokenized_tweet = word_tokenize(text)\n",
    "    tokenized_tweet = [stemWord(i) for i in tokenized_tweet]\n",
    "    return ' '.join(tokenized_tweet)"
   ]
  },
  {
   "cell_type": "code",
   "execution_count": 11,
   "id": "f265b1f2",
   "metadata": {
    "execution": {
     "iopub.execute_input": "2023-12-22T13:14:33.893517Z",
     "iopub.status.busy": "2023-12-22T13:14:33.892604Z",
     "iopub.status.idle": "2023-12-22T13:14:33.898461Z",
     "shell.execute_reply": "2023-12-22T13:14:33.897731Z"
    },
    "papermill": {
     "duration": 0.017836,
     "end_time": "2023-12-22T13:14:33.900320",
     "exception": false,
     "start_time": "2023-12-22T13:14:33.882484",
     "status": "completed"
    },
    "tags": []
   },
   "outputs": [],
   "source": [
    "def get_columns(dataframe, Text, Sentiment, stopwords_file):\n",
    "\n",
    "  # Get only the columns we are interested in\n",
    "  dataset = dataframe[[Text, Sentiment]]\n",
    "\n",
    "  # Check the distribution of classes\n",
    "  distribution = dataset[Sentiment].value_counts()/dataset.shape[0]\n",
    "  print('Distribution of data in classes:')\n",
    "  print(distribution)\n",
    "\n",
    "  # Apply the pre-processing function to the dataframe containing the text (feature column)\n",
    "  dataset[Text] = dataset[Text].apply(preprocess_text, stopwords_file=stopwords_file)\n",
    "  print('\\nText done pre-processing!')\n",
    "\n",
    "  #Apply post-processing for removing empty rows after preprocessing\n",
    "  dataset= postprocessing(dataset, text_column='Text')\n",
    "  # Divide the X and y values\n",
    "  X = dataset[Text]\n",
    "  y = dataset[Sentiment]\n",
    "  sentiment_mapping = {'NEUTRAL': 0, 'POSITIVE': 1, 'NEGATIVE': 2}\n",
    "  y = y.map(sentiment_mapping)\n",
    "  # Print to see the input variables\n",
    "  #print(X[:2])\n",
    "\n",
    "  return X,y"
   ]
  },
  {
   "cell_type": "code",
   "execution_count": 12,
   "id": "5490d76d",
   "metadata": {
    "execution": {
     "iopub.execute_input": "2023-12-22T13:14:33.919400Z",
     "iopub.status.busy": "2023-12-22T13:14:33.919041Z",
     "iopub.status.idle": "2023-12-22T13:14:33.923628Z",
     "shell.execute_reply": "2023-12-22T13:14:33.922675Z"
    },
    "papermill": {
     "duration": 0.016753,
     "end_time": "2023-12-22T13:14:33.925686",
     "exception": false,
     "start_time": "2023-12-22T13:14:33.908933",
     "status": "completed"
    },
    "tags": []
   },
   "outputs": [],
   "source": [
    "def scale_data(data):\n",
    "  s=StandardScaler()\n",
    "  s.fit(data)\n",
    "  data=s.transform(data).astype(np.float32)\n",
    "  return data\n"
   ]
  },
  {
   "cell_type": "code",
   "execution_count": 13,
   "id": "944f3d55",
   "metadata": {
    "execution": {
     "iopub.execute_input": "2023-12-22T13:14:33.946455Z",
     "iopub.status.busy": "2023-12-22T13:14:33.945865Z",
     "iopub.status.idle": "2023-12-22T13:14:33.950630Z",
     "shell.execute_reply": "2023-12-22T13:14:33.949860Z"
    },
    "papermill": {
     "duration": 0.017555,
     "end_time": "2023-12-22T13:14:33.952903",
     "exception": false,
     "start_time": "2023-12-22T13:14:33.935348",
     "status": "completed"
    },
    "tags": []
   },
   "outputs": [],
   "source": [
    "# A function that creates tensors\n",
    "def create_tensors(x, y):\n",
    "\n",
    "  # Convert X datasets to tensors\n",
    "  X_train_tensor = torch.tensor(x, dtype=torch.float)\n",
    "\n",
    "  # Convert Y labels to tensors\n",
    "  Y_train_tensor = torch.squeeze(torch.from_numpy(y.to_numpy()).float())\n",
    "  Y_train_tensor=Y_train_tensor.type(torch.LongTensor)\n",
    "  print('Tensors ready!')\n",
    "\n",
    "  return X_train_tensor, Y_train_tensor"
   ]
  },
  {
   "cell_type": "code",
   "execution_count": 14,
   "id": "b13eaf6a",
   "metadata": {
    "execution": {
     "iopub.execute_input": "2023-12-22T13:14:33.972872Z",
     "iopub.status.busy": "2023-12-22T13:14:33.972284Z",
     "iopub.status.idle": "2023-12-22T13:14:33.979013Z",
     "shell.execute_reply": "2023-12-22T13:14:33.978400Z"
    },
    "papermill": {
     "duration": 0.019385,
     "end_time": "2023-12-22T13:14:33.981338",
     "exception": false,
     "start_time": "2023-12-22T13:14:33.961953",
     "status": "completed"
    },
    "tags": []
   },
   "outputs": [],
   "source": [
    "# A function that searches for each word in the dataset whether it exists in W2V's dictionary and loads the trained word vector,\n",
    "# otherwise initializes it with zero. At the end, it finds the mean vector of each tweet.\n",
    "def find_words_in_w2v(train_dataset, w2vmodel):\n",
    "  # Get the length of the dataset\n",
    "  matrix_length = len(train_dataset)\n",
    "  weights_matrix = np.zeros((matrix_length, 200))\n",
    "  words_found = 0\n",
    "  words = 0\n",
    "  mean_tweets = []\n",
    "\n",
    "  model= Word2Vec.load(w2vmodel)\n",
    "  w2v = dict(zip(model.wv.index_to_key, (model.wv.vectors.round(3))))\n",
    "  # Iterate over each row in the train_dataset\n",
    "  for i, row in enumerate(train_dataset):\n",
    "    # Split the words in the row\n",
    "    splited_words = str(row).split(' ')\n",
    "    weight_matrix = np.zeros((len(splited_words), 200))\n",
    "\n",
    "    # Iterate over each word in the split words\n",
    "    for j, word in enumerate(splited_words):\n",
    "      words += 1\n",
    "      # Check if the word is in the Word2Vec model's vocabulary\n",
    "      if word in w2v.keys():\n",
    "        # If the word is found, add its Word2Vec embedding to the weight_matrix\n",
    "        weight_matrix[j] = w2v[word]\n",
    "        words_found += 1\n",
    "      else:\n",
    "        # If the word is not found, initialize it with zero vectors\n",
    "        weight_matrix[j] = np.zeros(200)\n",
    "\n",
    "    # Calculate the mean of the Word2Vec embeddings for the words in the row\n",
    "    mean_tweets.append(np.mean(weight_matrix, axis=0))\n",
    "\n",
    "  # Convert the list of mean embeddings into a NumPy array\n",
    "  mean_tweets = np.array(mean_tweets)\n",
    "\n",
    "  return mean_tweets, words_found, matrix_length"
   ]
  },
  {
   "cell_type": "code",
   "execution_count": 15,
   "id": "0134b157",
   "metadata": {
    "execution": {
     "iopub.execute_input": "2023-12-22T13:14:34.001331Z",
     "iopub.status.busy": "2023-12-22T13:14:34.000706Z",
     "iopub.status.idle": "2023-12-22T13:14:34.004909Z",
     "shell.execute_reply": "2023-12-22T13:14:34.003910Z"
    },
    "papermill": {
     "duration": 0.016446,
     "end_time": "2023-12-22T13:14:34.006834",
     "exception": false,
     "start_time": "2023-12-22T13:14:33.990388",
     "status": "completed"
    },
    "tags": []
   },
   "outputs": [],
   "source": [
    "train_data='/kaggle/input/ys19-2023-assignment-2/train_set.csv'\n",
    "val_data='/kaggle/input/ys19-2023-assignment-2/valid_set.csv'\n",
    "stopwords_file = '/kaggle/input/stopwords/Greek-Stopwords (1).txt'\n",
    "w2v_model='/kaggle/input/w2v-200-model/w2v200_sg.model'"
   ]
  },
  {
   "cell_type": "markdown",
   "id": "b5d45696",
   "metadata": {
    "papermill": {
     "duration": 0.008332,
     "end_time": "2023-12-22T13:14:34.024144",
     "exception": false,
     "start_time": "2023-12-22T13:14:34.015812",
     "status": "completed"
    },
    "tags": []
   },
   "source": [
    "Optimize neural network architecture as well as the optimizer configuration with Optuna framework"
   ]
  },
  {
   "cell_type": "code",
   "execution_count": 16,
   "id": "a457f911",
   "metadata": {
    "execution": {
     "iopub.execute_input": "2023-12-22T13:14:34.043603Z",
     "iopub.status.busy": "2023-12-22T13:14:34.043063Z",
     "iopub.status.idle": "2023-12-22T13:17:22.402449Z",
     "shell.execute_reply": "2023-12-22T13:17:22.400491Z"
    },
    "papermill": {
     "duration": 168.372589,
     "end_time": "2023-12-22T13:17:22.405532",
     "exception": false,
     "start_time": "2023-12-22T13:14:34.032943",
     "status": "completed"
    },
    "tags": []
   },
   "outputs": [
    {
     "name": "stdout",
     "output_type": "stream",
     "text": [
      "------ Preparing the training dataset... ------\n",
      "New_ID                        36630\n",
      "Text                          36630\n",
      "Sentiment                         3\n",
      "Party                             6\n",
      "Number of duplicates in the dataframe: 0\n",
      "Dataframe checked for NaN values and duplicates!\n",
      "Distribution of data in classes:\n",
      "Sentiment\n",
      "NEUTRAL     0.333333\n",
      "NEGATIVE    0.333333\n",
      "POSITIVE    0.333333\n",
      "Name: count, dtype: float64\n"
     ]
    },
    {
     "name": "stderr",
     "output_type": "stream",
     "text": [
      "/tmp/ipykernel_19/3965600780.py:12: SettingWithCopyWarning: \n",
      "A value is trying to be set on a copy of a slice from a DataFrame.\n",
      "Try using .loc[row_indexer,col_indexer] = value instead\n",
      "\n",
      "See the caveats in the documentation: https://pandas.pydata.org/pandas-docs/stable/user_guide/indexing.html#returning-a-view-versus-a-copy\n",
      "  dataset[Text] = dataset[Text].apply(preprocess_text, stopwords_file=stopwords_file)\n",
      "/tmp/ipykernel_19/504576177.py:95: SettingWithCopyWarning: \n",
      "A value is trying to be set on a copy of a slice from a DataFrame\n",
      "\n",
      "See the caveats in the documentation: https://pandas.pydata.org/pandas-docs/stable/user_guide/indexing.html#returning-a-view-versus-a-copy\n",
      "  df.drop(df[empty_lists].index, inplace=True)\n"
     ]
    },
    {
     "name": "stdout",
     "output_type": "stream",
     "text": [
      "\n",
      "Text done pre-processing!\n",
      "\n",
      "Number of rows with empty lists: 17\n",
      "\n",
      "Shape after postprocessing: (36613, 2)\n",
      "\n",
      "------ Preparing the validation/testing dataset... ------\n",
      "New_ID                         5232\n",
      "Text                           5232\n",
      "Sentiment                         3\n",
      "Party                             6\n",
      "Number of duplicates in the dataframe: 0\n",
      "Dataframe checked for NaN values and duplicates!\n",
      "Distribution of data in classes:\n",
      "Sentiment\n",
      "POSITIVE    0.333333\n",
      "NEGATIVE    0.333333\n",
      "NEUTRAL     0.333333\n",
      "Name: count, dtype: float64\n"
     ]
    },
    {
     "name": "stderr",
     "output_type": "stream",
     "text": [
      "/tmp/ipykernel_19/3965600780.py:12: SettingWithCopyWarning: \n",
      "A value is trying to be set on a copy of a slice from a DataFrame.\n",
      "Try using .loc[row_indexer,col_indexer] = value instead\n",
      "\n",
      "See the caveats in the documentation: https://pandas.pydata.org/pandas-docs/stable/user_guide/indexing.html#returning-a-view-versus-a-copy\n",
      "  dataset[Text] = dataset[Text].apply(preprocess_text, stopwords_file=stopwords_file)\n",
      "/tmp/ipykernel_19/504576177.py:95: SettingWithCopyWarning: \n",
      "A value is trying to be set on a copy of a slice from a DataFrame\n",
      "\n",
      "See the caveats in the documentation: https://pandas.pydata.org/pandas-docs/stable/user_guide/indexing.html#returning-a-view-versus-a-copy\n",
      "  df.drop(df[empty_lists].index, inplace=True)\n"
     ]
    },
    {
     "name": "stdout",
     "output_type": "stream",
     "text": [
      "\n",
      "Text done pre-processing!\n",
      "\n",
      "Number of rows with empty lists: 2\n",
      "\n",
      "Shape after postprocessing: (5230, 2)\n",
      "Percentage of words found in W2V:  10.924589626635347\n"
     ]
    },
    {
     "name": "stderr",
     "output_type": "stream",
     "text": [
      "[I 2023-12-22 13:16:45,827] A new study created in memory with name: no-name-ddb4d3f8-6c36-4686-8365-8d7ed51c4dbd\n"
     ]
    },
    {
     "name": "stdout",
     "output_type": "stream",
     "text": [
      "Percentage of words found in W2V:  10.883938814531549\n",
      "Tensors ready!\n",
      "Tensors ready!\n"
     ]
    },
    {
     "name": "stderr",
     "output_type": "stream",
     "text": [
      "[I 2023-12-22 13:16:46,513] Trial 0 finished with value: 0.38125 and parameters: {'n_layers': 1, 'n_units_l0': 13, 'dropout_l0': 0.41066181583161565, 'optimizer': 'Adam', 'lr': 0.000311348672047718}. Best is trial 0 with value: 0.38125.\n",
      "[I 2023-12-22 13:16:47,117] Trial 1 finished with value: 0.38984375 and parameters: {'n_layers': 2, 'n_units_l0': 33, 'dropout_l0': 0.3390515605150439, 'n_units_l1': 54, 'dropout_l1': 0.29274185975268957, 'optimizer': 'RMSprop', 'lr': 0.00020789274189798266}. Best is trial 1 with value: 0.38984375.\n",
      "[I 2023-12-22 13:16:47,791] Trial 2 finished with value: 0.40703125 and parameters: {'n_layers': 2, 'n_units_l0': 121, 'dropout_l0': 0.3861793411437502, 'n_units_l1': 7, 'dropout_l1': 0.3154094652481801, 'optimizer': 'RMSprop', 'lr': 0.002467595064151609}. Best is trial 2 with value: 0.40703125.\n",
      "[I 2023-12-22 13:16:48,485] Trial 3 finished with value: 0.3296875 and parameters: {'n_layers': 2, 'n_units_l0': 105, 'dropout_l0': 0.4686332861645459, 'n_units_l1': 72, 'dropout_l1': 0.30721433493483463, 'optimizer': 'RMSprop', 'lr': 0.09325709183637663}. Best is trial 2 with value: 0.40703125.\n",
      "[I 2023-12-22 13:16:49,120] Trial 4 finished with value: 0.35703125 and parameters: {'n_layers': 2, 'n_units_l0': 81, 'dropout_l0': 0.3885600784382932, 'n_units_l1': 52, 'dropout_l1': 0.45426654492459867, 'optimizer': 'RMSprop', 'lr': 0.0075590668863603945}. Best is trial 2 with value: 0.40703125.\n",
      "[I 2023-12-22 13:16:49,193] Trial 5 pruned. \n",
      "[I 2023-12-22 13:16:49,703] Trial 6 finished with value: 0.3875 and parameters: {'n_layers': 1, 'n_units_l0': 29, 'dropout_l0': 0.36018356682784025, 'optimizer': 'SGD', 'lr': 0.05827316277148095}. Best is trial 2 with value: 0.40703125.\n",
      "[I 2023-12-22 13:16:49,810] Trial 7 pruned. \n",
      "[I 2023-12-22 13:16:49,868] Trial 8 pruned. \n",
      "[I 2023-12-22 13:16:49,939] Trial 9 pruned. \n",
      "[I 2023-12-22 13:16:50,231] Trial 10 pruned. \n",
      "[I 2023-12-22 13:16:50,435] Trial 11 pruned. \n",
      "[I 2023-12-22 13:16:51,103] Trial 12 finished with value: 0.38203125 and parameters: {'n_layers': 2, 'n_units_l0': 49, 'dropout_l0': 0.31375376965594404, 'n_units_l1': 38, 'dropout_l1': 0.2301921608400483, 'optimizer': 'RMSprop', 'lr': 0.0005880587844819166}. Best is trial 2 with value: 0.40703125.\n",
      "[I 2023-12-22 13:16:51,267] Trial 13 pruned. \n",
      "[I 2023-12-22 13:16:52,053] Trial 14 finished with value: 0.39296875 and parameters: {'n_layers': 2, 'n_units_l0': 128, 'dropout_l0': 0.2601665046592434, 'n_units_l1': 99, 'dropout_l1': 0.3006491675037142, 'optimizer': 'RMSprop', 'lr': 0.00012293415791948643}. Best is trial 2 with value: 0.40703125.\n",
      "[I 2023-12-22 13:16:52,228] Trial 15 pruned. \n",
      "[I 2023-12-22 13:16:52,829] Trial 16 pruned. \n",
      "[I 2023-12-22 13:16:53,724] Trial 17 finished with value: 0.39765625 and parameters: {'n_layers': 3, 'n_units_l0': 109, 'dropout_l0': 0.44266768362514486, 'n_units_l1': 120, 'dropout_l1': 0.3305013080425099, 'n_units_l2': 66, 'dropout_l2': 0.49074227295668904, 'optimizer': 'RMSprop', 'lr': 0.0005618613098473786}. Best is trial 2 with value: 0.40703125.\n",
      "[I 2023-12-22 13:16:53,858] Trial 18 pruned. \n",
      "[I 2023-12-22 13:16:54,663] Trial 19 finished with value: 0.3921875 and parameters: {'n_layers': 3, 'n_units_l0': 75, 'dropout_l0': 0.49463138265036277, 'n_units_l1': 22, 'dropout_l1': 0.3398994801039751, 'n_units_l2': 69, 'dropout_l2': 0.391064903097807, 'optimizer': 'Adam', 'lr': 0.003313606348852886}. Best is trial 2 with value: 0.40703125.\n",
      "[I 2023-12-22 13:16:55,484] Trial 20 finished with value: 0.375 and parameters: {'n_layers': 3, 'n_units_l0': 114, 'dropout_l0': 0.42114391335834733, 'n_units_l1': 66, 'dropout_l1': 0.2614806484103744, 'n_units_l2': 46, 'dropout_l2': 0.4237047136691798, 'optimizer': 'RMSprop', 'lr': 0.0032943909146061034}. Best is trial 2 with value: 0.40703125.\n",
      "[I 2023-12-22 13:16:55,667] Trial 21 pruned. \n",
      "[I 2023-12-22 13:16:56,403] Trial 22 finished with value: 0.4015625 and parameters: {'n_layers': 2, 'n_units_l0': 94, 'dropout_l0': 0.2692566762191427, 'n_units_l1': 105, 'dropout_l1': 0.20056093267668182, 'optimizer': 'RMSprop', 'lr': 0.0004816034139581839}. Best is trial 2 with value: 0.40703125.\n",
      "[I 2023-12-22 13:16:57,142] Trial 23 finished with value: 0.40625 and parameters: {'n_layers': 2, 'n_units_l0': 96, 'dropout_l0': 0.3723242228860951, 'n_units_l1': 113, 'dropout_l1': 0.2053305204752736, 'optimizer': 'RMSprop', 'lr': 0.00044126346261138036}. Best is trial 2 with value: 0.40703125.\n",
      "[I 2023-12-22 13:16:57,912] Trial 24 finished with value: 0.40390625 and parameters: {'n_layers': 2, 'n_units_l0': 96, 'dropout_l0': 0.37723961446113785, 'n_units_l1': 111, 'dropout_l1': 0.20995342630940575, 'optimizer': 'RMSprop', 'lr': 0.00033290913361862104}. Best is trial 2 with value: 0.40703125.\n",
      "[I 2023-12-22 13:16:58,055] Trial 25 pruned. \n",
      "[I 2023-12-22 13:16:58,234] Trial 26 pruned. \n",
      "[I 2023-12-22 13:16:58,347] Trial 27 pruned. \n",
      "[I 2023-12-22 13:16:58,429] Trial 28 pruned. \n",
      "[I 2023-12-22 13:16:58,595] Trial 29 pruned. \n",
      "[I 2023-12-22 13:16:58,788] Trial 30 pruned. \n",
      "[I 2023-12-22 13:16:59,601] Trial 31 finished with value: 0.38828125 and parameters: {'n_layers': 2, 'n_units_l0': 100, 'dropout_l0': 0.3781002883905803, 'n_units_l1': 111, 'dropout_l1': 0.2040448170007815, 'optimizer': 'RMSprop', 'lr': 0.0004435645174474593}. Best is trial 2 with value: 0.40703125.\n",
      "[I 2023-12-22 13:17:00,322] Trial 32 finished with value: 0.4015625 and parameters: {'n_layers': 2, 'n_units_l0': 93, 'dropout_l0': 0.3472516065419003, 'n_units_l1': 100, 'dropout_l1': 0.20354287212374167, 'optimizer': 'RMSprop', 'lr': 0.000875260952181011}. Best is trial 2 with value: 0.40703125.\n",
      "[I 2023-12-22 13:17:01,087] Trial 33 finished with value: 0.4 and parameters: {'n_layers': 2, 'n_units_l0': 65, 'dropout_l0': 0.40026921620440586, 'n_units_l1': 128, 'dropout_l1': 0.22890597637238513, 'optimizer': 'RMSprop', 'lr': 0.0002053154259555206}. Best is trial 2 with value: 0.40703125.\n",
      "[I 2023-12-22 13:17:01,850] Trial 34 finished with value: 0.37578125 and parameters: {'n_layers': 2, 'n_units_l0': 105, 'dropout_l0': 0.29259047274184513, 'n_units_l1': 90, 'dropout_l1': 0.2532781197548358, 'optimizer': 'RMSprop', 'lr': 0.0002905094560912869}. Best is trial 2 with value: 0.40703125.\n",
      "[I 2023-12-22 13:17:02,601] Trial 35 finished with value: 0.4046875 and parameters: {'n_layers': 2, 'n_units_l0': 81, 'dropout_l0': 0.3681155254813863, 'n_units_l1': 113, 'dropout_l1': 0.22256132009007798, 'optimizer': 'RMSprop', 'lr': 0.0003979749616320594}. Best is trial 2 with value: 0.40703125.\n",
      "[I 2023-12-22 13:17:02,718] Trial 36 pruned. \n",
      "[I 2023-12-22 13:17:03,446] Trial 37 finished with value: 0.40234375 and parameters: {'n_layers': 2, 'n_units_l0': 85, 'dropout_l0': 0.4250989260894985, 'n_units_l1': 54, 'dropout_l1': 0.27984294922952635, 'optimizer': 'RMSprop', 'lr': 0.0020578589354645054}. Best is trial 2 with value: 0.40703125.\n",
      "[I 2023-12-22 13:17:03,552] Trial 38 pruned. \n",
      "[I 2023-12-22 13:17:03,641] Trial 39 pruned. \n",
      "[I 2023-12-22 13:17:03,769] Trial 40 pruned. \n",
      "[I 2023-12-22 13:17:04,487] Trial 41 finished with value: 0.4109375 and parameters: {'n_layers': 2, 'n_units_l0': 85, 'dropout_l0': 0.4178496384651955, 'n_units_l1': 61, 'dropout_l1': 0.2851439646061237, 'optimizer': 'RMSprop', 'lr': 0.0017220819463157168}. Best is trial 41 with value: 0.4109375.\n",
      "[I 2023-12-22 13:17:04,600] Trial 42 pruned. \n",
      "[I 2023-12-22 13:17:05,345] Trial 43 finished with value: 0.40234375 and parameters: {'n_layers': 2, 'n_units_l0': 87, 'dropout_l0': 0.35539217894847386, 'n_units_l1': 80, 'dropout_l1': 0.2921069234674216, 'optimizer': 'RMSprop', 'lr': 0.001325726632912285}. Best is trial 41 with value: 0.4109375.\n",
      "[I 2023-12-22 13:17:06,113] Trial 44 finished with value: 0.36796875 and parameters: {'n_layers': 2, 'n_units_l0': 102, 'dropout_l0': 0.41527129316541583, 'n_units_l1': 95, 'dropout_l1': 0.2198921640815757, 'optimizer': 'RMSprop', 'lr': 0.0045833397883690286}. Best is trial 41 with value: 0.4109375.\n",
      "[I 2023-12-22 13:17:06,793] Trial 45 finished with value: 0.3828125 and parameters: {'n_layers': 2, 'n_units_l0': 72, 'dropout_l0': 0.45356637476201844, 'n_units_l1': 77, 'dropout_l1': 0.355145550533873, 'optimizer': 'RMSprop', 'lr': 0.002276865268948741}. Best is trial 41 with value: 0.4109375.\n",
      "[I 2023-12-22 13:17:06,910] Trial 46 pruned. \n",
      "[I 2023-12-22 13:17:07,022] Trial 47 pruned. \n",
      "[I 2023-12-22 13:17:07,710] Trial 48 finished with value: 0.3796875 and parameters: {'n_layers': 2, 'n_units_l0': 80, 'dropout_l0': 0.4764536883354146, 'n_units_l1': 16, 'dropout_l1': 0.3709742407976967, 'optimizer': 'RMSprop', 'lr': 0.0012040342216281899}. Best is trial 41 with value: 0.4109375.\n",
      "[I 2023-12-22 13:17:07,814] Trial 49 pruned. \n",
      "[I 2023-12-22 13:17:07,917] Trial 50 pruned. \n",
      "[I 2023-12-22 13:17:08,031] Trial 51 pruned. \n",
      "[I 2023-12-22 13:17:08,147] Trial 52 pruned. \n",
      "[I 2023-12-22 13:17:08,854] Trial 53 finished with value: 0.39453125 and parameters: {'n_layers': 2, 'n_units_l0': 94, 'dropout_l0': 0.4016386027943968, 'n_units_l1': 46, 'dropout_l1': 0.3207635340515978, 'optimizer': 'RMSprop', 'lr': 0.0016915573277262216}. Best is trial 41 with value: 0.4109375.\n",
      "[I 2023-12-22 13:17:09,052] Trial 54 pruned. \n",
      "[I 2023-12-22 13:17:09,165] Trial 55 pruned. \n",
      "[I 2023-12-22 13:17:09,916] Trial 56 finished with value: 0.39140625 and parameters: {'n_layers': 2, 'n_units_l0': 73, 'dropout_l0': 0.39069832460282394, 'n_units_l1': 87, 'dropout_l1': 0.21754991267035076, 'optimizer': 'RMSprop', 'lr': 0.0009586495948439049}. Best is trial 41 with value: 0.4109375.\n",
      "[I 2023-12-22 13:17:10,025] Trial 57 pruned. \n",
      "[I 2023-12-22 13:17:10,161] Trial 58 pruned. \n",
      "[I 2023-12-22 13:17:10,291] Trial 59 pruned. \n",
      "[I 2023-12-22 13:17:10,371] Trial 60 pruned. \n",
      "[I 2023-12-22 13:17:11,121] Trial 61 finished with value: 0.3859375 and parameters: {'n_layers': 2, 'n_units_l0': 87, 'dropout_l0': 0.3551550564508689, 'n_units_l1': 79, 'dropout_l1': 0.2982831537515619, 'optimizer': 'RMSprop', 'lr': 0.0012909069351013513}. Best is trial 41 with value: 0.4109375.\n",
      "[I 2023-12-22 13:17:11,240] Trial 62 pruned. \n",
      "[I 2023-12-22 13:17:11,434] Trial 63 pruned. \n",
      "[I 2023-12-22 13:17:12,215] Trial 64 finished with value: 0.38515625 and parameters: {'n_layers': 2, 'n_units_l0': 101, 'dropout_l0': 0.33635086351287435, 'n_units_l1': 127, 'dropout_l1': 0.26610210354771857, 'optimizer': 'RMSprop', 'lr': 0.00038197241383012583}. Best is trial 41 with value: 0.4109375.\n",
      "[I 2023-12-22 13:17:12,397] Trial 65 pruned. \n",
      "[I 2023-12-22 13:17:12,517] Trial 66 pruned. \n",
      "[I 2023-12-22 13:17:12,632] Trial 67 pruned. \n",
      "[I 2023-12-22 13:17:12,751] Trial 68 pruned. \n",
      "[I 2023-12-22 13:17:12,875] Trial 69 pruned. \n",
      "[I 2023-12-22 13:17:13,065] Trial 70 pruned. \n",
      "[I 2023-12-22 13:17:13,868] Trial 71 finished with value: 0.39609375 and parameters: {'n_layers': 2, 'n_units_l0': 95, 'dropout_l0': 0.22486799596639448, 'n_units_l1': 104, 'dropout_l1': 0.20789761734614925, 'optimizer': 'RMSprop', 'lr': 0.0004791927590283083}. Best is trial 41 with value: 0.4109375.\n",
      "[I 2023-12-22 13:17:14,628] Trial 72 finished with value: 0.40078125 and parameters: {'n_layers': 2, 'n_units_l0': 79, 'dropout_l0': 0.23327937944768434, 'n_units_l1': 101, 'dropout_l1': 0.22614990219327136, 'optimizer': 'RMSprop', 'lr': 0.0004715101388716899}. Best is trial 41 with value: 0.4109375.\n",
      "[I 2023-12-22 13:17:15,396] Trial 73 finished with value: 0.4078125 and parameters: {'n_layers': 2, 'n_units_l0': 89, 'dropout_l0': 0.3985698699056765, 'n_units_l1': 67, 'dropout_l1': 0.20432807345936743, 'optimizer': 'RMSprop', 'lr': 0.001436301318067409}. Best is trial 41 with value: 0.4109375.\n",
      "[I 2023-12-22 13:17:15,514] Trial 74 pruned. \n",
      "[I 2023-12-22 13:17:16,246] Trial 75 finished with value: 0.3875 and parameters: {'n_layers': 2, 'n_units_l0': 89, 'dropout_l0': 0.3940574495886687, 'n_units_l1': 61, 'dropout_l1': 0.23901524151729311, 'optimizer': 'RMSprop', 'lr': 0.0016515095750261931}. Best is trial 41 with value: 0.4109375.\n",
      "[I 2023-12-22 13:17:16,363] Trial 76 pruned. \n",
      "[I 2023-12-22 13:17:16,470] Trial 77 pruned. \n",
      "[I 2023-12-22 13:17:16,582] Trial 78 pruned. \n",
      "[I 2023-12-22 13:17:16,697] Trial 79 pruned. \n",
      "[I 2023-12-22 13:17:16,811] Trial 80 pruned. \n",
      "[I 2023-12-22 13:17:16,927] Trial 81 pruned. \n",
      "[I 2023-12-22 13:17:17,048] Trial 82 pruned. \n",
      "[I 2023-12-22 13:17:17,830] Trial 83 finished with value: 0.3796875 and parameters: {'n_layers': 2, 'n_units_l0': 80, 'dropout_l0': 0.27428706877543285, 'n_units_l1': 121, 'dropout_l1': 0.224474082561336, 'optimizer': 'RMSprop', 'lr': 0.00040357760366897957}. Best is trial 41 with value: 0.4109375.\n",
      "[I 2023-12-22 13:17:17,944] Trial 84 pruned. \n",
      "[I 2023-12-22 13:17:18,726] Trial 85 finished with value: 0.384375 and parameters: {'n_layers': 2, 'n_units_l0': 102, 'dropout_l0': 0.41943022988053075, 'n_units_l1': 94, 'dropout_l1': 0.23801260286810524, 'optimizer': 'RMSprop', 'lr': 0.00031696455354059995}. Best is trial 41 with value: 0.4109375.\n",
      "[I 2023-12-22 13:17:19,499] Trial 86 finished with value: 0.39375 and parameters: {'n_layers': 2, 'n_units_l0': 83, 'dropout_l0': 0.3876684148855536, 'n_units_l1': 89, 'dropout_l1': 0.21224406109422922, 'optimizer': 'Adam', 'lr': 0.002333459419857775}. Best is trial 41 with value: 0.4109375.\n",
      "[I 2023-12-22 13:17:19,610] Trial 87 pruned. \n",
      "[I 2023-12-22 13:17:19,722] Trial 88 pruned. \n",
      "[I 2023-12-22 13:17:19,836] Trial 89 pruned. \n",
      "[I 2023-12-22 13:17:19,943] Trial 90 pruned. \n",
      "[I 2023-12-22 13:17:20,749] Trial 91 finished with value: 0.3859375 and parameters: {'n_layers': 2, 'n_units_l0': 92, 'dropout_l0': 0.29875547286948667, 'n_units_l1': 105, 'dropout_l1': 0.20024161371666074, 'optimizer': 'RMSprop', 'lr': 0.0008512668076544571}. Best is trial 41 with value: 0.4109375.\n",
      "[I 2023-12-22 13:17:20,863] Trial 92 pruned. \n",
      "[I 2023-12-22 13:17:20,979] Trial 93 pruned. \n",
      "[I 2023-12-22 13:17:21,095] Trial 94 pruned. \n",
      "[I 2023-12-22 13:17:21,213] Trial 95 pruned. \n",
      "[I 2023-12-22 13:17:21,942] Trial 96 finished with value: 0.40859375 and parameters: {'n_layers': 2, 'n_units_l0': 105, 'dropout_l0': 0.372412206594813, 'n_units_l1': 55, 'dropout_l1': 0.3039532673338225, 'optimizer': 'RMSprop', 'lr': 0.000904908147661429}. Best is trial 41 with value: 0.4109375.\n",
      "[I 2023-12-22 13:17:22,061] Trial 97 pruned. \n",
      "[I 2023-12-22 13:17:22,185] Trial 98 pruned. \n",
      "[I 2023-12-22 13:17:22,382] Trial 99 pruned. \n"
     ]
    },
    {
     "name": "stdout",
     "output_type": "stream",
     "text": [
      "Study statistics: \n",
      "  Number of finished trials:  100\n",
      "  Number of pruned trials:  62\n",
      "  Number of complete trials:  38\n",
      "Best trial:\n",
      "  Value:  0.4109375\n",
      "  Params: \n",
      "    n_layers: 2\n",
      "    n_units_l0: 85\n",
      "    dropout_l0: 0.4178496384651955\n",
      "    n_units_l1: 61\n",
      "    dropout_l1: 0.2851439646061237\n",
      "    optimizer: RMSprop\n",
      "    lr: 0.0017220819463157168\n"
     ]
    }
   ],
   "source": [
    "def data_opt_process(csv_file_train, csv_file_val, stopwords_file,  w2v_model, Text, Sentiment):\n",
    "\n",
    "  # Prepare the training dataset\n",
    "  print('------ Preparing the training dataset... ------')\n",
    "  df_train = read_explore_dataframe(csv_file_train)\n",
    "  X,y = get_columns(df_train, Text, Sentiment, stopwords_file)\n",
    "\n",
    "  # Prepare the validation/testing dataset\n",
    "  print('\\n------ Preparing the validation/testing dataset... ------')\n",
    "  df_val = read_explore_dataframe(csv_file_val)\n",
    "  x1,y1 = get_columns(df_val, Text, Sentiment, stopwords_file)\n",
    "\n",
    "\n",
    "  w2vX_train, words_found, matrix_len = find_words_in_w2v(X,w2v_model)\n",
    "  print('Percentage of words found in W2V: ', words_found/matrix_len)\n",
    "\n",
    "  w2vX_val, words_found, matrix_len = find_words_in_w2v(x1, w2v_model)\n",
    "  print('Percentage of words found in W2V: ', words_found/matrix_len)\n",
    "  w2vX_train=scale_data(w2vX_train)\n",
    "  w2vX_val=scale_data(w2vX_val)\n",
    "  # Create tensors for the training and testing/validation sets\n",
    "  training_X_tensor, training_Y_tensor = create_tensors(w2vX_train,y)\n",
    "  val_X_tensor, val_Y_tensor = create_tensors(w2vX_val,y1)\n",
    "  return training_X_tensor, training_Y_tensor, val_X_tensor, val_Y_tensor\n",
    "\n",
    "x_train, y_train, x_val, y_val =data_opt_process(train_data,val_data,stopwords_file,w2v_model,'Text','Sentiment')\n",
    "\n",
    "DEVICE = torch.device(\"cuda\" if torch.cuda.is_available() else \"cpu\")\n",
    "BATCHSIZE = 128\n",
    "CLASSES = 3\n",
    "EPOCHS = 10\n",
    "N_TRAIN_EXAMPLES = BATCHSIZE * 30\n",
    "N_VALID_EXAMPLES = BATCHSIZE * 10\n",
    "\n",
    "\n",
    "def define_model(trial):\n",
    "    # We optimize the number of layers, hidden units and dropout ratio in each layer.\n",
    "    n_layers = trial.suggest_int(\"n_layers\", 1, 3)\n",
    "    layers = []\n",
    "\n",
    "    in_features = x_train.shape[1]\n",
    "    for i in range(n_layers):\n",
    "        out_features = trial.suggest_int(\"n_units_l{}\".format(i), 4, 128)\n",
    "        layers.append(nn.Linear(in_features, out_features))\n",
    "        layers.append(nn.ReLU())\n",
    "        p = trial.suggest_float(\"dropout_l{}\".format(i), 0.2, 0.5)\n",
    "        layers.append(nn.Dropout(p))\n",
    "\n",
    "        in_features = out_features\n",
    "    layers.append(nn.Linear(in_features, CLASSES))\n",
    "    layers.append(nn.LogSoftmax(dim=1))\n",
    "\n",
    "    return nn.Sequential(*layers)\n",
    "\n",
    "def get_tweets():\n",
    "    train_data = torch.utils.data.TensorDataset(x_train, y_train)\n",
    "    train_loader = torch.utils.data.DataLoader(train_data, batch_size=BATCHSIZE, shuffle=True)\n",
    "    val_data=torch.utils.data.TensorDataset(x_val, y_val)\n",
    "    valid_loader = torch.utils.data.DataLoader(val_data,batch_size=BATCHSIZE, shuffle=True)\n",
    "    return train_loader, valid_loader\n",
    "\n",
    "def objective(trial):\n",
    "    # Generate the model.\n",
    "    model = define_model(trial).to(DEVICE)\n",
    "    # Generate the optimizers.\n",
    "    optimizer_name = trial.suggest_categorical(\"optimizer\", [\"Adam\", \"RMSprop\", \"SGD\"])\n",
    "    lr = trial.suggest_float(\"lr\", 1e-4, 1e-1, log=True)\n",
    "    optimizer = getattr(optim, optimizer_name)(model.parameters(), lr=lr)\n",
    "\n",
    "    # Get the tweets train and validation data\n",
    "    train_loader, valid_loader = get_tweets()\n",
    "\n",
    "    # Training of the model.\n",
    "    for epoch in range(EPOCHS):\n",
    "        model.train()\n",
    "        for batch_idx, (data, target) in enumerate(train_loader):\n",
    "            # Limiting training data for faster epochs.\n",
    "            if batch_idx * BATCHSIZE >= N_TRAIN_EXAMPLES:\n",
    "                break\n",
    "\n",
    "            data, target = data.view(data.size(0), -1).to(DEVICE), target.to(DEVICE)\n",
    "\n",
    "            optimizer.zero_grad()\n",
    "            output = model(data)\n",
    "            loss = F.nll_loss(output, target)\n",
    "            loss.backward()\n",
    "            optimizer.step()\n",
    "\n",
    "        # Validation of the model.\n",
    "        model.eval()\n",
    "        correct = 0\n",
    "        with torch.no_grad():\n",
    "            for batch_idx, (data, target) in enumerate(valid_loader):\n",
    "                # Limiting validation data.\n",
    "                if batch_idx * BATCHSIZE >= N_VALID_EXAMPLES:\n",
    "                    break\n",
    "                data, target = data.view(data.size(0), -1).to(DEVICE), target.to(DEVICE)\n",
    "                output = model(data)\n",
    "                # Get the index of the max log-probability.\n",
    "                pred = output.argmax(dim=1, keepdim=True)\n",
    "                correct += pred.eq(target.view_as(pred)).sum().item()\n",
    "\n",
    "        accuracy = correct / min(len(valid_loader.dataset), N_VALID_EXAMPLES)\n",
    "\n",
    "        trial.report(accuracy, epoch)\n",
    "\n",
    "        # Handle pruning based on the intermediate value.\n",
    "        if trial.should_prune():\n",
    "            raise optuna.exceptions.TrialPruned()\n",
    "\n",
    "    return accuracy\n",
    "\n",
    "study = optuna.create_study(direction=\"maximize\")\n",
    "study.optimize(objective, n_trials=100, timeout=600)\n",
    "\n",
    "pruned_trials = study.get_trials(deepcopy=False, states=[TrialState.PRUNED])\n",
    "complete_trials = study.get_trials(deepcopy=False, states=[TrialState.COMPLETE])\n",
    "print(\"Study statistics: \")\n",
    "print(\"  Number of finished trials: \", len(study.trials))\n",
    "print(\"  Number of pruned trials: \", len(pruned_trials))\n",
    "print(\"  Number of complete trials: \", len(complete_trials))\n",
    "print(\"Best trial:\")\n",
    "trial = study.best_trial\n",
    "print(\"  Value: \", trial.value)\n",
    "print(\"  Params: \")\n",
    "for key, value in trial.params.items():\n",
    "  print(\"    {}: {}\".format(key, value))"
   ]
  },
  {
   "cell_type": "code",
   "execution_count": 17,
   "id": "ceca7669",
   "metadata": {
    "execution": {
     "iopub.execute_input": "2023-12-22T13:17:22.437804Z",
     "iopub.status.busy": "2023-12-22T13:17:22.437351Z",
     "iopub.status.idle": "2023-12-22T13:17:22.445973Z",
     "shell.execute_reply": "2023-12-22T13:17:22.444863Z"
    },
    "papermill": {
     "duration": 0.027156,
     "end_time": "2023-12-22T13:17:22.447962",
     "exception": false,
     "start_time": "2023-12-22T13:17:22.420806",
     "status": "completed"
    },
    "tags": []
   },
   "outputs": [],
   "source": [
    "class Feed_forward_Neural_Net_Model(nn.Module):\n",
    "    def __init__(self, input_dim, hidden_dim_1,output_dim):\n",
    "        super(Feed_forward_Neural_Net_Model, self).__init__()\n",
    "        self.layer_1 = nn.Linear(input_dim, hidden_dim_1)\n",
    "        torch.nn.init.kaiming_uniform_(self.layer_1.weight, a=0, mode='fan_in', nonlinearity='leaky_relu')\n",
    "        self.rrelu_1 = nn.RReLU()\n",
    "        self.dropout = nn.Dropout(0.4)\n",
    "        self.batch = nn.BatchNorm1d(hidden_dim_1)\n",
    "\n",
    "        self.layer_2 = nn.Linear(hidden_dim_1, output_dim)\n",
    "\n",
    "\n",
    "    def forward(self, x):\n",
    "      out = self.layer_1(x)\n",
    "      out = self.rrelu_1(out)\n",
    "      out = self.dropout(out)\n",
    "      out = self.batch(out)\n",
    "\n",
    "      out = self.layer_2(out)\n",
    "\n",
    "      return torch.nn.functional.log_softmax(out,dim = 1)\n",
    "    \n",
    "    "
   ]
  },
  {
   "cell_type": "markdown",
   "id": "62651e0f",
   "metadata": {
    "papermill": {
     "duration": 0.01487,
     "end_time": "2023-12-22T13:17:22.478015",
     "exception": false,
     "start_time": "2023-12-22T13:17:22.463145",
     "status": "completed"
    },
    "tags": []
   },
   "source": [
    "For Self normalizing Neural Nets with SELU"
   ]
  },
  {
   "cell_type": "code",
   "execution_count": 18,
   "id": "10e82524",
   "metadata": {
    "execution": {
     "iopub.execute_input": "2023-12-22T13:17:22.569448Z",
     "iopub.status.busy": "2023-12-22T13:17:22.568976Z",
     "iopub.status.idle": "2023-12-22T13:17:22.574749Z",
     "shell.execute_reply": "2023-12-22T13:17:22.573323Z"
    },
    "papermill": {
     "duration": 0.025039,
     "end_time": "2023-12-22T13:17:22.576736",
     "exception": false,
     "start_time": "2023-12-22T13:17:22.551697",
     "status": "completed"
    },
    "tags": []
   },
   "outputs": [],
   "source": [
    "#class SELU(nn.Module):\n",
    "\n",
    "#    def __init__(self):\n",
    "#        super(SELU, self).__init__()\n",
    "\n",
    "#        self.alpha = 1.6732632423543772848170429916717\n",
    "#        self.lambda_ = 1.0507009873554804934193349852946\n",
    "\n",
    "#    def forward(self, x):\n",
    "#        return self.lambda_ * (torch.maximum(torch.tensor([0], device=x.device), x\n",
    "                                   #          ) + torch.minimum(torch.tensor([0], device=x.device),\n",
    "                                    #                           self.alpha * (torch.exp(x) - 1)))\n",
    "\n",
    "#class SNN(nn.Module):\n",
    "\n",
    "#    def __init__(self, input_dim=200, hidden_dim_1=95, output_dim=3):\n",
    "#        super(SNN, self).__init__()\n",
    "#        self.layer_1 = nn.Linear(input_dim, hidden_dim_1)\n",
    "#        self.selu_1 = SELU()\n",
    "#        self.dropout = nn.Dropout(0.2)\n",
    "\n",
    "#        self.layer_2 = nn.Linear(hidden_dim_1, output_dim)\n",
    "\n",
    "\n",
    "#    def forward(self, x):\n",
    "#      out = self.layer_1(x)\n",
    "#      out = self.selu_1(out)\n",
    "#      out = self.dropout(out)\n",
    "\n",
    "#      out = self.layer_2(out)\n",
    "\n",
    "\n",
    "#      return torch.sigmoid(out)\n",
    "\n",
    "#LeCun weight initialisation\n",
    "#def _init_weights(module, init_gain=1.):\n",
    " #   if isinstance(module, nn.Linear):\n",
    "\n",
    "#        module.weight.data.normal_(mean=0.0, std=np.sqrt(init_gain / module.weight.data.shape[0]))\n",
    "#        if module.bias is not None:\n",
    "#            module.bias.data.zero_()"
   ]
  },
  {
   "cell_type": "code",
   "execution_count": 19,
   "id": "5ac4ca3e",
   "metadata": {
    "execution": {
     "iopub.execute_input": "2023-12-22T13:17:22.609936Z",
     "iopub.status.busy": "2023-12-22T13:17:22.609588Z",
     "iopub.status.idle": "2023-12-22T13:17:22.617751Z",
     "shell.execute_reply": "2023-12-22T13:17:22.616419Z"
    },
    "papermill": {
     "duration": 0.027974,
     "end_time": "2023-12-22T13:17:22.620125",
     "exception": false,
     "start_time": "2023-12-22T13:17:22.592151",
     "status": "completed"
    },
    "tags": []
   },
   "outputs": [],
   "source": [
    "# A function that trains a neural network model\n",
    "\n",
    "def train_neural_network_model(epochs,model,dataloader,optimizer,loss_func,scheduler):\n",
    "\n",
    "  model.train()\n",
    "\n",
    "  current_loss = 0\n",
    "  correct = 0\n",
    "  total = 0\n",
    "  scheduler.step()\n",
    "  # Training part\n",
    "  for data, target in tqdm(dataloader):\n",
    "    # Forward pass to get output\n",
    "    output = model.forward(data)\n",
    "    # Calculate the loss\n",
    "    loss_train = loss_func(output, target.long())\n",
    "    # Clearing up accumulated gradients\n",
    "    optimizer.zero_grad()\n",
    "    # Getting gradients\n",
    "    loss_train.backward()\n",
    "    # Updating parameters\n",
    "    optimizer.step()\n",
    "    # Count the training loss\n",
    "    current_loss += loss_train.item()\n",
    "\n",
    "    _, predicted = output.max(1)\n",
    "    total += target.size(0)\n",
    "    correct += predicted.eq(target).sum().item()\n",
    "  \n",
    "\n",
    "  # Count the loss for each epoch\n",
    "  train_loss= current_loss/len(dataloader)\n",
    "  # Count the accuracy for each epoch\n",
    "  train_accu =100.*correct/total\n",
    "  print('Train Loss: {} | Accuracy: {}'.format(train_loss,train_accu))\n",
    "\n",
    "  return train_loss,train_accu"
   ]
  },
  {
   "cell_type": "code",
   "execution_count": 20,
   "id": "fb86212e",
   "metadata": {
    "execution": {
     "iopub.execute_input": "2023-12-22T13:17:22.652960Z",
     "iopub.status.busy": "2023-12-22T13:17:22.652634Z",
     "iopub.status.idle": "2023-12-22T13:17:22.664195Z",
     "shell.execute_reply": "2023-12-22T13:17:22.662858Z"
    },
    "papermill": {
     "duration": 0.031247,
     "end_time": "2023-12-22T13:17:22.666838",
     "exception": false,
     "start_time": "2023-12-22T13:17:22.635591",
     "status": "completed"
    },
    "tags": []
   },
   "outputs": [],
   "source": [
    "def save_ckp(state, is_best, checkpoint_path, best_model_path):\n",
    "    \"\"\"\n",
    "    state: checkpoint we want to save\n",
    "    is_best: is this the best checkpoint; min validation loss\n",
    "    checkpoint_path: path to save checkpoint\n",
    "    best_model_path: path to save best model\n",
    "    \"\"\"\n",
    "    f_path = checkpoint_path\n",
    "    # save checkpoint data to the path given, checkpoint_path\n",
    "    torch.save(state, f_path)\n",
    "    # if it is a best model, min validation loss\n",
    "    if is_best:\n",
    "        best_fpath = best_model_path\n",
    "        # copy that checkpoint file to best path given, best_model_path\n",
    "        shutil.copyfile(f_path, best_fpath)\n",
    "\n",
    "def load_ckp(checkpoint_fpath, model, optimizer):\n",
    "    \"\"\"\n",
    "    checkpoint_path: path to save checkpoint\n",
    "    model: model that we want to load checkpoint parameters into\n",
    "    optimizer: optimizer we defined in previous training\n",
    "    \"\"\"\n",
    "    # load check point\n",
    "    checkpoint = torch.load(checkpoint_fpath)\n",
    "    # initialize state_dict from checkpoint to model\n",
    "    model.load_state_dict(checkpoint['state_dict'])\n",
    "    # initialize optimizer from checkpoint to optimizer\n",
    "    optimizer.load_state_dict(checkpoint['optimizer'])\n",
    "    # initialize valid_loss_min from checkpoint to valid_loss_min\n",
    "    valid_loss_min = checkpoint['valid_loss_min']\n",
    "    # return model, optimizer, epoch value, min validation loss\n",
    "    return model, optimizer, checkpoint['epoch'], valid_loss_min\n",
    "\n",
    "# A function that evaluates a trained neural network model\n",
    "def evaluate_neural_network_model(epoch,model,dataloader,optimizer,loss_func, valid_loss_min,checkpoint_path, best_model_path):\n",
    "\n",
    "  model.eval()\n",
    "\n",
    "  current_loss = 0\n",
    "  correct = 0\n",
    "  total = 0\n",
    "\n",
    "  # Evaluation part\n",
    "  with torch.no_grad():\n",
    "    for data_val, labels in tqdm(dataloader):\n",
    "      # Forward pass to get output\n",
    "      outputs = model.forward(data_val)\n",
    "      # Calculate the loss\n",
    "      loss_val = loss_func(outputs, labels.long())\n",
    "      # Count the validation loss\n",
    "      current_loss += loss_val.item()\n",
    "\n",
    "      _, predicted = outputs.max(1)\n",
    "      total += labels.size(0)\n",
    "      correct += predicted.eq(labels).sum().item()\n",
    "\n",
    "  # Count the loss for each epoch\n",
    "  val_loss = current_loss/len(dataloader)\n",
    "    # create checkpoint variable and add important data\n",
    "  checkpoint = {\n",
    "            'epoch': epoch + 1,\n",
    "            'valid_loss_min': val_loss,\n",
    "            'state_dict': model.state_dict(),\n",
    "            'optimizer': optimizer.state_dict(),\n",
    "        }\n",
    "  # save checkpoint\n",
    "  save_ckp(checkpoint, False, checkpoint_path, best_model_path)\n",
    "  ## TODO: save the model if validation loss has decreased\n",
    "  if val_loss <= valid_loss_min:\n",
    "    print('Validation loss decreased ({:.6f} --> {:.6f}).  Saving model ...'.format(valid_loss_min,val_loss))\n",
    "    # save checkpoint as best model\n",
    "    save_ckp(checkpoint, True, checkpoint_path, best_model_path)\n",
    "    valid_loss_min = val_loss\n",
    "    \n",
    "  # Count the accuracy for each epoch\n",
    "  val_accu = 100.*correct/total\n",
    "  print('Validation Loss: {} | Accuracy: {}'.format(val_loss, val_accu))\n",
    "\n",
    "  return val_loss, val_accu"
   ]
  },
  {
   "cell_type": "code",
   "execution_count": 21,
   "id": "c5c2b5e1",
   "metadata": {
    "execution": {
     "iopub.execute_input": "2023-12-22T13:17:22.700071Z",
     "iopub.status.busy": "2023-12-22T13:17:22.699699Z",
     "iopub.status.idle": "2023-12-22T13:17:22.707004Z",
     "shell.execute_reply": "2023-12-22T13:17:22.705280Z"
    },
    "papermill": {
     "duration": 0.026683,
     "end_time": "2023-12-22T13:17:22.709395",
     "exception": false,
     "start_time": "2023-12-22T13:17:22.682712",
     "status": "completed"
    },
    "tags": []
   },
   "outputs": [],
   "source": [
    "# A function that calculates all the metrics using the validation/test set\n",
    "def calculate_metrics(y_true, y_pred):\n",
    "\n",
    "  _,pred_label = torch.max(y_pred, dim = 1)\n",
    "\n",
    "  print('\\nCalculating metrics...')\n",
    "  # Calculate accuracy of model\n",
    "  correct = (pred_label == y_true).float()\n",
    "  acc = correct.sum() / len(correct)\n",
    "\n",
    "  # Calculate general precision, recall, F1 score of model and of each class\n",
    "  precision, recall, fscore, support = score(y_true,pred_label)\n",
    "  print('Accuracy: {}'.format(acc))\n",
    "  print('Precision: {}'.format(precision))\n",
    "  print('Recall: {}'.format(recall))\n",
    "  print('F1 score: {}'.format(fscore))\n",
    "  print('Support: {}'.format(support))\n",
    "\n",
    "  # Print classification report\n",
    "  print(classification_report(y_true,pred_label))"
   ]
  },
  {
   "cell_type": "code",
   "execution_count": 22,
   "id": "4c55d30e",
   "metadata": {
    "execution": {
     "iopub.execute_input": "2023-12-22T13:17:22.742643Z",
     "iopub.status.busy": "2023-12-22T13:17:22.742170Z",
     "iopub.status.idle": "2023-12-22T13:17:22.753976Z",
     "shell.execute_reply": "2023-12-22T13:17:22.753010Z"
    },
    "papermill": {
     "duration": 0.031698,
     "end_time": "2023-12-22T13:17:22.756642",
     "exception": false,
     "start_time": "2023-12-22T13:17:22.724944",
     "status": "completed"
    },
    "tags": []
   },
   "outputs": [],
   "source": [
    "def plot_roc_auc(y_true, y_score, n_classes):\n",
    "    # Compute ROC curve and ROC area for each class\n",
    "    fpr = dict()\n",
    "    tpr = dict()\n",
    "    roc_auc = dict()\n",
    "    for i in range(n_classes):\n",
    "        fpr[i], tpr[i], _ = roc_curve(y_true[:, i], y_score[:, i])\n",
    "        roc_auc[i] = auc(fpr[i], tpr[i])\n",
    "\n",
    "    # Compute micro-average ROC curve and ROC area\n",
    "    fpr['micro'], tpr['micro'], _ = roc_curve(y_true.ravel(), y_score.ravel())\n",
    "    roc_auc['micro'] = auc(fpr['micro'], tpr['micro'])\n",
    "\n",
    "    # First aggregate all false positive rates\n",
    "    all_fpr = np.unique(np.concatenate([fpr[i] for i in range(n_classes)]))\n",
    "\n",
    "    # Then interpolate all ROC curves at this points\n",
    "    mean_tpr = np.zeros_like(all_fpr)\n",
    "    for i in range(n_classes):\n",
    "        mean_tpr += interp(all_fpr, fpr[i], tpr[i])\n",
    "\n",
    "    # Finally average it and compute AUC\n",
    "    mean_tpr /= n_classes\n",
    "\n",
    "    fpr['macro'] = all_fpr\n",
    "    tpr['macro'] = mean_tpr\n",
    "    roc_auc['macro'] = auc(fpr['macro'], tpr['macro'])\n",
    "    lw = 2\n",
    "\n",
    "    # Plot all ROC curves\n",
    "    plt.figure()\n",
    "    plt.plot(\n",
    "        fpr['micro'],\n",
    "        tpr['micro'],\n",
    "        label='micro-average ROC curve (area = {0:0.2f})'.format(roc_auc['micro']),\n",
    "        color='deeppink',\n",
    "        linestyle=':',\n",
    "        linewidth=4,)\n",
    "\n",
    "    plt.plot(\n",
    "        fpr['macro'],\n",
    "        tpr['macro'],\n",
    "        label='macro-average ROC curve (area = {0:0.2f})'.format(roc_auc['macro']),\n",
    "        color='navy',\n",
    "        linestyle=':',\n",
    "        linewidth=4,)\n",
    "\n",
    "    colors = cycle(['aqua', 'darkorange', 'cornflowerblue'])\n",
    "    for i, color in zip(range(n_classes), colors):\n",
    "        plt.plot(\n",
    "            fpr[i],\n",
    "            tpr[i],\n",
    "            color=color,\n",
    "            lw=lw,\n",
    "            label='ROC curve of class {0} (area = {1:0.2f})'.format(i, roc_auc[i]),)\n",
    "\n",
    "    plt.plot([0, 1], [0, 1], \"k--\", lw=lw)\n",
    "    plt.xlim([0.0, 1.0])\n",
    "    plt.ylim([0.0, 1.05])\n",
    "    plt.xlabel('False Positive Rate')\n",
    "    plt.ylabel('True Positive Rate')\n",
    "    plt.title('Roc curve for all classes')\n",
    "    plt.legend(loc='lower right')\n",
    "    plt.show()"
   ]
  },
  {
   "cell_type": "code",
   "execution_count": 23,
   "id": "d5d7129d",
   "metadata": {
    "execution": {
     "iopub.execute_input": "2023-12-22T13:17:22.789497Z",
     "iopub.status.busy": "2023-12-22T13:17:22.789113Z",
     "iopub.status.idle": "2023-12-22T13:17:22.797088Z",
     "shell.execute_reply": "2023-12-22T13:17:22.796032Z"
    },
    "papermill": {
     "duration": 0.027146,
     "end_time": "2023-12-22T13:17:22.799361",
     "exception": false,
     "start_time": "2023-12-22T13:17:22.772215",
     "status": "completed"
    },
    "tags": []
   },
   "outputs": [],
   "source": [
    "def plot_lr_schedule(learning_rate,epochs, steps_per_epoch, model, optimizer, scheduler):\n",
    "  learning_rate = 4e-3\n",
    "  epochs = 50\n",
    "  steps_per_epoch = 8\n",
    "  learning_rates = []\n",
    "\n",
    "  for i in range(epochs*steps_per_epoch):\n",
    "    optimizer.step()\n",
    "    learning_rates.append(optimizer.param_groups[0][\"lr\"])\n",
    "    scheduler.step()\n",
    "\n",
    "# Visualize learinig rate scheduler\n",
    "  fig, ax = plt.subplots(1,1, figsize=(10,5))\n",
    "  ax.plot(range(epochs*steps_per_epoch),\n",
    "        learning_rates,\n",
    "        marker='o',\n",
    "        color='black')\n",
    "  ax.set_xlim([0, epochs*steps_per_epoch])\n",
    "  ax.set_ylim([0, learning_rate + 0.0001])\n",
    "  ax.set_xlabel('Steps')\n",
    "  ax.set_ylabel('Learning Rate')\n",
    "  ax.spines['top'].set_visible(False)\n",
    "  ax.spines['right'].set_visible(False)\n",
    "  ax.xaxis.set_major_locator(MultipleLocator(steps_per_epoch))\n",
    "  ax.xaxis.set_minor_locator(MultipleLocator(1))\n",
    "  plt.show()"
   ]
  },
  {
   "cell_type": "code",
   "execution_count": 24,
   "id": "2c5b0535",
   "metadata": {
    "execution": {
     "iopub.execute_input": "2023-12-22T13:17:22.833526Z",
     "iopub.status.busy": "2023-12-22T13:17:22.832872Z",
     "iopub.status.idle": "2023-12-22T13:17:22.847939Z",
     "shell.execute_reply": "2023-12-22T13:17:22.846880Z"
    },
    "papermill": {
     "duration": 0.035051,
     "end_time": "2023-12-22T13:17:22.850521",
     "exception": false,
     "start_time": "2023-12-22T13:17:22.815470",
     "status": "completed"
    },
    "tags": []
   },
   "outputs": [],
   "source": [
    "def data_train_model(csv_file_train, csv_file_val, stopwords_file,  w2v_model, Text, Sentiment):\n",
    "\n",
    "  # Prepare the training dataset\n",
    "  print('------ Preparing the training dataset... ------')\n",
    "  df_train = read_explore_dataframe(csv_file_train)\n",
    "  X,y = get_columns(df_train, Text, Sentiment, stopwords_file)\n",
    "\n",
    "  # Prepare the validation/testing dataset\n",
    "  print('\\n------ Preparing the validation/testing dataset... ------')\n",
    "  df_val = read_explore_dataframe(csv_file_val)\n",
    "  x1,y1 = get_columns(df_val, Text, Sentiment, stopwords_file)\n",
    "\n",
    "  w2vX_train, words_found, matrix_len = find_words_in_w2v(X,w2v_model)\n",
    "  print('Percentage of words found in W2V: ', words_found/matrix_len)\n",
    "\n",
    "  w2vX_val, words_found, matrix_len = find_words_in_w2v(x1,w2v_model)\n",
    "  print('Percentage of words found in W2V: ', words_found/matrix_len)\n",
    "  w2vX_train=scale_data(w2vX_train)\n",
    "  w2vX_val=scale_data(w2vX_val)\n",
    "  # Create tensors for the training and testing/validation sets\n",
    "  training_X_tensor, training_Y_tensor = create_tensors(w2vX_train,y)\n",
    "  val_X_tensor, val_Y_tensor = create_tensors(w2vX_val,y1)\n",
    "  # Initialize dataloader for train set\n",
    "  train_data = torch.utils.data.TensorDataset(training_X_tensor, training_Y_tensor)\n",
    "  dataloader_train = torch.utils.data.DataLoader(train_data, batch_size = 128, shuffle = True)\n",
    "\n",
    "  # Initialize dataloader for validation set\n",
    "  val_data = torch.utils.data.TensorDataset(val_X_tensor, val_Y_tensor)\n",
    "  dataloader_val = torch.utils.data.DataLoader(val_data, batch_size = 128, shuffle = False)\n",
    "\n",
    "  # Define dimensions of each layer and number of epochs\n",
    "  input_layer = training_X_tensor.shape[1]\n",
    "  hidden_layer_1 = 43\n",
    "  output_layer = 3\n",
    "  num_epochs = 50\n",
    "  model = Feed_forward_Neural_Net_Model(input_layer, hidden_layer_1, output_layer)\n",
    "  print(model)\n",
    "  # Define loss function used for a multi-class classification or segmentation using categorical labels.\n",
    "  loss_function = nn.CrossEntropyLoss()\n",
    "\n",
    "  # Define as optimizer RMSProp\n",
    "  optimizer = optim.RMSprop(model.parameters(), lr = 0.005)\n",
    "  scheduler = lr_scheduler.ExponentialLR(optimizer, gamma=0.5)\n",
    "  \n",
    "    \n",
    "# Initialize empty lists to store the values of loss and accuracy for each epoch\n",
    "\n",
    "  train_acc = []\n",
    "  train_loss = []\n",
    "  eval_acc = []\n",
    "  eval_loss = []\n",
    "  checkpoint_pth='current_checkpoint.pt'\n",
    "  best_model_path = 'rrelu_model.pt'\n",
    "  \n",
    "  print('\\n------ Training on the training set and evaluating on the validation/testing set.... ------')\n",
    "\n",
    "  for epoch in range(1,num_epochs+1):\n",
    "    print('\\nEpoch: %d'%epoch)\n",
    "\n",
    "    # Train the model using the train_neural_network function\n",
    "    train_losses, train_accuracy = train_neural_network_model(epoch,\n",
    "                                                              model,\n",
    "                                                              dataloader_train,\n",
    "                                                              optimizer,\n",
    "                                                              loss_function,\n",
    "                                                              scheduler)\n",
    "\n",
    "    # Evaluate the model using the evaluate_neural_network_model function\n",
    "    evaluation_losses, evaluation_accuracy = evaluate_neural_network_model(epoch,\n",
    "                                                                           model,\n",
    "                                                                           dataloader_val,\n",
    "                                                                           optimizer,\n",
    "                                                                           loss_function,\n",
    "                                                                           np.Inf,\n",
    "                                                                           checkpoint_pth,\n",
    "                                                                           best_model_path)\n",
    "    \n",
    "    \n",
    "    # Fill the empty lists with the values of accuracy and loss for training and evaluation sets\n",
    "    train_acc.append(train_accuracy)\n",
    "    train_loss.append(train_losses)\n",
    "    eval_acc.append(evaluation_accuracy)\n",
    "    eval_loss.append(evaluation_losses)\n",
    "    \n",
    " # Plot the loss vs epochs\n",
    "  plt.plot(train_loss,'-o')\n",
    "  plt.plot(eval_loss,'-o')\n",
    "  plt.title('Train vs Validation/Test Model Loss')\n",
    "  plt.ylabel('Loss')\n",
    "  plt.xlabel('Epoch')\n",
    "  plt.legend(['Train', 'Validation/Test'])\n",
    "  plt.show()\n",
    "\n",
    "  # Plot the accuracy vs epochs\n",
    "  plt.plot(train_acc,'-o')\n",
    "  plt.plot(eval_acc,'-o')\n",
    "  plt.title('Train vs Validation/Test Model Accuracy')\n",
    "  plt.ylabel('Accuracy')\n",
    "  plt.xlabel('Epoch')\n",
    "  plt.legend(['Train', 'Validation/Test'])\n",
    "  plt.show()\n",
    "\n",
    "  # Make predictions\n",
    "  test_prediction = model(val_X_tensor)\n",
    "\n",
    "  # Calculate all the metrics on the validation/test set\n",
    "  test_metrics = calculate_metrics(val_Y_tensor,test_prediction)\n",
    "  print(test_metrics)\n",
    "\n",
    "  # Convert tensors to numpy arrays\n",
    "  y_score = test_prediction.detach().numpy()\n",
    "  y_true = val_Y_tensor.detach().numpy()\n",
    "\n",
    "  # Label binarization and store the number of classes\n",
    "  y_test = label_binarize(y_true, classes=[0, 1, 2])\n",
    "  n_classes = y_test.shape[1]\n",
    "\n",
    "  plot_roc_auc(y_test, y_score, n_classes)\n",
    "  return model"
   ]
  },
  {
   "cell_type": "code",
   "execution_count": 25,
   "id": "c677dd78",
   "metadata": {
    "execution": {
     "iopub.execute_input": "2023-12-22T13:17:22.883393Z",
     "iopub.status.busy": "2023-12-22T13:17:22.883054Z",
     "iopub.status.idle": "2023-12-22T13:20:13.153605Z",
     "shell.execute_reply": "2023-12-22T13:20:13.152410Z"
    },
    "papermill": {
     "duration": 170.289402,
     "end_time": "2023-12-22T13:20:13.155578",
     "exception": false,
     "start_time": "2023-12-22T13:17:22.866176",
     "status": "completed"
    },
    "tags": []
   },
   "outputs": [
    {
     "name": "stdout",
     "output_type": "stream",
     "text": [
      "------ Preparing the training dataset... ------\n",
      "New_ID                        36630\n",
      "Text                          36630\n",
      "Sentiment                         3\n",
      "Party                             6\n",
      "Number of duplicates in the dataframe: 0\n",
      "Dataframe checked for NaN values and duplicates!\n",
      "Distribution of data in classes:\n",
      "Sentiment\n",
      "NEUTRAL     0.333333\n",
      "NEGATIVE    0.333333\n",
      "POSITIVE    0.333333\n",
      "Name: count, dtype: float64\n"
     ]
    },
    {
     "name": "stderr",
     "output_type": "stream",
     "text": [
      "/tmp/ipykernel_19/3965600780.py:12: SettingWithCopyWarning: \n",
      "A value is trying to be set on a copy of a slice from a DataFrame.\n",
      "Try using .loc[row_indexer,col_indexer] = value instead\n",
      "\n",
      "See the caveats in the documentation: https://pandas.pydata.org/pandas-docs/stable/user_guide/indexing.html#returning-a-view-versus-a-copy\n",
      "  dataset[Text] = dataset[Text].apply(preprocess_text, stopwords_file=stopwords_file)\n",
      "/tmp/ipykernel_19/504576177.py:95: SettingWithCopyWarning: \n",
      "A value is trying to be set on a copy of a slice from a DataFrame\n",
      "\n",
      "See the caveats in the documentation: https://pandas.pydata.org/pandas-docs/stable/user_guide/indexing.html#returning-a-view-versus-a-copy\n",
      "  df.drop(df[empty_lists].index, inplace=True)\n"
     ]
    },
    {
     "name": "stdout",
     "output_type": "stream",
     "text": [
      "\n",
      "Text done pre-processing!\n",
      "\n",
      "Number of rows with empty lists: 17\n",
      "\n",
      "Shape after postprocessing: (36613, 2)\n",
      "\n",
      "------ Preparing the validation/testing dataset... ------\n",
      "New_ID                         5232\n",
      "Text                           5232\n",
      "Sentiment                         3\n",
      "Party                             6\n",
      "Number of duplicates in the dataframe: 0\n",
      "Dataframe checked for NaN values and duplicates!\n",
      "Distribution of data in classes:\n",
      "Sentiment\n",
      "POSITIVE    0.333333\n",
      "NEGATIVE    0.333333\n",
      "NEUTRAL     0.333333\n",
      "Name: count, dtype: float64\n"
     ]
    },
    {
     "name": "stderr",
     "output_type": "stream",
     "text": [
      "/tmp/ipykernel_19/3965600780.py:12: SettingWithCopyWarning: \n",
      "A value is trying to be set on a copy of a slice from a DataFrame.\n",
      "Try using .loc[row_indexer,col_indexer] = value instead\n",
      "\n",
      "See the caveats in the documentation: https://pandas.pydata.org/pandas-docs/stable/user_guide/indexing.html#returning-a-view-versus-a-copy\n",
      "  dataset[Text] = dataset[Text].apply(preprocess_text, stopwords_file=stopwords_file)\n",
      "/tmp/ipykernel_19/504576177.py:95: SettingWithCopyWarning: \n",
      "A value is trying to be set on a copy of a slice from a DataFrame\n",
      "\n",
      "See the caveats in the documentation: https://pandas.pydata.org/pandas-docs/stable/user_guide/indexing.html#returning-a-view-versus-a-copy\n",
      "  df.drop(df[empty_lists].index, inplace=True)\n"
     ]
    },
    {
     "name": "stdout",
     "output_type": "stream",
     "text": [
      "\n",
      "Text done pre-processing!\n",
      "\n",
      "Number of rows with empty lists: 2\n",
      "\n",
      "Shape after postprocessing: (5230, 2)\n",
      "Percentage of words found in W2V:  10.924589626635347\n"
     ]
    },
    {
     "name": "stderr",
     "output_type": "stream",
     "text": [
      "/opt/conda/lib/python3.10/site-packages/torch/optim/lr_scheduler.py:139: UserWarning: Detected call of `lr_scheduler.step()` before `optimizer.step()`. In PyTorch 1.1.0 and later, you should call them in the opposite order: `optimizer.step()` before `lr_scheduler.step()`.  Failure to do this will result in PyTorch skipping the first value of the learning rate schedule. See more details at https://pytorch.org/docs/stable/optim.html#how-to-adjust-learning-rate\n",
      "  warnings.warn(\"Detected call of `lr_scheduler.step()` before `optimizer.step()`. \"\n"
     ]
    },
    {
     "name": "stdout",
     "output_type": "stream",
     "text": [
      "Percentage of words found in W2V:  10.883938814531549\n",
      "Tensors ready!\n",
      "Tensors ready!\n",
      "Feed_forward_Neural_Net_Model(\n",
      "  (layer_1): Linear(in_features=200, out_features=43, bias=True)\n",
      "  (rrelu_1): RReLU(lower=0.125, upper=0.3333333333333333)\n",
      "  (dropout): Dropout(p=0.4, inplace=False)\n",
      "  (batch): BatchNorm1d(43, eps=1e-05, momentum=0.1, affine=True, track_running_stats=True)\n",
      "  (layer_2): Linear(in_features=43, out_features=3, bias=True)\n",
      ")\n",
      "\n",
      "------ Training on the training set and evaluating on the validation/testing set.... ------\n",
      "\n",
      "Epoch: 1\n"
     ]
    },
    {
     "name": "stderr",
     "output_type": "stream",
     "text": [
      "100%|██████████| 287/287 [00:00<00:00, 529.55it/s]\n"
     ]
    },
    {
     "name": "stdout",
     "output_type": "stream",
     "text": [
      "Train Loss: 1.0925469078668735 | Accuracy: 37.628711113538905\n"
     ]
    },
    {
     "name": "stderr",
     "output_type": "stream",
     "text": [
      "100%|██████████| 41/41 [00:00<00:00, 1001.86it/s]\n"
     ]
    },
    {
     "name": "stdout",
     "output_type": "stream",
     "text": [
      "Validation loss decreased (inf --> 1.083347).  Saving model ...\n",
      "Validation Loss: 1.0833472624057676 | Accuracy: 38.68068833652008\n",
      "\n",
      "Epoch: 2\n"
     ]
    },
    {
     "name": "stderr",
     "output_type": "stream",
     "text": [
      "100%|██████████| 287/287 [00:00<00:00, 526.97it/s]\n"
     ]
    },
    {
     "name": "stdout",
     "output_type": "stream",
     "text": [
      "Train Loss: 1.0829709178479292 | Accuracy: 38.75126321252014\n"
     ]
    },
    {
     "name": "stderr",
     "output_type": "stream",
     "text": [
      "100%|██████████| 41/41 [00:00<00:00, 984.03it/s]\n"
     ]
    },
    {
     "name": "stdout",
     "output_type": "stream",
     "text": [
      "Validation loss decreased (inf --> 1.078877).  Saving model ...\n",
      "Validation Loss: 1.0788771757265416 | Accuracy: 39.36902485659656\n",
      "\n",
      "Epoch: 3\n"
     ]
    },
    {
     "name": "stderr",
     "output_type": "stream",
     "text": [
      "100%|██████████| 287/287 [00:00<00:00, 487.63it/s]\n"
     ]
    },
    {
     "name": "stdout",
     "output_type": "stream",
     "text": [
      "Train Loss: 1.0799312209418426 | Accuracy: 39.491437467566165\n"
     ]
    },
    {
     "name": "stderr",
     "output_type": "stream",
     "text": [
      "100%|██████████| 41/41 [00:00<00:00, 990.65it/s]\n"
     ]
    },
    {
     "name": "stdout",
     "output_type": "stream",
     "text": [
      "Validation loss decreased (inf --> 1.076869).  Saving model ...\n",
      "Validation Loss: 1.076869365645618 | Accuracy: 39.50286806883365\n",
      "\n",
      "Epoch: 4\n"
     ]
    },
    {
     "name": "stderr",
     "output_type": "stream",
     "text": [
      "100%|██████████| 287/287 [00:00<00:00, 465.83it/s]\n"
     ]
    },
    {
     "name": "stdout",
     "output_type": "stream",
     "text": [
      "Train Loss: 1.0786445738961887 | Accuracy: 39.3412176003059\n"
     ]
    },
    {
     "name": "stderr",
     "output_type": "stream",
     "text": [
      "100%|██████████| 41/41 [00:00<00:00, 768.40it/s]\n"
     ]
    },
    {
     "name": "stdout",
     "output_type": "stream",
     "text": [
      "Validation loss decreased (inf --> 1.075856).  Saving model ...\n",
      "Validation Loss: 1.0758563221954718 | Accuracy: 39.77055449330784\n",
      "\n",
      "Epoch: 5\n"
     ]
    },
    {
     "name": "stderr",
     "output_type": "stream",
     "text": [
      "100%|██████████| 287/287 [00:00<00:00, 521.42it/s]\n"
     ]
    },
    {
     "name": "stdout",
     "output_type": "stream",
     "text": [
      "Train Loss: 1.0777143750871931 | Accuracy: 39.41769316909294\n"
     ]
    },
    {
     "name": "stderr",
     "output_type": "stream",
     "text": [
      "100%|██████████| 41/41 [00:00<00:00, 962.84it/s]\n"
     ]
    },
    {
     "name": "stdout",
     "output_type": "stream",
     "text": [
      "Validation loss decreased (inf --> 1.076251).  Saving model ...\n",
      "Validation Loss: 1.0762505007953178 | Accuracy: 39.94263862332696\n",
      "\n",
      "Epoch: 6\n"
     ]
    },
    {
     "name": "stderr",
     "output_type": "stream",
     "text": [
      "100%|██████████| 287/287 [00:00<00:00, 519.56it/s]\n"
     ]
    },
    {
     "name": "stdout",
     "output_type": "stream",
     "text": [
      "Train Loss: 1.077671409483986 | Accuracy: 39.64165733482643\n"
     ]
    },
    {
     "name": "stderr",
     "output_type": "stream",
     "text": [
      "100%|██████████| 41/41 [00:00<00:00, 1019.01it/s]\n"
     ]
    },
    {
     "name": "stdout",
     "output_type": "stream",
     "text": [
      "Validation loss decreased (inf --> 1.075542).  Saving model ...\n",
      "Validation Loss: 1.0755420487101486 | Accuracy: 39.67495219885277\n",
      "\n",
      "Epoch: 7\n"
     ]
    },
    {
     "name": "stderr",
     "output_type": "stream",
     "text": [
      "100%|██████████| 287/287 [00:00<00:00, 491.66it/s]\n"
     ]
    },
    {
     "name": "stdout",
     "output_type": "stream",
     "text": [
      "Train Loss: 1.0759687049879014 | Accuracy: 39.9830661240543\n"
     ]
    },
    {
     "name": "stderr",
     "output_type": "stream",
     "text": [
      "100%|██████████| 41/41 [00:00<00:00, 975.47it/s]\n"
     ]
    },
    {
     "name": "stdout",
     "output_type": "stream",
     "text": [
      "Validation loss decreased (inf --> 1.075870).  Saving model ...\n",
      "Validation Loss: 1.075869850996064 | Accuracy: 40.133843212237096\n",
      "\n",
      "Epoch: 8\n"
     ]
    },
    {
     "name": "stderr",
     "output_type": "stream",
     "text": [
      "100%|██████████| 287/287 [00:00<00:00, 501.28it/s]\n"
     ]
    },
    {
     "name": "stdout",
     "output_type": "stream",
     "text": [
      "Train Loss: 1.077591193262293 | Accuracy: 39.6498511457679\n"
     ]
    },
    {
     "name": "stderr",
     "output_type": "stream",
     "text": [
      "100%|██████████| 41/41 [00:00<00:00, 897.49it/s]\n"
     ]
    },
    {
     "name": "stdout",
     "output_type": "stream",
     "text": [
      "Validation loss decreased (inf --> 1.075768).  Saving model ...\n",
      "Validation Loss: 1.075767778768772 | Accuracy: 40.038240917782026\n",
      "\n",
      "Epoch: 9\n"
     ]
    },
    {
     "name": "stderr",
     "output_type": "stream",
     "text": [
      "100%|██████████| 287/287 [00:00<00:00, 518.07it/s]\n"
     ]
    },
    {
     "name": "stdout",
     "output_type": "stream",
     "text": [
      "Train Loss: 1.076682320039862 | Accuracy: 39.805533553655806\n"
     ]
    },
    {
     "name": "stderr",
     "output_type": "stream",
     "text": [
      "100%|██████████| 41/41 [00:00<00:00, 898.81it/s]\n"
     ]
    },
    {
     "name": "stdout",
     "output_type": "stream",
     "text": [
      "Validation loss decreased (inf --> 1.075382).  Saving model ...\n",
      "Validation Loss: 1.0753819797097184 | Accuracy: 39.88527724665392\n",
      "\n",
      "Epoch: 10\n"
     ]
    },
    {
     "name": "stderr",
     "output_type": "stream",
     "text": [
      "100%|██████████| 287/287 [00:00<00:00, 503.23it/s]\n"
     ]
    },
    {
     "name": "stdout",
     "output_type": "stream",
     "text": [
      "Train Loss: 1.0766155300240068 | Accuracy: 39.83011498648021\n"
     ]
    },
    {
     "name": "stderr",
     "output_type": "stream",
     "text": [
      "100%|██████████| 41/41 [00:00<00:00, 976.29it/s]\n"
     ]
    },
    {
     "name": "stdout",
     "output_type": "stream",
     "text": [
      "Validation loss decreased (inf --> 1.075603).  Saving model ...\n",
      "Validation Loss: 1.075602807649752 | Accuracy: 39.5793499043977\n",
      "\n",
      "Epoch: 11\n"
     ]
    },
    {
     "name": "stderr",
     "output_type": "stream",
     "text": [
      "100%|██████████| 287/287 [00:00<00:00, 504.50it/s]\n"
     ]
    },
    {
     "name": "stdout",
     "output_type": "stream",
     "text": [
      "Train Loss: 1.0774915770786564 | Accuracy: 39.775489580203754\n"
     ]
    },
    {
     "name": "stderr",
     "output_type": "stream",
     "text": [
      "100%|██████████| 41/41 [00:00<00:00, 951.64it/s]\n"
     ]
    },
    {
     "name": "stdout",
     "output_type": "stream",
     "text": [
      "Validation loss decreased (inf --> 1.076372).  Saving model ...\n",
      "Validation Loss: 1.0763721873120564 | Accuracy: 39.94263862332696\n",
      "\n",
      "Epoch: 12\n"
     ]
    },
    {
     "name": "stderr",
     "output_type": "stream",
     "text": [
      "100%|██████████| 287/287 [00:00<00:00, 526.70it/s]\n"
     ]
    },
    {
     "name": "stdout",
     "output_type": "stream",
     "text": [
      "Train Loss: 1.0771202264347144 | Accuracy: 39.71540163329965\n"
     ]
    },
    {
     "name": "stderr",
     "output_type": "stream",
     "text": [
      "100%|██████████| 41/41 [00:00<00:00, 983.76it/s]\n"
     ]
    },
    {
     "name": "stdout",
     "output_type": "stream",
     "text": [
      "Validation loss decreased (inf --> 1.075759).  Saving model ...\n",
      "Validation Loss: 1.0757587421231154 | Accuracy: 40.038240917782026\n",
      "\n",
      "Epoch: 13\n"
     ]
    },
    {
     "name": "stderr",
     "output_type": "stream",
     "text": [
      "100%|██████████| 287/287 [00:00<00:00, 519.08it/s]\n"
     ]
    },
    {
     "name": "stdout",
     "output_type": "stream",
     "text": [
      "Train Loss: 1.077556737623979 | Accuracy: 39.63619479419878\n"
     ]
    },
    {
     "name": "stderr",
     "output_type": "stream",
     "text": [
      "100%|██████████| 41/41 [00:00<00:00, 912.28it/s]\n"
     ]
    },
    {
     "name": "stdout",
     "output_type": "stream",
     "text": [
      "Validation loss decreased (inf --> 1.075694).  Saving model ...\n",
      "Validation Loss: 1.0756940260166075 | Accuracy: 39.88527724665392\n",
      "\n",
      "Epoch: 14\n"
     ]
    },
    {
     "name": "stderr",
     "output_type": "stream",
     "text": [
      "100%|██████████| 287/287 [00:00<00:00, 523.96it/s]\n"
     ]
    },
    {
     "name": "stdout",
     "output_type": "stream",
     "text": [
      "Train Loss: 1.076749858540525 | Accuracy: 39.647119875454074\n"
     ]
    },
    {
     "name": "stderr",
     "output_type": "stream",
     "text": [
      "100%|██████████| 41/41 [00:00<00:00, 948.81it/s]\n"
     ]
    },
    {
     "name": "stdout",
     "output_type": "stream",
     "text": [
      "Validation loss decreased (inf --> 1.075515).  Saving model ...\n",
      "Validation Loss: 1.0755147759507342 | Accuracy: 39.617590822179736\n",
      "\n",
      "Epoch: 15\n"
     ]
    },
    {
     "name": "stderr",
     "output_type": "stream",
     "text": [
      "100%|██████████| 287/287 [00:00<00:00, 510.16it/s]\n"
     ]
    },
    {
     "name": "stdout",
     "output_type": "stream",
     "text": [
      "Train Loss: 1.075878236767307 | Accuracy: 39.775489580203754\n"
     ]
    },
    {
     "name": "stderr",
     "output_type": "stream",
     "text": [
      "100%|██████████| 41/41 [00:00<00:00, 899.80it/s]\n"
     ]
    },
    {
     "name": "stdout",
     "output_type": "stream",
     "text": [
      "Validation loss decreased (inf --> 1.075435).  Saving model ...\n",
      "Validation Loss: 1.0754351819433816 | Accuracy: 39.7131931166348\n",
      "\n",
      "Epoch: 16\n"
     ]
    },
    {
     "name": "stderr",
     "output_type": "stream",
     "text": [
      "100%|██████████| 287/287 [00:00<00:00, 507.67it/s]\n"
     ]
    },
    {
     "name": "stdout",
     "output_type": "stream",
     "text": [
      "Train Loss: 1.0779037749725766 | Accuracy: 39.49416873787999\n"
     ]
    },
    {
     "name": "stderr",
     "output_type": "stream",
     "text": [
      "100%|██████████| 41/41 [00:00<00:00, 973.00it/s]\n"
     ]
    },
    {
     "name": "stdout",
     "output_type": "stream",
     "text": [
      "Validation loss decreased (inf --> 1.075543).  Saving model ...\n",
      "Validation Loss: 1.0755431535767346 | Accuracy: 40.07648183556405\n",
      "\n",
      "Epoch: 17\n"
     ]
    },
    {
     "name": "stderr",
     "output_type": "stream",
     "text": [
      "100%|██████████| 287/287 [00:00<00:00, 502.79it/s]\n"
     ]
    },
    {
     "name": "stdout",
     "output_type": "stream",
     "text": [
      "Train Loss: 1.076504154072406 | Accuracy: 39.92024690683637\n"
     ]
    },
    {
     "name": "stderr",
     "output_type": "stream",
     "text": [
      "100%|██████████| 41/41 [00:00<00:00, 996.53it/s]\n"
     ]
    },
    {
     "name": "stdout",
     "output_type": "stream",
     "text": [
      "Validation loss decreased (inf --> 1.075540).  Saving model ...\n",
      "Validation Loss: 1.075540164621865 | Accuracy: 40.133843212237096\n",
      "\n",
      "Epoch: 18\n"
     ]
    },
    {
     "name": "stderr",
     "output_type": "stream",
     "text": [
      "100%|██████████| 287/287 [00:00<00:00, 503.43it/s]\n"
     ]
    },
    {
     "name": "stdout",
     "output_type": "stream",
     "text": [
      "Train Loss: 1.0768049149563088 | Accuracy: 40.03496026001693\n"
     ]
    },
    {
     "name": "stderr",
     "output_type": "stream",
     "text": [
      "100%|██████████| 41/41 [00:00<00:00, 978.00it/s]\n"
     ]
    },
    {
     "name": "stdout",
     "output_type": "stream",
     "text": [
      "Validation loss decreased (inf --> 1.075536).  Saving model ...\n",
      "Validation Loss: 1.0755361580267184 | Accuracy: 40.038240917782026\n",
      "\n",
      "Epoch: 19\n"
     ]
    },
    {
     "name": "stderr",
     "output_type": "stream",
     "text": [
      "100%|██████████| 287/287 [00:00<00:00, 520.51it/s]\n"
     ]
    },
    {
     "name": "stdout",
     "output_type": "stream",
     "text": [
      "Train Loss: 1.076176976077648 | Accuracy: 39.6744325785923\n"
     ]
    },
    {
     "name": "stderr",
     "output_type": "stream",
     "text": [
      "100%|██████████| 41/41 [00:00<00:00, 846.08it/s]\n"
     ]
    },
    {
     "name": "stdout",
     "output_type": "stream",
     "text": [
      "Validation loss decreased (inf --> 1.075396).  Saving model ...\n",
      "Validation Loss: 1.0753963226225318 | Accuracy: 39.5793499043977\n",
      "\n",
      "Epoch: 20\n"
     ]
    },
    {
     "name": "stderr",
     "output_type": "stream",
     "text": [
      "100%|██████████| 287/287 [00:00<00:00, 479.47it/s]\n"
     ]
    },
    {
     "name": "stdout",
     "output_type": "stream",
     "text": [
      "Train Loss: 1.0762750466941542 | Accuracy: 39.97214104279901\n"
     ]
    },
    {
     "name": "stderr",
     "output_type": "stream",
     "text": [
      "100%|██████████| 41/41 [00:00<00:00, 949.45it/s]\n"
     ]
    },
    {
     "name": "stdout",
     "output_type": "stream",
     "text": [
      "Validation loss decreased (inf --> 1.075643).  Saving model ...\n",
      "Validation Loss: 1.0756425537714145 | Accuracy: 39.94263862332696\n",
      "\n",
      "Epoch: 21\n"
     ]
    },
    {
     "name": "stderr",
     "output_type": "stream",
     "text": [
      "100%|██████████| 287/287 [00:00<00:00, 535.24it/s]\n"
     ]
    },
    {
     "name": "stdout",
     "output_type": "stream",
     "text": [
      "Train Loss: 1.076845318598199 | Accuracy: 39.70720782235818\n"
     ]
    },
    {
     "name": "stderr",
     "output_type": "stream",
     "text": [
      "100%|██████████| 41/41 [00:00<00:00, 1030.96it/s]\n"
     ]
    },
    {
     "name": "stdout",
     "output_type": "stream",
     "text": [
      "Validation loss decreased (inf --> 1.076098).  Saving model ...\n",
      "Validation Loss: 1.0760981658609903 | Accuracy: 39.98087954110898\n",
      "\n",
      "Epoch: 22\n"
     ]
    },
    {
     "name": "stderr",
     "output_type": "stream",
     "text": [
      "100%|██████████| 287/287 [00:00<00:00, 497.77it/s]\n"
     ]
    },
    {
     "name": "stdout",
     "output_type": "stream",
     "text": [
      "Train Loss: 1.0767080086033518 | Accuracy: 39.75910195832081\n"
     ]
    },
    {
     "name": "stderr",
     "output_type": "stream",
     "text": [
      "100%|██████████| 41/41 [00:00<00:00, 961.95it/s]\n"
     ]
    },
    {
     "name": "stdout",
     "output_type": "stream",
     "text": [
      "Validation loss decreased (inf --> 1.075626).  Saving model ...\n",
      "Validation Loss: 1.0756259604198177 | Accuracy: 39.80879541108987\n",
      "\n",
      "Epoch: 23\n"
     ]
    },
    {
     "name": "stderr",
     "output_type": "stream",
     "text": [
      "100%|██████████| 287/287 [00:00<00:00, 508.22it/s]\n"
     ]
    },
    {
     "name": "stdout",
     "output_type": "stream",
     "text": [
      "Train Loss: 1.07706171128808 | Accuracy: 39.6744325785923\n"
     ]
    },
    {
     "name": "stderr",
     "output_type": "stream",
     "text": [
      "100%|██████████| 41/41 [00:00<00:00, 940.26it/s]\n"
     ]
    },
    {
     "name": "stdout",
     "output_type": "stream",
     "text": [
      "Validation loss decreased (inf --> 1.075799).  Saving model ...\n",
      "Validation Loss: 1.075798627806873 | Accuracy: 39.94263862332696\n",
      "\n",
      "Epoch: 24\n"
     ]
    },
    {
     "name": "stderr",
     "output_type": "stream",
     "text": [
      "100%|██████████| 287/287 [00:00<00:00, 524.96it/s]\n"
     ]
    },
    {
     "name": "stdout",
     "output_type": "stream",
     "text": [
      "Train Loss: 1.0767525602716186 | Accuracy: 39.576106847294675\n"
     ]
    },
    {
     "name": "stderr",
     "output_type": "stream",
     "text": [
      "100%|██████████| 41/41 [00:00<00:00, 949.20it/s]\n"
     ]
    },
    {
     "name": "stdout",
     "output_type": "stream",
     "text": [
      "Validation loss decreased (inf --> 1.075745).  Saving model ...\n",
      "Validation Loss: 1.0757454401109277 | Accuracy: 39.961759082217974\n",
      "\n",
      "Epoch: 25\n"
     ]
    },
    {
     "name": "stderr",
     "output_type": "stream",
     "text": [
      "100%|██████████| 287/287 [00:00<00:00, 566.08it/s]\n"
     ]
    },
    {
     "name": "stdout",
     "output_type": "stream",
     "text": [
      "Train Loss: 1.0764018047977408 | Accuracy: 39.797339742714335\n"
     ]
    },
    {
     "name": "stderr",
     "output_type": "stream",
     "text": [
      "100%|██████████| 41/41 [00:00<00:00, 931.02it/s]\n"
     ]
    },
    {
     "name": "stdout",
     "output_type": "stream",
     "text": [
      "Validation loss decreased (inf --> 1.075847).  Saving model ...\n",
      "Validation Loss: 1.0758470762066725 | Accuracy: 39.98087954110898\n",
      "\n",
      "Epoch: 26\n"
     ]
    },
    {
     "name": "stderr",
     "output_type": "stream",
     "text": [
      "100%|██████████| 287/287 [00:00<00:00, 528.46it/s]\n"
     ]
    },
    {
     "name": "stdout",
     "output_type": "stream",
     "text": [
      "Train Loss: 1.0763639639478944 | Accuracy: 40.02676644907547\n"
     ]
    },
    {
     "name": "stderr",
     "output_type": "stream",
     "text": [
      "100%|██████████| 41/41 [00:00<00:00, 965.74it/s]\n"
     ]
    },
    {
     "name": "stdout",
     "output_type": "stream",
     "text": [
      "Validation loss decreased (inf --> 1.075485).  Saving model ...\n",
      "Validation Loss: 1.0754846421683706 | Accuracy: 39.88527724665392\n",
      "\n",
      "Epoch: 27\n"
     ]
    },
    {
     "name": "stderr",
     "output_type": "stream",
     "text": [
      "100%|██████████| 287/287 [00:00<00:00, 523.49it/s]\n"
     ]
    },
    {
     "name": "stdout",
     "output_type": "stream",
     "text": [
      "Train Loss: 1.076234002977298 | Accuracy: 39.75363941769317\n"
     ]
    },
    {
     "name": "stderr",
     "output_type": "stream",
     "text": [
      "100%|██████████| 41/41 [00:00<00:00, 1020.84it/s]\n"
     ]
    },
    {
     "name": "stdout",
     "output_type": "stream",
     "text": [
      "Validation loss decreased (inf --> 1.075593).  Saving model ...\n",
      "Validation Loss: 1.0755926457847036 | Accuracy: 40.09560229445507\n",
      "\n",
      "Epoch: 28\n"
     ]
    },
    {
     "name": "stderr",
     "output_type": "stream",
     "text": [
      "100%|██████████| 287/287 [00:00<00:00, 535.46it/s]\n"
     ]
    },
    {
     "name": "stdout",
     "output_type": "stream",
     "text": [
      "Train Loss: 1.0762198370092837 | Accuracy: 39.84923387867697\n"
     ]
    },
    {
     "name": "stderr",
     "output_type": "stream",
     "text": [
      "100%|██████████| 41/41 [00:00<00:00, 962.53it/s]\n"
     ]
    },
    {
     "name": "stdout",
     "output_type": "stream",
     "text": [
      "Validation loss decreased (inf --> 1.075604).  Saving model ...\n",
      "Validation Loss: 1.0756038747182706 | Accuracy: 40.152963671128106\n",
      "\n",
      "Epoch: 29\n"
     ]
    },
    {
     "name": "stderr",
     "output_type": "stream",
     "text": [
      "100%|██████████| 287/287 [00:00<00:00, 427.88it/s]\n"
     ]
    },
    {
     "name": "stdout",
     "output_type": "stream",
     "text": [
      "Train Loss: 1.0765530697560062 | Accuracy: 39.93936579903313\n"
     ]
    },
    {
     "name": "stderr",
     "output_type": "stream",
     "text": [
      "100%|██████████| 41/41 [00:00<00:00, 723.00it/s]\n"
     ]
    },
    {
     "name": "stdout",
     "output_type": "stream",
     "text": [
      "Validation loss decreased (inf --> 1.075659).  Saving model ...\n",
      "Validation Loss: 1.0756592837775625 | Accuracy: 39.732313575525815\n",
      "\n",
      "Epoch: 30\n"
     ]
    },
    {
     "name": "stderr",
     "output_type": "stream",
     "text": [
      "100%|██████████| 287/287 [00:00<00:00, 467.32it/s]\n"
     ]
    },
    {
     "name": "stdout",
     "output_type": "stream",
     "text": [
      "Train Loss: 1.0767873546387676 | Accuracy: 39.562450495725564\n"
     ]
    },
    {
     "name": "stderr",
     "output_type": "stream",
     "text": [
      "100%|██████████| 41/41 [00:00<00:00, 984.03it/s]\n"
     ]
    },
    {
     "name": "stdout",
     "output_type": "stream",
     "text": [
      "Validation loss decreased (inf --> 1.075593).  Saving model ...\n",
      "Validation Loss: 1.0755930266729214 | Accuracy: 39.98087954110898\n",
      "\n",
      "Epoch: 31\n"
     ]
    },
    {
     "name": "stderr",
     "output_type": "stream",
     "text": [
      "100%|██████████| 287/287 [00:00<00:00, 496.04it/s]\n"
     ]
    },
    {
     "name": "stdout",
     "output_type": "stream",
     "text": [
      "Train Loss: 1.0763323730707999 | Accuracy: 39.73725179581023\n"
     ]
    },
    {
     "name": "stderr",
     "output_type": "stream",
     "text": [
      "100%|██████████| 41/41 [00:00<00:00, 789.54it/s]\n"
     ]
    },
    {
     "name": "stdout",
     "output_type": "stream",
     "text": [
      "Validation loss decreased (inf --> 1.075620).  Saving model ...\n",
      "Validation Loss: 1.0756198836535942 | Accuracy: 39.636711281070745\n",
      "\n",
      "Epoch: 32\n"
     ]
    },
    {
     "name": "stderr",
     "output_type": "stream",
     "text": [
      "100%|██████████| 287/287 [00:00<00:00, 510.60it/s]\n"
     ]
    },
    {
     "name": "stdout",
     "output_type": "stream",
     "text": [
      "Train Loss: 1.0764637431616566 | Accuracy: 40.130554721000735\n"
     ]
    },
    {
     "name": "stderr",
     "output_type": "stream",
     "text": [
      "100%|██████████| 41/41 [00:00<00:00, 915.80it/s]\n"
     ]
    },
    {
     "name": "stdout",
     "output_type": "stream",
     "text": [
      "Validation loss decreased (inf --> 1.075553).  Saving model ...\n",
      "Validation Loss: 1.0755531060986403 | Accuracy: 39.98087954110898\n",
      "\n",
      "Epoch: 33\n"
     ]
    },
    {
     "name": "stderr",
     "output_type": "stream",
     "text": [
      "100%|██████████| 287/287 [00:00<00:00, 560.12it/s]\n"
     ]
    },
    {
     "name": "stdout",
     "output_type": "stream",
     "text": [
      "Train Loss: 1.0769731861373688 | Accuracy: 39.491437467566165\n"
     ]
    },
    {
     "name": "stderr",
     "output_type": "stream",
     "text": [
      "100%|██████████| 41/41 [00:00<00:00, 959.44it/s]\n"
     ]
    },
    {
     "name": "stdout",
     "output_type": "stream",
     "text": [
      "Validation loss decreased (inf --> 1.075766).  Saving model ...\n",
      "Validation Loss: 1.0757664790967616 | Accuracy: 39.98087954110898\n",
      "\n",
      "Epoch: 34\n"
     ]
    },
    {
     "name": "stderr",
     "output_type": "stream",
     "text": [
      "100%|██████████| 287/287 [00:00<00:00, 503.65it/s]\n"
     ]
    },
    {
     "name": "stdout",
     "output_type": "stream",
     "text": [
      "Train Loss: 1.0763811878210992 | Accuracy: 39.805533553655806\n"
     ]
    },
    {
     "name": "stderr",
     "output_type": "stream",
     "text": [
      "100%|██████████| 41/41 [00:00<00:00, 1012.96it/s]\n"
     ]
    },
    {
     "name": "stdout",
     "output_type": "stream",
     "text": [
      "Validation loss decreased (inf --> 1.075387).  Saving model ...\n",
      "Validation Loss: 1.0753874458917758 | Accuracy: 39.78967495219885\n",
      "\n",
      "Epoch: 35\n"
     ]
    },
    {
     "name": "stderr",
     "output_type": "stream",
     "text": [
      "100%|██████████| 287/287 [00:00<00:00, 492.24it/s]\n"
     ]
    },
    {
     "name": "stdout",
     "output_type": "stream",
     "text": [
      "Train Loss: 1.0761089711239114 | Accuracy: 39.61707590200202\n"
     ]
    },
    {
     "name": "stderr",
     "output_type": "stream",
     "text": [
      "100%|██████████| 41/41 [00:00<00:00, 796.78it/s]\n"
     ]
    },
    {
     "name": "stdout",
     "output_type": "stream",
     "text": [
      "Validation loss decreased (inf --> 1.075594).  Saving model ...\n",
      "Validation Loss: 1.0755935267704289 | Accuracy: 39.94263862332696\n",
      "\n",
      "Epoch: 36\n"
     ]
    },
    {
     "name": "stderr",
     "output_type": "stream",
     "text": [
      "100%|██████████| 287/287 [00:00<00:00, 472.45it/s]\n"
     ]
    },
    {
     "name": "stdout",
     "output_type": "stream",
     "text": [
      "Train Loss: 1.0761882627467245 | Accuracy: 39.797339742714335\n"
     ]
    },
    {
     "name": "stderr",
     "output_type": "stream",
     "text": [
      "100%|██████████| 41/41 [00:00<00:00, 887.16it/s]\n"
     ]
    },
    {
     "name": "stdout",
     "output_type": "stream",
     "text": [
      "Validation loss decreased (inf --> 1.075583).  Saving model ...\n",
      "Validation Loss: 1.0755828531776988 | Accuracy: 40.267686424474185\n",
      "\n",
      "Epoch: 37\n"
     ]
    },
    {
     "name": "stderr",
     "output_type": "stream",
     "text": [
      "100%|██████████| 287/287 [00:00<00:00, 474.89it/s]\n"
     ]
    },
    {
     "name": "stdout",
     "output_type": "stream",
     "text": [
      "Train Loss: 1.0781305218407502 | Accuracy: 39.69901401141671\n"
     ]
    },
    {
     "name": "stderr",
     "output_type": "stream",
     "text": [
      "100%|██████████| 41/41 [00:00<00:00, 862.51it/s]\n"
     ]
    },
    {
     "name": "stdout",
     "output_type": "stream",
     "text": [
      "Validation loss decreased (inf --> 1.075738).  Saving model ...\n",
      "Validation Loss: 1.075738217772507 | Accuracy: 40.09560229445507\n",
      "\n",
      "Epoch: 38\n"
     ]
    },
    {
     "name": "stderr",
     "output_type": "stream",
     "text": [
      "100%|██████████| 287/287 [00:00<00:00, 518.04it/s]\n"
     ]
    },
    {
     "name": "stdout",
     "output_type": "stream",
     "text": [
      "Train Loss: 1.0768092995321294 | Accuracy: 39.87381531150138\n"
     ]
    },
    {
     "name": "stderr",
     "output_type": "stream",
     "text": [
      "100%|██████████| 41/41 [00:00<00:00, 973.02it/s]\n"
     ]
    },
    {
     "name": "stdout",
     "output_type": "stream",
     "text": [
      "Validation loss decreased (inf --> 1.075454).  Saving model ...\n",
      "Validation Loss: 1.075454476403027 | Accuracy: 40.0\n",
      "\n",
      "Epoch: 39\n"
     ]
    },
    {
     "name": "stderr",
     "output_type": "stream",
     "text": [
      "100%|██████████| 287/287 [00:00<00:00, 437.95it/s]\n"
     ]
    },
    {
     "name": "stdout",
     "output_type": "stream",
     "text": [
      "Train Loss: 1.0757356470885593 | Accuracy: 39.65258241608172\n"
     ]
    },
    {
     "name": "stderr",
     "output_type": "stream",
     "text": [
      "100%|██████████| 41/41 [00:00<00:00, 936.30it/s]\n"
     ]
    },
    {
     "name": "stdout",
     "output_type": "stream",
     "text": [
      "Validation loss decreased (inf --> 1.075873).  Saving model ...\n",
      "Validation Loss: 1.0758731714109095 | Accuracy: 40.133843212237096\n",
      "\n",
      "Epoch: 40\n"
     ]
    },
    {
     "name": "stderr",
     "output_type": "stream",
     "text": [
      "100%|██████████| 287/287 [00:00<00:00, 467.22it/s]\n"
     ]
    },
    {
     "name": "stdout",
     "output_type": "stream",
     "text": [
      "Train Loss: 1.0772316443380163 | Accuracy: 39.64165733482643\n"
     ]
    },
    {
     "name": "stderr",
     "output_type": "stream",
     "text": [
      "100%|██████████| 41/41 [00:00<00:00, 903.72it/s]\n"
     ]
    },
    {
     "name": "stdout",
     "output_type": "stream",
     "text": [
      "Validation loss decreased (inf --> 1.075557).  Saving model ...\n",
      "Validation Loss: 1.075556638764172 | Accuracy: 39.617590822179736\n",
      "\n",
      "Epoch: 41\n"
     ]
    },
    {
     "name": "stderr",
     "output_type": "stream",
     "text": [
      "100%|██████████| 287/287 [00:00<00:00, 510.55it/s]\n"
     ]
    },
    {
     "name": "stdout",
     "output_type": "stream",
     "text": [
      "Train Loss: 1.0760514659333311 | Accuracy: 39.90112801463961\n"
     ]
    },
    {
     "name": "stderr",
     "output_type": "stream",
     "text": [
      "100%|██████████| 41/41 [00:00<00:00, 977.26it/s]\n"
     ]
    },
    {
     "name": "stdout",
     "output_type": "stream",
     "text": [
      "Validation loss decreased (inf --> 1.075575).  Saving model ...\n",
      "Validation Loss: 1.0755745986612832 | Accuracy: 39.94263862332696\n",
      "\n",
      "Epoch: 42\n"
     ]
    },
    {
     "name": "stderr",
     "output_type": "stream",
     "text": [
      "100%|██████████| 287/287 [00:00<00:00, 521.69it/s]\n"
     ]
    },
    {
     "name": "stdout",
     "output_type": "stream",
     "text": [
      "Train Loss: 1.0767848923646615 | Accuracy: 39.89839674432579\n"
     ]
    },
    {
     "name": "stderr",
     "output_type": "stream",
     "text": [
      "100%|██████████| 41/41 [00:00<00:00, 988.07it/s]\n"
     ]
    },
    {
     "name": "stdout",
     "output_type": "stream",
     "text": [
      "Validation loss decreased (inf --> 1.075505).  Saving model ...\n",
      "Validation Loss: 1.0755053526017724 | Accuracy: 39.7131931166348\n",
      "\n",
      "Epoch: 43\n"
     ]
    },
    {
     "name": "stderr",
     "output_type": "stream",
     "text": [
      "100%|██████████| 287/287 [00:00<00:00, 504.57it/s]\n"
     ]
    },
    {
     "name": "stdout",
     "output_type": "stream",
     "text": [
      "Train Loss: 1.077019578073083 | Accuracy: 39.7454456067517\n"
     ]
    },
    {
     "name": "stderr",
     "output_type": "stream",
     "text": [
      "100%|██████████| 41/41 [00:00<00:00, 986.38it/s]\n"
     ]
    },
    {
     "name": "stdout",
     "output_type": "stream",
     "text": [
      "Validation loss decreased (inf --> 1.075686).  Saving model ...\n",
      "Validation Loss: 1.075685812205803 | Accuracy: 39.77055449330784\n",
      "\n",
      "Epoch: 44\n"
     ]
    },
    {
     "name": "stderr",
     "output_type": "stream",
     "text": [
      "100%|██████████| 287/287 [00:00<00:00, 538.22it/s]\n"
     ]
    },
    {
     "name": "stdout",
     "output_type": "stream",
     "text": [
      "Train Loss: 1.076840440570685 | Accuracy: 39.65804495670937\n"
     ]
    },
    {
     "name": "stderr",
     "output_type": "stream",
     "text": [
      "100%|██████████| 41/41 [00:00<00:00, 997.99it/s]\n"
     ]
    },
    {
     "name": "stdout",
     "output_type": "stream",
     "text": [
      "Validation loss decreased (inf --> 1.075789).  Saving model ...\n",
      "Validation Loss: 1.0757893730954426 | Accuracy: 39.866156787762904\n",
      "\n",
      "Epoch: 45\n"
     ]
    },
    {
     "name": "stderr",
     "output_type": "stream",
     "text": [
      "100%|██████████| 287/287 [00:00<00:00, 535.05it/s]\n"
     ]
    },
    {
     "name": "stdout",
     "output_type": "stream",
     "text": [
      "Train Loss: 1.0756183816996185 | Accuracy: 39.75090814737935\n"
     ]
    },
    {
     "name": "stderr",
     "output_type": "stream",
     "text": [
      "100%|██████████| 41/41 [00:00<00:00, 951.03it/s]\n"
     ]
    },
    {
     "name": "stdout",
     "output_type": "stream",
     "text": [
      "Validation loss decreased (inf --> 1.075567).  Saving model ...\n",
      "Validation Loss: 1.0755671466269143 | Accuracy: 39.90439770554493\n",
      "\n",
      "Epoch: 46\n"
     ]
    },
    {
     "name": "stderr",
     "output_type": "stream",
     "text": [
      "100%|██████████| 287/287 [00:00<00:00, 534.35it/s]\n"
     ]
    },
    {
     "name": "stdout",
     "output_type": "stream",
     "text": [
      "Train Loss: 1.0774136133725636 | Accuracy: 39.7454456067517\n"
     ]
    },
    {
     "name": "stderr",
     "output_type": "stream",
     "text": [
      "100%|██████████| 41/41 [00:00<00:00, 992.97it/s]\n"
     ]
    },
    {
     "name": "stdout",
     "output_type": "stream",
     "text": [
      "Validation loss decreased (inf --> 1.075624).  Saving model ...\n",
      "Validation Loss: 1.0756241199446888 | Accuracy: 39.98087954110898\n",
      "\n",
      "Epoch: 47\n"
     ]
    },
    {
     "name": "stderr",
     "output_type": "stream",
     "text": [
      "100%|██████████| 287/287 [00:00<00:00, 509.97it/s]\n"
     ]
    },
    {
     "name": "stdout",
     "output_type": "stream",
     "text": [
      "Train Loss: 1.0764908263076889 | Accuracy: 39.82192117553874\n"
     ]
    },
    {
     "name": "stderr",
     "output_type": "stream",
     "text": [
      "100%|██████████| 41/41 [00:00<00:00, 963.51it/s]\n"
     ]
    },
    {
     "name": "stdout",
     "output_type": "stream",
     "text": [
      "Validation loss decreased (inf --> 1.075897).  Saving model ...\n",
      "Validation Loss: 1.0758968882444429 | Accuracy: 39.98087954110898\n",
      "\n",
      "Epoch: 48\n"
     ]
    },
    {
     "name": "stderr",
     "output_type": "stream",
     "text": [
      "100%|██████████| 287/287 [00:00<00:00, 513.26it/s]\n"
     ]
    },
    {
     "name": "stdout",
     "output_type": "stream",
     "text": [
      "Train Loss: 1.0763672548719398 | Accuracy: 39.94482833966077\n"
     ]
    },
    {
     "name": "stderr",
     "output_type": "stream",
     "text": [
      "100%|██████████| 41/41 [00:00<00:00, 987.36it/s]\n"
     ]
    },
    {
     "name": "stdout",
     "output_type": "stream",
     "text": [
      "Validation loss decreased (inf --> 1.075656).  Saving model ...\n",
      "Validation Loss: 1.075655913934475 | Accuracy: 39.866156787762904\n",
      "\n",
      "Epoch: 49\n"
     ]
    },
    {
     "name": "stderr",
     "output_type": "stream",
     "text": [
      "100%|██████████| 287/287 [00:00<00:00, 509.55it/s]\n"
     ]
    },
    {
     "name": "stdout",
     "output_type": "stream",
     "text": [
      "Train Loss: 1.0775991956531379 | Accuracy: 39.75363941769317\n"
     ]
    },
    {
     "name": "stderr",
     "output_type": "stream",
     "text": [
      "100%|██████████| 41/41 [00:00<00:00, 961.59it/s]\n"
     ]
    },
    {
     "name": "stdout",
     "output_type": "stream",
     "text": [
      "Validation loss decreased (inf --> 1.075324).  Saving model ...\n",
      "Validation Loss: 1.0753242707834012 | Accuracy: 39.636711281070745\n",
      "\n",
      "Epoch: 50\n"
     ]
    },
    {
     "name": "stderr",
     "output_type": "stream",
     "text": [
      "100%|██████████| 287/287 [00:00<00:00, 517.64it/s]\n"
     ]
    },
    {
     "name": "stdout",
     "output_type": "stream",
     "text": [
      "Train Loss: 1.0774534425669016 | Accuracy: 39.58156938792232\n"
     ]
    },
    {
     "name": "stderr",
     "output_type": "stream",
     "text": [
      "100%|██████████| 41/41 [00:00<00:00, 958.56it/s]\n"
     ]
    },
    {
     "name": "stdout",
     "output_type": "stream",
     "text": [
      "Validation loss decreased (inf --> 1.075614).  Saving model ...\n",
      "Validation Loss: 1.0756143767659256 | Accuracy: 39.961759082217974\n"
     ]
    },
    {
     "data": {
      "image/png": "[encoded data removed]",
      "text/plain": [
       "<Figure size 640x480 with 1 Axes>"
      ]
     },
     "metadata": {},
     "output_type": "display_data"
    },
    {
     "data": {
      "image/png": "[encoded data removed]",
      "text/plain": [
       "<Figure size 640x480 with 1 Axes>"
      ]
     },
     "metadata": {},
     "output_type": "display_data"
    },
    {
     "name": "stdout",
     "output_type": "stream",
     "text": [
      "\n",
      "Calculating metrics...\n",
      "Accuracy: 0.39961758255958557\n",
      "Precision: [0.40717131 0.40742996 0.39005572]\n",
      "Recall: [0.29334099 0.38360092 0.52178899]\n",
      "F1 score: [0.34100767 0.39515653 0.44640667]\n",
      "Support: [1742 1744 1744]\n",
      "              precision    recall  f1-score   support\n",
      "\n",
      "           0       0.41      0.29      0.34      1742\n",
      "           1       0.41      0.38      0.40      1744\n",
      "           2       0.39      0.52      0.45      1744\n",
      "\n",
      "    accuracy                           0.40      5230\n",
      "   macro avg       0.40      0.40      0.39      5230\n",
      "weighted avg       0.40      0.40      0.39      5230\n",
      "\n",
      "None\n"
     ]
    },
    {
     "data": {
      "image/png": "[encoded data removed]",
      "text/plain": [
       "<Figure size 640x480 with 1 Axes>"
      ]
     },
     "metadata": {},
     "output_type": "display_data"
    }
   ],
   "source": [
    "trained_model=data_train_model(train_data, val_data, stopwords_file, w2v_model, 'Text', 'Sentiment')"
   ]
  },
  {
   "cell_type": "markdown",
   "id": "8d2919c1",
   "metadata": {
    "papermill": {
     "duration": 0.057187,
     "end_time": "2023-12-22T13:20:13.271405",
     "exception": false,
     "start_time": "2023-12-22T13:20:13.214218",
     "status": "completed"
    },
    "tags": []
   },
   "source": [
    "For submission"
   ]
  },
  {
   "cell_type": "code",
   "execution_count": 26,
   "id": "1e3284f1",
   "metadata": {
    "execution": {
     "iopub.execute_input": "2023-12-22T13:20:13.387544Z",
     "iopub.status.busy": "2023-12-22T13:20:13.387207Z",
     "iopub.status.idle": "2023-12-22T13:20:13.462231Z",
     "shell.execute_reply": "2023-12-22T13:20:13.461515Z"
    },
    "papermill": {
     "duration": 0.136276,
     "end_time": "2023-12-22T13:20:13.464640",
     "exception": false,
     "start_time": "2023-12-22T13:20:13.328364",
     "status": "completed"
    },
    "tags": []
   },
   "outputs": [],
   "source": [
    "test=pd.read_csv('/kaggle/input/ys19-2023-assignment-2/test_set.csv',encoding='utf-8')\n",
    "model=trained_model\n",
    "checkpoint_path='current_checkpoint.pt'"
   ]
  },
  {
   "cell_type": "code",
   "execution_count": 27,
   "id": "12f6bef4",
   "metadata": {
    "execution": {
     "iopub.execute_input": "2023-12-22T13:20:13.581055Z",
     "iopub.status.busy": "2023-12-22T13:20:13.580397Z",
     "iopub.status.idle": "2023-12-22T13:20:13.589861Z",
     "shell.execute_reply": "2023-12-22T13:20:13.589101Z"
    },
    "papermill": {
     "duration": 0.071006,
     "end_time": "2023-12-22T13:20:13.592335",
     "exception": false,
     "start_time": "2023-12-22T13:20:13.521329",
     "status": "completed"
    },
    "tags": []
   },
   "outputs": [],
   "source": [
    "def get_text(dataframe, Text, stopwords_file):\n",
    "\n",
    "  # Get only the columns we are interested in\n",
    "  dataset = dataframe[[Text]]\n",
    "\n",
    "  # Apply the pre-processing function to the dataframe containing the text (feature column)\n",
    "  dataset[Text] = dataset[Text].apply(preprocess_text, stopwords_file=stopwords_file)\n",
    "  print('\\nText done pre-processing!')\n",
    "\n",
    "  # Get the text data\n",
    "  X = dataset[Text]\n",
    "\n",
    "  return X\n",
    "\n",
    "def create_test_tensors(x):\n",
    "\n",
    "  # Convert X datasets to tensors\n",
    "  X_test_tensor = torch.tensor(x, dtype=torch.float)\n",
    "  print('Tensors ready!')\n",
    "\n",
    "  return X_test_tensor\n",
    "\n",
    "def data_test_model(df_test, stopwords_file,  w2v_model, Text, model, checkpoint_path):\n",
    "\n",
    "  # Prepare the training dataset\n",
    "  print('------ Preparing the testing dataset... ------')\n",
    "\n",
    "  X = get_text(df_test, Text, stopwords_file)\n",
    "\n",
    "  w2vX_test, words_found, matrix_len = find_words_in_w2v(X,w2v_model)\n",
    "  print('Percentage of words found in W2V: ', words_found/matrix_len)\n",
    "  w2vX_test=scale_data(w2vX_test)\n",
    "  # Create tensors for the training and testing/validation sets\n",
    "  test_X_tensor = create_test_tensors(w2vX_test)\n",
    "  test_data = torch.utils.data.TensorDataset(test_X_tensor)\n",
    "  dataloader_test = torch.utils.data.DataLoader(test_data, batch_size = 128, shuffle = False)\n",
    "\n",
    "  input_layer = test_X_tensor.shape[1]\n",
    "  hidden_layer_1 = 43\n",
    "  output_layer = 3\n",
    "  num_epochs = 50\n",
    "  \n",
    "  optimizer = optim.RMSprop(model.parameters(), lr = 0.004)\n",
    "  ckp_path = checkpoint_path\n",
    "  model, optimizer,start_epoch, valid_loss_min = load_ckp(ckp_path, model, optimizer)\n",
    "  \n",
    "  print(\"model = \", model)\n",
    "  print(\"optimizer = \", optimizer)\n",
    "  print(\"start_epoch = \", start_epoch)\n",
    "  print(\"valid_loss_min = \", valid_loss_min)\n",
    "  print(\"valid_loss_min = {:.6f}\".format(valid_loss_min))\n",
    "  # Make predictions\n",
    " \n",
    "  model.eval()  # Set the model to evaluation mode\n",
    "  for tweet in test_X_tensor:\n",
    "    with torch.no_grad():\n",
    "      test_prediction = model(test_X_tensor)\n",
    "      test_prediction = torch.argmax(test_prediction, dim=1)\n",
    "      test_prediction=test_prediction.detach().numpy()\n",
    "  return test_prediction\n",
    "\n",
    "    "
   ]
  },
  {
   "cell_type": "code",
   "execution_count": 28,
   "id": "c0b265db",
   "metadata": {
    "execution": {
     "iopub.execute_input": "2023-12-22T13:20:13.712965Z",
     "iopub.status.busy": "2023-12-22T13:20:13.712428Z",
     "iopub.status.idle": "2023-12-22T13:21:29.039267Z",
     "shell.execute_reply": "2023-12-22T13:21:29.038180Z"
    },
    "papermill": {
     "duration": 75.451281,
     "end_time": "2023-12-22T13:21:29.101175",
     "exception": false,
     "start_time": "2023-12-22T13:20:13.649894",
     "status": "completed"
    },
    "tags": []
   },
   "outputs": [
    {
     "name": "stdout",
     "output_type": "stream",
     "text": [
      "------ Preparing the testing dataset... ------\n"
     ]
    },
    {
     "name": "stderr",
     "output_type": "stream",
     "text": [
      "/tmp/ipykernel_19/3449106275.py:7: SettingWithCopyWarning: \n",
      "A value is trying to be set on a copy of a slice from a DataFrame.\n",
      "Try using .loc[row_indexer,col_indexer] = value instead\n",
      "\n",
      "See the caveats in the documentation: https://pandas.pydata.org/pandas-docs/stable/user_guide/indexing.html#returning-a-view-versus-a-copy\n",
      "  dataset[Text] = dataset[Text].apply(preprocess_text, stopwords_file=stopwords_file)\n"
     ]
    },
    {
     "name": "stdout",
     "output_type": "stream",
     "text": [
      "\n",
      "Text done pre-processing!\n",
      "Percentage of words found in W2V:  10.57650429799427\n",
      "Tensors ready!\n",
      "model =  Feed_forward_Neural_Net_Model(\n",
      "  (layer_1): Linear(in_features=200, out_features=43, bias=True)\n",
      "  (rrelu_1): RReLU(lower=0.125, upper=0.3333333333333333)\n",
      "  (dropout): Dropout(p=0.4, inplace=False)\n",
      "  (batch): BatchNorm1d(43, eps=1e-05, momentum=0.1, affine=True, track_running_stats=True)\n",
      "  (layer_2): Linear(in_features=43, out_features=3, bias=True)\n",
      ")\n",
      "optimizer =  RMSprop (\n",
      "Parameter Group 0\n",
      "    alpha: 0.99\n",
      "    centered: False\n",
      "    differentiable: False\n",
      "    eps: 1e-08\n",
      "    foreach: None\n",
      "    initial_lr: 0.005\n",
      "    lr: 4.440892098500626e-18\n",
      "    maximize: False\n",
      "    momentum: 0\n",
      "    weight_decay: 0\n",
      ")\n",
      "start_epoch =  51\n",
      "valid_loss_min =  1.0756143767659256\n",
      "valid_loss_min = 1.075614\n",
      "[2 1 1 ... 2 2 2]\n"
     ]
    }
   ],
   "source": [
    "predicted_polarities=data_test_model(test,stopwords_file, w2v_model, 'Text',model,checkpoint_path)\n",
    "print(predicted_polarities)\n",
    "mapping = {0: 'NEUTRAL', 1: 'POSITIVE', 2: 'NEGATIVE'}\n",
    "y_categorical = [mapping[value] for value in predicted_polarities]\n",
    "# Print the result\n",
    "#print(y_categorical)"
   ]
  },
  {
   "cell_type": "code",
   "execution_count": 29,
   "id": "4bae83f3",
   "metadata": {
    "execution": {
     "iopub.execute_input": "2023-12-22T13:21:29.216424Z",
     "iopub.status.busy": "2023-12-22T13:21:29.216022Z",
     "iopub.status.idle": "2023-12-22T13:21:29.242391Z",
     "shell.execute_reply": "2023-12-22T13:21:29.240626Z"
    },
    "papermill": {
     "duration": 0.086753,
     "end_time": "2023-12-22T13:21:29.244893",
     "exception": false,
     "start_time": "2023-12-22T13:21:29.158140",
     "status": "completed"
    },
    "tags": []
   },
   "outputs": [],
   "source": [
    "my_submission = pd.DataFrame({'Id': test.New_ID, 'Predicted': y_categorical})\n",
    "my_submission.to_csv('submission-lt12200010.csv', index=False)"
   ]
  },
  {
   "cell_type": "code",
   "execution_count": 30,
   "id": "26fcc617",
   "metadata": {
    "execution": {
     "iopub.execute_input": "2023-12-22T13:21:29.359610Z",
     "iopub.status.busy": "2023-12-22T13:21:29.359220Z",
     "iopub.status.idle": "2023-12-22T13:21:29.371712Z",
     "shell.execute_reply": "2023-12-22T13:21:29.370205Z"
    },
    "papermill": {
     "duration": 0.072194,
     "end_time": "2023-12-22T13:21:29.373691",
     "exception": false,
     "start_time": "2023-12-22T13:21:29.301497",
     "status": "completed"
    },
    "tags": []
   },
   "outputs": [
    {
     "name": "stdout",
     "output_type": "stream",
     "text": [
      "Distribution of data in classes:\n",
      "Predicted\n",
      "NEGATIVE    0.452053\n",
      "POSITIVE    0.306590\n",
      "NEUTRAL     0.241356\n",
      "Name: count, dtype: float64\n"
     ]
    }
   ],
   "source": [
    "df=pd.read_csv('submission-lt12200010.csv')\n",
    "# Check the distribution of classes\n",
    "distribution = df['Predicted'].value_counts()/df.shape[0]\n",
    "print('Distribution of data in classes:')\n",
    "print(distribution)"
   ]
  }
 ],
 "metadata": {
  "kaggle": {
   "accelerator": "none",
   "dataSources": [
    {
     "databundleVersionId": 7104041,
     "sourceId": 64789,
     "sourceType": "competition"
    },
    {
     "datasetId": 4049538,
     "sourceId": 7038672,
     "sourceType": "datasetVersion"
    },
    {
     "datasetId": 4200774,
     "sourceId": 7250473,
     "sourceType": "datasetVersion"
    }
   ],
   "dockerImageVersionId": 30626,
   "isGpuEnabled": false,
   "isInternetEnabled": true,
   "language": "python",
   "sourceType": "notebook"
  },
  "kernelspec": {
   "display_name": "Python 3",
   "language": "python",
   "name": "python3"
  },
  "language_info": {
   "codemirror_mode": {
    "name": "ipython",
    "version": 3
   },
   "file_extension": ".py",
   "mimetype": "text/x-python",
   "name": "python",
   "nbconvert_exporter": "python",
   "pygments_lexer": "ipython3",
   "version": "3.10.12"
  },
  "papermill": {
   "default_parameters": {},
   "duration": 447.059153,
   "end_time": "2023-12-22T13:21:31.063471",
   "environment_variables": {},
   "exception": null,
   "input_path": "__notebook__.ipynb",
   "output_path": "__notebook__.ipynb",
   "parameters": {},
   "start_time": "2023-12-22T13:14:04.004318",
   "version": "2.4.0"
  }
 },
 "nbformat": 4,
 "nbformat_minor": 5
}
