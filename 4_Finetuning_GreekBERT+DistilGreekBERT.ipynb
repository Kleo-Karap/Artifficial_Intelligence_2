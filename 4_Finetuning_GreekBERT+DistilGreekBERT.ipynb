{
 "cells": [
  {
   "cell_type": "markdown",
   "id": "2bc3f78f",
   "metadata": {
    "papermill": {
     "duration": 0.013547,
     "end_time": "2024-03-06T11:28:18.129534",
     "exception": false,
     "start_time": "2024-03-06T11:28:18.115987",
     "status": "completed"
    },
    "tags": []
   },
   "source": [
    "M931 : Deep Learning for NLP | Winter Semester 2023/24 | Student ID: lt12200010 | Student Name: Kleopatra Karapanagiotou\n",
    "\n",
    "Assignment 4: #Finetuning [GreekBERT](https://huggingface.co/nlpaueb/bert-base-greek-uncased-v1) and [DistillGreekBERT ](https://huggingface.co/EftychiaKarav/DistilGREEK-BERT)for Multiclass Sentiment Analysis on Greek tweets"
   ]
  },
  {
   "cell_type": "markdown",
   "id": "1daf0394",
   "metadata": {
    "id": "dnp_j4C9KJOA",
    "papermill": {
     "duration": 0.013227,
     "end_time": "2024-03-06T11:28:18.155727",
     "exception": false,
     "start_time": "2024-03-06T11:28:18.142500",
     "status": "completed"
    },
    "tags": []
   },
   "source": [
    "#Installations | Library imports"
   ]
  },
  {
   "cell_type": "code",
   "execution_count": 1,
   "id": "bed0538e",
   "metadata": {
    "execution": {
     "iopub.execute_input": "2024-03-06T11:28:18.182926Z",
     "iopub.status.busy": "2024-03-06T11:28:18.182535Z",
     "iopub.status.idle": "2024-03-06T11:28:47.402531Z",
     "shell.execute_reply": "2024-03-06T11:28:47.401519Z"
    },
    "id": "n3cnQbUOKHWO",
    "papermill": {
     "duration": 29.236103,
     "end_time": "2024-03-06T11:28:47.404840",
     "exception": false,
     "start_time": "2024-03-06T11:28:18.168737",
     "status": "completed"
    },
    "tags": []
   },
   "outputs": [
    {
     "name": "stdout",
     "output_type": "stream",
     "text": [
      "Collecting demoji\r\n",
      "  Downloading demoji-1.1.0-py3-none-any.whl.metadata (9.2 kB)\r\n",
      "Requirement already satisfied: transformers in /opt/conda/lib/python3.10/site-packages (4.38.1)\r\n",
      "Collecting transformers\r\n",
      "  Downloading transformers-4.38.2-py3-none-any.whl.metadata (130 kB)\r\n",
      "\u001b[2K     \u001b[90m━━━━━━━━━━━━━━━━━━━━━━━━━━━━━━━━━━━━━━━\u001b[0m \u001b[32m130.7/130.7 kB\u001b[0m \u001b[31m1.5 MB/s\u001b[0m eta \u001b[36m0:00:00\u001b[0m\r\n",
      "\u001b[?25hCollecting torchtext==0.6.0\r\n",
      "  Downloading torchtext-0.6.0-py3-none-any.whl.metadata (6.3 kB)\r\n",
      "Requirement already satisfied: accelerate in /opt/conda/lib/python3.10/site-packages (0.27.2)\r\n",
      "Requirement already satisfied: tqdm in /opt/conda/lib/python3.10/site-packages (from torchtext==0.6.0) (4.66.1)\r\n",
      "Requirement already satisfied: requests in /opt/conda/lib/python3.10/site-packages (from torchtext==0.6.0) (2.31.0)\r\n",
      "Requirement already satisfied: torch in /opt/conda/lib/python3.10/site-packages (from torchtext==0.6.0) (2.1.2)\r\n",
      "Requirement already satisfied: numpy in /opt/conda/lib/python3.10/site-packages (from torchtext==0.6.0) (1.26.4)\r\n",
      "Requirement already satisfied: six in /opt/conda/lib/python3.10/site-packages (from torchtext==0.6.0) (1.16.0)\r\n",
      "Requirement already satisfied: sentencepiece in /opt/conda/lib/python3.10/site-packages (from torchtext==0.6.0) (0.2.0)\r\n",
      "Requirement already satisfied: filelock in /opt/conda/lib/python3.10/site-packages (from transformers) (3.13.1)\r\n",
      "Requirement already satisfied: huggingface-hub<1.0,>=0.19.3 in /opt/conda/lib/python3.10/site-packages (from transformers) (0.20.3)\r\n",
      "Requirement already satisfied: packaging>=20.0 in /opt/conda/lib/python3.10/site-packages (from transformers) (21.3)\r\n",
      "Requirement already satisfied: pyyaml>=5.1 in /opt/conda/lib/python3.10/site-packages (from transformers) (6.0.1)\r\n",
      "Requirement already satisfied: regex!=2019.12.17 in /opt/conda/lib/python3.10/site-packages (from transformers) (2023.12.25)\r\n",
      "Requirement already satisfied: tokenizers<0.19,>=0.14 in /opt/conda/lib/python3.10/site-packages (from transformers) (0.15.2)\r\n",
      "Requirement already satisfied: safetensors>=0.4.1 in /opt/conda/lib/python3.10/site-packages (from transformers) (0.4.2)\r\n",
      "Requirement already satisfied: psutil in /opt/conda/lib/python3.10/site-packages (from accelerate) (5.9.3)\r\n",
      "Requirement already satisfied: fsspec>=2023.5.0 in /opt/conda/lib/python3.10/site-packages (from huggingface-hub<1.0,>=0.19.3->transformers) (2024.2.0)\r\n",
      "Requirement already satisfied: typing-extensions>=3.7.4.3 in /opt/conda/lib/python3.10/site-packages (from huggingface-hub<1.0,>=0.19.3->transformers) (4.9.0)\r\n",
      "Requirement already satisfied: pyparsing!=3.0.5,>=2.0.2 in /opt/conda/lib/python3.10/site-packages (from packaging>=20.0->transformers) (3.1.1)\r\n",
      "Requirement already satisfied: sympy in /opt/conda/lib/python3.10/site-packages (from torch->torchtext==0.6.0) (1.12)\r\n",
      "Requirement already satisfied: networkx in /opt/conda/lib/python3.10/site-packages (from torch->torchtext==0.6.0) (3.2.1)\r\n",
      "Requirement already satisfied: jinja2 in /opt/conda/lib/python3.10/site-packages (from torch->torchtext==0.6.0) (3.1.2)\r\n",
      "Requirement already satisfied: charset-normalizer<4,>=2 in /opt/conda/lib/python3.10/site-packages (from requests->torchtext==0.6.0) (3.3.2)\r\n",
      "Requirement already satisfied: idna<4,>=2.5 in /opt/conda/lib/python3.10/site-packages (from requests->torchtext==0.6.0) (3.6)\r\n",
      "Requirement already satisfied: urllib3<3,>=1.21.1 in /opt/conda/lib/python3.10/site-packages (from requests->torchtext==0.6.0) (1.26.18)\r\n",
      "Requirement already satisfied: certifi>=2017.4.17 in /opt/conda/lib/python3.10/site-packages (from requests->torchtext==0.6.0) (2024.2.2)\r\n",
      "Requirement already satisfied: MarkupSafe>=2.0 in /opt/conda/lib/python3.10/site-packages (from jinja2->torch->torchtext==0.6.0) (2.1.3)\r\n",
      "Requirement already satisfied: mpmath>=0.19 in /opt/conda/lib/python3.10/site-packages (from sympy->torch->torchtext==0.6.0) (1.3.0)\r\n",
      "Downloading torchtext-0.6.0-py3-none-any.whl (64 kB)\r\n",
      "\u001b[2K   \u001b[90m━━━━━━━━━━━━━━━━━━━━━━━━━━━━━━━━━━━━━━━━\u001b[0m \u001b[32m64.2/64.2 kB\u001b[0m \u001b[31m3.7 MB/s\u001b[0m eta \u001b[36m0:00:00\u001b[0m\r\n",
      "\u001b[?25hDownloading demoji-1.1.0-py3-none-any.whl (42 kB)\r\n",
      "\u001b[2K   \u001b[90m━━━━━━━━━━━━━━━━━━━━━━━━━━━━━━━━━━━━━━━━\u001b[0m \u001b[32m42.9/42.9 kB\u001b[0m \u001b[31m1.9 MB/s\u001b[0m eta \u001b[36m0:00:00\u001b[0m\r\n",
      "\u001b[?25hDownloading transformers-4.38.2-py3-none-any.whl (8.5 MB)\r\n",
      "\u001b[2K   \u001b[90m━━━━━━━━━━━━━━━━━━━━━━━━━━━━━━━━━━━━━━━━\u001b[0m \u001b[32m8.5/8.5 MB\u001b[0m \u001b[31m36.5 MB/s\u001b[0m eta \u001b[36m0:00:00\u001b[0m\r\n",
      "\u001b[?25hInstalling collected packages: demoji, torchtext, transformers\r\n",
      "  Attempting uninstall: torchtext\r\n",
      "    Found existing installation: torchtext 0.16.2\r\n",
      "    Uninstalling torchtext-0.16.2:\r\n",
      "      Successfully uninstalled torchtext-0.16.2\r\n",
      "  Attempting uninstall: transformers\r\n",
      "    Found existing installation: transformers 4.38.1\r\n",
      "    Uninstalling transformers-4.38.1:\r\n",
      "      Successfully uninstalled transformers-4.38.1\r\n",
      "Successfully installed demoji-1.1.0 torchtext-0.6.0 transformers-4.38.2\r\n"
     ]
    }
   ],
   "source": [
    "!pip install demoji transformers torchtext==0.6.0 accelerate -U\n"
   ]
  },
  {
   "cell_type": "code",
   "execution_count": 2,
   "id": "63260826",
   "metadata": {
    "execution": {
     "iopub.execute_input": "2024-03-06T11:28:47.450631Z",
     "iopub.status.busy": "2024-03-06T11:28:47.450180Z",
     "iopub.status.idle": "2024-03-06T11:29:02.265707Z",
     "shell.execute_reply": "2024-03-06T11:29:02.264674Z"
    },
    "id": "kTdEqykjKOV4",
    "outputId": "cb9799d0-5bae-4251-85e7-db4de0e8d3e7",
    "papermill": {
     "duration": 14.843987,
     "end_time": "2024-03-06T11:29:02.268150",
     "exception": false,
     "start_time": "2024-03-06T11:28:47.424163",
     "status": "completed"
    },
    "tags": []
   },
   "outputs": [
    {
     "name": "stdout",
     "output_type": "stream",
     "text": [
      "[nltk_data] Downloading package punkt to /usr/share/nltk_data...\n",
      "[nltk_data]   Package punkt is already up-to-date!\n"
     ]
    }
   ],
   "source": [
    "import re\n",
    "import string\n",
    "import demoji\n",
    "import nltk\n",
    "nltk.download('punkt')\n",
    "from nltk.tokenize import sent_tokenize, word_tokenize\n",
    "import pandas as pd\n",
    "import random\n",
    "import time\n",
    "import datetime\n",
    "import numpy as np\n",
    "import seaborn as sns\n",
    "import torch\n",
    "import torch.nn as nn\n",
    "import torchtext\n",
    "import torch.nn.functional as F\n",
    "import matplotlib.pyplot as plt\n",
    "from numpy import interp\n",
    "from itertools import cycle\n",
    "from sklearn.metrics import accuracy_score, roc_curve, auc\n",
    "from sklearn.metrics import precision_recall_fscore_support as score\n",
    "from sklearn.metrics import classification_report, confusion_matrix\n",
    "from torch.utils.data import Dataset, TensorDataset, DataLoader, RandomSampler, SequentialSampler\n",
    "from transformers import AdamW, get_linear_schedule_with_warmup, AutoTokenizer, AutoModel\n",
    "\n",
    "\n"
   ]
  },
  {
   "cell_type": "markdown",
   "id": "e60b0895",
   "metadata": {
    "id": "bZDG624sFh4h",
    "papermill": {
     "duration": 0.015473,
     "end_time": "2024-03-06T11:29:02.299585",
     "exception": false,
     "start_time": "2024-03-06T11:29:02.284112",
     "status": "completed"
    },
    "tags": []
   },
   "source": [
    "#Set up GPU for training"
   ]
  },
  {
   "cell_type": "code",
   "execution_count": 3,
   "id": "0e31feb5",
   "metadata": {
    "execution": {
     "iopub.execute_input": "2024-03-06T11:29:02.333342Z",
     "iopub.status.busy": "2024-03-06T11:29:02.332476Z",
     "iopub.status.idle": "2024-03-06T11:29:02.445456Z",
     "shell.execute_reply": "2024-03-06T11:29:02.444427Z"
    },
    "id": "V6gOlSxyFlIp",
    "outputId": "cf0fb623-4784-472e-d28e-52c03b567293",
    "papermill": {
     "duration": 0.131538,
     "end_time": "2024-03-06T11:29:02.447513",
     "exception": false,
     "start_time": "2024-03-06T11:29:02.315975",
     "status": "completed"
    },
    "tags": []
   },
   "outputs": [
    {
     "name": "stdout",
     "output_type": "stream",
     "text": [
      "There are 2 GPU(s) available.\n",
      "Device name: Tesla T4\n"
     ]
    }
   ],
   "source": [
    "if torch.cuda.is_available():\n",
    "    device = torch.device(\"cuda\")\n",
    "    print(f'There are {torch.cuda.device_count()} GPU(s) available.')\n",
    "    print('Device name:', torch.cuda.get_device_name(0))\n",
    "\n",
    "else:\n",
    "    print('No GPU available, using the CPU instead.')\n",
    "    device = torch.device('cpu')"
   ]
  },
  {
   "cell_type": "markdown",
   "id": "4c82b6b3",
   "metadata": {
    "id": "p4bhKaaLFniR",
    "papermill": {
     "duration": 0.015904,
     "end_time": "2024-03-06T11:29:02.479902",
     "exception": false,
     "start_time": "2024-03-06T11:29:02.463998",
     "status": "completed"
    },
    "tags": []
   },
   "source": [
    "#Helper funcs"
   ]
  },
  {
   "cell_type": "code",
   "execution_count": 4,
   "id": "862e7a2a",
   "metadata": {
    "execution": {
     "iopub.execute_input": "2024-03-06T11:29:02.514402Z",
     "iopub.status.busy": "2024-03-06T11:29:02.513679Z",
     "iopub.status.idle": "2024-03-06T11:29:02.519564Z",
     "shell.execute_reply": "2024-03-06T11:29:02.518656Z"
    },
    "id": "qC7ZqKotFqFX",
    "papermill": {
     "duration": 0.025713,
     "end_time": "2024-03-06T11:29:02.521524",
     "exception": false,
     "start_time": "2024-03-06T11:29:02.495811",
     "status": "completed"
    },
    "tags": []
   },
   "outputs": [],
   "source": [
    "# A function that sets seed for reproducibility\n",
    "def set_seed(seed_value):\n",
    "    random.seed(seed_value)\n",
    "    np.random.seed(seed_value)\n",
    "    torch.manual_seed(seed_value)\n",
    "    torch.cuda.manual_seed_all(seed_value)\n",
    "\n",
    "# A function that calculates time in seconds and returns a string in the form hh:mm:ss\n",
    "def calculate_time(elapsed_time):\n",
    "\n",
    "    # Round to the nearest second\n",
    "    elapsed_rounded = int(round((elapsed_time)))\n",
    "\n",
    "    # Format as hh:mm:ss\n",
    "    return str(datetime.timedelta(seconds=elapsed_rounded))\n",
    "\n"
   ]
  },
  {
   "cell_type": "markdown",
   "id": "0f5b160c",
   "metadata": {
    "id": "BvZmeWivBrjL",
    "papermill": {
     "duration": 0.016744,
     "end_time": "2024-03-06T11:29:02.555688",
     "exception": false,
     "start_time": "2024-03-06T11:29:02.538944",
     "status": "completed"
    },
    "tags": []
   },
   "source": [
    "#Funcs for text preprocessng"
   ]
  },
  {
   "cell_type": "code",
   "execution_count": 5,
   "id": "30678fdc",
   "metadata": {
    "execution": {
     "iopub.execute_input": "2024-03-06T11:29:02.590036Z",
     "iopub.status.busy": "2024-03-06T11:29:02.589357Z",
     "iopub.status.idle": "2024-03-06T11:29:02.612887Z",
     "shell.execute_reply": "2024-03-06T11:29:02.611897Z"
    },
    "id": "c6N14FPx3ube",
    "papermill": {
     "duration": 0.042976,
     "end_time": "2024-03-06T11:29:02.614819",
     "exception": false,
     "start_time": "2024-03-06T11:29:02.571843",
     "status": "completed"
    },
    "tags": []
   },
   "outputs": [],
   "source": [
    "def read_explore_clean_dataset(dataset_path, text_column='Text', label_column='Sentiment'):\n",
    "    # Load the dataset\n",
    "    df = pd.read_csv(dataset_path, encoding='utf-8')\n",
    "    print(df.info())\n",
    "    # Count the number of samples in each class\n",
    "    class_counts = df[label_column].value_counts()\n",
    "\n",
    "    # Clean the dataset\n",
    "    # Drop duplicate rows\n",
    "    df = df.drop_duplicates(subset=[text_column, label_column])\n",
    "\n",
    "    # Drop rows with NaN values\n",
    "    df = df.dropna(subset=[text_column, label_column])\n",
    "\n",
    "    # Reset index after dropping rows\n",
    "    df = df.reset_index(drop=True)\n",
    "    print('Dataframe checked for NaN values and duplicates!')\n",
    "\n",
    "    return df\n",
    "\n",
    "def replaceMultiple(main, replacements, new):\n",
    "  for elem in replacements:\n",
    "    if elem in main:\n",
    "      main = main.replace(elem, new)\n",
    "  return main\n",
    "\n",
    "def normalize(x):\n",
    "  x = replaceMultiple(x, ['ά', 'ὰ', 'ἀ','ἁ','ἂ','ἃ','ἄ','ἅ','ἆ','ἇ','ᾰ','ᾱ','ᾲ','ᾳ','ᾴ','ᾶ','ᾷ'], 'α')\n",
    "  x = replaceMultiple(x, ['έ','ὲ','ἐ','ἑ','ἒ','ἓ','ἔ','ἕ'], 'ε')\n",
    "  x = replaceMultiple(x, ['ή','ὴ','ἠ','ἡ','ἢ','ἣ','ἤ','ἥ','ἦ','ἧ','ῂ','ῃ','ῄ','ῆ','ῇ'], 'η')\n",
    "  x = replaceMultiple(x, ['ί','ὶ','ἰ','ἱ','ἲ','ἳ','ἴ','ἵ','ἶ','ἷ','ῐ','ῑ','ῒ','ΐ','ῖ','ῗ'], 'ι')\n",
    "  x = replaceMultiple(x, ['ὸ','ό','ὀ','ὁ','ὂ','ὃ','ὄ','ὅ'], 'ο')\n",
    "  x = replaceMultiple(x, ['ύ','ὺ','ΰ', 'ϋ','ὐ','ὑ','ὒ','ὓ','ὔ','ὕ','ὖ','ὗ','ῠ','ῡ','ῢ','ΰ','ῦ'], 'υ')\n",
    "  x = replaceMultiple(x, ['ώ','ὼ','ῶ','ῲ','ῳ','ῴ','ῶ','ῷ','ὠ','ὡ','ὢ','ὣ','ὤ','ὥ','ὦ','ὧ'], 'ω')\n",
    "  return x\n",
    "\n",
    "def sep_punc(x):\n",
    "    punc = '!\"#$%&\\'()*+,-./:;<=>?@[\\\\]^_`{|}~؛،؟؛.»«”'\n",
    "    out = []\n",
    "    for char in x:\n",
    "        if char in punc:\n",
    "            out.append(' ' + char + ' ')\n",
    "        else:\n",
    "            out.append(char)\n",
    "    return ''.join(out)\n",
    "\n",
    "def remove_emojis(text):\n",
    "    return demoji.replace(text, '')\n",
    "\n",
    "def preprocess_text_first_step(text):\n",
    "    # Remove retweets\n",
    "    text = re.sub(r'^RT[\\s]+', '', text, flags=re.IGNORECASE)\n",
    "    # Remove usernames @\n",
    "    text = re.sub(r'@[^\\s]+', '', text)\n",
    "    # Remove URLs\n",
    "    text = re.sub(r'https\\S+', '', text)\n",
    "    url_words = ['url', 'URL', 'html', 'HTML', 'http', 'HTTP']\n",
    "    for u in url_words:\n",
    "        text = re.sub(u, '', text)\n",
    "    return text\n",
    "\n",
    "def preprocess_text_second_step(text):\n",
    "    text=normalize(text)\n",
    "  # Separate punctuation characters\n",
    "    text = sep_punc(text)\n",
    "    # Remove punctuation characters\n",
    "    text = re.sub(f\"[{re.escape(string.punctuation)}]\", '', text)\n",
    "    # Remove Latin characters\n",
    "    text = re.sub(r'[a-zA-Z]+', '', text)\n",
    "    # Remove numbers\n",
    "    text = re.sub(r'\\b\\d+\\b', '', text)\n",
    "    return text\n",
    "\n",
    "def preprocess_text_third_step(text):\n",
    "\n",
    "    text = str(text).lower().strip()\n",
    "    text = remove_emojis(text)\n",
    "   # remove the extra whitespace\n",
    "    text = re.sub(' +', ' ', text)\n",
    "\n",
    "    return text\n",
    "\n",
    "def preprocess_dataframe(df,Text):\n",
    "    # Apply the first step of preprocessing and capture the character length\n",
    "    df[Text] = df[Text].apply(preprocess_text_first_step)\n",
    "\n",
    "    # Apply the second step of preprocessing\n",
    "    df[Text] = df[Text].apply(preprocess_text_second_step)\n",
    "\n",
    "    # Apply the third step of preprocessing\n",
    "    df[Text] = df[Text].apply(lambda x: preprocess_text_third_step(x))\n",
    "\n",
    "\n",
    "    return df\n",
    "\n",
    "def postprocessing(df, text_column='Text'):\n",
    "    # Check for empty lists in the DataFrame\n",
    "    empty_lists = df[text_column].apply(lambda x: len(x) == 0)\n",
    "    print(\"\\nNumber of rows with empty lists:\", empty_lists.sum())\n",
    "\n",
    "    # Drop rows with empty lists and reset the index\n",
    "    df.drop(df[empty_lists].index, inplace=True)\n",
    "    df.reset_index(drop=True, inplace=True)\n",
    "    print(\"\\nShape after postprocessing:\", df.shape)\n",
    "    # Return the updated DataFrame\n",
    "    return df"
   ]
  },
  {
   "cell_type": "code",
   "execution_count": 6,
   "id": "60d34b27",
   "metadata": {
    "execution": {
     "iopub.execute_input": "2024-03-06T11:29:02.649167Z",
     "iopub.status.busy": "2024-03-06T11:29:02.648848Z",
     "iopub.status.idle": "2024-03-06T11:29:02.655875Z",
     "shell.execute_reply": "2024-03-06T11:29:02.654967Z"
    },
    "id": "hplT8dCEA3jQ",
    "papermill": {
     "duration": 0.026652,
     "end_time": "2024-03-06T11:29:02.657946",
     "exception": false,
     "start_time": "2024-03-06T11:29:02.631294",
     "status": "completed"
    },
    "tags": []
   },
   "outputs": [],
   "source": [
    "def get_columns(dataframe, Text, Sentiment):\n",
    "\n",
    "    # Get only the columns we are interested in\n",
    "    dataset = dataframe[[Text, Sentiment]]\n",
    "\n",
    "    # Check the distribution of classes\n",
    "    distribution = dataset[Sentiment].value_counts() / dataset.shape[0]\n",
    "    print('Distribution of data in classes:')\n",
    "    print(distribution)\n",
    "\n",
    "    # Apply the pre-processing function to the dataframe containing the text (feature column)\n",
    "    dataset = preprocess_dataframe(dataset,Text)\n",
    "    print('\\nText done pre-processing!')\n",
    "\n",
    "    # Apply post-processing for removing empty rows after preprocessing\n",
    "    dataset = postprocessing(dataset, text_column='Text')\n",
    "\n",
    "    # Divide the X and y values\n",
    "    X = dataset[Text]\n",
    "    y = dataset[Sentiment]\n",
    "    sentiment_mapping = {'NEUTRAL': 0, 'POSITIVE': 1, 'NEGATIVE': 2}\n",
    "    y = y.map(sentiment_mapping)\n",
    "    # Concatenate the X,Y data\n",
    "    new_dataframe = pd.concat([X, y], axis=1)\n",
    "\n",
    "    return new_dataframe"
   ]
  },
  {
   "cell_type": "markdown",
   "id": "4f9d1151",
   "metadata": {
    "id": "oYNinpcaDR3a",
    "papermill": {
     "duration": 0.015439,
     "end_time": "2024-03-06T11:29:02.689492",
     "exception": false,
     "start_time": "2024-03-06T11:29:02.674053",
     "status": "completed"
    },
    "tags": []
   },
   "source": [
    "#Funcs for evaluation"
   ]
  },
  {
   "cell_type": "code",
   "execution_count": 7,
   "id": "f6a74bd1",
   "metadata": {
    "execution": {
     "iopub.execute_input": "2024-03-06T11:29:02.722141Z",
     "iopub.status.busy": "2024-03-06T11:29:02.721851Z",
     "iopub.status.idle": "2024-03-06T11:29:02.733354Z",
     "shell.execute_reply": "2024-03-06T11:29:02.732589Z"
    },
    "id": "Hj5WLB7CDT4J",
    "papermill": {
     "duration": 0.030272,
     "end_time": "2024-03-06T11:29:02.735322",
     "exception": false,
     "start_time": "2024-03-06T11:29:02.705050",
     "status": "completed"
    },
    "tags": []
   },
   "outputs": [],
   "source": [
    "# Calculates the accuracy per batch, used in the train_model and evaluate_model functions\n",
    "def accuracy(preds, y_true):\n",
    "\n",
    "  pred_flat = np.argmax(preds, axis=1).flatten()\n",
    "  labels_flat = y_true.flatten()\n",
    "  acc = np.sum(pred_flat == labels_flat) / len(labels_flat)\n",
    "\n",
    "  return acc\n",
    "\n",
    "# A function that plots the confusion matrix with colors and titles\n",
    "def show_confusion_matrix(confusion_matrix):\n",
    "\n",
    "  hmap = sns.heatmap(confusion_matrix, annot=True, fmt=\"d\", cmap=\"Blues\")\n",
    "  hmap.yaxis.set_ticklabels(hmap.yaxis.get_ticklabels(), rotation=0, ha='right')\n",
    "  hmap.xaxis.set_ticklabels(hmap.xaxis.get_ticklabels(), rotation=30, ha='right')\n",
    "  plt.ylabel('True Labels')\n",
    "  plt.xlabel('Predicted Labels')\n",
    "\n",
    "\n",
    "# A function that calculates all the metrics using the validation/test set\n",
    "def calculate_metrics(y_true, preds):\n",
    "    print('\\nCalculating metrics...')\n",
    "\n",
    "    # Move tensors to CPU if they are on GPU\n",
    "    if torch.is_tensor(y_true) and y_true.is_cuda:\n",
    "        y_true = y_true.cpu()\n",
    "    if torch.is_tensor(preds) and preds.is_cuda:\n",
    "        preds = preds.cpu()\n",
    "\n",
    "    # Convert tensors to NumPy arrays\n",
    "    y_true = y_true.numpy() if torch.is_tensor(y_true) else y_true\n",
    "    preds = preds.numpy() if torch.is_tensor(preds) else preds\n",
    "\n",
    "    # Calculate the accuracy of the model\n",
    "    acc = accuracy_score(y_true, preds)\n",
    "\n",
    "    # Calculate general precision, recall, F1 score of the model and of each class\n",
    "    precision, recall, fscore, support = score(y_true, preds)\n",
    "    print('Accuracy: {}'.format(acc))\n",
    "    print('Precision: {}'.format(precision))\n",
    "    print('Recall: {}'.format(recall))\n",
    "    print('F1 score: {}'.format(fscore))\n",
    "    print('Support: {}'.format(support))\n",
    "\n",
    "    # Print classification report\n",
    "    class_names = ['neutral', 'positive', 'negative']\n",
    "    print(classification_report(y_true, preds, target_names=class_names))\n",
    "\n",
    "    cm = confusion_matrix(y_true, preds)\n",
    "    df_cm = pd.DataFrame(cm, index=class_names, columns=class_names)\n",
    "    show_confusion_matrix(df_cm)\n"
   ]
  },
  {
   "cell_type": "markdown",
   "id": "fcc4b4df",
   "metadata": {
    "id": "0wgPrjmFDeYk",
    "papermill": {
     "duration": 0.015623,
     "end_time": "2024-03-06T11:29:02.766774",
     "exception": false,
     "start_time": "2024-03-06T11:29:02.751151",
     "status": "completed"
    },
    "tags": []
   },
   "source": [
    "#Set up pretrained GreekBERT model and tokenizer"
   ]
  },
  {
   "cell_type": "code",
   "execution_count": 8,
   "id": "cb391481",
   "metadata": {
    "execution": {
     "iopub.execute_input": "2024-03-06T11:29:02.799603Z",
     "iopub.status.busy": "2024-03-06T11:29:02.799328Z",
     "iopub.status.idle": "2024-03-06T11:29:03.866607Z",
     "shell.execute_reply": "2024-03-06T11:29:03.865808Z"
    },
    "id": "yUqfNa-rDkyC",
    "outputId": "cdc57325-b8ae-4fae-e1d8-69912d32f6e7",
    "papermill": {
     "duration": 1.086329,
     "end_time": "2024-03-06T11:29:03.868878",
     "exception": false,
     "start_time": "2024-03-06T11:29:02.782549",
     "status": "completed"
    },
    "tags": []
   },
   "outputs": [
    {
     "data": {
      "application/vnd.jupyter.widget-view+json": {
       "model_id": "9ba64015b3c1497eb3280d0924838643",
       "version_major": 2,
       "version_minor": 0
      },
      "text/plain": [
       "tokenizer_config.json:   0%|          | 0.00/2.00 [00:00<?, ?B/s]"
      ]
     },
     "metadata": {},
     "output_type": "display_data"
    },
    {
     "data": {
      "application/vnd.jupyter.widget-view+json": {
       "model_id": "ae55c5a0519e401e9ceda7870ae97ab9",
       "version_major": 2,
       "version_minor": 0
      },
      "text/plain": [
       "config.json:   0%|          | 0.00/459 [00:00<?, ?B/s]"
      ]
     },
     "metadata": {},
     "output_type": "display_data"
    },
    {
     "data": {
      "application/vnd.jupyter.widget-view+json": {
       "model_id": "aaf720eacece4ecf83492cc4a9f46370",
       "version_major": 2,
       "version_minor": 0
      },
      "text/plain": [
       "vocab.txt:   0%|          | 0.00/530k [00:00<?, ?B/s]"
      ]
     },
     "metadata": {},
     "output_type": "display_data"
    },
    {
     "data": {
      "application/vnd.jupyter.widget-view+json": {
       "model_id": "fc5114d4650e4d7b919e3e7f50c7c004",
       "version_major": 2,
       "version_minor": 0
      },
      "text/plain": [
       "special_tokens_map.json:   0%|          | 0.00/112 [00:00<?, ?B/s]"
      ]
     },
     "metadata": {},
     "output_type": "display_data"
    }
   ],
   "source": [
    "# Define the pre-trained model from Hugging Face and its tokenizer\n",
    "model_name = \"nlpaueb/bert-base-greek-uncased-v1\"\n",
    "tokenizer = AutoTokenizer.from_pretrained(model_name, do_lower_case = True)"
   ]
  },
  {
   "cell_type": "markdown",
   "id": "ffde4214",
   "metadata": {
    "papermill": {
     "duration": 0.01628,
     "end_time": "2024-03-06T11:29:03.901819",
     "exception": false,
     "start_time": "2024-03-06T11:29:03.885539",
     "status": "completed"
    },
    "tags": []
   },
   "source": [
    "Set up pretrained DistilGreekBERT and Tokenizer"
   ]
  },
  {
   "cell_type": "code",
   "execution_count": 9,
   "id": "6d5b7464",
   "metadata": {
    "execution": {
     "iopub.execute_input": "2024-03-06T11:29:03.938192Z",
     "iopub.status.busy": "2024-03-06T11:29:03.937286Z",
     "iopub.status.idle": "2024-03-06T11:29:03.941362Z",
     "shell.execute_reply": "2024-03-06T11:29:03.940514Z"
    },
    "papermill": {
     "duration": 0.024213,
     "end_time": "2024-03-06T11:29:03.943233",
     "exception": false,
     "start_time": "2024-03-06T11:29:03.919020",
     "status": "completed"
    },
    "tags": []
   },
   "outputs": [],
   "source": [
    "#distil_model_name = \"EftychiaKarav/DistilGREEK-BERT\"\n",
    "#distil_tokenizer = AutoTokenizer.from_pretrained(distil_model_name, do_lower_case = True)"
   ]
  },
  {
   "cell_type": "markdown",
   "id": "371500a6",
   "metadata": {
    "papermill": {
     "duration": 0.017242,
     "end_time": "2024-03-06T11:29:03.977603",
     "exception": false,
     "start_time": "2024-03-06T11:29:03.960361",
     "status": "completed"
    },
    "tags": []
   },
   "source": [
    "This is a class initializing a Bert-base model with an additional linear layer on top of it, which uses the embedding vector of size 768 from the [CLS] token and then generates as output the number of the classes through a linear layer (out). The forward function returns the logits for each class."
   ]
  },
  {
   "cell_type": "code",
   "execution_count": 10,
   "id": "e05ac8ab",
   "metadata": {
    "execution": {
     "iopub.execute_input": "2024-03-06T11:29:04.015050Z",
     "iopub.status.busy": "2024-03-06T11:29:04.014757Z",
     "iopub.status.idle": "2024-03-06T11:29:04.024304Z",
     "shell.execute_reply": "2024-03-06T11:29:04.023418Z"
    },
    "id": "SS77PYYZDpOh",
    "papermill": {
     "duration": 0.030811,
     "end_time": "2024-03-06T11:29:04.026326",
     "exception": false,
     "start_time": "2024-03-06T11:29:03.995515",
     "status": "completed"
    },
    "tags": []
   },
   "outputs": [],
   "source": [
    "# Create the BertClassfier class\n",
    "class BertClassifier(nn.Module):\n",
    "    \"\"\"Bert Model for Classification Tasks.\n",
    "    \"\"\"\n",
    "    def __init__(self, bert_model_name, freeze_bert=False):\n",
    "        \"\"\"\n",
    "        @param    bert: a BertModel object\n",
    "        @param    classifier: a torch.nn.Module classifier\n",
    "        @param    freeze_bert (bool): Set `False` to fine-tune the BERT model\n",
    "        \"\"\"\n",
    "        super(BertClassifier, self).__init__()\n",
    "        # Specify hidden size of BERT, hidden size of our classifier, and number of labels\n",
    "        D_in, H, D_out = 768, 50, 3\n",
    "\n",
    "        # Instantiate BERT model\n",
    "        self.bert = AutoModel.from_pretrained(bert_model_name)\n",
    "\n",
    "\n",
    "        # Instantiate an one-layer feed-forward classifier\n",
    "        self.classifier = nn.Sequential(\n",
    "            nn.Linear(D_in, H),\n",
    "            nn.ReLU(),\n",
    "            #nn.Dropout(0.5),\n",
    "            nn.Linear(H, D_out)\n",
    "        )\n",
    "\n",
    "        # Freeze the BERT model\n",
    "        if freeze_bert:\n",
    "            for param in self.bert.parameters():\n",
    "                param.requires_grad = False\n",
    "\n",
    "    def forward(self, input_ids, attention_mask):\n",
    "        \"\"\"\n",
    "        Feed input to BERT and the classifier to compute logits.\n",
    "        @param    input_ids (torch.Tensor): an input tensor with shape (batch_size,\n",
    "                      max_length)\n",
    "        @param    attention_mask (torch.Tensor): a tensor that hold attention mask\n",
    "                      information with shape (batch_size, max_length)\n",
    "        @return   logits (torch.Tensor): an output tensor with shape (batch_size,\n",
    "                      num_labels)\n",
    "        \"\"\"\n",
    "        # Feed input to BERT\n",
    "        outputs = self.bert(input_ids=input_ids,\n",
    "                            attention_mask=attention_mask)\n",
    "\n",
    "        # Extract the last hidden state of the token `[CLS]` for classification task\n",
    "        last_hidden_state_cls = outputs[0][:, 0, :]\n",
    "\n",
    "        # Feed input to classifier to compute logits\n",
    "        logits = self.classifier(last_hidden_state_cls)\n",
    "\n",
    "        return logits"
   ]
  },
  {
   "cell_type": "markdown",
   "id": "fd556525",
   "metadata": {
    "id": "jb7socHLNXqA",
    "papermill": {
     "duration": 0.017691,
     "end_time": "2024-03-06T11:29:04.062041",
     "exception": false,
     "start_time": "2024-03-06T11:29:04.044350",
     "status": "completed"
    },
    "tags": []
   },
   "source": [
    "#Data"
   ]
  },
  {
   "cell_type": "code",
   "execution_count": 11,
   "id": "77b1a8a2",
   "metadata": {
    "execution": {
     "iopub.execute_input": "2024-03-06T11:29:04.098424Z",
     "iopub.status.busy": "2024-03-06T11:29:04.098164Z",
     "iopub.status.idle": "2024-03-06T11:29:04.102925Z",
     "shell.execute_reply": "2024-03-06T11:29:04.102184Z"
    },
    "id": "taIZ3jnVNiwf",
    "papermill": {
     "duration": 0.025017,
     "end_time": "2024-03-06T11:29:04.104776",
     "exception": false,
     "start_time": "2024-03-06T11:29:04.079759",
     "status": "completed"
    },
    "tags": []
   },
   "outputs": [],
   "source": [
    "train='/kaggle/input/ys19-2023-assignment-4a/train_set.csv'\n",
    "val='/kaggle/input/ys19-2023-assignment-4a/valid_set.csv'\n"
   ]
  },
  {
   "cell_type": "markdown",
   "id": "ad6243cb",
   "metadata": {
    "id": "0ZwflLoQDtHU",
    "papermill": {
     "duration": 0.016115,
     "end_time": "2024-03-06T11:29:04.137214",
     "exception": false,
     "start_time": "2024-03-06T11:29:04.121099",
     "status": "completed"
    },
    "tags": []
   },
   "source": [
    "#Data preparation (train and validation)"
   ]
  },
  {
   "cell_type": "code",
   "execution_count": 12,
   "id": "429f36ed",
   "metadata": {
    "execution": {
     "iopub.execute_input": "2024-03-06T11:29:04.213695Z",
     "iopub.status.busy": "2024-03-06T11:29:04.213382Z",
     "iopub.status.idle": "2024-03-06T11:29:47.827020Z",
     "shell.execute_reply": "2024-03-06T11:29:47.825968Z"
    },
    "id": "G1EmqfYODsyS",
    "outputId": "dd288053-9143-467d-cded-a4f6b9a38c30",
    "papermill": {
     "duration": 43.63462,
     "end_time": "2024-03-06T11:29:47.830216",
     "exception": false,
     "start_time": "2024-03-06T11:29:04.195596",
     "status": "completed"
    },
    "tags": []
   },
   "outputs": [
    {
     "name": "stdout",
     "output_type": "stream",
     "text": [
      "------ Preparing the training dataset... ------\n",
      "<class 'pandas.core.frame.DataFrame'>\n",
      "RangeIndex: 36630 entries, 0 to 36629\n",
      "Data columns (total 4 columns):\n",
      " #   Column     Non-Null Count  Dtype \n",
      "---  ------     --------------  ----- \n",
      " 0   New_ID     36630 non-null  int64 \n",
      " 1   Text       36630 non-null  object\n",
      " 2   Sentiment  36630 non-null  object\n",
      " 3   Party      36630 non-null  object\n",
      "dtypes: int64(1), object(3)\n",
      "memory usage: 1.1+ MB\n",
      "None\n",
      "Dataframe checked for NaN values and duplicates!\n",
      "Distribution of data in classes:\n",
      "Sentiment\n",
      "NEUTRAL     0.333333\n",
      "NEGATIVE    0.333333\n",
      "POSITIVE    0.333333\n",
      "Name: count, dtype: float64\n"
     ]
    },
    {
     "name": "stderr",
     "output_type": "stream",
     "text": [
      "/tmp/ipykernel_27/708372891.py:85: SettingWithCopyWarning: \n",
      "A value is trying to be set on a copy of a slice from a DataFrame.\n",
      "Try using .loc[row_indexer,col_indexer] = value instead\n",
      "\n",
      "See the caveats in the documentation: https://pandas.pydata.org/pandas-docs/stable/user_guide/indexing.html#returning-a-view-versus-a-copy\n",
      "  df[Text] = df[Text].apply(preprocess_text_first_step)\n",
      "/tmp/ipykernel_27/708372891.py:88: SettingWithCopyWarning: \n",
      "A value is trying to be set on a copy of a slice from a DataFrame.\n",
      "Try using .loc[row_indexer,col_indexer] = value instead\n",
      "\n",
      "See the caveats in the documentation: https://pandas.pydata.org/pandas-docs/stable/user_guide/indexing.html#returning-a-view-versus-a-copy\n",
      "  df[Text] = df[Text].apply(preprocess_text_second_step)\n",
      "/tmp/ipykernel_27/708372891.py:91: SettingWithCopyWarning: \n",
      "A value is trying to be set on a copy of a slice from a DataFrame.\n",
      "Try using .loc[row_indexer,col_indexer] = value instead\n",
      "\n",
      "See the caveats in the documentation: https://pandas.pydata.org/pandas-docs/stable/user_guide/indexing.html#returning-a-view-versus-a-copy\n",
      "  df[Text] = df[Text].apply(lambda x: preprocess_text_third_step(x))\n",
      "/tmp/ipykernel_27/708372891.py:102: SettingWithCopyWarning: \n",
      "A value is trying to be set on a copy of a slice from a DataFrame\n",
      "\n",
      "See the caveats in the documentation: https://pandas.pydata.org/pandas-docs/stable/user_guide/indexing.html#returning-a-view-versus-a-copy\n",
      "  df.drop(df[empty_lists].index, inplace=True)\n"
     ]
    },
    {
     "name": "stdout",
     "output_type": "stream",
     "text": [
      "\n",
      "Text done pre-processing!\n",
      "\n",
      "Number of rows with empty lists: 14\n",
      "\n",
      "Shape after postprocessing: (36616, 2)\n",
      "The training dataset is ready and saved into csv format!\n",
      "\n",
      "------ Preparing the validation dataset... ------\n",
      "<class 'pandas.core.frame.DataFrame'>\n",
      "RangeIndex: 5232 entries, 0 to 5231\n",
      "Data columns (total 4 columns):\n",
      " #   Column     Non-Null Count  Dtype \n",
      "---  ------     --------------  ----- \n",
      " 0   New_ID     5232 non-null   int64 \n",
      " 1   Text       5232 non-null   object\n",
      " 2   Sentiment  5232 non-null   object\n",
      " 3   Party      5232 non-null   object\n",
      "dtypes: int64(1), object(3)\n",
      "memory usage: 163.6+ KB\n",
      "None\n",
      "Dataframe checked for NaN values and duplicates!\n",
      "Distribution of data in classes:\n",
      "Sentiment\n",
      "POSITIVE    0.333333\n",
      "NEGATIVE    0.333333\n",
      "NEUTRAL     0.333333\n",
      "Name: count, dtype: float64\n"
     ]
    },
    {
     "name": "stderr",
     "output_type": "stream",
     "text": [
      "/tmp/ipykernel_27/708372891.py:85: SettingWithCopyWarning: \n",
      "A value is trying to be set on a copy of a slice from a DataFrame.\n",
      "Try using .loc[row_indexer,col_indexer] = value instead\n",
      "\n",
      "See the caveats in the documentation: https://pandas.pydata.org/pandas-docs/stable/user_guide/indexing.html#returning-a-view-versus-a-copy\n",
      "  df[Text] = df[Text].apply(preprocess_text_first_step)\n",
      "/tmp/ipykernel_27/708372891.py:88: SettingWithCopyWarning: \n",
      "A value is trying to be set on a copy of a slice from a DataFrame.\n",
      "Try using .loc[row_indexer,col_indexer] = value instead\n",
      "\n",
      "See the caveats in the documentation: https://pandas.pydata.org/pandas-docs/stable/user_guide/indexing.html#returning-a-view-versus-a-copy\n",
      "  df[Text] = df[Text].apply(preprocess_text_second_step)\n"
     ]
    },
    {
     "name": "stdout",
     "output_type": "stream",
     "text": [
      "\n",
      "Text done pre-processing!\n",
      "\n",
      "Number of rows with empty lists: 1\n",
      "\n",
      "Shape after postprocessing: (5231, 2)\n",
      "The validation dataset is ready and saved into csv format!\n"
     ]
    },
    {
     "name": "stderr",
     "output_type": "stream",
     "text": [
      "/tmp/ipykernel_27/708372891.py:91: SettingWithCopyWarning: \n",
      "A value is trying to be set on a copy of a slice from a DataFrame.\n",
      "Try using .loc[row_indexer,col_indexer] = value instead\n",
      "\n",
      "See the caveats in the documentation: https://pandas.pydata.org/pandas-docs/stable/user_guide/indexing.html#returning-a-view-versus-a-copy\n",
      "  df[Text] = df[Text].apply(lambda x: preprocess_text_third_step(x))\n",
      "/tmp/ipykernel_27/708372891.py:102: SettingWithCopyWarning: \n",
      "A value is trying to be set on a copy of a slice from a DataFrame\n",
      "\n",
      "See the caveats in the documentation: https://pandas.pydata.org/pandas-docs/stable/user_guide/indexing.html#returning-a-view-versus-a-copy\n",
      "  df.drop(df[empty_lists].index, inplace=True)\n"
     ]
    }
   ],
   "source": [
    "# Prepare the training dataset\n",
    "print('------ Preparing the training dataset... ------')\n",
    "\n",
    "# Opens, reads, checks for duplicates and removes missing values\n",
    "df_train  = read_explore_clean_dataset(train)\n",
    "\n",
    "# Preprocess and resample dataset and return a new cleaned one\n",
    "train_dataframe = get_columns(df_train,'Text','Sentiment')\n",
    "\n",
    "# Save the testing data into csv format\n",
    "train_dataframe.to_csv(\"train.csv\", index=False)\n",
    "print('The training dataset is ready and saved into csv format!')\n",
    "\n",
    "# Prepare the validation dataset\n",
    "print('\\n------ Preparing the validation dataset... ------')\n",
    "\n",
    "# Opens, reads, checks for duplicates and removes missing values\n",
    "df_val = read_explore_clean_dataset(val)\n",
    "\n",
    "# Preprocess and resample dataset and return a new cleaned one\n",
    "valid_dataframe = get_columns(df_val, 'Text', 'Sentiment')\n",
    "\n",
    "# Save the testing data into csv format\n",
    "valid_dataframe.to_csv(\"validation.csv\", index=False)\n",
    "print('The validation dataset is ready and saved into csv format!')"
   ]
  },
  {
   "cell_type": "markdown",
   "id": "9023f4ed",
   "metadata": {
    "papermill": {
     "duration": 0.017318,
     "end_time": "2024-03-06T11:29:47.865949",
     "exception": false,
     "start_time": "2024-03-06T11:29:47.848631",
     "status": "completed"
    },
    "tags": []
   },
   "source": [
    "**BERT Tokenizer**\n",
    "In order to apply the pre-trained BERT, we must use the tokenizer provided by the library. This is because (1) the model has a specific, fixed vocabulary and (2) the BERT tokenizer has a particular way of handling out-of-vocabulary words.\n",
    "\n",
    "In addition, we are required to add special tokens to the start and end of each sentence, pad & truncate all sentences to a single constant length, and explicitly specify what are padding tokens with the \"attention mask\".\n",
    "\n",
    "The encode_plus method of BERT tokenizer will:\n",
    "\n",
    "(1) split our text into tokens,\n",
    "\n",
    "(2) add the special [CLS] and [SEP] tokens, and\n",
    "\n",
    "(3) convert these tokens into indexes of the tokenizer vocabulary,\n",
    "\n",
    "(4) pad or truncate sentences to max length, and\n",
    "\n",
    "(5) create attention mask."
   ]
  },
  {
   "cell_type": "code",
   "execution_count": 13,
   "id": "acd027e7",
   "metadata": {
    "execution": {
     "iopub.execute_input": "2024-03-06T11:29:47.902583Z",
     "iopub.status.busy": "2024-03-06T11:29:47.901923Z",
     "iopub.status.idle": "2024-03-06T11:29:47.909020Z",
     "shell.execute_reply": "2024-03-06T11:29:47.908095Z"
    },
    "papermill": {
     "duration": 0.027537,
     "end_time": "2024-03-06T11:29:47.910981",
     "exception": false,
     "start_time": "2024-03-06T11:29:47.883444",
     "status": "completed"
    },
    "tags": []
   },
   "outputs": [],
   "source": [
    "# Create a function to tokenize a set of texts\n",
    "def preprocessing_for_bert(data):\n",
    "    \"\"\"Perform required preprocessing steps for pretrained BERT.\n",
    "    @param    data (np.array): Array of texts to be processed.\n",
    "    @return   input_ids (torch.Tensor): Tensor of token ids to be fed to a model.\n",
    "    @return   attention_masks (torch.Tensor): Tensor of indices specifying which\n",
    "                  tokens should be attended to by the model.\n",
    "    \"\"\"\n",
    "    # Create empty lists to store outputs\n",
    "    input_ids = []\n",
    "    attention_masks = []\n",
    "\n",
    "    # For every sentence...\n",
    "    for sent in data:\n",
    "        # `encode_plus` will:\n",
    "        #    (1) Tokenize the sentence\n",
    "        #    (2) Add the `[CLS]` and `[SEP]` token to the start and end\n",
    "        #    (3) Truncate/Pad sentence to max length\n",
    "        #    (4) Map tokens to their IDs\n",
    "        #    (5) Create attention mask\n",
    "        #    (6) Return a dictionary of outputs\n",
    "        encoded_sent = tokenizer.encode_plus(\n",
    "            text=sent,\n",
    "            add_special_tokens=True,        # Add `[CLS]` and `[SEP]`\n",
    "            max_length=MAX_LEN,                  # Max length to truncate/pad\n",
    "            pad_to_max_length=True,         # Pad sentence to max length\n",
    "            #return_tensors='pt',           # Return PyTorch tensor\n",
    "            return_attention_mask=True      # Return attention mask\n",
    "            )\n",
    "\n",
    "        # Add the outputs to the lists\n",
    "        input_ids.append(encoded_sent.get('input_ids'))\n",
    "        attention_masks.append(encoded_sent.get('attention_mask'))\n",
    "\n",
    "    # Convert lists to tensors\n",
    "    input_ids = torch.tensor(input_ids)\n",
    "    attention_masks = torch.tensor(attention_masks)\n",
    "\n",
    "    return input_ids, attention_masks"
   ]
  },
  {
   "cell_type": "code",
   "execution_count": 14,
   "id": "26eb9f17",
   "metadata": {
    "execution": {
     "iopub.execute_input": "2024-03-06T11:29:47.947425Z",
     "iopub.status.busy": "2024-03-06T11:29:47.946911Z",
     "iopub.status.idle": "2024-03-06T11:29:55.674363Z",
     "shell.execute_reply": "2024-03-06T11:29:55.673199Z"
    },
    "id": "Gm_amwbUD2ux",
    "outputId": "4c5f2347-9cb7-4d1c-b1a5-2882b2fb5dbe",
    "papermill": {
     "duration": 7.74804,
     "end_time": "2024-03-06T11:29:55.676477",
     "exception": false,
     "start_time": "2024-03-06T11:29:47.928437",
     "status": "completed"
    },
    "tags": []
   },
   "outputs": [
    {
     "name": "stdout",
     "output_type": "stream",
     "text": [
      "['[CLS]', 'απολυμανση', 'κορ', '##ιοι', 'απε', '##ντο', '##μω', '##ση', 'κορ', '##ιος', 'απολυμανσει', '##ς', 'κορ', '##ιος', 'την', 'κυριακη', 'κουλ', '##ης', 'τσιπρα', 'κορ', '##ιοι', 'απολυμανση', 'καταπολεμηση', 'κορ', '##ιων', 'απε', '##ντο', '##μω', '##ση', 'για', 'κορ', '##ιους', '[SEP]']\n",
      "Max length:  95\n"
     ]
    }
   ],
   "source": [
    "# Open and read the new cleaned dataframes\n",
    "train_dataframe = pd.read_csv('train.csv', sep=',')\n",
    "valid_dataframe = pd.read_csv('validation.csv', sep=',')\n",
    "\n",
    "# Concatenate the train and validation data\n",
    "all_tweets = np.concatenate([train_dataframe.Text.values, valid_dataframe.Text.values])\n",
    "\n",
    "# Encode the concatenated data\n",
    "encoded_tweets = [tokenizer.encode(sent, add_special_tokens=True) for sent in all_tweets]\n",
    "#print(encoded_tweets[0])\n",
    "print(tokenizer.convert_ids_to_tokens(encoded_tweets[0]))\n",
    "# Find the maximum length\n",
    "max_len = max([len(sent) for sent in encoded_tweets])\n",
    "print('Max length: ', max_len)"
   ]
  },
  {
   "cell_type": "code",
   "execution_count": 15,
   "id": "2f715404",
   "metadata": {
    "execution": {
     "iopub.execute_input": "2024-03-06T11:29:55.715970Z",
     "iopub.status.busy": "2024-03-06T11:29:55.715437Z",
     "iopub.status.idle": "2024-03-06T11:30:07.598541Z",
     "shell.execute_reply": "2024-03-06T11:30:07.597670Z"
    },
    "id": "tEfTXv1bD6ve",
    "outputId": "936226f2-d48d-47d8-ef84-e71601189d61",
    "papermill": {
     "duration": 11.904507,
     "end_time": "2024-03-06T11:30:07.600946",
     "exception": false,
     "start_time": "2024-03-06T11:29:55.696439",
     "status": "completed"
    },
    "tags": []
   },
   "outputs": [
    {
     "name": "stderr",
     "output_type": "stream",
     "text": [
      "Truncation was not explicitly activated but `max_length` is provided a specific value, please use `truncation=True` to explicitly truncate examples to max length. Defaulting to 'longest_first' truncation strategy. If you encode pairs of sequences (GLUE-style) with the tokenizer you can select this strategy more precisely by providing a specific strategy to `truncation`.\n"
     ]
    },
    {
     "name": "stdout",
     "output_type": "stream",
     "text": [
      "Original:  απολυμανση κοριοι απεντομωση κοριος απολυμανσεις κοριος την κυριακη κουλης τσιπρα κοριοι απολυμανση καταπολεμηση κοριων απεντομωση για κοριους\n",
      "Token IDs:  [101, 24023, 1643, 4314, 1294, 2108, 4651, 506, 1643, 2251, 31429, 278, 1643, 2251, 350, 933, 9269, 415, 2269, 1643, 4314, 24023, 4109, 1643, 781, 1294, 2108, 4651, 506, 353, 1643, 7418, 102, 0, 0, 0, 0, 0, 0, 0, 0, 0, 0, 0, 0, 0, 0, 0, 0, 0, 0, 0, 0, 0, 0, 0, 0, 0, 0, 0, 0, 0, 0, 0, 0, 0, 0, 0, 0, 0, 0, 0, 0, 0, 0, 0, 0, 0, 0, 0, 0, 0, 0, 0, 0, 0, 0, 0, 0, 0, 0, 0, 0, 0, 0]\n",
      "Tokenizing data...\n"
     ]
    },
    {
     "name": "stderr",
     "output_type": "stream",
     "text": [
      "/opt/conda/lib/python3.10/site-packages/transformers/tokenization_utils_base.py:2645: FutureWarning: The `pad_to_max_length` argument is deprecated and will be removed in a future version, use `padding=True` or `padding='longest'` to pad to the longest sequence in the batch, or use `padding='max_length'` to pad to a max length. In this case, you can give a specific length with `max_length` (e.g. `max_length=45`) or leave max_length to None to pad to the maximal input size of the model (e.g. 512 for Bert).\n",
      "  warnings.warn(\n"
     ]
    }
   ],
   "source": [
    "MAX_LEN = 95\n",
    "\n",
    "# Get the texts and their labels from the training and validation data\n",
    "X_train = train_dataframe.Text.values\n",
    "y_train = train_dataframe.Sentiment.values\n",
    "\n",
    "X_val = valid_dataframe.Text.values\n",
    "y_val = valid_dataframe.Sentiment.values\n",
    "\n",
    "# Print sentence 0 and its encoded token ids\n",
    "token_ids = list(preprocessing_for_bert([X_train[0]])[0].squeeze().numpy())\n",
    "print('Original: ', X_train[0])\n",
    "print('Token IDs: ', token_ids)\n",
    "\n",
    "# Run function `preprocessing_for_bert` on the train set and the validation set\n",
    "print('Tokenizing data...')\n",
    "train_inputs, train_masks = preprocessing_for_bert(X_train)\n",
    "val_inputs, val_masks = preprocessing_for_bert(X_val)"
   ]
  },
  {
   "cell_type": "markdown",
   "id": "4c2b8982",
   "metadata": {
    "id": "B6U2hyDDJqpg",
    "papermill": {
     "duration": 0.018171,
     "end_time": "2024-03-06T11:30:07.638400",
     "exception": false,
     "start_time": "2024-03-06T11:30:07.620229",
     "status": "completed"
    },
    "tags": []
   },
   "source": [
    "#Create PyTorch DataLoader"
   ]
  },
  {
   "cell_type": "code",
   "execution_count": 16,
   "id": "623db6cb",
   "metadata": {
    "execution": {
     "iopub.execute_input": "2024-03-06T11:30:07.677187Z",
     "iopub.status.busy": "2024-03-06T11:30:07.676881Z",
     "iopub.status.idle": "2024-03-06T11:30:07.707035Z",
     "shell.execute_reply": "2024-03-06T11:30:07.706301Z"
    },
    "id": "RQpA6fTw1iYR",
    "papermill": {
     "duration": 0.052203,
     "end_time": "2024-03-06T11:30:07.709110",
     "exception": false,
     "start_time": "2024-03-06T11:30:07.656907",
     "status": "completed"
    },
    "tags": []
   },
   "outputs": [],
   "source": [
    "# Convert other data types to torch.Tensor\n",
    "train_labels = torch.tensor(y_train)\n",
    "val_labels = torch.tensor(y_val)\n",
    "\n",
    "# For fine-tuning BERT, the authors recommend a batch size of 16 or 32.\n",
    "batch_size = 32\n",
    "\n",
    "# Create the DataLoader for our training set\n",
    "train_data = TensorDataset(train_inputs, train_masks, train_labels)\n",
    "train_sampler = RandomSampler(train_data)\n",
    "train_dataloader = DataLoader(train_data, sampler=train_sampler, batch_size=batch_size)\n",
    "\n",
    "# Create the DataLoader for our validation set\n",
    "val_data = TensorDataset(val_inputs, val_masks, val_labels)\n",
    "val_sampler = SequentialSampler(val_data)\n",
    "val_dataloader = DataLoader(val_data, sampler=val_sampler, batch_size=batch_size)"
   ]
  },
  {
   "cell_type": "markdown",
   "id": "6e640d00",
   "metadata": {
    "id": "d20sdsbSN9QO",
    "papermill": {
     "duration": 0.018021,
     "end_time": "2024-03-06T11:30:07.747347",
     "exception": false,
     "start_time": "2024-03-06T11:30:07.729326",
     "status": "completed"
    },
    "tags": []
   },
   "source": [
    "#Training and evaluate function"
   ]
  },
  {
   "cell_type": "code",
   "execution_count": 17,
   "id": "70757d83",
   "metadata": {
    "execution": {
     "iopub.execute_input": "2024-03-06T11:30:07.785690Z",
     "iopub.status.busy": "2024-03-06T11:30:07.785347Z",
     "iopub.status.idle": "2024-03-06T11:30:07.810866Z",
     "shell.execute_reply": "2024-03-06T11:30:07.809997Z"
    },
    "id": "oy9-V24OD-NT",
    "papermill": {
     "duration": 0.04712,
     "end_time": "2024-03-06T11:30:07.812872",
     "exception": false,
     "start_time": "2024-03-06T11:30:07.765752",
     "status": "completed"
    },
    "tags": []
   },
   "outputs": [],
   "source": [
    "def train(model, train_dataloader, val_dataloader, epochs=4, evaluation=False):\n",
    "    \"\"\"Train the BertClassifier model.\"\"\"\n",
    "\n",
    "    train_losses = []\n",
    "    val_losses = []\n",
    "    train_accuracies = []\n",
    "    val_accuracies = []\n",
    "\n",
    "    # Start training loop\n",
    "    print(\"Start training...\\n\")\n",
    "    for epoch_i in range(epochs):\n",
    "        # =======================================\n",
    "        #               Training\n",
    "        # =======================================\n",
    "        # Measure the elapsed time of each epoch\n",
    "        t0_epoch = time.time()\n",
    "        # Reset tracking variables at the beginning of each epoch\n",
    "        total_loss = 0\n",
    "        correct_predictions_train = 0\n",
    "        total_predictions_train = 0\n",
    "        # Put the model into the training mode\n",
    "        model.train()\n",
    "        # For each batch of training data...\n",
    "        for step, batch in enumerate(train_dataloader):\n",
    "            # Load batch to GPU\n",
    "            b_input_ids, b_attn_mask, b_labels = tuple(t.to(device) for t in batch)\n",
    "            # Zero out any previously calculated gradients\n",
    "            model.zero_grad()\n",
    "            # Perform a forward pass. This will return logits.\n",
    "            logits = model(b_input_ids, b_attn_mask)\n",
    "            # Compute loss and accumulate the loss values\n",
    "            loss = loss_fn(logits, b_labels)\n",
    "            total_loss += loss.item()\n",
    "            # Perform a backward pass to calculate gradients\n",
    "            loss.backward()\n",
    "            # Clip the norm of the gradients to 1.0 to prevent \"exploding gradients\"\n",
    "            torch.nn.utils.clip_grad_norm_(model.parameters(), 1.0)\n",
    "            # Update parameters and the learning rate\n",
    "            optimizer.step()\n",
    "            scheduler.step()\n",
    "            # Calculate the number of correct predictions in this batch\n",
    "            _, predicted = torch.max(logits, 1)\n",
    "            correct_predictions_train += (predicted == b_labels).sum().item()\n",
    "            total_predictions_train += b_labels.size(0)\n",
    "\n",
    "        # Calculate the average training loss and accuracy for this epoch\n",
    "        avg_train_loss = total_loss / len(train_dataloader)\n",
    "        train_losses.append(avg_train_loss)\n",
    "        train_accuracy = correct_predictions_train / total_predictions_train * 100\n",
    "        train_accuracies.append(train_accuracy)\n",
    "\n",
    "        # Calculate elapsed time for the epoch\n",
    "        training_time = time.time() - t0_epoch\n",
    "\n",
    "        # =======================================\n",
    "        #               Evaluation\n",
    "        # =======================================\n",
    "        if evaluation:\n",
    "            val_loss, val_accuracy = evaluate(model, val_dataloader)\n",
    "            val_losses.append(val_loss)\n",
    "            val_accuracies.append(val_accuracy)\n",
    "\n",
    "        # Print the epoch statistics\n",
    "        print(f\"Epoch {epoch_i + 1}/{epochs}:\")\n",
    "        print(f\"  Train Loss: {avg_train_loss:.4f} | Train Accuracy: {train_accuracy:.2f}% | Time Elapsed: {training_time:.2f} seconds\")\n",
    "        if evaluation:\n",
    "            print(f\"  Val Loss: {val_loss:.4f} | Val Accuracy: {val_accuracy:.2f}%\")\n",
    "        print(\"-\" * 50)\n",
    "\n",
    "    print(\"Training complete!\")\n",
    "    # Plot the learning curves\n",
    "    plt.figure(figsize=(12, 6))\n",
    "    plt.subplot(1, 2, 1)\n",
    "    plt.plot(range(1, epochs + 1), train_losses, label='Training Loss')\n",
    "    if evaluation:\n",
    "        plt.plot(range(1, epochs + 1), val_losses, label='Validation Loss')\n",
    "    plt.xlabel('Epoch')\n",
    "    plt.ylabel('Loss')\n",
    "    plt.title('Training and Validation Loss')\n",
    "    plt.xticks(range(1, epochs + 1))  # Set discrete epoch values on x-axis\n",
    "    plt.legend()\n",
    "    plt.grid(True)\n",
    "\n",
    "    plt.subplot(1, 2, 2)\n",
    "    plt.plot(range(1, epochs + 1), train_accuracies, label='Training Accuracy')\n",
    "    if evaluation:\n",
    "        plt.plot(range(1, epochs + 1), val_accuracies, label='Validation Accuracy')\n",
    "    plt.xlabel('Epoch')\n",
    "    plt.ylabel('Accuracy (%)')\n",
    "    plt.title('Training and Validation Accuracy')\n",
    "    plt.xticks(range(1, epochs + 1))  # Set discrete epoch values on x-axis\n",
    "    plt.legend()\n",
    "    plt.grid(True)\n",
    "\n",
    "    plt.tight_layout()\n",
    "    plt.show()\n",
    "    return model\n",
    "\n",
    "\n",
    "def evaluate(model, val_dataloader):\n",
    "    \"\"\"After the completion of each training epoch, measure the model's performance\n",
    "    on our validation set.\n",
    "    \"\"\"\n",
    "    # Put the model into the evaluation mode. The dropout layers are disabled during\n",
    "    # the test time.\n",
    "    model.eval()\n",
    "    # Tracking variables\n",
    "    val_accuracy = []\n",
    "    val_loss = []\n",
    "    # For each batch in our validation set...\n",
    "    for batch in val_dataloader:\n",
    "        # Load batch to GPU\n",
    "        b_input_ids, b_attn_mask, b_labels = tuple(t.to(device) for t in batch)\n",
    "        # Compute logits\n",
    "        with torch.no_grad():\n",
    "            logits = model(b_input_ids, b_attn_mask)\n",
    "        # Compute loss\n",
    "        loss = loss_fn(logits, b_labels)\n",
    "        val_loss.append(loss.item())\n",
    "        # Get the predictions\n",
    "        preds = torch.argmax(logits, dim=1).flatten()\n",
    "        # Calculate the accuracy rate\n",
    "        accuracy = (preds == b_labels).cpu().numpy().mean() * 100\n",
    "        val_accuracy.append(accuracy)\n",
    "    # Compute the average accuracy and loss over the validation set.\n",
    "    val_loss = np.mean(val_loss)\n",
    "    val_accuracy = np.mean(val_accuracy)\n",
    "    return val_loss, val_accuracy\n",
    "\n",
    "def bert_predict_val(model, val_dataloader):\n",
    "    \"\"\"Perform a forward pass on the trained BERT model to predict probabilities\n",
    "    on the test set.\n",
    "    \"\"\"\n",
    "    # Put the model into the evaluation mode. The dropout layers are disabled during\n",
    "    # the test time.\n",
    "    model.eval()\n",
    "    all_logits = []\n",
    "    all_labels = []\n",
    "    # For each batch in our test set...\n",
    "    for batch in val_dataloader:\n",
    "        # Load batch to GPU\n",
    "        b_input_ids, b_attn_mask, b_labels = tuple(t.to(device) for t in batch)\n",
    "        # Compute logits\n",
    "        with torch.no_grad():\n",
    "            logits = model(b_input_ids, b_attn_mask)\n",
    "        all_logits.append(logits)\n",
    "        all_labels.append(b_labels)\n",
    "    # Concatenate logits from each batch\n",
    "    all_logits = torch.cat(all_logits, dim=0)\n",
    "    # Concatenate labels from each batch\n",
    "    all_labels = torch.cat(all_labels, dim=0)\n",
    "    # Apply softmax to calculate probabilities\n",
    "    probs = F.softmax(all_logits, dim=1).cpu().numpy()\n",
    "    y_pred = np.argmax(probs, axis=1)\n",
    "    calculate_metrics(all_labels, y_pred)\n",
    "\n",
    "\n"
   ]
  },
  {
   "cell_type": "markdown",
   "id": "f3317d32",
   "metadata": {
    "id": "VjsWw96PEMqN",
    "papermill": {
     "duration": 0.019081,
     "end_time": "2024-03-06T11:30:07.850043",
     "exception": false,
     "start_time": "2024-03-06T11:30:07.830962",
     "status": "completed"
    },
    "tags": []
   },
   "source": [
    "#Prepare parameters for training and evaluation"
   ]
  },
  {
   "cell_type": "code",
   "execution_count": 18,
   "id": "0de41c7b",
   "metadata": {
    "execution": {
     "iopub.execute_input": "2024-03-06T11:30:07.887882Z",
     "iopub.status.busy": "2024-03-06T11:30:07.887342Z",
     "iopub.status.idle": "2024-03-06T11:30:07.893866Z",
     "shell.execute_reply": "2024-03-06T11:30:07.892944Z"
    },
    "id": "Z1r2NFSvK_Hs",
    "papermill": {
     "duration": 0.027435,
     "end_time": "2024-03-06T11:30:07.895751",
     "exception": false,
     "start_time": "2024-03-06T11:30:07.868316",
     "status": "completed"
    },
    "tags": []
   },
   "outputs": [],
   "source": [
    "def initialize_model(bert_model_name,epochs=4):\n",
    "    \"\"\"Initialize the Bert Classifier, the optimizer and the learning rate scheduler.\n",
    "    \"\"\"\n",
    "    # Instantiate Bert Classifier\n",
    "    bert_classifier = BertClassifier(bert_model_name,freeze_bert=False)\n",
    "\n",
    "    # Tell PyTorch to run the model on GPU\n",
    "    bert_classifier.to(device)\n",
    "\n",
    "    # Create the optimizer\n",
    "    optimizer = AdamW(bert_classifier.parameters(),\n",
    "                      lr=2e-5,    # Default learning rate\n",
    "                      eps=1e-8    # Default epsilon value\n",
    "                      )\n",
    "\n",
    "    # Total number of training steps\n",
    "    total_steps = len(train_dataloader) * epochs\n",
    "    loss_fn = nn.CrossEntropyLoss()\n",
    "\n",
    "    # Set up the learning rate scheduler\n",
    "    scheduler = get_linear_schedule_with_warmup(optimizer,\n",
    "                                                num_warmup_steps=0, # Default value\n",
    "                                                num_training_steps=total_steps)\n",
    "    return bert_classifier, optimizer, scheduler, loss_fn"
   ]
  },
  {
   "cell_type": "code",
   "execution_count": 19,
   "id": "1826ddbf",
   "metadata": {
    "execution": {
     "iopub.execute_input": "2024-03-06T11:30:07.932459Z",
     "iopub.status.busy": "2024-03-06T11:30:07.932203Z",
     "iopub.status.idle": "2024-03-06T11:30:13.166526Z",
     "shell.execute_reply": "2024-03-06T11:30:13.165517Z"
    },
    "id": "n3gWfabHERBi",
    "outputId": "c6336214-618f-43a2-b7d4-f2dc7e32caa7",
    "papermill": {
     "duration": 5.255282,
     "end_time": "2024-03-06T11:30:13.168986",
     "exception": false,
     "start_time": "2024-03-06T11:30:07.913704",
     "status": "completed"
    },
    "tags": []
   },
   "outputs": [
    {
     "data": {
      "application/vnd.jupyter.widget-view+json": {
       "model_id": "06b3418c9d2c4d39958b938aa6d9e96a",
       "version_major": 2,
       "version_minor": 0
      },
      "text/plain": [
       "pytorch_model.bin:   0%|          | 0.00/454M [00:00<?, ?B/s]"
      ]
     },
     "metadata": {},
     "output_type": "display_data"
    },
    {
     "name": "stderr",
     "output_type": "stream",
     "text": [
      "/opt/conda/lib/python3.10/site-packages/torch/_utils.py:831: UserWarning: TypedStorage is deprecated. It will be removed in the future and UntypedStorage will be the only storage class. This should only matter to you if you are using storages directly.  To access UntypedStorage directly, use tensor.untyped_storage() instead of tensor.storage()\n",
      "  return self.fget.__get__(instance, owner)()\n",
      "/opt/conda/lib/python3.10/site-packages/transformers/optimization.py:429: FutureWarning: This implementation of AdamW is deprecated and will be removed in a future version. Use the PyTorch implementation torch.optim.AdamW instead, or set `no_deprecation_warning=True` to disable this warning\n",
      "  warnings.warn(\n"
     ]
    }
   ],
   "source": [
    "set_seed(42)    # Set seed for reproducibility\n",
    "bert_classifier, optimizer, scheduler, loss_fn = initialize_model(model_name,epochs=2)\n"
   ]
  },
  {
   "cell_type": "markdown",
   "id": "c9ce0408",
   "metadata": {
    "papermill": {
     "duration": 0.018474,
     "end_time": "2024-03-06T11:30:13.208667",
     "exception": false,
     "start_time": "2024-03-06T11:30:13.190193",
     "status": "completed"
    },
    "tags": []
   },
   "source": [
    "#Train and Predict"
   ]
  },
  {
   "cell_type": "code",
   "execution_count": 20,
   "id": "384f76ee",
   "metadata": {
    "execution": {
     "iopub.execute_input": "2024-03-06T11:30:13.246412Z",
     "iopub.status.busy": "2024-03-06T11:30:13.245956Z",
     "iopub.status.idle": "2024-03-06T11:49:59.907356Z",
     "shell.execute_reply": "2024-03-06T11:49:59.906320Z"
    },
    "papermill": {
     "duration": 1186.682682,
     "end_time": "2024-03-06T11:49:59.909491",
     "exception": false,
     "start_time": "2024-03-06T11:30:13.226809",
     "status": "completed"
    },
    "tags": []
   },
   "outputs": [
    {
     "name": "stdout",
     "output_type": "stream",
     "text": [
      "Start training...\n",
      "\n",
      "Epoch 1/2:\n",
      "  Train Loss: 1.0843 | Train Accuracy: 38.16% | Time Elapsed: 546.46 seconds\n",
      "  Val Loss: 1.0640 | Val Accuracy: 39.81%\n",
      "--------------------------------------------------\n",
      "Epoch 2/2:\n",
      "  Train Loss: 1.0471 | Train Accuracy: 42.52% | Time Elapsed: 552.75 seconds\n",
      "  Val Loss: 1.0477 | Val Accuracy: 42.86%\n",
      "--------------------------------------------------\n",
      "Training complete!\n"
     ]
    },
    {
     "data": {
      "image/png": "[encoded data removed]",
      "text/plain": [
       "<Figure size 1200x600 with 2 Axes>"
      ]
     },
     "metadata": {},
     "output_type": "display_data"
    },
    {
     "name": "stdout",
     "output_type": "stream",
     "text": [
      "\n",
      "Calculating metrics...\n",
      "Accuracy: 0.42821640221754925\n",
      "Precision: [0.47416413 0.42362525 0.4122807 ]\n",
      "Recall: [0.26850258 0.47706422 0.53899083]\n",
      "F1 score: [0.34285714 0.44875944 0.46719682]\n",
      "Support: [1743 1744 1744]\n",
      "              precision    recall  f1-score   support\n",
      "\n",
      "     neutral       0.47      0.27      0.34      1743\n",
      "    positive       0.42      0.48      0.45      1744\n",
      "    negative       0.41      0.54      0.47      1744\n",
      "\n",
      "    accuracy                           0.43      5231\n",
      "   macro avg       0.44      0.43      0.42      5231\n",
      "weighted avg       0.44      0.43      0.42      5231\n",
      "\n"
     ]
    },
    {
     "data": {
      "image/png": "[encoded data removed]",
      "text/plain": [
       "<Figure size 640x480 with 2 Axes>"
      ]
     },
     "metadata": {},
     "output_type": "display_data"
    }
   ],
   "source": [
    "trained_model=train(bert_classifier, train_dataloader, val_dataloader, epochs=2, evaluation=True)\n",
    "\n",
    "bert_predict_val(trained_model,val_dataloader)"
   ]
  },
  {
   "cell_type": "markdown",
   "id": "ab348b07",
   "metadata": {
    "papermill": {
     "duration": 0.019971,
     "end_time": "2024-03-06T11:49:59.949838",
     "exception": false,
     "start_time": "2024-03-06T11:49:59.929867",
     "status": "completed"
    },
    "tags": []
   },
   "source": [
    "#Save finetuned model"
   ]
  },
  {
   "cell_type": "code",
   "execution_count": 21,
   "id": "34a75ce1",
   "metadata": {
    "execution": {
     "iopub.execute_input": "2024-03-06T11:49:59.991845Z",
     "iopub.status.busy": "2024-03-06T11:49:59.991539Z",
     "iopub.status.idle": "2024-03-06T11:50:00.712298Z",
     "shell.execute_reply": "2024-03-06T11:50:00.711342Z"
    },
    "papermill": {
     "duration": 0.743923,
     "end_time": "2024-03-06T11:50:00.714525",
     "exception": false,
     "start_time": "2024-03-06T11:49:59.970602",
     "status": "completed"
    },
    "tags": []
   },
   "outputs": [
    {
     "name": "stdout",
     "output_type": "stream",
     "text": [
      "Saving model to ./model_save/\n"
     ]
    },
    {
     "data": {
      "text/plain": [
       "('./model_save/tokenizer_config.json',\n",
       " './model_save/special_tokens_map.json',\n",
       " './model_save/vocab.txt',\n",
       " './model_save/added_tokens.json',\n",
       " './model_save/tokenizer.json')"
      ]
     },
     "execution_count": 21,
     "metadata": {},
     "output_type": "execute_result"
    }
   ],
   "source": [
    "import os\n",
    "\n",
    "# Saving best-practices: if you use defaults names for the model, you can reload it using from_pretrained()\n",
    "\n",
    "output_dir = './model_save/'\n",
    "\n",
    "# Create output directory if needed\n",
    "if not os.path.exists(output_dir):\n",
    "    os.makedirs(output_dir)\n",
    "\n",
    "print(\"Saving model to %s\" % output_dir)\n",
    "\n",
    "# Save a trained model, configuration and tokenizer using `save_pretrained()`. this is not applicable to the custom Bertclassifier so i will save the finetuned model with torch.save\n",
    "# They can then be reloaded using `from_pretrained()`\n",
    "model_to_save = trained_model.module if hasattr(trained_model, 'module') else trained_model  # Take care of distributed/parallel training\n",
    "torch.save(model_to_save, 'fine_tuned_grBERT_model.pt')\n",
    "tokenizer.save_pretrained(output_dir)\n"
   ]
  },
  {
   "cell_type": "markdown",
   "id": "168f2e2e",
   "metadata": {
    "papermill": {
     "duration": 0.021321,
     "end_time": "2024-03-06T11:50:00.757926",
     "exception": false,
     "start_time": "2024-03-06T11:50:00.736605",
     "status": "completed"
    },
    "tags": []
   },
   "source": [
    "Load the finetuned model"
   ]
  },
  {
   "cell_type": "code",
   "execution_count": 22,
   "id": "84b3365b",
   "metadata": {
    "execution": {
     "iopub.execute_input": "2024-03-06T11:50:00.802286Z",
     "iopub.status.busy": "2024-03-06T11:50:00.801682Z",
     "iopub.status.idle": "2024-03-06T11:50:01.087841Z",
     "shell.execute_reply": "2024-03-06T11:50:01.086810Z"
    },
    "papermill": {
     "duration": 0.310864,
     "end_time": "2024-03-06T11:50:01.090026",
     "exception": false,
     "start_time": "2024-03-06T11:50:00.779162",
     "status": "completed"
    },
    "tags": []
   },
   "outputs": [
    {
     "data": {
      "text/plain": [
       "BertClassifier(\n",
       "  (bert): BertModel(\n",
       "    (embeddings): BertEmbeddings(\n",
       "      (word_embeddings): Embedding(35000, 768, padding_idx=0)\n",
       "      (position_embeddings): Embedding(512, 768)\n",
       "      (token_type_embeddings): Embedding(2, 768)\n",
       "      (LayerNorm): LayerNorm((768,), eps=1e-12, elementwise_affine=True)\n",
       "      (dropout): Dropout(p=0.1, inplace=False)\n",
       "    )\n",
       "    (encoder): BertEncoder(\n",
       "      (layer): ModuleList(\n",
       "        (0-11): 12 x BertLayer(\n",
       "          (attention): BertAttention(\n",
       "            (self): BertSelfAttention(\n",
       "              (query): Linear(in_features=768, out_features=768, bias=True)\n",
       "              (key): Linear(in_features=768, out_features=768, bias=True)\n",
       "              (value): Linear(in_features=768, out_features=768, bias=True)\n",
       "              (dropout): Dropout(p=0.1, inplace=False)\n",
       "            )\n",
       "            (output): BertSelfOutput(\n",
       "              (dense): Linear(in_features=768, out_features=768, bias=True)\n",
       "              (LayerNorm): LayerNorm((768,), eps=1e-12, elementwise_affine=True)\n",
       "              (dropout): Dropout(p=0.1, inplace=False)\n",
       "            )\n",
       "          )\n",
       "          (intermediate): BertIntermediate(\n",
       "            (dense): Linear(in_features=768, out_features=3072, bias=True)\n",
       "            (intermediate_act_fn): GELUActivation()\n",
       "          )\n",
       "          (output): BertOutput(\n",
       "            (dense): Linear(in_features=3072, out_features=768, bias=True)\n",
       "            (LayerNorm): LayerNorm((768,), eps=1e-12, elementwise_affine=True)\n",
       "            (dropout): Dropout(p=0.1, inplace=False)\n",
       "          )\n",
       "        )\n",
       "      )\n",
       "    )\n",
       "    (pooler): BertPooler(\n",
       "      (dense): Linear(in_features=768, out_features=768, bias=True)\n",
       "      (activation): Tanh()\n",
       "    )\n",
       "  )\n",
       "  (classifier): Sequential(\n",
       "    (0): Linear(in_features=768, out_features=50, bias=True)\n",
       "    (1): ReLU()\n",
       "    (2): Linear(in_features=50, out_features=3, bias=True)\n",
       "  )\n",
       ")"
      ]
     },
     "execution_count": 22,
     "metadata": {},
     "output_type": "execute_result"
    }
   ],
   "source": [
    "model=torch.load('fine_tuned_grBERT_model.pt')\n",
    "tokenizer = tokenizer.from_pretrained(output_dir)\n",
    "model.to(device)"
   ]
  },
  {
   "cell_type": "markdown",
   "id": "96f00a6f",
   "metadata": {
    "id": "3qiPOhXTE9WZ",
    "papermill": {
     "duration": 0.021031,
     "end_time": "2024-03-06T11:50:01.132261",
     "exception": false,
     "start_time": "2024-03-06T11:50:01.111230",
     "status": "completed"
    },
    "tags": []
   },
   "source": [
    "#Prepare test set"
   ]
  },
  {
   "cell_type": "code",
   "execution_count": 23,
   "id": "1c2a2494",
   "metadata": {
    "execution": {
     "iopub.execute_input": "2024-03-06T11:50:01.176695Z",
     "iopub.status.busy": "2024-03-06T11:50:01.175924Z",
     "iopub.status.idle": "2024-03-06T11:50:01.180819Z",
     "shell.execute_reply": "2024-03-06T11:50:01.179867Z"
    },
    "id": "aF2lE75FgQo6",
    "papermill": {
     "duration": 0.029513,
     "end_time": "2024-03-06T11:50:01.182783",
     "exception": false,
     "start_time": "2024-03-06T11:50:01.153270",
     "status": "completed"
    },
    "tags": []
   },
   "outputs": [],
   "source": [
    "def get_text(dataframe, text_column):\n",
    "\n",
    "    # Apply the pre-processing function to the text column\n",
    "    dataframe = preprocess_dataframe(dataframe,text_column)\n",
    "    print('\\nText done pre-processing!')\n",
    "\n",
    "    return dataframe[text_column]"
   ]
  },
  {
   "cell_type": "code",
   "execution_count": 24,
   "id": "76b640da",
   "metadata": {
    "execution": {
     "iopub.execute_input": "2024-03-06T11:50:01.226055Z",
     "iopub.status.busy": "2024-03-06T11:50:01.225765Z",
     "iopub.status.idle": "2024-03-06T11:50:12.037141Z",
     "shell.execute_reply": "2024-03-06T11:50:12.036195Z"
    },
    "id": "yZ4Cr7jBE_wp",
    "outputId": "f915ab32-6b09-4a76-cb7d-f68de0cb5a60",
    "papermill": {
     "duration": 10.835838,
     "end_time": "2024-03-06T11:50:12.039802",
     "exception": false,
     "start_time": "2024-03-06T11:50:01.203964",
     "status": "completed"
    },
    "tags": []
   },
   "outputs": [
    {
     "name": "stdout",
     "output_type": "stream",
     "text": [
      "\n",
      "------ Preparing the testing dataset... ------\n",
      "\n",
      "Text done pre-processing!\n",
      "The test dataset is ready and saved into csv format!\n"
     ]
    }
   ],
   "source": [
    "# Prepare the testing dataset\n",
    "print('\\n------ Preparing the testing dataset... ------')\n",
    "\n",
    "df_test=pd.read_csv('/kaggle/input/ys19-2023-assignment-4a/test_set.csv')\n",
    "# Preprocess and resample dataset and return a new cleaned one\n",
    "test_df = get_text(df_test,'Text')\n",
    "\n",
    "# Save the testing data into csv format\n",
    "test_df.to_csv('test.csv', index = False, header = True, sep ='\\t')\n",
    "print('The test dataset is ready and saved into csv format!')"
   ]
  },
  {
   "cell_type": "code",
   "execution_count": 25,
   "id": "15722470",
   "metadata": {
    "execution": {
     "iopub.execute_input": "2024-03-06T11:50:12.085787Z",
     "iopub.status.busy": "2024-03-06T11:50:12.085204Z",
     "iopub.status.idle": "2024-03-06T11:50:12.141876Z",
     "shell.execute_reply": "2024-03-06T11:50:12.140779Z"
    },
    "id": "eYS1ufW9QgcU",
    "outputId": "d5534490-c86f-4099-f7ee-bd2c379357de",
    "papermill": {
     "duration": 0.081977,
     "end_time": "2024-03-06T11:50:12.144016",
     "exception": false,
     "start_time": "2024-03-06T11:50:12.062039",
     "status": "completed"
    },
    "tags": []
   },
   "outputs": [
    {
     "name": "stdout",
     "output_type": "stream",
     "text": [
      "Rows with missing values:\n",
      "      New_ID Text  Party\n",
      "1044    1045       PASOK\n",
      "1910    1911          ND\n"
     ]
    }
   ],
   "source": [
    "test_data=pd.read_csv('test.csv')\n",
    "# Filter rows with missing values (None values)\n",
    "rows_with_missing_values = df_test[test_data.isnull().any(axis=1)]\n",
    "\n",
    "# Display the rows with missing values\n",
    "print(\"Rows with missing values:\")\n",
    "print(rows_with_missing_values)"
   ]
  },
  {
   "cell_type": "code",
   "execution_count": 26,
   "id": "9253f7e7",
   "metadata": {
    "execution": {
     "iopub.execute_input": "2024-03-06T11:50:12.188906Z",
     "iopub.status.busy": "2024-03-06T11:50:12.188131Z",
     "iopub.status.idle": "2024-03-06T11:50:12.194085Z",
     "shell.execute_reply": "2024-03-06T11:50:12.193313Z"
    },
    "id": "SNsz95v_RQ-a",
    "papermill": {
     "duration": 0.029687,
     "end_time": "2024-03-06T11:50:12.196109",
     "exception": false,
     "start_time": "2024-03-06T11:50:12.166422",
     "status": "completed"
    },
    "tags": []
   },
   "outputs": [],
   "source": [
    "test_data = test_data.fillna('')\n"
   ]
  },
  {
   "cell_type": "code",
   "execution_count": 27,
   "id": "4634ed9d",
   "metadata": {
    "execution": {
     "iopub.execute_input": "2024-03-06T11:50:12.241350Z",
     "iopub.status.busy": "2024-03-06T11:50:12.240544Z",
     "iopub.status.idle": "2024-03-06T11:50:15.202703Z",
     "shell.execute_reply": "2024-03-06T11:50:15.201909Z"
    },
    "id": "Lh9Y8AEFX_s9",
    "outputId": "a8949cb4-fba3-4a85-d0b0-107faa96956b",
    "papermill": {
     "duration": 2.986584,
     "end_time": "2024-03-06T11:50:15.204880",
     "exception": false,
     "start_time": "2024-03-06T11:50:12.218296",
     "status": "completed"
    },
    "tags": []
   },
   "outputs": [
    {
     "name": "stderr",
     "output_type": "stream",
     "text": [
      "Truncation was not explicitly activated but `max_length` is provided a specific value, please use `truncation=True` to explicitly truncate examples to max length. Defaulting to 'longest_first' truncation strategy. If you encode pairs of sequences (GLUE-style) with the tokenizer you can select this strategy more precisely by providing a specific strategy to `truncation`.\n"
     ]
    },
    {
     "name": "stdout",
     "output_type": "stream",
     "text": [
      "Tokenizing data...\n"
     ]
    },
    {
     "name": "stderr",
     "output_type": "stream",
     "text": [
      "/opt/conda/lib/python3.10/site-packages/transformers/tokenization_utils_base.py:2645: FutureWarning: The `pad_to_max_length` argument is deprecated and will be removed in a future version, use `padding=True` or `padding='longest'` to pad to the longest sequence in the batch, or use `padding='max_length'` to pad to a max length. In this case, you can give a specific length with `max_length` (e.g. `max_length=45`) or leave max_length to None to pad to the maximal input size of the model (e.g. 512 for Bert).\n",
      "  warnings.warn(\n"
     ]
    }
   ],
   "source": [
    "# Preprocess the test set\n",
    "print('Tokenizing data...')\n",
    "test_inputs, test_masks = preprocessing_for_bert(test_data.Text)\n",
    "\n",
    "# Create the DataLoader for our test set\n",
    "test_dataset = TensorDataset(test_inputs, test_masks)\n",
    "test_sampler = SequentialSampler(test_dataset)\n",
    "test_dataloader = DataLoader(test_dataset, sampler=test_sampler, batch_size=32)"
   ]
  },
  {
   "cell_type": "code",
   "execution_count": 28,
   "id": "f9b0cf84",
   "metadata": {
    "execution": {
     "iopub.execute_input": "2024-03-06T11:50:15.249973Z",
     "iopub.status.busy": "2024-03-06T11:50:15.249373Z",
     "iopub.status.idle": "2024-03-06T11:50:15.255820Z",
     "shell.execute_reply": "2024-03-06T11:50:15.254992Z"
    },
    "id": "lG_l4dvbKdnx",
    "papermill": {
     "duration": 0.031297,
     "end_time": "2024-03-06T11:50:15.257643",
     "exception": false,
     "start_time": "2024-03-06T11:50:15.226346",
     "status": "completed"
    },
    "tags": []
   },
   "outputs": [],
   "source": [
    "def bert_predict_test(model, test_dataloader):\n",
    "    \"\"\"Perform a forward pass on the trained BERT model to predict probabilities\n",
    "    on the test set.\n",
    "    \"\"\"\n",
    "    # Put the model into the evaluation mode. The dropout layers are disabled during\n",
    "    # the test time.\n",
    "    model.eval()\n",
    "    all_logits = []\n",
    "    # For each batch in our test set...\n",
    "    for batch in test_dataloader:\n",
    "        # Load batch to GPU\n",
    "        b_input_ids, b_attn_mask = tuple(t.to(device) for t in batch)[:2]\n",
    "        # Compute logits\n",
    "        with torch.no_grad():\n",
    "            logits = model(b_input_ids, b_attn_mask)\n",
    "        all_logits.append(logits)\n",
    "    # Concatenate logits from each batch\n",
    "    all_logits = torch.cat(all_logits, dim=0)\n",
    "    # Apply softmax to calculate probabilities\n",
    "    probs = F.softmax(all_logits, dim=1).cpu().numpy()\n",
    "    return probs\n",
    "\n"
   ]
  },
  {
   "cell_type": "code",
   "execution_count": 29,
   "id": "87985271",
   "metadata": {
    "execution": {
     "iopub.execute_input": "2024-03-06T11:50:15.301770Z",
     "iopub.status.busy": "2024-03-06T11:50:15.301042Z",
     "iopub.status.idle": "2024-03-06T11:51:13.883445Z",
     "shell.execute_reply": "2024-03-06T11:51:13.882501Z"
    },
    "id": "GNS9JhvZaAI8",
    "outputId": "b89187f4-5ed6-4fea-dcb1-9cc499e3720b",
    "papermill": {
     "duration": 58.629202,
     "end_time": "2024-03-06T11:51:13.908055",
     "exception": false,
     "start_time": "2024-03-06T11:50:15.278853",
     "status": "completed"
    },
    "tags": []
   },
   "outputs": [
    {
     "data": {
      "text/plain": [
       "array([[0.36814967, 0.34589013, 0.2859602 ],\n",
       "       [0.36589524, 0.44922328, 0.18488143],\n",
       "       [0.20894296, 0.2021386 , 0.5889184 ],\n",
       "       ...,\n",
       "       [0.31873715, 0.33267903, 0.34858385],\n",
       "       [0.2584926 , 0.23605388, 0.5054536 ],\n",
       "       [0.28416342, 0.34924793, 0.36658865]], dtype=float32)"
      ]
     },
     "execution_count": 29,
     "metadata": {},
     "output_type": "execute_result"
    }
   ],
   "source": [
    "# Compute predicted probabilities on the test set\n",
    "probs = bert_predict_test(model, test_dataloader)\n",
    "probs"
   ]
  },
  {
   "cell_type": "code",
   "execution_count": 30,
   "id": "957fcf18",
   "metadata": {
    "execution": {
     "iopub.execute_input": "2024-03-06T11:51:13.951777Z",
     "iopub.status.busy": "2024-03-06T11:51:13.951247Z",
     "iopub.status.idle": "2024-03-06T11:51:13.957054Z",
     "shell.execute_reply": "2024-03-06T11:51:13.956274Z"
    },
    "id": "toQ7WWfndvWm",
    "outputId": "bec1ec27-6d3f-44fa-aaed-805a2f1a3e43",
    "papermill": {
     "duration": 0.02972,
     "end_time": "2024-03-06T11:51:13.958969",
     "exception": false,
     "start_time": "2024-03-06T11:51:13.929249",
     "status": "completed"
    },
    "tags": []
   },
   "outputs": [
    {
     "data": {
      "text/plain": [
       "array([0, 1, 2, ..., 2, 2, 2])"
      ]
     },
     "execution_count": 30,
     "metadata": {},
     "output_type": "execute_result"
    }
   ],
   "source": [
    "# Preprocess raw predictions\n",
    "y_pred = np.argmax(probs, axis=1)\n",
    "y_pred"
   ]
  },
  {
   "cell_type": "code",
   "execution_count": 31,
   "id": "e34786b4",
   "metadata": {
    "execution": {
     "iopub.execute_input": "2024-03-06T11:51:14.003068Z",
     "iopub.status.busy": "2024-03-06T11:51:14.002826Z",
     "iopub.status.idle": "2024-03-06T11:51:14.008013Z",
     "shell.execute_reply": "2024-03-06T11:51:14.007115Z"
    },
    "id": "A67cpYbqeEHA",
    "outputId": "8f81ee2e-5c19-418b-9b00-7cac3e3f5a9e",
    "papermill": {
     "duration": 0.029018,
     "end_time": "2024-03-06T11:51:14.009928",
     "exception": false,
     "start_time": "2024-03-06T11:51:13.980910",
     "status": "completed"
    },
    "tags": []
   },
   "outputs": [
    {
     "data": {
      "text/plain": [
       "10470"
      ]
     },
     "execution_count": 31,
     "metadata": {},
     "output_type": "execute_result"
    }
   ],
   "source": [
    "len(y_pred)"
   ]
  },
  {
   "cell_type": "code",
   "execution_count": 32,
   "id": "1ca733f7",
   "metadata": {
    "execution": {
     "iopub.execute_input": "2024-03-06T11:51:14.053984Z",
     "iopub.status.busy": "2024-03-06T11:51:14.053499Z",
     "iopub.status.idle": "2024-03-06T11:51:14.060838Z",
     "shell.execute_reply": "2024-03-06T11:51:14.060031Z"
    },
    "id": "6vmi2WG9eN4-",
    "outputId": "f6b241df-3886-4bcb-96af-7b714aa73b22",
    "papermill": {
     "duration": 0.031487,
     "end_time": "2024-03-06T11:51:14.062673",
     "exception": false,
     "start_time": "2024-03-06T11:51:14.031186",
     "status": "completed"
    },
    "tags": []
   },
   "outputs": [],
   "source": [
    "mapping = {0: 'NEUTRAL', 1: 'POSITIVE', 2: 'NEGATIVE'}\n",
    "y_categorical = [mapping[value] for value in y_pred]\n",
    "# Print the result\n",
    "#print(y_categorical)"
   ]
  },
  {
   "cell_type": "code",
   "execution_count": 33,
   "id": "1cb7f85b",
   "metadata": {
    "execution": {
     "iopub.execute_input": "2024-03-06T11:51:14.107684Z",
     "iopub.status.busy": "2024-03-06T11:51:14.107400Z",
     "iopub.status.idle": "2024-03-06T11:51:14.127493Z",
     "shell.execute_reply": "2024-03-06T11:51:14.126840Z"
    },
    "id": "fvsYlCEseUi-",
    "papermill": {
     "duration": 0.045078,
     "end_time": "2024-03-06T11:51:14.129301",
     "exception": false,
     "start_time": "2024-03-06T11:51:14.084223",
     "status": "completed"
    },
    "tags": []
   },
   "outputs": [],
   "source": [
    "my_submission = pd.DataFrame({'Id': df_test.New_ID, 'Predicted': y_categorical})\n",
    "my_submission.to_csv('submission-lt12200010.csv', index=False)\n"
   ]
  },
  {
   "cell_type": "code",
   "execution_count": 34,
   "id": "4a19b0a1",
   "metadata": {
    "execution": {
     "iopub.execute_input": "2024-03-06T11:51:14.173655Z",
     "iopub.status.busy": "2024-03-06T11:51:14.173379Z",
     "iopub.status.idle": "2024-03-06T11:51:14.186471Z",
     "shell.execute_reply": "2024-03-06T11:51:14.185497Z"
    },
    "id": "FFufLQuzesqs",
    "outputId": "87239d45-f426-4f40-eb4e-6d713b855626",
    "papermill": {
     "duration": 0.038019,
     "end_time": "2024-03-06T11:51:14.188509",
     "exception": false,
     "start_time": "2024-03-06T11:51:14.150490",
     "status": "completed"
    },
    "tags": []
   },
   "outputs": [
    {
     "name": "stdout",
     "output_type": "stream",
     "text": [
      "Distribution of data in classes:\n",
      "Predicted\n",
      "NEGATIVE    0.450048\n",
      "POSITIVE    0.365425\n",
      "NEUTRAL     0.184527\n",
      "Name: count, dtype: float64\n"
     ]
    }
   ],
   "source": [
    "df=pd.read_csv('submission-lt12200010.csv')\n",
    "# Check the distribution of classes\n",
    "distribution = df['Predicted'].value_counts()/df.shape[0]\n",
    "print('Distribution of data in classes:')\n",
    "print(distribution)"
   ]
  }
 ],
 "metadata": {
  "accelerator": "GPU",
  "colab": {
   "collapsed_sections": [
    "bZDG624sFh4h",
    "p4bhKaaLFniR",
    "BvZmeWivBrjL",
    "oYNinpcaDR3a",
    "0wgPrjmFDeYk",
    "B6U2hyDDJqpg"
   ],
   "gpuType": "T4",
   "provenance": []
  },
  "kaggle": {
   "accelerator": "nvidiaTeslaT4",
   "dataSources": [
    {
     "databundleVersionId": 7632283,
     "sourceId": 68801,
     "sourceType": "competition"
    }
   ],
   "dockerImageVersionId": 30665,
   "isGpuEnabled": true,
   "isInternetEnabled": true,
   "language": "python",
   "sourceType": "notebook"
  },
  "kernelspec": {
   "display_name": "Python 3",
   "language": "python",
   "name": "python3"
  },
  "language_info": {
   "codemirror_mode": {
    "name": "ipython",
    "version": 3
   },
   "file_extension": ".py",
   "mimetype": "text/x-python",
   "name": "python",
   "nbconvert_exporter": "python",
   "pygments_lexer": "ipython3",
   "version": "3.10.13"
  },
  "papermill": {
   "default_parameters": {},
   "duration": 1383.625344,
   "end_time": "2024-03-06T11:51:17.774330",
   "environment_variables": {},
   "exception": null,
   "input_path": "__notebook__.ipynb",
   "output_path": "__notebook__.ipynb",
   "parameters": {},
   "start_time": "2024-03-06T11:28:14.148986",
   "version": "2.5.0"
  },
  "widgets": {
   "application/vnd.jupyter.widget-state+json": {
    "state": {
     "00d9e358c5ab46c8a5bdcd00dc2e039f": {
      "model_module": "@jupyter-widgets/controls",
      "model_module_version": "1.5.0",
      "model_name": "HTMLModel",
      "state": {
       "_dom_classes": [],
       "_model_module": "@jupyter-widgets/controls",
       "_model_module_version": "1.5.0",
       "_model_name": "HTMLModel",
       "_view_count": null,
       "_view_module": "@jupyter-widgets/controls",
       "_view_module_version": "1.5.0",
       "_view_name": "HTMLView",
       "description": "",
       "description_tooltip": null,
       "layout": "IPY_MODEL_16d2267cb2d3479a92b111cbc1654265",
       "placeholder": "​",
       "style": "IPY_MODEL_87b6b8dc2f2a457db6cb3c96fbc20333",
       "value": " 2.00/2.00 [00:00&lt;00:00, 170B/s]"
      }
     },
     "06b3418c9d2c4d39958b938aa6d9e96a": {
      "model_module": "@jupyter-widgets/controls",
      "model_module_version": "1.5.0",
      "model_name": "HBoxModel",
      "state": {
       "_dom_classes": [],
       "_model_module": "@jupyter-widgets/controls",
       "_model_module_version": "1.5.0",
       "_model_name": "HBoxModel",
       "_view_count": null,
       "_view_module": "@jupyter-widgets/controls",
       "_view_module_version": "1.5.0",
       "_view_name": "HBoxView",
       "box_style": "",
       "children": [
        "IPY_MODEL_1d0790b849f243adb373dd99f3c27bd3",
        "IPY_MODEL_a8f4f9a41e1a4beda8b959fa95a08198",
        "IPY_MODEL_60c47cb175f0467597e32791451006bc"
       ],
       "layout": "IPY_MODEL_3443b805647c46af9eb77490752bdae4"
      }
     },
     "081256b0f49e4eebb5abe305322478d1": {
      "model_module": "@jupyter-widgets/base",
      "model_module_version": "1.2.0",
      "model_name": "LayoutModel",
      "state": {
       "_model_module": "@jupyter-widgets/base",
       "_model_module_version": "1.2.0",
       "_model_name": "LayoutModel",
       "_view_count": null,
       "_view_module": "@jupyter-widgets/base",
       "_view_module_version": "1.2.0",
       "_view_name": "LayoutView",
       "align_content": null,
       "align_items": null,
       "align_self": null,
       "border": null,
       "bottom": null,
       "display": null,
       "flex": null,
       "flex_flow": null,
       "grid_area": null,
       "grid_auto_columns": null,
       "grid_auto_flow": null,
       "grid_auto_rows": null,
       "grid_column": null,
       "grid_gap": null,
       "grid_row": null,
       "grid_template_areas": null,
       "grid_template_columns": null,
       "grid_template_rows": null,
       "height": null,
       "justify_content": null,
       "justify_items": null,
       "left": null,
       "margin": null,
       "max_height": null,
       "max_width": null,
       "min_height": null,
       "min_width": null,
       "object_fit": null,
       "object_position": null,
       "order": null,
       "overflow": null,
       "overflow_x": null,
       "overflow_y": null,
       "padding": null,
       "right": null,
       "top": null,
       "visibility": null,
       "width": null
      }
     },
     "0904419b86a34ad88806eb05c3728381": {
      "model_module": "@jupyter-widgets/controls",
      "model_module_version": "1.5.0",
      "model_name": "ProgressStyleModel",
      "state": {
       "_model_module": "@jupyter-widgets/controls",
       "_model_module_version": "1.5.0",
       "_model_name": "ProgressStyleModel",
       "_view_count": null,
       "_view_module": "@jupyter-widgets/base",
       "_view_module_version": "1.2.0",
       "_view_name": "StyleView",
       "bar_color": null,
       "description_width": ""
      }
     },
     "0d2837b21073462e85ef497d2194c8aa": {
      "model_module": "@jupyter-widgets/controls",
      "model_module_version": "1.5.0",
      "model_name": "FloatProgressModel",
      "state": {
       "_dom_classes": [],
       "_model_module": "@jupyter-widgets/controls",
       "_model_module_version": "1.5.0",
       "_model_name": "FloatProgressModel",
       "_view_count": null,
       "_view_module": "@jupyter-widgets/controls",
       "_view_module_version": "1.5.0",
       "_view_name": "ProgressView",
       "bar_style": "success",
       "description": "",
       "description_tooltip": null,
       "layout": "IPY_MODEL_b6e544bdff1d407dbadc0c40e152c3c1",
       "max": 459.0,
       "min": 0.0,
       "orientation": "horizontal",
       "style": "IPY_MODEL_3aaaa060bec24285ab76a3a619073a4f",
       "value": 459.0
      }
     },
     "0e9cf27271a24478a597c05ac080dbfc": {
      "model_module": "@jupyter-widgets/base",
      "model_module_version": "1.2.0",
      "model_name": "LayoutModel",
      "state": {
       "_model_module": "@jupyter-widgets/base",
       "_model_module_version": "1.2.0",
       "_model_name": "LayoutModel",
       "_view_count": null,
       "_view_module": "@jupyter-widgets/base",
       "_view_module_version": "1.2.0",
       "_view_name": "LayoutView",
       "align_content": null,
       "align_items": null,
       "align_self": null,
       "border": null,
       "bottom": null,
       "display": null,
       "flex": null,
       "flex_flow": null,
       "grid_area": null,
       "grid_auto_columns": null,
       "grid_auto_flow": null,
       "grid_auto_rows": null,
       "grid_column": null,
       "grid_gap": null,
       "grid_row": null,
       "grid_template_areas": null,
       "grid_template_columns": null,
       "grid_template_rows": null,
       "height": null,
       "justify_content": null,
       "justify_items": null,
       "left": null,
       "margin": null,
       "max_height": null,
       "max_width": null,
       "min_height": null,
       "min_width": null,
       "object_fit": null,
       "object_position": null,
       "order": null,
       "overflow": null,
       "overflow_x": null,
       "overflow_y": null,
       "padding": null,
       "right": null,
       "top": null,
       "visibility": null,
       "width": null
      }
     },
     "11509e2871f9441d8df39bcd85151a42": {
      "model_module": "@jupyter-widgets/controls",
      "model_module_version": "1.5.0",
      "model_name": "DescriptionStyleModel",
      "state": {
       "_model_module": "@jupyter-widgets/controls",
       "_model_module_version": "1.5.0",
       "_model_name": "DescriptionStyleModel",
       "_view_count": null,
       "_view_module": "@jupyter-widgets/base",
       "_view_module_version": "1.2.0",
       "_view_name": "StyleView",
       "description_width": ""
      }
     },
     "16d2267cb2d3479a92b111cbc1654265": {
      "model_module": "@jupyter-widgets/base",
      "model_module_version": "1.2.0",
      "model_name": "LayoutModel",
      "state": {
       "_model_module": "@jupyter-widgets/base",
       "_model_module_version": "1.2.0",
       "_model_name": "LayoutModel",
       "_view_count": null,
       "_view_module": "@jupyter-widgets/base",
       "_view_module_version": "1.2.0",
       "_view_name": "LayoutView",
       "align_content": null,
       "align_items": null,
       "align_self": null,
       "border": null,
       "bottom": null,
       "display": null,
       "flex": null,
       "flex_flow": null,
       "grid_area": null,
       "grid_auto_columns": null,
       "grid_auto_flow": null,
       "grid_auto_rows": null,
       "grid_column": null,
       "grid_gap": null,
       "grid_row": null,
       "grid_template_areas": null,
       "grid_template_columns": null,
       "grid_template_rows": null,
       "height": null,
       "justify_content": null,
       "justify_items": null,
       "left": null,
       "margin": null,
       "max_height": null,
       "max_width": null,
       "min_height": null,
       "min_width": null,
       "object_fit": null,
       "object_position": null,
       "order": null,
       "overflow": null,
       "overflow_x": null,
       "overflow_y": null,
       "padding": null,
       "right": null,
       "top": null,
       "visibility": null,
       "width": null
      }
     },
     "1d0790b849f243adb373dd99f3c27bd3": {
      "model_module": "@jupyter-widgets/controls",
      "model_module_version": "1.5.0",
      "model_name": "HTMLModel",
      "state": {
       "_dom_classes": [],
       "_model_module": "@jupyter-widgets/controls",
       "_model_module_version": "1.5.0",
       "_model_name": "HTMLModel",
       "_view_count": null,
       "_view_module": "@jupyter-widgets/controls",
       "_view_module_version": "1.5.0",
       "_view_name": "HTMLView",
       "description": "",
       "description_tooltip": null,
       "layout": "IPY_MODEL_450fc9671aca44559253d0684fa55d6a",
       "placeholder": "​",
       "style": "IPY_MODEL_46a19f064cc640e48bcc9eb2a6c30e0d",
       "value": "pytorch_model.bin: 100%"
      }
     },
     "3443b805647c46af9eb77490752bdae4": {
      "model_module": "@jupyter-widgets/base",
      "model_module_version": "1.2.0",
      "model_name": "LayoutModel",
      "state": {
       "_model_module": "@jupyter-widgets/base",
       "_model_module_version": "1.2.0",
       "_model_name": "LayoutModel",
       "_view_count": null,
       "_view_module": "@jupyter-widgets/base",
       "_view_module_version": "1.2.0",
       "_view_name": "LayoutView",
       "align_content": null,
       "align_items": null,
       "align_self": null,
       "border": null,
       "bottom": null,
       "display": null,
       "flex": null,
       "flex_flow": null,
       "grid_area": null,
       "grid_auto_columns": null,
       "grid_auto_flow": null,
       "grid_auto_rows": null,
       "grid_column": null,
       "grid_gap": null,
       "grid_row": null,
       "grid_template_areas": null,
       "grid_template_columns": null,
       "grid_template_rows": null,
       "height": null,
       "justify_content": null,
       "justify_items": null,
       "left": null,
       "margin": null,
       "max_height": null,
       "max_width": null,
       "min_height": null,
       "min_width": null,
       "object_fit": null,
       "object_position": null,
       "order": null,
       "overflow": null,
       "overflow_x": null,
       "overflow_y": null,
       "padding": null,
       "right": null,
       "top": null,
       "visibility": null,
       "width": null
      }
     },
     "34738edf07914fa2976ea2f5fd659e07": {
      "model_module": "@jupyter-widgets/controls",
      "model_module_version": "1.5.0",
      "model_name": "DescriptionStyleModel",
      "state": {
       "_model_module": "@jupyter-widgets/controls",
       "_model_module_version": "1.5.0",
       "_model_name": "DescriptionStyleModel",
       "_view_count": null,
       "_view_module": "@jupyter-widgets/base",
       "_view_module_version": "1.2.0",
       "_view_name": "StyleView",
       "description_width": ""
      }
     },
     "347989c50984496eb9a6156993d6d3f7": {
      "model_module": "@jupyter-widgets/controls",
      "model_module_version": "1.5.0",
      "model_name": "DescriptionStyleModel",
      "state": {
       "_model_module": "@jupyter-widgets/controls",
       "_model_module_version": "1.5.0",
       "_model_name": "DescriptionStyleModel",
       "_view_count": null,
       "_view_module": "@jupyter-widgets/base",
       "_view_module_version": "1.2.0",
       "_view_name": "StyleView",
       "description_width": ""
      }
     },
     "36b1585233df4daebf8bc2ec48662466": {
      "model_module": "@jupyter-widgets/base",
      "model_module_version": "1.2.0",
      "model_name": "LayoutModel",
      "state": {
       "_model_module": "@jupyter-widgets/base",
       "_model_module_version": "1.2.0",
       "_model_name": "LayoutModel",
       "_view_count": null,
       "_view_module": "@jupyter-widgets/base",
       "_view_module_version": "1.2.0",
       "_view_name": "LayoutView",
       "align_content": null,
       "align_items": null,
       "align_self": null,
       "border": null,
       "bottom": null,
       "display": null,
       "flex": null,
       "flex_flow": null,
       "grid_area": null,
       "grid_auto_columns": null,
       "grid_auto_flow": null,
       "grid_auto_rows": null,
       "grid_column": null,
       "grid_gap": null,
       "grid_row": null,
       "grid_template_areas": null,
       "grid_template_columns": null,
       "grid_template_rows": null,
       "height": null,
       "justify_content": null,
       "justify_items": null,
       "left": null,
       "margin": null,
       "max_height": null,
       "max_width": null,
       "min_height": null,
       "min_width": null,
       "object_fit": null,
       "object_position": null,
       "order": null,
       "overflow": null,
       "overflow_x": null,
       "overflow_y": null,
       "padding": null,
       "right": null,
       "top": null,
       "visibility": null,
       "width": null
      }
     },
     "3aaaa060bec24285ab76a3a619073a4f": {
      "model_module": "@jupyter-widgets/controls",
      "model_module_version": "1.5.0",
      "model_name": "ProgressStyleModel",
      "state": {
       "_model_module": "@jupyter-widgets/controls",
       "_model_module_version": "1.5.0",
       "_model_name": "ProgressStyleModel",
       "_view_count": null,
       "_view_module": "@jupyter-widgets/base",
       "_view_module_version": "1.2.0",
       "_view_name": "StyleView",
       "bar_color": null,
       "description_width": ""
      }
     },
     "3e32ab3559764e7a817e51f3c1b68d6c": {
      "model_module": "@jupyter-widgets/controls",
      "model_module_version": "1.5.0",
      "model_name": "HTMLModel",
      "state": {
       "_dom_classes": [],
       "_model_module": "@jupyter-widgets/controls",
       "_model_module_version": "1.5.0",
       "_model_name": "HTMLModel",
       "_view_count": null,
       "_view_module": "@jupyter-widgets/controls",
       "_view_module_version": "1.5.0",
       "_view_name": "HTMLView",
       "description": "",
       "description_tooltip": null,
       "layout": "IPY_MODEL_eb836df0d24344338010c8f39be08e27",
       "placeholder": "​",
       "style": "IPY_MODEL_34738edf07914fa2976ea2f5fd659e07",
       "value": " 530k/530k [00:00&lt;00:00, 9.00MB/s]"
      }
     },
     "4454a35affcb4b5897eca08f7db76ebe": {
      "model_module": "@jupyter-widgets/base",
      "model_module_version": "1.2.0",
      "model_name": "LayoutModel",
      "state": {
       "_model_module": "@jupyter-widgets/base",
       "_model_module_version": "1.2.0",
       "_model_name": "LayoutModel",
       "_view_count": null,
       "_view_module": "@jupyter-widgets/base",
       "_view_module_version": "1.2.0",
       "_view_name": "LayoutView",
       "align_content": null,
       "align_items": null,
       "align_self": null,
       "border": null,
       "bottom": null,
       "display": null,
       "flex": null,
       "flex_flow": null,
       "grid_area": null,
       "grid_auto_columns": null,
       "grid_auto_flow": null,
       "grid_auto_rows": null,
       "grid_column": null,
       "grid_gap": null,
       "grid_row": null,
       "grid_template_areas": null,
       "grid_template_columns": null,
       "grid_template_rows": null,
       "height": null,
       "justify_content": null,
       "justify_items": null,
       "left": null,
       "margin": null,
       "max_height": null,
       "max_width": null,
       "min_height": null,
       "min_width": null,
       "object_fit": null,
       "object_position": null,
       "order": null,
       "overflow": null,
       "overflow_x": null,
       "overflow_y": null,
       "padding": null,
       "right": null,
       "top": null,
       "visibility": null,
       "width": null
      }
     },
     "450fc9671aca44559253d0684fa55d6a": {
      "model_module": "@jupyter-widgets/base",
      "model_module_version": "1.2.0",
      "model_name": "LayoutModel",
      "state": {
       "_model_module": "@jupyter-widgets/base",
       "_model_module_version": "1.2.0",
       "_model_name": "LayoutModel",
       "_view_count": null,
       "_view_module": "@jupyter-widgets/base",
       "_view_module_version": "1.2.0",
       "_view_name": "LayoutView",
       "align_content": null,
       "align_items": null,
       "align_self": null,
       "border": null,
       "bottom": null,
       "display": null,
       "flex": null,
       "flex_flow": null,
       "grid_area": null,
       "grid_auto_columns": null,
       "grid_auto_flow": null,
       "grid_auto_rows": null,
       "grid_column": null,
       "grid_gap": null,
       "grid_row": null,
       "grid_template_areas": null,
       "grid_template_columns": null,
       "grid_template_rows": null,
       "height": null,
       "justify_content": null,
       "justify_items": null,
       "left": null,
       "margin": null,
       "max_height": null,
       "max_width": null,
       "min_height": null,
       "min_width": null,
       "object_fit": null,
       "object_position": null,
       "order": null,
       "overflow": null,
       "overflow_x": null,
       "overflow_y": null,
       "padding": null,
       "right": null,
       "top": null,
       "visibility": null,
       "width": null
      }
     },
     "46a19f064cc640e48bcc9eb2a6c30e0d": {
      "model_module": "@jupyter-widgets/controls",
      "model_module_version": "1.5.0",
      "model_name": "DescriptionStyleModel",
      "state": {
       "_model_module": "@jupyter-widgets/controls",
       "_model_module_version": "1.5.0",
       "_model_name": "DescriptionStyleModel",
       "_view_count": null,
       "_view_module": "@jupyter-widgets/base",
       "_view_module_version": "1.2.0",
       "_view_name": "StyleView",
       "description_width": ""
      }
     },
     "509f9ab4dfc242b5a78b6c79a20b3331": {
      "model_module": "@jupyter-widgets/controls",
      "model_module_version": "1.5.0",
      "model_name": "DescriptionStyleModel",
      "state": {
       "_model_module": "@jupyter-widgets/controls",
       "_model_module_version": "1.5.0",
       "_model_name": "DescriptionStyleModel",
       "_view_count": null,
       "_view_module": "@jupyter-widgets/base",
       "_view_module_version": "1.2.0",
       "_view_name": "StyleView",
       "description_width": ""
      }
     },
     "58eb16177315493794f0a14b3cc751bf": {
      "model_module": "@jupyter-widgets/controls",
      "model_module_version": "1.5.0",
      "model_name": "HTMLModel",
      "state": {
       "_dom_classes": [],
       "_model_module": "@jupyter-widgets/controls",
       "_model_module_version": "1.5.0",
       "_model_name": "HTMLModel",
       "_view_count": null,
       "_view_module": "@jupyter-widgets/controls",
       "_view_module_version": "1.5.0",
       "_view_name": "HTMLView",
       "description": "",
       "description_tooltip": null,
       "layout": "IPY_MODEL_4454a35affcb4b5897eca08f7db76ebe",
       "placeholder": "​",
       "style": "IPY_MODEL_509f9ab4dfc242b5a78b6c79a20b3331",
       "value": " 459/459 [00:00&lt;00:00, 41.3kB/s]"
      }
     },
     "5b82dedc7dd24684ac028a6e04c06e02": {
      "model_module": "@jupyter-widgets/controls",
      "model_module_version": "1.5.0",
      "model_name": "DescriptionStyleModel",
      "state": {
       "_model_module": "@jupyter-widgets/controls",
       "_model_module_version": "1.5.0",
       "_model_name": "DescriptionStyleModel",
       "_view_count": null,
       "_view_module": "@jupyter-widgets/base",
       "_view_module_version": "1.2.0",
       "_view_name": "StyleView",
       "description_width": ""
      }
     },
     "60c47cb175f0467597e32791451006bc": {
      "model_module": "@jupyter-widgets/controls",
      "model_module_version": "1.5.0",
      "model_name": "HTMLModel",
      "state": {
       "_dom_classes": [],
       "_model_module": "@jupyter-widgets/controls",
       "_model_module_version": "1.5.0",
       "_model_name": "HTMLModel",
       "_view_count": null,
       "_view_module": "@jupyter-widgets/controls",
       "_view_module_version": "1.5.0",
       "_view_name": "HTMLView",
       "description": "",
       "description_tooltip": null,
       "layout": "IPY_MODEL_081256b0f49e4eebb5abe305322478d1",
       "placeholder": "​",
       "style": "IPY_MODEL_11509e2871f9441d8df39bcd85151a42",
       "value": " 454M/454M [00:02&lt;00:00, 217MB/s]"
      }
     },
     "6d7a59057ec249d08e6084852f306921": {
      "model_module": "@jupyter-widgets/base",
      "model_module_version": "1.2.0",
      "model_name": "LayoutModel",
      "state": {
       "_model_module": "@jupyter-widgets/base",
       "_model_module_version": "1.2.0",
       "_model_name": "LayoutModel",
       "_view_count": null,
       "_view_module": "@jupyter-widgets/base",
       "_view_module_version": "1.2.0",
       "_view_name": "LayoutView",
       "align_content": null,
       "align_items": null,
       "align_self": null,
       "border": null,
       "bottom": null,
       "display": null,
       "flex": null,
       "flex_flow": null,
       "grid_area": null,
       "grid_auto_columns": null,
       "grid_auto_flow": null,
       "grid_auto_rows": null,
       "grid_column": null,
       "grid_gap": null,
       "grid_row": null,
       "grid_template_areas": null,
       "grid_template_columns": null,
       "grid_template_rows": null,
       "height": null,
       "justify_content": null,
       "justify_items": null,
       "left": null,
       "margin": null,
       "max_height": null,
       "max_width": null,
       "min_height": null,
       "min_width": null,
       "object_fit": null,
       "object_position": null,
       "order": null,
       "overflow": null,
       "overflow_x": null,
       "overflow_y": null,
       "padding": null,
       "right": null,
       "top": null,
       "visibility": null,
       "width": null
      }
     },
     "6feefde2a6d3453ca91aa29346a87f42": {
      "model_module": "@jupyter-widgets/base",
      "model_module_version": "1.2.0",
      "model_name": "LayoutModel",
      "state": {
       "_model_module": "@jupyter-widgets/base",
       "_model_module_version": "1.2.0",
       "_model_name": "LayoutModel",
       "_view_count": null,
       "_view_module": "@jupyter-widgets/base",
       "_view_module_version": "1.2.0",
       "_view_name": "LayoutView",
       "align_content": null,
       "align_items": null,
       "align_self": null,
       "border": null,
       "bottom": null,
       "display": null,
       "flex": null,
       "flex_flow": null,
       "grid_area": null,
       "grid_auto_columns": null,
       "grid_auto_flow": null,
       "grid_auto_rows": null,
       "grid_column": null,
       "grid_gap": null,
       "grid_row": null,
       "grid_template_areas": null,
       "grid_template_columns": null,
       "grid_template_rows": null,
       "height": null,
       "justify_content": null,
       "justify_items": null,
       "left": null,
       "margin": null,
       "max_height": null,
       "max_width": null,
       "min_height": null,
       "min_width": null,
       "object_fit": null,
       "object_position": null,
       "order": null,
       "overflow": null,
       "overflow_x": null,
       "overflow_y": null,
       "padding": null,
       "right": null,
       "top": null,
       "visibility": null,
       "width": null
      }
     },
     "715f1086aeef4dc5a6b47c908d9c54c5": {
      "model_module": "@jupyter-widgets/controls",
      "model_module_version": "1.5.0",
      "model_name": "FloatProgressModel",
      "state": {
       "_dom_classes": [],
       "_model_module": "@jupyter-widgets/controls",
       "_model_module_version": "1.5.0",
       "_model_name": "FloatProgressModel",
       "_view_count": null,
       "_view_module": "@jupyter-widgets/controls",
       "_view_module_version": "1.5.0",
       "_view_name": "ProgressView",
       "bar_style": "success",
       "description": "",
       "description_tooltip": null,
       "layout": "IPY_MODEL_0e9cf27271a24478a597c05ac080dbfc",
       "max": 2.0,
       "min": 0.0,
       "orientation": "horizontal",
       "style": "IPY_MODEL_850d58af917841358fc45876ef8d1c18",
       "value": 2.0
      }
     },
     "72c9aed7e9e241eaabee674c306badd6": {
      "model_module": "@jupyter-widgets/controls",
      "model_module_version": "1.5.0",
      "model_name": "HTMLModel",
      "state": {
       "_dom_classes": [],
       "_model_module": "@jupyter-widgets/controls",
       "_model_module_version": "1.5.0",
       "_model_name": "HTMLModel",
       "_view_count": null,
       "_view_module": "@jupyter-widgets/controls",
       "_view_module_version": "1.5.0",
       "_view_name": "HTMLView",
       "description": "",
       "description_tooltip": null,
       "layout": "IPY_MODEL_99754f660663457db4bb48c0dc4005f8",
       "placeholder": "​",
       "style": "IPY_MODEL_347989c50984496eb9a6156993d6d3f7",
       "value": " 112/112 [00:00&lt;00:00, 9.90kB/s]"
      }
     },
     "75a7bc3b28eb4ee6b095d932b7c8c632": {
      "model_module": "@jupyter-widgets/controls",
      "model_module_version": "1.5.0",
      "model_name": "DescriptionStyleModel",
      "state": {
       "_model_module": "@jupyter-widgets/controls",
       "_model_module_version": "1.5.0",
       "_model_name": "DescriptionStyleModel",
       "_view_count": null,
       "_view_module": "@jupyter-widgets/base",
       "_view_module_version": "1.2.0",
       "_view_name": "StyleView",
       "description_width": ""
      }
     },
     "762969570740454290b2d7b75f389280": {
      "model_module": "@jupyter-widgets/controls",
      "model_module_version": "1.5.0",
      "model_name": "HTMLModel",
      "state": {
       "_dom_classes": [],
       "_model_module": "@jupyter-widgets/controls",
       "_model_module_version": "1.5.0",
       "_model_name": "HTMLModel",
       "_view_count": null,
       "_view_module": "@jupyter-widgets/controls",
       "_view_module_version": "1.5.0",
       "_view_name": "HTMLView",
       "description": "",
       "description_tooltip": null,
       "layout": "IPY_MODEL_98f13ac2a5974cde96d2a0de48d1ba13",
       "placeholder": "​",
       "style": "IPY_MODEL_b08d80dc8f444343be50d95aa259729e",
       "value": "tokenizer_config.json: 100%"
      }
     },
     "79c54976d7a74af5ab61450e449d965d": {
      "model_module": "@jupyter-widgets/base",
      "model_module_version": "1.2.0",
      "model_name": "LayoutModel",
      "state": {
       "_model_module": "@jupyter-widgets/base",
       "_model_module_version": "1.2.0",
       "_model_name": "LayoutModel",
       "_view_count": null,
       "_view_module": "@jupyter-widgets/base",
       "_view_module_version": "1.2.0",
       "_view_name": "LayoutView",
       "align_content": null,
       "align_items": null,
       "align_self": null,
       "border": null,
       "bottom": null,
       "display": null,
       "flex": null,
       "flex_flow": null,
       "grid_area": null,
       "grid_auto_columns": null,
       "grid_auto_flow": null,
       "grid_auto_rows": null,
       "grid_column": null,
       "grid_gap": null,
       "grid_row": null,
       "grid_template_areas": null,
       "grid_template_columns": null,
       "grid_template_rows": null,
       "height": null,
       "justify_content": null,
       "justify_items": null,
       "left": null,
       "margin": null,
       "max_height": null,
       "max_width": null,
       "min_height": null,
       "min_width": null,
       "object_fit": null,
       "object_position": null,
       "order": null,
       "overflow": null,
       "overflow_x": null,
       "overflow_y": null,
       "padding": null,
       "right": null,
       "top": null,
       "visibility": null,
       "width": null
      }
     },
     "7dccfb0b7fdc4076af8c9900b0b036a5": {
      "model_module": "@jupyter-widgets/controls",
      "model_module_version": "1.5.0",
      "model_name": "ProgressStyleModel",
      "state": {
       "_model_module": "@jupyter-widgets/controls",
       "_model_module_version": "1.5.0",
       "_model_name": "ProgressStyleModel",
       "_view_count": null,
       "_view_module": "@jupyter-widgets/base",
       "_view_module_version": "1.2.0",
       "_view_name": "StyleView",
       "bar_color": null,
       "description_width": ""
      }
     },
     "850d58af917841358fc45876ef8d1c18": {
      "model_module": "@jupyter-widgets/controls",
      "model_module_version": "1.5.0",
      "model_name": "ProgressStyleModel",
      "state": {
       "_model_module": "@jupyter-widgets/controls",
       "_model_module_version": "1.5.0",
       "_model_name": "ProgressStyleModel",
       "_view_count": null,
       "_view_module": "@jupyter-widgets/base",
       "_view_module_version": "1.2.0",
       "_view_name": "StyleView",
       "bar_color": null,
       "description_width": ""
      }
     },
     "87b6b8dc2f2a457db6cb3c96fbc20333": {
      "model_module": "@jupyter-widgets/controls",
      "model_module_version": "1.5.0",
      "model_name": "DescriptionStyleModel",
      "state": {
       "_model_module": "@jupyter-widgets/controls",
       "_model_module_version": "1.5.0",
       "_model_name": "DescriptionStyleModel",
       "_view_count": null,
       "_view_module": "@jupyter-widgets/base",
       "_view_module_version": "1.2.0",
       "_view_name": "StyleView",
       "description_width": ""
      }
     },
     "91b33d4046c04360bd90965cd2ceb2f9": {
      "model_module": "@jupyter-widgets/controls",
      "model_module_version": "1.5.0",
      "model_name": "HTMLModel",
      "state": {
       "_dom_classes": [],
       "_model_module": "@jupyter-widgets/controls",
       "_model_module_version": "1.5.0",
       "_model_name": "HTMLModel",
       "_view_count": null,
       "_view_module": "@jupyter-widgets/controls",
       "_view_module_version": "1.5.0",
       "_view_name": "HTMLView",
       "description": "",
       "description_tooltip": null,
       "layout": "IPY_MODEL_6feefde2a6d3453ca91aa29346a87f42",
       "placeholder": "​",
       "style": "IPY_MODEL_5b82dedc7dd24684ac028a6e04c06e02",
       "value": "vocab.txt: 100%"
      }
     },
     "98f13ac2a5974cde96d2a0de48d1ba13": {
      "model_module": "@jupyter-widgets/base",
      "model_module_version": "1.2.0",
      "model_name": "LayoutModel",
      "state": {
       "_model_module": "@jupyter-widgets/base",
       "_model_module_version": "1.2.0",
       "_model_name": "LayoutModel",
       "_view_count": null,
       "_view_module": "@jupyter-widgets/base",
       "_view_module_version": "1.2.0",
       "_view_name": "LayoutView",
       "align_content": null,
       "align_items": null,
       "align_self": null,
       "border": null,
       "bottom": null,
       "display": null,
       "flex": null,
       "flex_flow": null,
       "grid_area": null,
       "grid_auto_columns": null,
       "grid_auto_flow": null,
       "grid_auto_rows": null,
       "grid_column": null,
       "grid_gap": null,
       "grid_row": null,
       "grid_template_areas": null,
       "grid_template_columns": null,
       "grid_template_rows": null,
       "height": null,
       "justify_content": null,
       "justify_items": null,
       "left": null,
       "margin": null,
       "max_height": null,
       "max_width": null,
       "min_height": null,
       "min_width": null,
       "object_fit": null,
       "object_position": null,
       "order": null,
       "overflow": null,
       "overflow_x": null,
       "overflow_y": null,
       "padding": null,
       "right": null,
       "top": null,
       "visibility": null,
       "width": null
      }
     },
     "99754f660663457db4bb48c0dc4005f8": {
      "model_module": "@jupyter-widgets/base",
      "model_module_version": "1.2.0",
      "model_name": "LayoutModel",
      "state": {
       "_model_module": "@jupyter-widgets/base",
       "_model_module_version": "1.2.0",
       "_model_name": "LayoutModel",
       "_view_count": null,
       "_view_module": "@jupyter-widgets/base",
       "_view_module_version": "1.2.0",
       "_view_name": "LayoutView",
       "align_content": null,
       "align_items": null,
       "align_self": null,
       "border": null,
       "bottom": null,
       "display": null,
       "flex": null,
       "flex_flow": null,
       "grid_area": null,
       "grid_auto_columns": null,
       "grid_auto_flow": null,
       "grid_auto_rows": null,
       "grid_column": null,
       "grid_gap": null,
       "grid_row": null,
       "grid_template_areas": null,
       "grid_template_columns": null,
       "grid_template_rows": null,
       "height": null,
       "justify_content": null,
       "justify_items": null,
       "left": null,
       "margin": null,
       "max_height": null,
       "max_width": null,
       "min_height": null,
       "min_width": null,
       "object_fit": null,
       "object_position": null,
       "order": null,
       "overflow": null,
       "overflow_x": null,
       "overflow_y": null,
       "padding": null,
       "right": null,
       "top": null,
       "visibility": null,
       "width": null
      }
     },
     "9a3e7e13a7864da5ba8625814ae0c33f": {
      "model_module": "@jupyter-widgets/controls",
      "model_module_version": "1.5.0",
      "model_name": "FloatProgressModel",
      "state": {
       "_dom_classes": [],
       "_model_module": "@jupyter-widgets/controls",
       "_model_module_version": "1.5.0",
       "_model_name": "FloatProgressModel",
       "_view_count": null,
       "_view_module": "@jupyter-widgets/controls",
       "_view_module_version": "1.5.0",
       "_view_name": "ProgressView",
       "bar_style": "success",
       "description": "",
       "description_tooltip": null,
       "layout": "IPY_MODEL_c7f76cab6dbb4857899b64d98228e96e",
       "max": 112.0,
       "min": 0.0,
       "orientation": "horizontal",
       "style": "IPY_MODEL_0904419b86a34ad88806eb05c3728381",
       "value": 112.0
      }
     },
     "9ba64015b3c1497eb3280d0924838643": {
      "model_module": "@jupyter-widgets/controls",
      "model_module_version": "1.5.0",
      "model_name": "HBoxModel",
      "state": {
       "_dom_classes": [],
       "_model_module": "@jupyter-widgets/controls",
       "_model_module_version": "1.5.0",
       "_model_name": "HBoxModel",
       "_view_count": null,
       "_view_module": "@jupyter-widgets/controls",
       "_view_module_version": "1.5.0",
       "_view_name": "HBoxView",
       "box_style": "",
       "children": [
        "IPY_MODEL_762969570740454290b2d7b75f389280",
        "IPY_MODEL_715f1086aeef4dc5a6b47c908d9c54c5",
        "IPY_MODEL_00d9e358c5ab46c8a5bdcd00dc2e039f"
       ],
       "layout": "IPY_MODEL_79c54976d7a74af5ab61450e449d965d"
      }
     },
     "a0700c5c139548db92d735d173a38ea9": {
      "model_module": "@jupyter-widgets/controls",
      "model_module_version": "1.5.0",
      "model_name": "HTMLModel",
      "state": {
       "_dom_classes": [],
       "_model_module": "@jupyter-widgets/controls",
       "_model_module_version": "1.5.0",
       "_model_name": "HTMLModel",
       "_view_count": null,
       "_view_module": "@jupyter-widgets/controls",
       "_view_module_version": "1.5.0",
       "_view_name": "HTMLView",
       "description": "",
       "description_tooltip": null,
       "layout": "IPY_MODEL_36b1585233df4daebf8bc2ec48662466",
       "placeholder": "​",
       "style": "IPY_MODEL_75a7bc3b28eb4ee6b095d932b7c8c632",
       "value": "config.json: 100%"
      }
     },
     "a8f4f9a41e1a4beda8b959fa95a08198": {
      "model_module": "@jupyter-widgets/controls",
      "model_module_version": "1.5.0",
      "model_name": "FloatProgressModel",
      "state": {
       "_dom_classes": [],
       "_model_module": "@jupyter-widgets/controls",
       "_model_module_version": "1.5.0",
       "_model_name": "FloatProgressModel",
       "_view_count": null,
       "_view_module": "@jupyter-widgets/controls",
       "_view_module_version": "1.5.0",
       "_view_name": "ProgressView",
       "bar_style": "success",
       "description": "",
       "description_tooltip": null,
       "layout": "IPY_MODEL_6d7a59057ec249d08e6084852f306921",
       "max": 454248854.0,
       "min": 0.0,
       "orientation": "horizontal",
       "style": "IPY_MODEL_e92dfebcdb354776b5e2b4e080e74811",
       "value": 454248854.0
      }
     },
     "aacea3135d79467b9c864c697eb7dffc": {
      "model_module": "@jupyter-widgets/controls",
      "model_module_version": "1.5.0",
      "model_name": "HTMLModel",
      "state": {
       "_dom_classes": [],
       "_model_module": "@jupyter-widgets/controls",
       "_model_module_version": "1.5.0",
       "_model_name": "HTMLModel",
       "_view_count": null,
       "_view_module": "@jupyter-widgets/controls",
       "_view_module_version": "1.5.0",
       "_view_name": "HTMLView",
       "description": "",
       "description_tooltip": null,
       "layout": "IPY_MODEL_ec0e78b61ae14f85971859cc0eaacef3",
       "placeholder": "​",
       "style": "IPY_MODEL_b0532a1b901e4799b6e41a80fff02915",
       "value": "special_tokens_map.json: 100%"
      }
     },
     "aaf720eacece4ecf83492cc4a9f46370": {
      "model_module": "@jupyter-widgets/controls",
      "model_module_version": "1.5.0",
      "model_name": "HBoxModel",
      "state": {
       "_dom_classes": [],
       "_model_module": "@jupyter-widgets/controls",
       "_model_module_version": "1.5.0",
       "_model_name": "HBoxModel",
       "_view_count": null,
       "_view_module": "@jupyter-widgets/controls",
       "_view_module_version": "1.5.0",
       "_view_name": "HBoxView",
       "box_style": "",
       "children": [
        "IPY_MODEL_91b33d4046c04360bd90965cd2ceb2f9",
        "IPY_MODEL_d8a0da6d364f415f907209d4ccf22e7b",
        "IPY_MODEL_3e32ab3559764e7a817e51f3c1b68d6c"
       ],
       "layout": "IPY_MODEL_f89e069e35dd4cdb898d21d9c3dad157"
      }
     },
     "ae55c5a0519e401e9ceda7870ae97ab9": {
      "model_module": "@jupyter-widgets/controls",
      "model_module_version": "1.5.0",
      "model_name": "HBoxModel",
      "state": {
       "_dom_classes": [],
       "_model_module": "@jupyter-widgets/controls",
       "_model_module_version": "1.5.0",
       "_model_name": "HBoxModel",
       "_view_count": null,
       "_view_module": "@jupyter-widgets/controls",
       "_view_module_version": "1.5.0",
       "_view_name": "HBoxView",
       "box_style": "",
       "children": [
        "IPY_MODEL_a0700c5c139548db92d735d173a38ea9",
        "IPY_MODEL_0d2837b21073462e85ef497d2194c8aa",
        "IPY_MODEL_58eb16177315493794f0a14b3cc751bf"
       ],
       "layout": "IPY_MODEL_b900589baeb243569e0227dde895c6e4"
      }
     },
     "b0532a1b901e4799b6e41a80fff02915": {
      "model_module": "@jupyter-widgets/controls",
      "model_module_version": "1.5.0",
      "model_name": "DescriptionStyleModel",
      "state": {
       "_model_module": "@jupyter-widgets/controls",
       "_model_module_version": "1.5.0",
       "_model_name": "DescriptionStyleModel",
       "_view_count": null,
       "_view_module": "@jupyter-widgets/base",
       "_view_module_version": "1.2.0",
       "_view_name": "StyleView",
       "description_width": ""
      }
     },
     "b08d80dc8f444343be50d95aa259729e": {
      "model_module": "@jupyter-widgets/controls",
      "model_module_version": "1.5.0",
      "model_name": "DescriptionStyleModel",
      "state": {
       "_model_module": "@jupyter-widgets/controls",
       "_model_module_version": "1.5.0",
       "_model_name": "DescriptionStyleModel",
       "_view_count": null,
       "_view_module": "@jupyter-widgets/base",
       "_view_module_version": "1.2.0",
       "_view_name": "StyleView",
       "description_width": ""
      }
     },
     "b6e544bdff1d407dbadc0c40e152c3c1": {
      "model_module": "@jupyter-widgets/base",
      "model_module_version": "1.2.0",
      "model_name": "LayoutModel",
      "state": {
       "_model_module": "@jupyter-widgets/base",
       "_model_module_version": "1.2.0",
       "_model_name": "LayoutModel",
       "_view_count": null,
       "_view_module": "@jupyter-widgets/base",
       "_view_module_version": "1.2.0",
       "_view_name": "LayoutView",
       "align_content": null,
       "align_items": null,
       "align_self": null,
       "border": null,
       "bottom": null,
       "display": null,
       "flex": null,
       "flex_flow": null,
       "grid_area": null,
       "grid_auto_columns": null,
       "grid_auto_flow": null,
       "grid_auto_rows": null,
       "grid_column": null,
       "grid_gap": null,
       "grid_row": null,
       "grid_template_areas": null,
       "grid_template_columns": null,
       "grid_template_rows": null,
       "height": null,
       "justify_content": null,
       "justify_items": null,
       "left": null,
       "margin": null,
       "max_height": null,
       "max_width": null,
       "min_height": null,
       "min_width": null,
       "object_fit": null,
       "object_position": null,
       "order": null,
       "overflow": null,
       "overflow_x": null,
       "overflow_y": null,
       "padding": null,
       "right": null,
       "top": null,
       "visibility": null,
       "width": null
      }
     },
     "b900589baeb243569e0227dde895c6e4": {
      "model_module": "@jupyter-widgets/base",
      "model_module_version": "1.2.0",
      "model_name": "LayoutModel",
      "state": {
       "_model_module": "@jupyter-widgets/base",
       "_model_module_version": "1.2.0",
       "_model_name": "LayoutModel",
       "_view_count": null,
       "_view_module": "@jupyter-widgets/base",
       "_view_module_version": "1.2.0",
       "_view_name": "LayoutView",
       "align_content": null,
       "align_items": null,
       "align_self": null,
       "border": null,
       "bottom": null,
       "display": null,
       "flex": null,
       "flex_flow": null,
       "grid_area": null,
       "grid_auto_columns": null,
       "grid_auto_flow": null,
       "grid_auto_rows": null,
       "grid_column": null,
       "grid_gap": null,
       "grid_row": null,
       "grid_template_areas": null,
       "grid_template_columns": null,
       "grid_template_rows": null,
       "height": null,
       "justify_content": null,
       "justify_items": null,
       "left": null,
       "margin": null,
       "max_height": null,
       "max_width": null,
       "min_height": null,
       "min_width": null,
       "object_fit": null,
       "object_position": null,
       "order": null,
       "overflow": null,
       "overflow_x": null,
       "overflow_y": null,
       "padding": null,
       "right": null,
       "top": null,
       "visibility": null,
       "width": null
      }
     },
     "c7f76cab6dbb4857899b64d98228e96e": {
      "model_module": "@jupyter-widgets/base",
      "model_module_version": "1.2.0",
      "model_name": "LayoutModel",
      "state": {
       "_model_module": "@jupyter-widgets/base",
       "_model_module_version": "1.2.0",
       "_model_name": "LayoutModel",
       "_view_count": null,
       "_view_module": "@jupyter-widgets/base",
       "_view_module_version": "1.2.0",
       "_view_name": "LayoutView",
       "align_content": null,
       "align_items": null,
       "align_self": null,
       "border": null,
       "bottom": null,
       "display": null,
       "flex": null,
       "flex_flow": null,
       "grid_area": null,
       "grid_auto_columns": null,
       "grid_auto_flow": null,
       "grid_auto_rows": null,
       "grid_column": null,
       "grid_gap": null,
       "grid_row": null,
       "grid_template_areas": null,
       "grid_template_columns": null,
       "grid_template_rows": null,
       "height": null,
       "justify_content": null,
       "justify_items": null,
       "left": null,
       "margin": null,
       "max_height": null,
       "max_width": null,
       "min_height": null,
       "min_width": null,
       "object_fit": null,
       "object_position": null,
       "order": null,
       "overflow": null,
       "overflow_x": null,
       "overflow_y": null,
       "padding": null,
       "right": null,
       "top": null,
       "visibility": null,
       "width": null
      }
     },
     "d8a0da6d364f415f907209d4ccf22e7b": {
      "model_module": "@jupyter-widgets/controls",
      "model_module_version": "1.5.0",
      "model_name": "FloatProgressModel",
      "state": {
       "_dom_classes": [],
       "_model_module": "@jupyter-widgets/controls",
       "_model_module_version": "1.5.0",
       "_model_name": "FloatProgressModel",
       "_view_count": null,
       "_view_module": "@jupyter-widgets/controls",
       "_view_module_version": "1.5.0",
       "_view_name": "ProgressView",
       "bar_style": "success",
       "description": "",
       "description_tooltip": null,
       "layout": "IPY_MODEL_f8a1e68345554100a901389dfb074a94",
       "max": 529930.0,
       "min": 0.0,
       "orientation": "horizontal",
       "style": "IPY_MODEL_7dccfb0b7fdc4076af8c9900b0b036a5",
       "value": 529930.0
      }
     },
     "e92dfebcdb354776b5e2b4e080e74811": {
      "model_module": "@jupyter-widgets/controls",
      "model_module_version": "1.5.0",
      "model_name": "ProgressStyleModel",
      "state": {
       "_model_module": "@jupyter-widgets/controls",
       "_model_module_version": "1.5.0",
       "_model_name": "ProgressStyleModel",
       "_view_count": null,
       "_view_module": "@jupyter-widgets/base",
       "_view_module_version": "1.2.0",
       "_view_name": "StyleView",
       "bar_color": null,
       "description_width": ""
      }
     },
     "eb836df0d24344338010c8f39be08e27": {
      "model_module": "@jupyter-widgets/base",
      "model_module_version": "1.2.0",
      "model_name": "LayoutModel",
      "state": {
       "_model_module": "@jupyter-widgets/base",
       "_model_module_version": "1.2.0",
       "_model_name": "LayoutModel",
       "_view_count": null,
       "_view_module": "@jupyter-widgets/base",
       "_view_module_version": "1.2.0",
       "_view_name": "LayoutView",
       "align_content": null,
       "align_items": null,
       "align_self": null,
       "border": null,
       "bottom": null,
       "display": null,
       "flex": null,
       "flex_flow": null,
       "grid_area": null,
       "grid_auto_columns": null,
       "grid_auto_flow": null,
       "grid_auto_rows": null,
       "grid_column": null,
       "grid_gap": null,
       "grid_row": null,
       "grid_template_areas": null,
       "grid_template_columns": null,
       "grid_template_rows": null,
       "height": null,
       "justify_content": null,
       "justify_items": null,
       "left": null,
       "margin": null,
       "max_height": null,
       "max_width": null,
       "min_height": null,
       "min_width": null,
       "object_fit": null,
       "object_position": null,
       "order": null,
       "overflow": null,
       "overflow_x": null,
       "overflow_y": null,
       "padding": null,
       "right": null,
       "top": null,
       "visibility": null,
       "width": null
      }
     },
     "ec0e78b61ae14f85971859cc0eaacef3": {
      "model_module": "@jupyter-widgets/base",
      "model_module_version": "1.2.0",
      "model_name": "LayoutModel",
      "state": {
       "_model_module": "@jupyter-widgets/base",
       "_model_module_version": "1.2.0",
       "_model_name": "LayoutModel",
       "_view_count": null,
       "_view_module": "@jupyter-widgets/base",
       "_view_module_version": "1.2.0",
       "_view_name": "LayoutView",
       "align_content": null,
       "align_items": null,
       "align_self": null,
       "border": null,
       "bottom": null,
       "display": null,
       "flex": null,
       "flex_flow": null,
       "grid_area": null,
       "grid_auto_columns": null,
       "grid_auto_flow": null,
       "grid_auto_rows": null,
       "grid_column": null,
       "grid_gap": null,
       "grid_row": null,
       "grid_template_areas": null,
       "grid_template_columns": null,
       "grid_template_rows": null,
       "height": null,
       "justify_content": null,
       "justify_items": null,
       "left": null,
       "margin": null,
       "max_height": null,
       "max_width": null,
       "min_height": null,
       "min_width": null,
       "object_fit": null,
       "object_position": null,
       "order": null,
       "overflow": null,
       "overflow_x": null,
       "overflow_y": null,
       "padding": null,
       "right": null,
       "top": null,
       "visibility": null,
       "width": null
      }
     },
     "f4e42dc8e099440eab6e2c84d5337543": {
      "model_module": "@jupyter-widgets/base",
      "model_module_version": "1.2.0",
      "model_name": "LayoutModel",
      "state": {
       "_model_module": "@jupyter-widgets/base",
       "_model_module_version": "1.2.0",
       "_model_name": "LayoutModel",
       "_view_count": null,
       "_view_module": "@jupyter-widgets/base",
       "_view_module_version": "1.2.0",
       "_view_name": "LayoutView",
       "align_content": null,
       "align_items": null,
       "align_self": null,
       "border": null,
       "bottom": null,
       "display": null,
       "flex": null,
       "flex_flow": null,
       "grid_area": null,
       "grid_auto_columns": null,
       "grid_auto_flow": null,
       "grid_auto_rows": null,
       "grid_column": null,
       "grid_gap": null,
       "grid_row": null,
       "grid_template_areas": null,
       "grid_template_columns": null,
       "grid_template_rows": null,
       "height": null,
       "justify_content": null,
       "justify_items": null,
       "left": null,
       "margin": null,
       "max_height": null,
       "max_width": null,
       "min_height": null,
       "min_width": null,
       "object_fit": null,
       "object_position": null,
       "order": null,
       "overflow": null,
       "overflow_x": null,
       "overflow_y": null,
       "padding": null,
       "right": null,
       "top": null,
       "visibility": null,
       "width": null
      }
     },
     "f89e069e35dd4cdb898d21d9c3dad157": {
      "model_module": "@jupyter-widgets/base",
      "model_module_version": "1.2.0",
      "model_name": "LayoutModel",
      "state": {
       "_model_module": "@jupyter-widgets/base",
       "_model_module_version": "1.2.0",
       "_model_name": "LayoutModel",
       "_view_count": null,
       "_view_module": "@jupyter-widgets/base",
       "_view_module_version": "1.2.0",
       "_view_name": "LayoutView",
       "align_content": null,
       "align_items": null,
       "align_self": null,
       "border": null,
       "bottom": null,
       "display": null,
       "flex": null,
       "flex_flow": null,
       "grid_area": null,
       "grid_auto_columns": null,
       "grid_auto_flow": null,
       "grid_auto_rows": null,
       "grid_column": null,
       "grid_gap": null,
       "grid_row": null,
       "grid_template_areas": null,
       "grid_template_columns": null,
       "grid_template_rows": null,
       "height": null,
       "justify_content": null,
       "justify_items": null,
       "left": null,
       "margin": null,
       "max_height": null,
       "max_width": null,
       "min_height": null,
       "min_width": null,
       "object_fit": null,
       "object_position": null,
       "order": null,
       "overflow": null,
       "overflow_x": null,
       "overflow_y": null,
       "padding": null,
       "right": null,
       "top": null,
       "visibility": null,
       "width": null
      }
     },
     "f8a1e68345554100a901389dfb074a94": {
      "model_module": "@jupyter-widgets/base",
      "model_module_version": "1.2.0",
      "model_name": "LayoutModel",
      "state": {
       "_model_module": "@jupyter-widgets/base",
       "_model_module_version": "1.2.0",
       "_model_name": "LayoutModel",
       "_view_count": null,
       "_view_module": "@jupyter-widgets/base",
       "_view_module_version": "1.2.0",
       "_view_name": "LayoutView",
       "align_content": null,
       "align_items": null,
       "align_self": null,
       "border": null,
       "bottom": null,
       "display": null,
       "flex": null,
       "flex_flow": null,
       "grid_area": null,
       "grid_auto_columns": null,
       "grid_auto_flow": null,
       "grid_auto_rows": null,
       "grid_column": null,
       "grid_gap": null,
       "grid_row": null,
       "grid_template_areas": null,
       "grid_template_columns": null,
       "grid_template_rows": null,
       "height": null,
       "justify_content": null,
       "justify_items": null,
       "left": null,
       "margin": null,
       "max_height": null,
       "max_width": null,
       "min_height": null,
       "min_width": null,
       "object_fit": null,
       "object_position": null,
       "order": null,
       "overflow": null,
       "overflow_x": null,
       "overflow_y": null,
       "padding": null,
       "right": null,
       "top": null,
       "visibility": null,
       "width": null
      }
     },
     "fc5114d4650e4d7b919e3e7f50c7c004": {
      "model_module": "@jupyter-widgets/controls",
      "model_module_version": "1.5.0",
      "model_name": "HBoxModel",
      "state": {
       "_dom_classes": [],
       "_model_module": "@jupyter-widgets/controls",
       "_model_module_version": "1.5.0",
       "_model_name": "HBoxModel",
       "_view_count": null,
       "_view_module": "@jupyter-widgets/controls",
       "_view_module_version": "1.5.0",
       "_view_name": "HBoxView",
       "box_style": "",
       "children": [
        "IPY_MODEL_aacea3135d79467b9c864c697eb7dffc",
        "IPY_MODEL_9a3e7e13a7864da5ba8625814ae0c33f",
        "IPY_MODEL_72c9aed7e9e241eaabee674c306badd6"
       ],
       "layout": "IPY_MODEL_f4e42dc8e099440eab6e2c84d5337543"
      }
     }
    },
    "version_major": 2,
    "version_minor": 0
   }
  }
 },
 "nbformat": 4,
 "nbformat_minor": 5
}
