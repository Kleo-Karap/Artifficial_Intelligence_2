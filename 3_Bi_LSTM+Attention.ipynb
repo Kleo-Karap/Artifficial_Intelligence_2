{
 "cells": [
  {
   "cell_type": "markdown",
   "id": "7161c3d2",
   "metadata": {
    "id": "62e77e51",
    "papermill": {
     "duration": 0.01924,
     "end_time": "2024-02-09T17:26:49.083497",
     "exception": false,
     "start_time": "2024-02-09T17:26:49.064257",
     "status": "completed"
    },
    "tags": []
   },
   "source": [
    "**M931 : Deep Learning for NLP |\n",
    "Winter Semester 2023/24 |\n",
    "Student ID: lt12200010 |\n",
    "Student Name: Kleopatra Karapanagiotou**\n",
    "\n",
    "**Assignment_3: SENTIMENT ANALYSIS OF TWEETS USING BIDIRECTIONAL RNN**"
   ]
  },
  {
   "cell_type": "markdown",
   "id": "22900217",
   "metadata": {
    "papermill": {
     "duration": 0.017907,
     "end_time": "2024-02-09T17:26:49.120055",
     "exception": false,
     "start_time": "2024-02-09T17:26:49.102148",
     "status": "completed"
    },
    "tags": []
   },
   "source": [
    "In this assignment we use bidirectional RNNs in order to predict the polarity ouf tweets in Greek language about the Greek general elections.\n",
    "Bidirectional RNNs and especially LSTMs and GRUs come to solve the problem of handling sequences of various lenths in the input, as well as processing a piece of text both from left to right and from right to left, which helps in capturing the whole context of a sequence. Let's see if the RNNs managed to overcome the performance of our previous models (FFNN and Logistic Regression)"
   ]
  },
  {
   "cell_type": "code",
   "execution_count": 1,
   "id": "a603ddf6",
   "metadata": {
    "execution": {
     "iopub.execute_input": "2024-02-09T17:26:49.158018Z",
     "iopub.status.busy": "2024-02-09T17:26:49.157714Z",
     "iopub.status.idle": "2024-02-09T17:27:32.498532Z",
     "shell.execute_reply": "2024-02-09T17:27:32.497598Z"
    },
    "id": "5fdf6dbe",
    "papermill": {
     "duration": 43.362989,
     "end_time": "2024-02-09T17:27:32.500971",
     "exception": false,
     "start_time": "2024-02-09T17:26:49.137982",
     "status": "completed"
    },
    "tags": []
   },
   "outputs": [
    {
     "name": "stdout",
     "output_type": "stream",
     "text": [
      "Collecting demoji\r\n",
      "  Downloading demoji-1.1.0-py3-none-any.whl (42 kB)\r\n",
      "\u001b[2K     \u001b[90m━━━━━━━━━━━━━━━━━━━━━━━━━━━━━━━━━━━━━━━\u001b[0m \u001b[32m42.9/42.9 kB\u001b[0m \u001b[31m665.3 kB/s\u001b[0m eta \u001b[36m0:00:00\u001b[0m\r\n",
      "\u001b[?25hRequirement already satisfied: optuna in /opt/conda/lib/python3.10/site-packages (3.5.0)\r\n",
      "Collecting torchtext==0.6.0\r\n",
      "  Downloading torchtext-0.6.0-py3-none-any.whl (64 kB)\r\n",
      "\u001b[2K     \u001b[90m━━━━━━━━━━━━━━━━━━━━━━━━━━━━━━━━━━━━━━━━\u001b[0m \u001b[32m64.2/64.2 kB\u001b[0m \u001b[31m1.2 MB/s\u001b[0m eta \u001b[36m0:00:00\u001b[0m\r\n",
      "\u001b[?25hRequirement already satisfied: accelerate in /opt/conda/lib/python3.10/site-packages (0.26.1)\r\n",
      "Collecting accelerate\r\n",
      "  Downloading accelerate-0.27.0-py3-none-any.whl.metadata (18 kB)\r\n",
      "Requirement already satisfied: tqdm in /opt/conda/lib/python3.10/site-packages (from torchtext==0.6.0) (4.66.1)\r\n",
      "Requirement already satisfied: requests in /opt/conda/lib/python3.10/site-packages (from torchtext==0.6.0) (2.31.0)\r\n",
      "Requirement already satisfied: torch in /opt/conda/lib/python3.10/site-packages (from torchtext==0.6.0) (2.1.2)\r\n",
      "Requirement already satisfied: numpy in /opt/conda/lib/python3.10/site-packages (from torchtext==0.6.0) (1.24.4)\r\n",
      "Requirement already satisfied: six in /opt/conda/lib/python3.10/site-packages (from torchtext==0.6.0) (1.16.0)\r\n",
      "Requirement already satisfied: sentencepiece in /opt/conda/lib/python3.10/site-packages (from torchtext==0.6.0) (0.1.99)\r\n",
      "Requirement already satisfied: alembic>=1.5.0 in /opt/conda/lib/python3.10/site-packages (from optuna) (1.13.1)\r\n",
      "Requirement already satisfied: colorlog in /opt/conda/lib/python3.10/site-packages (from optuna) (6.8.0)\r\n",
      "Requirement already satisfied: packaging>=20.0 in /opt/conda/lib/python3.10/site-packages (from optuna) (21.3)\r\n",
      "Requirement already satisfied: sqlalchemy>=1.3.0 in /opt/conda/lib/python3.10/site-packages (from optuna) (2.0.25)\r\n",
      "Requirement already satisfied: PyYAML in /opt/conda/lib/python3.10/site-packages (from optuna) (6.0.1)\r\n",
      "Requirement already satisfied: psutil in /opt/conda/lib/python3.10/site-packages (from accelerate) (5.9.3)\r\n",
      "Requirement already satisfied: huggingface-hub in /opt/conda/lib/python3.10/site-packages (from accelerate) (0.20.3)\r\n",
      "Requirement already satisfied: safetensors>=0.3.1 in /opt/conda/lib/python3.10/site-packages (from accelerate) (0.4.2)\r\n",
      "Requirement already satisfied: Mako in /opt/conda/lib/python3.10/site-packages (from alembic>=1.5.0->optuna) (1.3.1)\r\n",
      "Requirement already satisfied: typing-extensions>=4 in /opt/conda/lib/python3.10/site-packages (from alembic>=1.5.0->optuna) (4.9.0)\r\n",
      "Requirement already satisfied: pyparsing!=3.0.5,>=2.0.2 in /opt/conda/lib/python3.10/site-packages (from packaging>=20.0->optuna) (3.1.1)\r\n",
      "Requirement already satisfied: greenlet!=0.4.17 in /opt/conda/lib/python3.10/site-packages (from sqlalchemy>=1.3.0->optuna) (3.0.3)\r\n",
      "Requirement already satisfied: filelock in /opt/conda/lib/python3.10/site-packages (from torch->torchtext==0.6.0) (3.13.1)\r\n",
      "Requirement already satisfied: sympy in /opt/conda/lib/python3.10/site-packages (from torch->torchtext==0.6.0) (1.12)\r\n",
      "Requirement already satisfied: networkx in /opt/conda/lib/python3.10/site-packages (from torch->torchtext==0.6.0) (3.2.1)\r\n",
      "Requirement already satisfied: jinja2 in /opt/conda/lib/python3.10/site-packages (from torch->torchtext==0.6.0) (3.1.2)\r\n",
      "Requirement already satisfied: fsspec in /opt/conda/lib/python3.10/site-packages (from torch->torchtext==0.6.0) (2023.12.2)\r\n",
      "Requirement already satisfied: charset-normalizer<4,>=2 in /opt/conda/lib/python3.10/site-packages (from requests->torchtext==0.6.0) (3.3.2)\r\n",
      "Requirement already satisfied: idna<4,>=2.5 in /opt/conda/lib/python3.10/site-packages (from requests->torchtext==0.6.0) (3.6)\r\n",
      "Requirement already satisfied: urllib3<3,>=1.21.1 in /opt/conda/lib/python3.10/site-packages (from requests->torchtext==0.6.0) (1.26.18)\r\n",
      "Requirement already satisfied: certifi>=2017.4.17 in /opt/conda/lib/python3.10/site-packages (from requests->torchtext==0.6.0) (2023.11.17)\r\n",
      "Requirement already satisfied: MarkupSafe>=2.0 in /opt/conda/lib/python3.10/site-packages (from jinja2->torch->torchtext==0.6.0) (2.1.3)\r\n",
      "Requirement already satisfied: mpmath>=0.19 in /opt/conda/lib/python3.10/site-packages (from sympy->torch->torchtext==0.6.0) (1.3.0)\r\n",
      "Downloading accelerate-0.27.0-py3-none-any.whl (279 kB)\r\n",
      "\u001b[2K   \u001b[90m━━━━━━━━━━━━━━━━━━━━━━━━━━━━━━━━━━━━━━━━\u001b[0m \u001b[32m279.7/279.7 kB\u001b[0m \u001b[31m4.4 MB/s\u001b[0m eta \u001b[36m0:00:00\u001b[0m\r\n",
      "\u001b[?25hInstalling collected packages: demoji, torchtext, accelerate\r\n",
      "  Attempting uninstall: torchtext\r\n",
      "    Found existing installation: torchtext 0.16.2\r\n",
      "    Uninstalling torchtext-0.16.2:\r\n",
      "      Successfully uninstalled torchtext-0.16.2\r\n",
      "  Attempting uninstall: accelerate\r\n",
      "    Found existing installation: accelerate 0.26.1\r\n",
      "    Uninstalling accelerate-0.26.1:\r\n",
      "      Successfully uninstalled accelerate-0.26.1\r\n",
      "Successfully installed accelerate-0.27.0 demoji-1.1.0 torchtext-0.6.0\r\n",
      "Collecting el-core-news-sm==3.7.0\r\n",
      "  Downloading https://github.com/explosion/spacy-models/releases/download/el_core_news_sm-3.7.0/el_core_news_sm-3.7.0-py3-none-any.whl (12.6 MB)\r\n",
      "\u001b[2K     \u001b[90m━━━━━━━━━━━━━━━━━━━━━━━━━━━━━━━━━━━━━━━━\u001b[0m \u001b[32m12.6/12.6 MB\u001b[0m \u001b[31m82.8 MB/s\u001b[0m eta \u001b[36m0:00:00\u001b[0m\r\n",
      "\u001b[?25hRequirement already satisfied: spacy<3.8.0,>=3.7.0 in /opt/conda/lib/python3.10/site-packages (from el-core-news-sm==3.7.0) (3.7.2)\r\n",
      "Requirement already satisfied: spacy-legacy<3.1.0,>=3.0.11 in /opt/conda/lib/python3.10/site-packages (from spacy<3.8.0,>=3.7.0->el-core-news-sm==3.7.0) (3.0.12)\r\n",
      "Requirement already satisfied: spacy-loggers<2.0.0,>=1.0.0 in /opt/conda/lib/python3.10/site-packages (from spacy<3.8.0,>=3.7.0->el-core-news-sm==3.7.0) (1.0.5)\r\n",
      "Requirement already satisfied: murmurhash<1.1.0,>=0.28.0 in /opt/conda/lib/python3.10/site-packages (from spacy<3.8.0,>=3.7.0->el-core-news-sm==3.7.0) (1.0.10)\r\n",
      "Requirement already satisfied: cymem<2.1.0,>=2.0.2 in /opt/conda/lib/python3.10/site-packages (from spacy<3.8.0,>=3.7.0->el-core-news-sm==3.7.0) (2.0.8)\r\n",
      "Requirement already satisfied: preshed<3.1.0,>=3.0.2 in /opt/conda/lib/python3.10/site-packages (from spacy<3.8.0,>=3.7.0->el-core-news-sm==3.7.0) (3.0.9)\r\n",
      "Requirement already satisfied: thinc<8.3.0,>=8.1.8 in /opt/conda/lib/python3.10/site-packages (from spacy<3.8.0,>=3.7.0->el-core-news-sm==3.7.0) (8.2.2)\r\n",
      "Requirement already satisfied: wasabi<1.2.0,>=0.9.1 in /opt/conda/lib/python3.10/site-packages (from spacy<3.8.0,>=3.7.0->el-core-news-sm==3.7.0) (1.1.2)\r\n",
      "Requirement already satisfied: srsly<3.0.0,>=2.4.3 in /opt/conda/lib/python3.10/site-packages (from spacy<3.8.0,>=3.7.0->el-core-news-sm==3.7.0) (2.4.8)\r\n",
      "Requirement already satisfied: catalogue<2.1.0,>=2.0.6 in /opt/conda/lib/python3.10/site-packages (from spacy<3.8.0,>=3.7.0->el-core-news-sm==3.7.0) (2.0.10)\r\n",
      "Requirement already satisfied: weasel<0.4.0,>=0.1.0 in /opt/conda/lib/python3.10/site-packages (from spacy<3.8.0,>=3.7.0->el-core-news-sm==3.7.0) (0.3.4)\r\n",
      "Requirement already satisfied: typer<0.10.0,>=0.3.0 in /opt/conda/lib/python3.10/site-packages (from spacy<3.8.0,>=3.7.0->el-core-news-sm==3.7.0) (0.9.0)\r\n",
      "Requirement already satisfied: smart-open<7.0.0,>=5.2.1 in /opt/conda/lib/python3.10/site-packages (from spacy<3.8.0,>=3.7.0->el-core-news-sm==3.7.0) (6.4.0)\r\n",
      "Requirement already satisfied: tqdm<5.0.0,>=4.38.0 in /opt/conda/lib/python3.10/site-packages (from spacy<3.8.0,>=3.7.0->el-core-news-sm==3.7.0) (4.66.1)\r\n",
      "Requirement already satisfied: requests<3.0.0,>=2.13.0 in /opt/conda/lib/python3.10/site-packages (from spacy<3.8.0,>=3.7.0->el-core-news-sm==3.7.0) (2.31.0)\r\n",
      "Requirement already satisfied: pydantic!=1.8,!=1.8.1,<3.0.0,>=1.7.4 in /opt/conda/lib/python3.10/site-packages (from spacy<3.8.0,>=3.7.0->el-core-news-sm==3.7.0) (2.5.3)\r\n",
      "Requirement already satisfied: jinja2 in /opt/conda/lib/python3.10/site-packages (from spacy<3.8.0,>=3.7.0->el-core-news-sm==3.7.0) (3.1.2)\r\n",
      "Requirement already satisfied: setuptools in /opt/conda/lib/python3.10/site-packages (from spacy<3.8.0,>=3.7.0->el-core-news-sm==3.7.0) (69.0.3)\r\n",
      "Requirement already satisfied: packaging>=20.0 in /opt/conda/lib/python3.10/site-packages (from spacy<3.8.0,>=3.7.0->el-core-news-sm==3.7.0) (21.3)\r\n",
      "Requirement already satisfied: langcodes<4.0.0,>=3.2.0 in /opt/conda/lib/python3.10/site-packages (from spacy<3.8.0,>=3.7.0->el-core-news-sm==3.7.0) (3.3.0)\r\n",
      "Requirement already satisfied: numpy>=1.19.0 in /opt/conda/lib/python3.10/site-packages (from spacy<3.8.0,>=3.7.0->el-core-news-sm==3.7.0) (1.24.4)\r\n",
      "Requirement already satisfied: pyparsing!=3.0.5,>=2.0.2 in /opt/conda/lib/python3.10/site-packages (from packaging>=20.0->spacy<3.8.0,>=3.7.0->el-core-news-sm==3.7.0) (3.1.1)\r\n",
      "Requirement already satisfied: annotated-types>=0.4.0 in /opt/conda/lib/python3.10/site-packages (from pydantic!=1.8,!=1.8.1,<3.0.0,>=1.7.4->spacy<3.8.0,>=3.7.0->el-core-news-sm==3.7.0) (0.6.0)\r\n",
      "Requirement already satisfied: pydantic-core==2.14.6 in /opt/conda/lib/python3.10/site-packages (from pydantic!=1.8,!=1.8.1,<3.0.0,>=1.7.4->spacy<3.8.0,>=3.7.0->el-core-news-sm==3.7.0) (2.14.6)\r\n",
      "Requirement already satisfied: typing-extensions>=4.6.1 in /opt/conda/lib/python3.10/site-packages (from pydantic!=1.8,!=1.8.1,<3.0.0,>=1.7.4->spacy<3.8.0,>=3.7.0->el-core-news-sm==3.7.0) (4.9.0)\r\n",
      "Requirement already satisfied: charset-normalizer<4,>=2 in /opt/conda/lib/python3.10/site-packages (from requests<3.0.0,>=2.13.0->spacy<3.8.0,>=3.7.0->el-core-news-sm==3.7.0) (3.3.2)\r\n",
      "Requirement already satisfied: idna<4,>=2.5 in /opt/conda/lib/python3.10/site-packages (from requests<3.0.0,>=2.13.0->spacy<3.8.0,>=3.7.0->el-core-news-sm==3.7.0) (3.6)\r\n",
      "Requirement already satisfied: urllib3<3,>=1.21.1 in /opt/conda/lib/python3.10/site-packages (from requests<3.0.0,>=2.13.0->spacy<3.8.0,>=3.7.0->el-core-news-sm==3.7.0) (1.26.18)\r\n",
      "Requirement already satisfied: certifi>=2017.4.17 in /opt/conda/lib/python3.10/site-packages (from requests<3.0.0,>=2.13.0->spacy<3.8.0,>=3.7.0->el-core-news-sm==3.7.0) (2023.11.17)\r\n",
      "Requirement already satisfied: blis<0.8.0,>=0.7.8 in /opt/conda/lib/python3.10/site-packages (from thinc<8.3.0,>=8.1.8->spacy<3.8.0,>=3.7.0->el-core-news-sm==3.7.0) (0.7.10)\r\n",
      "Requirement already satisfied: confection<1.0.0,>=0.0.1 in /opt/conda/lib/python3.10/site-packages (from thinc<8.3.0,>=8.1.8->spacy<3.8.0,>=3.7.0->el-core-news-sm==3.7.0) (0.1.4)\r\n",
      "Requirement already satisfied: click<9.0.0,>=7.1.1 in /opt/conda/lib/python3.10/site-packages (from typer<0.10.0,>=0.3.0->spacy<3.8.0,>=3.7.0->el-core-news-sm==3.7.0) (8.1.7)\r\n",
      "Requirement already satisfied: cloudpathlib<0.17.0,>=0.7.0 in /opt/conda/lib/python3.10/site-packages (from weasel<0.4.0,>=0.1.0->spacy<3.8.0,>=3.7.0->el-core-news-sm==3.7.0) (0.16.0)\r\n",
      "Requirement already satisfied: MarkupSafe>=2.0 in /opt/conda/lib/python3.10/site-packages (from jinja2->spacy<3.8.0,>=3.7.0->el-core-news-sm==3.7.0) (2.1.3)\r\n",
      "Installing collected packages: el-core-news-sm\r\n",
      "Successfully installed el-core-news-sm-3.7.0\r\n",
      "\u001b[38;5;2m✔ Download and installation successful\u001b[0m\r\n",
      "You can now load the package via spacy.load('el_core_news_sm')\r\n"
     ]
    }
   ],
   "source": [
    "!pip install demoji optuna torchtext==0.6.0 accelerate -U\n",
    "!python -m spacy download el_core_news_sm\n"
   ]
  },
  {
   "cell_type": "markdown",
   "id": "b0046c04",
   "metadata": {
    "id": "TWoyTa1_WAYW",
    "papermill": {
     "duration": 0.021563,
     "end_time": "2024-02-09T17:27:32.544478",
     "exception": false,
     "start_time": "2024-02-09T17:27:32.522915",
     "status": "completed"
    },
    "tags": []
   },
   "source": [
    "#Imports"
   ]
  },
  {
   "cell_type": "code",
   "execution_count": 2,
   "id": "c2002b1c",
   "metadata": {
    "execution": {
     "iopub.execute_input": "2024-02-09T17:27:32.588969Z",
     "iopub.status.busy": "2024-02-09T17:27:32.588641Z",
     "iopub.status.idle": "2024-02-09T17:27:54.830627Z",
     "shell.execute_reply": "2024-02-09T17:27:54.829407Z"
    },
    "id": "3ad4e5bb",
    "outputId": "129e765b-7f1a-4e7a-cea5-f9adb1b0d355",
    "papermill": {
     "duration": 22.267055,
     "end_time": "2024-02-09T17:27:54.832731",
     "exception": false,
     "start_time": "2024-02-09T17:27:32.565676",
     "status": "completed"
    },
    "tags": []
   },
   "outputs": [
    {
     "name": "stdout",
     "output_type": "stream",
     "text": [
      "[nltk_data] Downloading package punkt to /usr/share/nltk_data...\n",
      "[nltk_data]   Package punkt is already up-to-date!\n"
     ]
    }
   ],
   "source": [
    "# Import necessary libraries\n",
    "import re\n",
    "import random\n",
    "import shutil\n",
    "import spacy\n",
    "import string\n",
    "import matplotlib.pyplot as plt\n",
    "import pandas as pd\n",
    "import pickle\n",
    "import math\n",
    "import demoji\n",
    "import time\n",
    "import numpy as np\n",
    "from tqdm import tqdm\n",
    "from tqdm import tqdm_notebook\n",
    "from numpy import interp\n",
    "from itertools import cycle\n",
    "import gensim\n",
    "from gensim.models import Word2Vec\n",
    "import nltk\n",
    "nltk.download('punkt')\n",
    "from nltk.corpus import stopwords\n",
    "from nltk.tokenize import sent_tokenize, word_tokenize\n",
    "from nltk.stem import WordNetLemmatizer\n",
    "import collections\n",
    "from sklearn.utils import resample\n",
    "from sklearn import metrics\n",
    "from sklearn.model_selection import learning_curve\n",
    "from sklearn.metrics import precision_recall_fscore_support as score\n",
    "from sklearn.metrics import accuracy_score, f1_score, precision_score, recall_score\n",
    "from sklearn.preprocessing import label_binarize\n",
    "from sklearn.metrics import roc_curve, auc, classification_report\n",
    "import torch\n",
    "from torch.utils.data import TensorDataset\n",
    "import torch.nn as nn\n",
    "import torch.nn.init as init\n",
    "import torch.nn.functional as F\n",
    "from torch.nn.utils.rnn import pack_padded_sequence, pad_packed_sequence\n",
    "import torch.optim as optim\n",
    "\n",
    "import torchtext\n",
    "from torchtext import data, datasets\n",
    "from torchtext.data import Field, TabularDataset, BucketIterator, Iterator\n",
    "import torchtext.vocab as vocab\n",
    "\n",
    "\n",
    "import optuna\n",
    "from optuna.trial import TrialState\n",
    "import warnings\n",
    "warnings.filterwarnings(\"ignore\", category=DeprecationWarning)\n"
   ]
  },
  {
   "cell_type": "markdown",
   "id": "3b279e0b",
   "metadata": {
    "id": "D6XkSdtaWDRM",
    "papermill": {
     "duration": 0.022218,
     "end_time": "2024-02-09T17:27:54.876973",
     "exception": false,
     "start_time": "2024-02-09T17:27:54.854755",
     "status": "completed"
    },
    "tags": []
   },
   "source": [
    "#GPU setup"
   ]
  },
  {
   "cell_type": "code",
   "execution_count": 3,
   "id": "cf1eee2f",
   "metadata": {
    "execution": {
     "iopub.execute_input": "2024-02-09T17:27:54.922433Z",
     "iopub.status.busy": "2024-02-09T17:27:54.921814Z",
     "iopub.status.idle": "2024-02-09T17:27:54.931918Z",
     "shell.execute_reply": "2024-02-09T17:27:54.930874Z"
    },
    "id": "f128fb44",
    "outputId": "8e52a23f-567d-4b51-c65a-0b7589ed8f6d",
    "papermill": {
     "duration": 0.035529,
     "end_time": "2024-02-09T17:27:54.933920",
     "exception": false,
     "start_time": "2024-02-09T17:27:54.898391",
     "status": "completed"
    },
    "tags": []
   },
   "outputs": [
    {
     "name": "stdout",
     "output_type": "stream",
     "text": [
      "There are 2 GPU(s) available.\n",
      "Device name: Tesla T4\n"
     ]
    }
   ],
   "source": [
    "# Set up GPU for Training\n",
    "if torch.cuda.is_available():\n",
    "    device = torch.device(\"cuda\")\n",
    "    print(f'There are {torch.cuda.device_count()} GPU(s) available.')\n",
    "    print('Device name:', torch.cuda.get_device_name(0))\n",
    "\n",
    "else:\n",
    "    print('No GPU available, using the CPU instead.')\n",
    "    device = torch.device('cpu')"
   ]
  },
  {
   "cell_type": "markdown",
   "id": "2c630621",
   "metadata": {
    "id": "0b7e1a9e",
    "papermill": {
     "duration": 0.021979,
     "end_time": "2024-02-09T17:27:54.977976",
     "exception": false,
     "start_time": "2024-02-09T17:27:54.955997",
     "status": "completed"
    },
    "tags": []
   },
   "source": [
    "#Greek stemmer"
   ]
  },
  {
   "cell_type": "code",
   "execution_count": 4,
   "id": "ee71610a",
   "metadata": {
    "execution": {
     "iopub.execute_input": "2024-02-09T17:27:55.023322Z",
     "iopub.status.busy": "2024-02-09T17:27:55.023010Z",
     "iopub.status.idle": "2024-02-09T17:27:55.078196Z",
     "shell.execute_reply": "2024-02-09T17:27:55.077477Z"
    },
    "id": "d42871f2",
    "papermill": {
     "duration": 0.079782,
     "end_time": "2024-02-09T17:27:55.080050",
     "exception": false,
     "start_time": "2024-02-09T17:27:55.000268",
     "status": "completed"
    },
    "tags": []
   },
   "outputs": [],
   "source": [
    "__cases = dict()\n",
    "__cases[\"ΦΑΓΙΑ\"] = \"ΦΑ\"\n",
    "__cases[\"ΦΑΓΙΟΥ\"] = \"ΦΑ\"\n",
    "__cases[\"ΦΑΓΙΩΝ\"] = \"ΦΑ\"\n",
    "__cases[\"ΣΚΑΓΙΑ\"] = \"ΣΚΑ\"\n",
    "__cases[\"ΣΚΑΓΙΟΥ\"] = \"ΣΚΑ\"\n",
    "__cases[\"ΣΚΑΓΙΩΝ\"] = \"ΣΚΑ\"\n",
    "__cases[\"ΟΛΟΓΙΟΥ\"] = \"ΟΛΟ\"\n",
    "__cases[\"ΟΛΟΓΙΑ\"] = \"ΟΛΟ\"\n",
    "__cases[\"ΟΛΟΓΙΩΝ\"] = \"ΟΛΟ\"\n",
    "__cases[\"ΣΟΓΙΟΥ\"] = \"ΣΟ\"\n",
    "__cases[\"ΣΟΓΙΑ\"] = \"ΣΟ\"\n",
    "__cases[\"ΣΟΓΙΩΝ\"] = \"ΣΟ\"\n",
    "__cases[\"ΤΑΤΟΓΙΑ\"] = \"ΤΑΤΟ\"\n",
    "__cases[\"ΤΑΤΟΓΙΟΥ\"] = \"ΤΑΤΟ\"\n",
    "__cases[\"ΤΑΤΟΓΙΩΝ\"] = \"ΤΑΤΟ\"\n",
    "__cases[\"ΚΡΕΑΣ\"] = \"ΚΡΕ\"\n",
    "__cases[\"ΚΡΕΑΤΟΣ\"] = \"ΚΡΕ\"\n",
    "__cases[\"ΚΡΕΑΤΑ\"] = \"ΚΡΕ\"\n",
    "__cases[\"ΚΡΕΑΤΩΝ\"] = \"ΚΡΕ\"\n",
    "__cases[\"ΠΕΡΑΣ\"] = \"ΠΕΡ\"\n",
    "__cases[\"ΠΕΡΑΤΟΣ\"] = \"ΠΕΡ\"\n",
    "__cases[\"ΠΕΡΑΤΑ\"] = \"ΠΕΡ\"\n",
    "__cases[\"ΠΕΡΑΤΩΝ\"] = \"ΠΕΡ\"\n",
    "__cases[\"ΤΕΡΑΣ\"] = \"ΤΕΡ\"\n",
    "__cases[\"ΤΕΡΑΤΟΣ\"] = \"ΤΕΡ\"\n",
    "__cases[\"ΤΕΡΑΤΑ\"] = \"ΤΕΡ\"\n",
    "__cases[\"ΤΕΡΑΤΩΝ\"] = \"ΤΕΡ\"\n",
    "__cases[\"ΦΩΣ\"] = \"ΦΩ\"\n",
    "__cases[\"ΦΩΤΟΣ\"] = \"ΦΩ\"\n",
    "__cases[\"ΦΩΤΑ\"] = \"ΦΩ\"\n",
    "__cases[\"ΦΩΤΩΝ\"] = \"ΦΩ\"\n",
    "__cases[\"ΚΑΘΕΣΤΩΣ\"] = \"ΚΑΘΕΣΤ\"\n",
    "__cases[\"ΚΑΘΕΣΤΩΤΟΣ\"] = \"ΚΑΘΕΣΤ\"\n",
    "__cases[\"ΚΑΘΕΣΤΩΤΑ\"] = \"ΚΑΘΕΣΤ\"\n",
    "__cases[\"ΚΑΘΕΣΤΩΤΩΝ\"] = \"ΚΑΘΕΣΤ\"\n",
    "__cases[\"ΓΕΓΟΝΟΣ\"] = \"ΓΕΓΟΝ\"\n",
    "__cases[\"ΓΕΓΟΝΟΤΟΣ\"] = \"ΓΕΓΟΝ\"\n",
    "__cases[\"ΓΕΓΟΝΟΤΑ\"] = \"ΓΕΓΟΝ\"\n",
    "__cases[\"ΓΕΓΟΝΟΤΩΝ\"] = \"ΓΕΓΟΝ\"\n",
    "__vowels = \"[ΑΕΗΙΟΥΩ]\"\n",
    "__refinedVowels = \"[ΑΕΗΙΟΩ]\"\n",
    "\n",
    "\n",
    "def stemWord(w: str, exceptions: dict = None):\n",
    "    stem = None\n",
    "    suffix = None\n",
    "    test1 = True\n",
    "\n",
    "    if exceptions is not None and w in exceptions.keys():\n",
    "        return exceptions[w]\n",
    "\n",
    "    if len(w) < 4:\n",
    "        return w\n",
    "\n",
    "    pattern = None\n",
    "    pattern2 = None\n",
    "    pattern3 = None\n",
    "    pattern4 = None\n",
    "\n",
    "    # Step1\n",
    "    pattern = re.compile(\n",
    "        r\"(.*)(ΦΑΓΙΑ|ΦΑΓΙΟΥ|ΦΑΓΙΩΝ|ΣΚΑΓΙΑ|ΣΚΑΓΙΟΥ|ΣΚΑΓΙΩΝ|ΟΛΟΓΙΟΥ|ΟΛΟΓΙΑ|ΟΛΟΓΙΩΝ|ΣΟΓΙΟΥ|ΣΟΓΙΑ|ΣΟΓΙΩΝ|ΤΑΤΟΓΙΑ|ΤΑΤΟΓΙΟΥ|ΤΑΤΟΓΙΩΝ|ΚΡΕΑΣ|ΚΡΕΑΤΟΣ|ΚΡΕΑΤΑ|ΚΡΕΑΤΩΝ|ΠΕΡΑΣ|ΠΕΡΑΤΟΣ|ΠΕΡΑΤΑ|ΠΕΡΑΤΩΝ|ΤΕΡΑΣ|ΤΕΡΑΤΟΣ|ΤΕΡΑΤΑ|ΤΕΡΑΤΩΝ|ΦΩΣ|ΦΩΤΟΣ|ΦΩΤΑ|ΦΩΤΩΝ|ΚΑΘΕΣΤΩΣ|ΚΑΘΕΣΤΩΤΟΣ|ΚΑΘΕΣΤΩΤΑ|ΚΑΘΕΣΤΩΤΩΝ|ΓΕΓΟΝΟΣ|ΓΕΓΟΝΟΤΟΣ|ΓΕΓΟΝΟΤΑ|ΓΕΓΟΝΟΤΩΝ)$\")\n",
    "\n",
    "    if pattern.match(w):\n",
    "        fp = pattern.match(w).groups()\n",
    "        stem = fp[0]\n",
    "        suffix = fp[1]\n",
    "        w = stem + __cases[suffix]\n",
    "        test1 = False\n",
    "\n",
    "    # Step 2a\n",
    "    pattern = re.compile(r\"^(.+?)(ΑΔΕΣ|ΑΔΩΝ)$\")\n",
    "    if pattern.match(w):\n",
    "        fp = pattern.match(w).groups()\n",
    "        stem = fp[0]\n",
    "        w = stem\n",
    "        reg1 = re.compile(r\"(ΟΚ|ΜΑΜ|ΜΑΝ|ΜΠΑΜΠ|ΠΑΤΕΡ|ΓΙΑΓΙ|ΝΤΑΝΤ|ΚΥΡ|ΘΕΙ|ΠΕΘΕΡ)$\")\n",
    "\n",
    "        if not reg1.match(w):\n",
    "            w = w + \"ΑΔ\"\n",
    "\n",
    "    # Step 2b\n",
    "    pattern2 = re.compile(r\"^(.+?)(ΕΔΕΣ|ΕΔΩΝ)$\")\n",
    "    if pattern2.match(w):\n",
    "        fp = pattern2.match(w).groups()\n",
    "        stem = fp[0]\n",
    "        w = stem\n",
    "        except2 = re.compile(r\"(ΟΠ|ΙΠ|ΕΜΠ|ΥΠ|ΓΗΠ|ΔΑΠ|ΚΡΑΣΠ|ΜΙΛ)$\")\n",
    "        if except2.match(w):\n",
    "            w = w + \"ΕΔ\"\n",
    "\n",
    "    # Step 2c\n",
    "    pattern3 = re.compile(r\"^(.+?)(ΟΥΔΕΣ|ΟΥΔΩΝ)$\")\n",
    "    if pattern3.match(w):\n",
    "        fp = pattern3.match(w).groups()\n",
    "        stem = fp[0]\n",
    "        w = stem\n",
    "        except3 = re.compile(r\"(ΑΡΚ|ΚΑΛΙΑΚ|ΠΕΤΑΛ|ΛΙΧ|ΠΛΕΞ|ΣΚ|Σ|ΦΛ|ΦΡ|ΒΕΛ|ΛΟΥΛ|ΧΝ|ΣΠ|ΤΡΑΓ|ΦΕ)$\")\n",
    "        if except3.match(w):\n",
    "            w = w + \"ΟΥΔ\"\n",
    "\n",
    "    # Step 2d\n",
    "    pattern4 = re.compile(\"^(.+?)(ΕΩΣ|ΕΩΝ)$\")\n",
    "    if pattern4.match(w):\n",
    "        fp = pattern4.match(w).groups()\n",
    "        stem = fp[0]\n",
    "        w = stem\n",
    "        test1 = False\n",
    "        except4 = re.compile(r\"^(Θ|Δ|ΕΛ|ΓΑΛ|Ν|Π|ΙΔ|ΠΑΡ)$\")\n",
    "        if except4.match(w):\n",
    "            w = w + \"Ε\"\n",
    "\n",
    "    # Step 3\n",
    "    pattern = re.compile(r\"^(.+?)(ΙΑ|ΙΟΥ|ΙΩΝ)$\")\n",
    "    if pattern.match(w):\n",
    "        fp = pattern.match(w).groups()\n",
    "        stem = fp[0]\n",
    "        w = stem\n",
    "        pattern2 = re.compile(__vowels + \"$\")\n",
    "        test1 = False\n",
    "        if pattern2.match(w):\n",
    "            w = stem + \"Ι\"\n",
    "\n",
    "    # Step 4\n",
    "    pattern = re.compile(r\"^(.+?)(ΙΚΑ|ΙΚΟ|ΙΚΟΥ|ΙΚΩΝ)$\")\n",
    "    if pattern.match(w):\n",
    "        fp = pattern.match(w).groups()\n",
    "        stem = fp[0]\n",
    "        w = stem\n",
    "        test1 = False\n",
    "        pattern2 = re.compile(__vowels + \"$\")\n",
    "        except5 = re.compile(\n",
    "            r\"^(ΑΛ|ΑΔ|ΕΝΔ|ΑΜΑΝ|ΑΜΜΟΧΑΛ|ΗΘ|ΑΝΗΘ|ΑΝΤΙΔ|ΦΥΣ|ΒΡΩΜ|ΓΕΡ|ΕΞΩΔ|ΚΑΛΠ|ΚΑΛΛΙΝ|ΚΑΤΑΔ|ΜΟΥΛ|ΜΠΑΝ|ΜΠΑΓΙΑΤ|ΜΠΟΛ|ΜΠΟΣ|ΝΙΤ|ΞΙΚ|ΣΥΝΟΜΗΛ|ΠΕΤΣ|ΠΙΤΣ|ΠΙΚΑΝΤ|ΠΛΙΑΤΣ|ΠΟΣΤΕΛΝ|ΠΡΩΤΟΔ|ΣΕΡΤ|ΣΥΝΑΔ|ΤΣΑΜ|ΥΠΟΔ|ΦΙΛΟΝ|ΦΥΛΟΔ|ΧΑΣ)$\")\n",
    "        if except5.match(w) or pattern2.match(w):\n",
    "            w = w + \"ΙΚ\"\n",
    "\n",
    "    # step 5a\n",
    "    pattern = re.compile(r\"^(.+?)(ΑΜΕ)$\")\n",
    "    pattern2 = re.compile(r\"^(.+?)(ΑΓΑΜΕ|ΗΣΑΜΕ|ΟΥΣΑΜΕ|ΗΚΑΜΕ|ΗΘΗΚΑΜΕ)$\")\n",
    "    if w == \"ΑΓΑΜΕ\":\n",
    "        w = \"ΑΓΑΜ\"\n",
    "\n",
    "    if pattern2.match(w):\n",
    "        fp = pattern2.match(w).groups()\n",
    "        stem = fp[0]\n",
    "        w = stem\n",
    "        test1 = False\n",
    "\n",
    "    if pattern.match(w):\n",
    "        fp = pattern.match(w).groups()\n",
    "        stem = fp[0]\n",
    "        w = stem\n",
    "        test1 = False\n",
    "        except6 = re.compile(r\"^(ΑΝΑΠ|ΑΠΟΘ|ΑΠΟΚ|ΑΠΟΣΤ|ΒΟΥΒ|ΞΕΘ|ΟΥΛ|ΠΕΘ|ΠΙΚΡ|ΠΟΤ|ΣΙΧ|Χ)$\")\n",
    "        if except6.match(w):\n",
    "            w = w + \"ΑΜ\"\n",
    "\n",
    "    # Step 5b\n",
    "    pattern2 = re.compile(r\"^(.+?)(ΑΝΕ)$\")\n",
    "    pattern3 = re.compile(r\"^(.+?)(ΑΓΑΝΕ|ΗΣΑΝΕ|ΟΥΣΑΝΕ|ΙΟΝΤΑΝΕ|ΙΟΤΑΝΕ|ΙΟΥΝΤΑΝΕ|ΟΝΤΑΝΕ|ΟΤΑΝΕ|ΟΥΝΤΑΝΕ|ΗΚΑΝΕ|ΗΘΗΚΑΝΕ)$\")\n",
    "    if pattern3.match(w):\n",
    "        fp = pattern3.match(w).groups()\n",
    "        stem = fp[0]\n",
    "        w = stem\n",
    "        test1 = False\n",
    "        pattern3 = re.compile(r\"^(ΤΡ|ΤΣ)$\")\n",
    "        if pattern3.match(w):\n",
    "            w = w + \"ΑΓΑΝ\"\n",
    "\n",
    "    if pattern2.match(w):\n",
    "        fp = pattern2.match(w).groups()\n",
    "        stem = fp[0]\n",
    "        w = stem\n",
    "        test1 = False\n",
    "        pattern2 = re.compile(__refinedVowels + \"$\")\n",
    "        except7 = re.compile(\n",
    "            r\"^(ΒΕΤΕΡ|ΒΟΥΛΚ|ΒΡΑΧΜ|Γ|ΔΡΑΔΟΥΜ|Θ|ΚΑΛΠΟΥΖ|ΚΑΣΤΕΛ|ΚΟΡΜΟΡ|ΛΑΟΠΛ|ΜΩΑΜΕΘ|Μ|ΜΟΥΣΟΥΛΜ|Ν|ΟΥΛ|Π|ΠΕΛΕΚ|ΠΛ|ΠΟΛΙΣ|ΠΟΡΤΟΛ|ΣΑΡΑΚΑΤΣ|ΣΟΥΛΤ|ΤΣΑΡΛΑΤ|ΟΡΦ|ΤΣΙΓΓ|ΤΣΟΠ|ΦΩΤΟΣΤΕΦ|Χ|ΨΥΧΟΠΛ|ΑΓ|ΟΡΦ|ΓΑΛ|ΓΕΡ|ΔΕΚ|ΔΙΠΛ|ΑΜΕΡΙΚΑΝ|ΟΥΡ|ΠΙΘ|ΠΟΥΡΙΤ|Σ|ΖΩΝΤ|ΙΚ|ΚΑΣΤ|ΚΟΠ|ΛΙΧ|ΛΟΥΘΗΡ|ΜΑΙΝΤ|ΜΕΛ|ΣΙΓ|ΣΠ|ΣΤΕΓ|ΤΡΑΓ|ΤΣΑΓ|Φ|ΕΡ|ΑΔΑΠ|ΑΘΙΓΓ|ΑΜΗΧ|ΑΝΙΚ|ΑΝΟΡΓ|ΑΠΗΓ|ΑΠΙΘ|ΑΤΣΙΓΓ|ΒΑΣ|ΒΑΣΚ|ΒΑΘΥΓΑΛ|ΒΙΟΜΗΧ|ΒΡΑΧΥΚ|ΔΙΑΤ|ΔΙΑΦ|ΕΝΟΡΓ|ΘΥΣ|ΚΑΠΝΟΒΙΟΜΗΧ|ΚΑΤΑΓΑΛ|ΚΛΙΒ|ΚΟΙΛΑΡΦ|ΛΙΒ|ΜΕΓΛΟΒΙΟΜΗΧ|ΜΙΚΡΟΒΙΟΜΗΧ|ΝΤΑΒ|ΞΗΡΟΚΛΙΒ|ΟΛΙΓΟΔΑΜ|ΟΛΟΓΑΛ|ΠΕΝΤΑΡΦ|ΠΕΡΗΦ|ΠΕΡΙΤΡ|ΠΛΑΤ|ΠΟΛΥΔΑΠ|ΠΟΛΥΜΗΧ|ΣΤΕΦ|ΤΑΒ|ΤΕΤ|ΥΠΕΡΗΦ|ΥΠΟΚΟΠ|ΧΑΜΗΛΟΔΑΠ|ΨΗΛΟΤΑΒ)$\")\n",
    "        if (pattern2.match(w)) or (except7.match(w)):\n",
    "            w = w + \"ΑΝ\"\n",
    "\n",
    "    # //Step 5c\n",
    "    pattern3 = re.compile(r\"^(.+?)(ΕΤΕ)$\")\n",
    "    pattern4 = re.compile(r\"^(.+?)(ΗΣΕΤΕ)$\")\n",
    "    if pattern4.match(w):\n",
    "        fp = pattern4.match(w).groups()\n",
    "        stem = fp[0]\n",
    "        w = stem\n",
    "        test1 = False\n",
    "\n",
    "    if pattern3.match(w):\n",
    "        fp = pattern3.match(w).groups()\n",
    "        stem = fp[0]\n",
    "        w = stem\n",
    "        test1 = False\n",
    "        pattern3 = re.compile(__refinedVowels + \"$\")\n",
    "        except8 = re.compile(\n",
    "            r\"(ΟΔ|ΑΙΡ|ΦΟΡ|ΤΑΘ|ΔΙΑΘ|ΣΧ|ΕΝΔ|ΕΥΡ|ΤΙΘ|ΥΠΕΡΘ|ΡΑΘ|ΕΝΘ|ΡΟΘ|ΣΘ|ΠΥΡ|ΑΙΝ|ΣΥΝΔ|ΣΥΝ|ΣΥΝΘ|ΧΩΡ|ΠΟΝ|ΒΡ|ΚΑΘ|ΕΥΘ|ΕΚΘ|ΝΕΤ|ΡΟΝ|ΑΡΚ|ΒΑΡ|ΒΟΛ|ΩΦΕΛ)$\")\n",
    "        except9 = re.compile(\n",
    "            r\"^(ΑΒΑΡ|ΒΕΝ|ΕΝΑΡ|ΑΒΡ|ΑΔ|ΑΘ|ΑΝ|ΑΠΛ|ΒΑΡΟΝ|ΝΤΡ|ΣΚ|ΚΟΠ|ΜΠΟΡ|ΝΙΦ|ΠΑΓ|ΠΑΡΑΚΑΛ|ΣΕΡΠ|ΣΚΕΛ|ΣΥΡΦ|ΤΟΚ|Υ|Δ|ΕΜ|ΘΑΡΡ|Θ)$\")\n",
    "        if (pattern3.match(w)) or (except8.match(w)) or (except9.match(w)):\n",
    "            w = w + \"ΕΤ\"\n",
    "\n",
    "    # Step 5d\n",
    "    pattern = re.compile(r\"^(.+?)(ΟΝΤΑΣ|ΩΝΤΑΣ)$\")\n",
    "    if pattern.match(w):\n",
    "        fp = pattern.match(w).groups()\n",
    "        stem = fp[0]\n",
    "        w = stem\n",
    "        test1 = False\n",
    "        except10 = re.compile(r\"^(ΑΡΧ)$\")\n",
    "        except11 = re.compile(r\"(ΚΡΕ)$\")\n",
    "        if except10.match(w):\n",
    "            w = w + \"ΟΝΤ\"\n",
    "        if except11.match(w):\n",
    "            w = w + \"ΩΝΤ\"\n",
    "\n",
    "    # Step 5e\n",
    "    pattern = re.compile(r\"^(.+?)(ΟΜΑΣΤΕ|ΙΟΜΑΣΤΕ)$\")\n",
    "    if pattern.match(w):\n",
    "        fp = pattern.match(w).groups()\n",
    "        stem = fp[0]\n",
    "        w = stem\n",
    "        test1 = False\n",
    "        except11 = re.compile(\"^(ΟΝ)$\")\n",
    "        if except11.match(w):\n",
    "            w = w + \"ΟΜΑΣΤ\"\n",
    "\n",
    "    # Step 5f\n",
    "    pattern = re.compile(r\"^(.+?)(ΕΣΤΕ)$\")\n",
    "    pattern2 = re.compile(r\"^(.+?)(ΙΕΣΤΕ)$\")\n",
    "    if pattern2.match(w):\n",
    "        fp = pattern2.match(w).groups()\n",
    "        stem = fp[0]\n",
    "        w = stem\n",
    "        test1 = False\n",
    "        pattern2 = re.compile(r\"^(Π|ΑΠ|ΣΥΜΠ|ΑΣΥΜΠ|ΑΚΑΤΑΠ|ΑΜΕΤΑΜΦ)$\")\n",
    "        if pattern2.match(w):\n",
    "            w = w + \"ΙΕΣΤ\"\n",
    "\n",
    "    if pattern.match(w):\n",
    "        fp = pattern.match(w).groups()\n",
    "        stem = fp[0]\n",
    "        w = stem\n",
    "        test1 = False\n",
    "        except12 = re.compile(r\"^(ΑΛ|ΑΡ|ΕΚΤΕΛ|Ζ|Μ|Ξ|ΠΑΡΑΚΑΛ|ΑΡ|ΠΡΟ|ΝΙΣ)$\")\n",
    "        if except12.match(w):\n",
    "            w = w + \"ΕΣΤ\"\n",
    "\n",
    "    # Step 5g\n",
    "    pattern = re.compile(r\"^(.+?)(ΗΚΑ|ΗΚΕΣ|ΗΚΕ)$\")\n",
    "    pattern2 = re.compile(r\"^(.+?)(ΗΘΗΚΑ|ΗΘΗΚΕΣ|ΗΘΗΚΕ)$\")\n",
    "    if pattern2.match(w):\n",
    "        fp = pattern2.match(w).groups()\n",
    "        stem = fp[0]\n",
    "        w = stem\n",
    "        test1 = False\n",
    "\n",
    "    if pattern.match(w):\n",
    "        fp = pattern.match(w).groups()\n",
    "        stem = fp[0]\n",
    "        w = stem\n",
    "        test1 = False\n",
    "        except13 = re.compile(r\"(ΣΚΩΛ|ΣΚΟΥΛ|ΝΑΡΘ|ΣΦ|ΟΘ|ΠΙΘ)$\")\n",
    "        except14 = re.compile(r\"^(ΔΙΑΘ|Θ|ΠΑΡΑΚΑΤΑΘ|ΠΡΟΣΘ|ΣΥΝΘ|)$\")\n",
    "        if (except13.match(w)) or (except14.match(w)):\n",
    "            w = w + \"ΗΚ\"\n",
    "\n",
    "    # Step 5h\n",
    "    pattern = re.compile(r\"^(.+?)(ΟΥΣΑ|ΟΥΣΕΣ|ΟΥΣΕ)$\")\n",
    "    if pattern.match(w):\n",
    "        fp = pattern.match(w).groups()\n",
    "        stem = fp[0]\n",
    "        w = stem\n",
    "        test1 = False\n",
    "        except15 = re.compile(\n",
    "            r\"^(ΦΑΡΜΑΚ|ΧΑΔ|ΑΓΚ|ΑΝΑΡΡ|ΒΡΟΜ|ΕΚΛΙΠ|ΛΑΜΠΙΔ|ΛΕΧ|Μ|ΠΑΤ|Ρ|Λ|ΜΕΔ|ΜΕΣΑΖ|ΥΠΟΤΕΙΝ|ΑΜ|ΑΙΘ|ΑΝΗΚ|ΔΕΣΠΟΖ|ΕΝΔΙΑΦΕΡ|ΔΕ|ΔΕΥΤΕΡΕΥ|ΚΑΘΑΡΕΥ|ΠΛΕ|ΤΣΑ)$\")\n",
    "        except16 = re.compile(r\"(ΠΟΔΑΡ|ΒΛΕΠ|ΠΑΝΤΑΧ|ΦΡΥΔ|ΜΑΝΤΙΛ|ΜΑΛΛ|ΚΥΜΑΤ|ΛΑΧ|ΛΗΓ|ΦΑΓ|ΟΜ|ΠΡΩΤ)$\")\n",
    "        if (except15.match(w)) or (except16.match(w)):\n",
    "            w = w + \"ΟΥΣ\"\n",
    "\n",
    "    # Step 5i\n",
    "    pattern = re.compile(r\"^(.+?)(ΑΓΑ|ΑΓΕΣ|ΑΓΕ)$\")\n",
    "    if pattern.match(w):\n",
    "        fp = pattern.match(w).groups()\n",
    "        stem = fp[0]\n",
    "        w = stem\n",
    "        test1 = False\n",
    "        except17 = re.compile(r\"^(ΨΟΦ|ΝΑΥΛΟΧ)$\")\n",
    "        except20 = re.compile(r\"(ΚΟΛΛ)$\")\n",
    "        except18 = re.compile(\n",
    "            r\"^(ΑΒΑΣΤ|ΠΟΛΥΦ|ΑΔΗΦ|ΠΑΜΦ|Ρ|ΑΣΠ|ΑΦ|ΑΜΑΛ|ΑΜΑΛΛΙ|ΑΝΥΣΤ|ΑΠΕΡ|ΑΣΠΑΡ|ΑΧΑΡ|ΔΕΡΒΕΝ|ΔΡΟΣΟΠ|ΞΕΦ|ΝΕΟΠ|ΝΟΜΟΤ|ΟΛΟΠ|ΟΜΟΤ|ΠΡΟΣΤ|ΠΡΟΣΩΠΟΠ|ΣΥΜΠ|ΣΥΝΤ|Τ|ΥΠΟΤ|ΧΑΡ|ΑΕΙΠ|ΑΙΜΟΣΤ|ΑΝΥΠ|ΑΠΟΤ|ΑΡΤΙΠ|ΔΙΑΤ|ΕΝ|ΕΠΙΤ|ΚΡΟΚΑΛΟΠ|ΣΙΔΗΡΟΠ|Λ|ΝΑΥ|ΟΥΛΑΜ|ΟΥΡ|Π|ΤΡ|Μ)$\")\n",
    "        except19 = re.compile(r\"(ΟΦ|ΠΕΛ|ΧΟΡΤ|ΛΛ|ΣΦ|ΡΠ|ΦΡ|ΠΡ|ΛΟΧ|ΣΜΗΝ)$\")\n",
    "        if (except18.match(w) and except19.match(w)) and not ((except17.match(w)) or (except20.match(w))):\n",
    "            w = w + \"ΑΓ\"\n",
    "\n",
    "    # Step 5j\n",
    "    pattern = re.compile(\"^(.+?)(ΗΣΕ|ΗΣΟΥ|ΗΣΑ)$\")\n",
    "    if pattern.match(w):\n",
    "        fp = pattern.match(w).groups()\n",
    "        stem = fp[0]\n",
    "        w = stem\n",
    "        test1 = False\n",
    "        except21 = re.compile(r\"^(Ν|ΧΕΡΣΟΝ|ΔΩΔΕΚΑΝ|ΕΡΗΜΟΝ|ΜΕΓΑΛΟΝ|ΕΠΤΑΝ)$\")\n",
    "        if except21.match(w):\n",
    "            w = w + \"ΗΣ\"\n",
    "\n",
    "    # Step 5k\n",
    "    pattern = re.compile(r\"^(.+?)(ΗΣΤΕ)$\")\n",
    "\n",
    "    if pattern.match(w):\n",
    "        fp = pattern.match(w).groups()\n",
    "        stem = fp[0]\n",
    "        w = stem\n",
    "        test1 = False\n",
    "        except22 = re.compile(r\"^(ΑΣΒ|ΣΒ|ΑΧΡ|ΧΡ|ΑΠΛ|ΑΕΙΜΝ|ΔΥΣΧΡ|ΕΥΧΡ|ΚΟΙΝΟΧΡ|ΠΑΛΙΜΨ)$\")\n",
    "        if except22.match(w):\n",
    "            w = w + \"ΗΣΤ\"\n",
    "\n",
    "    # Step 5l\n",
    "    pattern = re.compile(\"^(.+?)(ΟΥΝΕ|ΗΣΟΥΝΕ|ΗΘΟΥΝΕ)$\")\n",
    "    if pattern.match(w):\n",
    "        fp = pattern.match(w).groups()\n",
    "        stem = fp[0]\n",
    "        w = stem\n",
    "        test1 = False\n",
    "        except23 = re.compile(\"^(Ν|Ρ|ΣΠΙ|ΣΤΡΑΒΟΜΟΥΤΣ|ΚΑΚΟΜΟΥΤΣ|ΕΞΩΝ)$\")\n",
    "        if except23.match(w):\n",
    "            w = w + \"ΟΥΝ\"\n",
    "\n",
    "    # Step 5l\n",
    "    pattern = re.compile(r\"^(.+?)(ΟΥΜΕ|ΗΣΟΥΜΕ|ΗΘΟΥΜΕ)$\")\n",
    "    if pattern.match(w):\n",
    "        fp = pattern.match(w).groups()\n",
    "        stem = fp[0]\n",
    "        w = stem\n",
    "        test1 = False\n",
    "        except24 = re.compile(r\"^(ΠΑΡΑΣΟΥΣ|Φ|Χ|ΩΡΙΟΠΛ|ΑΖ|ΑΛΛΟΣΟΥΣ|ΑΣΟΥΣ)$\")\n",
    "        if except24.match(w):\n",
    "            w = w + \"ΟΥΜ\"\n",
    "\n",
    "    # Step 6\n",
    "    pattern = re.compile(r\"^(.+?)(ΜΑΤΑ|ΜΑΤΩΝ|ΜΑΤΟΣ)$\")\n",
    "    pattern2 = re.compile(\n",
    "        r\"^(.+?)(Α|ΑΓΑΤΕ|ΑΓΑΝ|ΑΕΙ|ΑΜΑΙ|ΑΝ|ΑΣ|ΑΣΑΙ|ΑΤΑΙ|ΑΩ|Ε|ΕΙ|ΕΙΣ|ΕΙΤΕ|ΕΣΑΙ|ΕΣ|ΕΤΑΙ|Ι|ΙΕΜΑΙ|ΙΕΜΑΣΤΕ|ΙΕΤΑΙ|ΙΕΣΑΙ|ΙΕΣΑΣΤΕ|ΙΟΜΑΣΤΑΝ|ΙΟΜΟΥΝ|ΙΟΜΟΥΝΑ|ΙΟΝΤΑΝ|ΙΟΝΤΟΥΣΑΝ|ΙΟΣΑΣΤΑΝ|ΙΟΣΑΣΤΕ|ΙΟΣΟΥΝ|ΙΟΣΟΥΝΑ|ΙΟΤΑΝ|ΙΟΥΜΑ|ΙΟΥΜΑΣΤΕ|ΙΟΥΝΤΑΙ|ΙΟΥΝΤΑΝ|Η|ΗΔΕΣ|ΗΔΩΝ|ΗΘΕΙ|ΗΘΕΙΣ|ΗΘΕΙΤΕ|ΗΘΗΚΑΤΕ|ΗΘΗΚΑΝ|ΗΘΟΥΝ|ΗΘΩ|ΗΚΑΤΕ|ΗΚΑΝ|ΗΣ|ΗΣΑΝ|ΗΣΑΤΕ|ΗΣΕΙ|ΗΣΕΣ|ΗΣΟΥΝ|ΗΣΩ|Ο|ΟΙ|ΟΜΑΙ|ΟΜΑΣΤΑΝ|ΟΜΟΥΝ|ΟΜΟΥΝΑ|ΟΝΤΑΙ|ΟΝΤΑΝ|ΟΝΤΟΥΣΑΝ|ΟΣ|ΟΣΑΣΤΑΝ|ΟΣΑΣΤΕ|ΟΣΟΥΝ|ΟΣΟΥΝΑ|ΟΤΑΝ|ΟΥ|ΟΥΜΑΙ|ΟΥΜΑΣΤΕ|ΟΥΝ|ΟΥΝΤΑΙ|ΟΥΝΤΑΝ|ΟΥΣ|ΟΥΣΑΝ|ΟΥΣΑΤΕ|Υ|ΥΣ|Ω|ΩΝ)$\")\n",
    "\n",
    "    if pattern.match(w):\n",
    "        fp = pattern.match(w).groups()\n",
    "        stem = fp[0]\n",
    "        w = stem + \"ΜΑ\"\n",
    "\n",
    "    if pattern2.match(w) and test1:\n",
    "        fp = pattern2.match(w).groups()\n",
    "        stem = fp[0]\n",
    "        w = stem\n",
    "\n",
    "    # Step 7 (ΠΑΡΑΘΕΤΙΚΑ)\n",
    "    pattern = re.compile(r\"^(.+?)(ΕΣΤΕΡ|ΕΣΤΑΤ|ΟΤΕΡ|ΟΤΑΤ|ΥΤΕΡ|ΥΤΑΤ|ΩΤΕΡ|ΩΤΑΤ)$\")\n",
    "    if pattern.match(w):\n",
    "        fp = pattern.match(w).groups()\n",
    "        stem = fp[0]\n",
    "        w = stem\n",
    "\n",
    "    return w\n",
    "\n",
    "# Notes:\n",
    "# (1) Greek word to get stemmed should be in capital letters and without accents. E.g. ΨΩΜΙ and not Ψωμί\n",
    "# (2) Any word of length 1 - 3 will not get stemmed.\n",
    "# (3) The exceptions argument is a dictionary where a key is a word and a value is a custom stem of your liking\n"
   ]
  },
  {
   "cell_type": "markdown",
   "id": "e5dc3639",
   "metadata": {
    "id": "LS6Ma3hQV2pP",
    "papermill": {
     "duration": 0.02119,
     "end_time": "2024-02-09T17:27:55.122734",
     "exception": false,
     "start_time": "2024-02-09T17:27:55.101544",
     "status": "completed"
    },
    "tags": []
   },
   "source": [
    "#Preprocessing funcs"
   ]
  },
  {
   "cell_type": "code",
   "execution_count": 5,
   "id": "4d07e626",
   "metadata": {
    "execution": {
     "iopub.execute_input": "2024-02-09T17:27:55.166772Z",
     "iopub.status.busy": "2024-02-09T17:27:55.166514Z",
     "iopub.status.idle": "2024-02-09T17:27:55.172558Z",
     "shell.execute_reply": "2024-02-09T17:27:55.171706Z"
    },
    "id": "bf41e54e",
    "papermill": {
     "duration": 0.029932,
     "end_time": "2024-02-09T17:27:55.174328",
     "exception": false,
     "start_time": "2024-02-09T17:27:55.144396",
     "status": "completed"
    },
    "tags": []
   },
   "outputs": [],
   "source": [
    "# A function that opens, reads a file in csv with utf-8 encoding, gets the values, checks and fills empty values and checks for duplicates\n",
    "def read_explore_dataframe(csv_file):\n",
    "\n",
    "  # Open and read the csv file with utf-8 encoding\n",
    "  dataframe = pd.read_csv(csv_file,encoding='utf-8')\n",
    "  # Get the keys and their corresponding number of values\n",
    "  keys = dataframe.keys()\n",
    "  for key in keys:\n",
    "    df_len = len(dataframe[key].unique()) # the length of the unique values of each column\n",
    "    print('{0:25}{1:10}'.format(key,df_len))\n",
    "\n",
    "  dataframe.dropna(inplace=True) # remove missing values and keep the dataFrame with valid entries in the same variable\n",
    "  dataframe.reset_index(inplace=True,drop=True)\n",
    "\n",
    "  dataframe.duplicated() # check for duplicates\n",
    "  print('Number of duplicates in the dataframe:', dataframe.duplicated().sum())\n",
    "  print('Dataframe checked for NaN values and duplicates!')\n",
    "\n",
    "  return dataframe"
   ]
  },
  {
   "cell_type": "code",
   "execution_count": 6,
   "id": "ef3139bc",
   "metadata": {
    "execution": {
     "iopub.execute_input": "2024-02-09T17:27:55.218430Z",
     "iopub.status.busy": "2024-02-09T17:27:55.218163Z",
     "iopub.status.idle": "2024-02-09T17:27:55.236775Z",
     "shell.execute_reply": "2024-02-09T17:27:55.235970Z"
    },
    "id": "f33b2c92",
    "papermill": {
     "duration": 0.042877,
     "end_time": "2024-02-09T17:27:55.238499",
     "exception": false,
     "start_time": "2024-02-09T17:27:55.195622",
     "status": "completed"
    },
    "tags": []
   },
   "outputs": [],
   "source": [
    "def replaceMultiple(main, replacements, new):\n",
    "  for elem in replacements:\n",
    "    if elem in main:\n",
    "      main = main.replace(elem, new)\n",
    "  return main\n",
    "\n",
    "def normalize(x):\n",
    "  x = replaceMultiple(x, ['ά', 'ὰ', 'ἀ','ἁ','ἂ','ἃ','ἄ','ἅ','ἆ','ἇ','ᾰ','ᾱ','ᾲ','ᾳ','ᾴ','ᾶ','ᾷ'], 'α')\n",
    "  x = replaceMultiple(x, ['έ','ὲ','ἐ','ἑ','ἒ','ἓ','ἔ','ἕ'], 'ε')\n",
    "  x = replaceMultiple(x, ['ή','ὴ','ἠ','ἡ','ἢ','ἣ','ἤ','ἥ','ἦ','ἧ','ῂ','ῃ','ῄ','ῆ','ῇ'], 'η')\n",
    "  x = replaceMultiple(x, ['ί','ὶ','ἰ','ἱ','ἲ','ἳ','ἴ','ἵ','ἶ','ἷ','ῐ','ῑ','ῒ','ΐ','ῖ','ῗ'], 'ι')\n",
    "  x = replaceMultiple(x, ['ὸ','ό','ὀ','ὁ','ὂ','ὃ','ὄ','ὅ'], 'ο')\n",
    "  x = replaceMultiple(x, ['ύ','ὺ','ΰ', 'ϋ','ὐ','ὑ','ὒ','ὓ','ὔ','ὕ','ὖ','ὗ','ῠ','ῡ','ῢ','ΰ','ῦ'], 'υ')\n",
    "  x = replaceMultiple(x, ['ώ','ὼ','ῶ','ῲ','ῳ','ῴ','ῶ','ῷ','ὠ','ὡ','ὢ','ὣ','ὤ','ὥ','ὦ','ὧ'], 'ω')\n",
    "  return x\n",
    "\n",
    "def remove_emojis(text):\n",
    "    return demoji.replace(text, '')\n",
    "\n",
    "def sep_punc(x):\n",
    "    punc = '!\"#$%&\\'()*+,-./:;<=>?@[\\\\]^_`{|}~؛،؟؛.»«”'\n",
    "    out = []\n",
    "    for char in x:\n",
    "        if char in punc:\n",
    "            out.append(' ' + char + ' ')\n",
    "        else:\n",
    "            out.append(char)\n",
    "    return ''.join(out)\n",
    "\n",
    "def preprocess_text(text,stopwords_file):\n",
    "    with open(stopwords_file, 'r', encoding='utf-8') as file:\n",
    "        stopwords = set(file.read().splitlines())\n",
    "    # Remove retweets\n",
    "    text = re.sub(r'^RT[\\s]+', '', text, flags=re.IGNORECASE)\n",
    "    # Remove usernames @\n",
    "    text = re.sub(r'@[^\\s]+', '', text)\n",
    "    # Remove URLs\n",
    "    text = re.sub(r'https\\S+', '', text)\n",
    "    url_words = ['url', 'URL', 'html', 'HTML', 'http', 'HTTP']\n",
    "    for u in url_words:\n",
    "        text = re.sub(u, '', text)\n",
    "    text = text.lower()\n",
    "    text=normalize(text)\n",
    "     # Separate punctuation characters\n",
    "    text = sep_punc(text)\n",
    "    # Remove punctuation characters\n",
    "    text = re.sub(f\"[{''.join(re.escape(c) for c in string.punctuation if c != '_') }]\", ' ', text)\n",
    "    # Remove Latin characters\n",
    "    text = re.sub(r'[a-zA-Z]+', '', text)\n",
    "    # Remove numbers\n",
    "    text = re.sub(r'\\b\\d+\\b', '', text)\n",
    "  # Remove words with character length equal to or less than 1\n",
    "    words = text.split()\n",
    "    filtered_words = [word for word in words if len(word) > 1]\n",
    "    text = ' '.join(filtered_words)\n",
    "    text = remove_emojis(text)\n",
    "    text = str(text).upper().strip()\n",
    "    # Exclude specific stop words\n",
    "    specific_stopwords_to_keep = {'ΟΧΙ','ΜΗΝ','ΔΕΝ', 'ΚΑΘΟΛΟΥ','ΠΟΛΥ','ΟΤΙ'}\n",
    "    # Exclude specific stopwords from the set of all stopwords\n",
    "    final_stopwords = stopwords - specific_stopwords_to_keep\n",
    "    words = text.split()\n",
    "    filtered_words = [word for word in words if word not in final_stopwords]\n",
    "    text = ' '.join(filtered_words)\n",
    "    tokenized_tweet = word_tokenize(text)\n",
    "    tokenized_tweet = [stemWord(i) for i in tokenized_tweet]\n",
    "    return ' '.join(tokenized_tweet)\n",
    "\n",
    "\n",
    "def postprocessing(df, text_column='Text'):\n",
    "    # Check for empty lists in the DataFrame\n",
    "    empty_lists = df[text_column].apply(lambda x: len(x) == 0)\n",
    "    print(\"\\nNumber of rows with empty lists:\", empty_lists.sum())\n",
    "\n",
    "    # Drop rows with empty lists and reset the index\n",
    "    df.drop(df[empty_lists].index, inplace=True)\n",
    "    df.reset_index(drop=True, inplace=True)\n",
    "    print(\"\\nShape after postprocessing:\", df.shape)\n",
    "    # Return the updated DataFrame\n",
    "    return df"
   ]
  },
  {
   "cell_type": "code",
   "execution_count": 7,
   "id": "738f0787",
   "metadata": {
    "execution": {
     "iopub.execute_input": "2024-02-09T17:27:55.283504Z",
     "iopub.status.busy": "2024-02-09T17:27:55.282766Z",
     "iopub.status.idle": "2024-02-09T17:27:55.289970Z",
     "shell.execute_reply": "2024-02-09T17:27:55.289099Z"
    },
    "id": "a4f2311c",
    "papermill": {
     "duration": 0.031467,
     "end_time": "2024-02-09T17:27:55.291771",
     "exception": false,
     "start_time": "2024-02-09T17:27:55.260304",
     "status": "completed"
    },
    "tags": []
   },
   "outputs": [],
   "source": [
    "def get_columns(dataframe, Text, Sentiment, stopwords_file):\n",
    "\n",
    "  # Get only the columns we are interested in\n",
    "  dataset = dataframe[[Text, Sentiment]]\n",
    "\n",
    "  # Check the distribution of classes\n",
    "  distribution = dataset[Sentiment].value_counts()/dataset.shape[0]\n",
    "  print('Distribution of data in classes:')\n",
    "  print(distribution)\n",
    "\n",
    "  # Apply the pre-processing function to the dataframe containing the text (feature column)\n",
    "  dataset[Text] = dataset[Text].apply(preprocess_text, stopwords_file=stopwords_file)\n",
    "  print('\\nText done pre-processing!')\n",
    "\n",
    "  #Apply post-processing for removing empty rows after preprocessing\n",
    "  dataset= postprocessing(dataset, text_column='Text')\n",
    "  # Divide the X and y values\n",
    "  X = dataset[Text]\n",
    "  y = dataset[Sentiment]\n",
    "  sentiment_mapping = {'NEUTRAL': 0, 'POSITIVE': 1, 'NEGATIVE': 2}\n",
    "  y = y.map(sentiment_mapping)\n",
    "  # Concatenate the X,Y data\n",
    "  new_dataframe = pd.concat([X, y], axis=1)\n",
    "\n",
    "  return new_dataframe"
   ]
  },
  {
   "cell_type": "markdown",
   "id": "3c44d0b3",
   "metadata": {
    "id": "_3QEFWTgV6mG",
    "papermill": {
     "duration": 0.021623,
     "end_time": "2024-02-09T17:27:55.335364",
     "exception": false,
     "start_time": "2024-02-09T17:27:55.313741",
     "status": "completed"
    },
    "tags": []
   },
   "source": [
    "#Data"
   ]
  },
  {
   "cell_type": "code",
   "execution_count": 8,
   "id": "2b43badd",
   "metadata": {
    "execution": {
     "iopub.execute_input": "2024-02-09T17:27:55.379661Z",
     "iopub.status.busy": "2024-02-09T17:27:55.379390Z",
     "iopub.status.idle": "2024-02-09T17:27:55.383191Z",
     "shell.execute_reply": "2024-02-09T17:27:55.382389Z"
    },
    "id": "3ed128fb",
    "papermill": {
     "duration": 0.028408,
     "end_time": "2024-02-09T17:27:55.385151",
     "exception": false,
     "start_time": "2024-02-09T17:27:55.356743",
     "status": "completed"
    },
    "tags": []
   },
   "outputs": [],
   "source": [
    "train='/kaggle/input/ys19-2023-assignment-3/train_set.csv'\n",
    "val='/kaggle/input/ys19-2023-assignment-3/valid_set.csv'\n",
    "stopwords_file='/kaggle/input/stopwords/Greek-Stopwords (1).txt'"
   ]
  },
  {
   "cell_type": "markdown",
   "id": "9737971e",
   "metadata": {
    "id": "NxGEl7DBWMMi",
    "papermill": {
     "duration": 0.021107,
     "end_time": "2024-02-09T17:27:55.428037",
     "exception": false,
     "start_time": "2024-02-09T17:27:55.406930",
     "status": "completed"
    },
    "tags": []
   },
   "source": [
    "#Preprocess"
   ]
  },
  {
   "cell_type": "code",
   "execution_count": 9,
   "id": "0f6329f8",
   "metadata": {
    "execution": {
     "iopub.execute_input": "2024-02-09T17:27:55.472241Z",
     "iopub.status.busy": "2024-02-09T17:27:55.471608Z",
     "iopub.status.idle": "2024-02-09T17:30:13.620913Z",
     "shell.execute_reply": "2024-02-09T17:30:13.619955Z"
    },
    "id": "97e53abf",
    "papermill": {
     "duration": 138.174366,
     "end_time": "2024-02-09T17:30:13.623856",
     "exception": false,
     "start_time": "2024-02-09T17:27:55.449490",
     "status": "completed"
    },
    "tags": []
   },
   "outputs": [
    {
     "name": "stdout",
     "output_type": "stream",
     "text": [
      "------ Preparing the training dataset... ------\n",
      "New_ID                        36630\n",
      "Text                          36630\n",
      "Sentiment                         3\n",
      "Party                             6\n",
      "Number of duplicates in the dataframe: 0\n",
      "Dataframe checked for NaN values and duplicates!\n",
      "Distribution of data in classes:\n",
      "Sentiment\n",
      "NEUTRAL     0.333333\n",
      "NEGATIVE    0.333333\n",
      "POSITIVE    0.333333\n",
      "Name: count, dtype: float64\n"
     ]
    },
    {
     "name": "stderr",
     "output_type": "stream",
     "text": [
      "/tmp/ipykernel_26/749008649.py:12: SettingWithCopyWarning: \n",
      "A value is trying to be set on a copy of a slice from a DataFrame.\n",
      "Try using .loc[row_indexer,col_indexer] = value instead\n",
      "\n",
      "See the caveats in the documentation: https://pandas.pydata.org/pandas-docs/stable/user_guide/indexing.html#returning-a-view-versus-a-copy\n",
      "  dataset[Text] = dataset[Text].apply(preprocess_text, stopwords_file=stopwords_file)\n",
      "/tmp/ipykernel_26/2567903809.py:76: SettingWithCopyWarning: \n",
      "A value is trying to be set on a copy of a slice from a DataFrame\n",
      "\n",
      "See the caveats in the documentation: https://pandas.pydata.org/pandas-docs/stable/user_guide/indexing.html#returning-a-view-versus-a-copy\n",
      "  df.drop(df[empty_lists].index, inplace=True)\n"
     ]
    },
    {
     "name": "stdout",
     "output_type": "stream",
     "text": [
      "\n",
      "Text done pre-processing!\n",
      "\n",
      "Number of rows with empty lists: 17\n",
      "\n",
      "Shape after postprocessing: (36613, 2)\n",
      "The training dataset is ready and saved into csv format!\n",
      "\n",
      "------ Preparing the validation dataset... ------\n",
      "New_ID                         5232\n",
      "Text                           5232\n",
      "Sentiment                         3\n",
      "Party                             6\n",
      "Number of duplicates in the dataframe: 0\n",
      "Dataframe checked for NaN values and duplicates!\n",
      "Distribution of data in classes:\n",
      "Sentiment\n",
      "POSITIVE    0.333333\n",
      "NEGATIVE    0.333333\n",
      "NEUTRAL     0.333333\n",
      "Name: count, dtype: float64\n",
      "\n",
      "Text done pre-processing!\n",
      "\n",
      "Number of rows with empty lists: 2\n",
      "\n",
      "Shape after postprocessing: (5230, 2)\n",
      "The validation dataset is ready and saved into csv format!\n"
     ]
    },
    {
     "name": "stderr",
     "output_type": "stream",
     "text": [
      "/tmp/ipykernel_26/749008649.py:12: SettingWithCopyWarning: \n",
      "A value is trying to be set on a copy of a slice from a DataFrame.\n",
      "Try using .loc[row_indexer,col_indexer] = value instead\n",
      "\n",
      "See the caveats in the documentation: https://pandas.pydata.org/pandas-docs/stable/user_guide/indexing.html#returning-a-view-versus-a-copy\n",
      "  dataset[Text] = dataset[Text].apply(preprocess_text, stopwords_file=stopwords_file)\n",
      "/tmp/ipykernel_26/2567903809.py:76: SettingWithCopyWarning: \n",
      "A value is trying to be set on a copy of a slice from a DataFrame\n",
      "\n",
      "See the caveats in the documentation: https://pandas.pydata.org/pandas-docs/stable/user_guide/indexing.html#returning-a-view-versus-a-copy\n",
      "  df.drop(df[empty_lists].index, inplace=True)\n"
     ]
    }
   ],
   "source": [
    "# Prepare the training dataset\n",
    "print('------ Preparing the training dataset... ------')\n",
    "\n",
    "# Opens, reads, checks for duplicates and removes missing values\n",
    "df_train  = read_explore_dataframe(train)\n",
    "\n",
    "# Preprocess and resample dataset and return a new cleaned one\n",
    "train_dataframe = get_columns(df_train, 'Text', 'Sentiment',stopwords_file)\n",
    "\n",
    "# Save the testing data into csv format\n",
    "train_dataframe.to_csv(\"train.csv\", index=False)\n",
    "print('The training dataset is ready and saved into csv format!')\n",
    "\n",
    "# Prepare the validation dataset\n",
    "print('\\n------ Preparing the validation dataset... ------')\n",
    "\n",
    "# Opens, reads, checks for duplicates and removes missing values\n",
    "df_val = read_explore_dataframe(val)\n",
    "\n",
    "# Preprocess and resample dataset and return a new cleaned one\n",
    "valid_dataframe = get_columns(df_val, 'Text', 'Sentiment',stopwords_file)\n",
    "\n",
    "# Save the testing data into csv format\n",
    "valid_dataframe.to_csv(\"validation.csv\", index=False)\n",
    "print('The validation dataset is ready and saved into csv format!')"
   ]
  },
  {
   "cell_type": "markdown",
   "id": "1fe05278",
   "metadata": {
    "id": "F4hWGNFDWYkQ",
    "papermill": {
     "duration": 0.021912,
     "end_time": "2024-02-09T17:30:13.668401",
     "exception": false,
     "start_time": "2024-02-09T17:30:13.646489",
     "status": "completed"
    },
    "tags": []
   },
   "source": [
    "#Prepare dataset with torchtext"
   ]
  },
  {
   "cell_type": "markdown",
   "id": "8be0711b",
   "metadata": {
    "id": "faa3e803",
    "papermill": {
     "duration": 0.022293,
     "end_time": "2024-02-09T17:30:13.712620",
     "exception": false,
     "start_time": "2024-02-09T17:30:13.690327",
     "status": "completed"
    },
    "tags": []
   },
   "source": [
    "Build torchtext vocab and align it to my costom trained word2vec embeddings: Torchtext handles creating vector embeddings for words in your dataset in the following way. It first creates a Field class that defines how the text in your dataset is going to be pre-processed."
   ]
  },
  {
   "cell_type": "code",
   "execution_count": 10,
   "id": "0287c99d",
   "metadata": {
    "execution": {
     "iopub.execute_input": "2024-02-09T17:30:13.799588Z",
     "iopub.status.busy": "2024-02-09T17:30:13.798832Z",
     "iopub.status.idle": "2024-02-09T17:30:19.502741Z",
     "shell.execute_reply": "2024-02-09T17:30:19.501638Z"
    },
    "id": "ab4414a0",
    "papermill": {
     "duration": 5.730105,
     "end_time": "2024-02-09T17:30:19.505030",
     "exception": false,
     "start_time": "2024-02-09T17:30:13.774925",
     "status": "completed"
    },
    "tags": []
   },
   "outputs": [],
   "source": [
    "el = spacy.load('el_core_news_sm')\n",
    "\n",
    "# Define TEXT field with spaCy tokenizer\n",
    "TEXT = data.Field(tokenize=lambda text: [tok.text for tok in el.tokenizer(text)], lower=False, init_token='<sos>', eos_token='<eos>', sequential=True, include_lengths=True)\n",
    "LABEL = data.LabelField()\n",
    "\n",
    "# Load training and validation data\n",
    "train_data, valid_data = data.TabularDataset.splits(\n",
    "    path='/kaggle/working/', train='train.csv',\n",
    "    validation='validation.csv', format='csv', skip_header=True,\n",
    "    fields=[('Text', TEXT), ('Sentiment', LABEL)])\n",
    "\n",
    "\n"
   ]
  },
  {
   "cell_type": "code",
   "execution_count": 11,
   "id": "7617940a",
   "metadata": {
    "execution": {
     "iopub.execute_input": "2024-02-09T17:30:19.552159Z",
     "iopub.status.busy": "2024-02-09T17:30:19.551809Z",
     "iopub.status.idle": "2024-02-09T17:30:19.559094Z",
     "shell.execute_reply": "2024-02-09T17:30:19.558229Z"
    },
    "id": "df83aad7",
    "outputId": "b9c86109-55f7-40c5-d8f4-6a8abba0e1a2",
    "papermill": {
     "duration": 0.03285,
     "end_time": "2024-02-09T17:30:19.561330",
     "exception": false,
     "start_time": "2024-02-09T17:30:19.528480",
     "status": "completed"
    },
    "tags": []
   },
   "outputs": [
    {
     "name": "stdout",
     "output_type": "stream",
     "text": [
      "Examples from the training set:\n",
      "Example 1 - Text: ['ΑΠΟΛΥΜΑΝΣ', 'ΚΟΡΙ', 'ΑΠΕΝΤΟΜΩΣ', 'ΚΟΡΙ', 'ΑΠΟΛΥΜΑΝΣ', 'ΚΟΡΙ', 'ΚΥΡΙΑΚ', 'ΚΟΥΛ', 'ΤΣΙΠΡ', 'ΚΟΡΙ', 'ΑΠΟΛΥΜΑΝΣ', 'ΚΑΤΑΠΟΛΕΜΗΣ', 'ΚΟΡ', 'ΑΠΕΝΤΟΜΩΣ', 'ΚΟΡΙ']\n",
      "Label: 0\n",
      "\n",
      "Example 2 - Text: ['ΕΞΙ', 'ΝΕ', 'ΕΠΙΣΤΟΛ', 'ΜΑΚΕΔΟΝ', 'ΚΑΙΝ', 'ΝΔ', 'ΜΗΤΣΟΤΑΚ', 'ΓΝΩΡΙΖ', 'ΔΙΧΑΣ', 'ΕΘΝ']\n",
      "Label: 2\n",
      "\n",
      "Example 3 - Text: ['ΙΣΧΥΡ', 'ΚΚΕ', 'ΔΥΝΑΜ', 'ΛΑ', 'ΒΟΥΛ', 'ΚΑΘΗΜΕΡΙΝ', 'ΑΓΩΝ']\n",
      "Label: 1\n",
      "\n",
      "Example 4 - Text: ['ΜΝΗΜΟΝΙΑΚ', 'ΜΕΡΑ25', 'ΕΚΛΟΓ', 'ΚΚΕ']\n",
      "Label: 0\n",
      "\n",
      "Example 5 - Text: ['ΣΥΓΚΛΟΝΙΣΤ', 'ΨΥΧΑΣΘΕΝΕ', 'ΤΣΙΠΡ']\n",
      "Label: 0\n",
      "\n",
      "Examples from the validation set:\n",
      "Example 1 - Text: ['ΘΕΛ', 'ΜΙΛΗΣ', 'ΒΟΣΚΟΤΟΠ', 'ΑΙΓΙΑΛ', 'ΠΑΡΑΓΡΑΦ', 'ΠΕΤΣΙΤ', 'Δ', 'ΠΟΛΑΚ', 'Δ', 'ΣΥΡΙΖ', 'ΚΣΙ', 'ΕΙΔΙΚ', 'ΡΥΘΜΙΣ', 'Δ', 'ΠΛΑΣΤ', 'ΥΠΟΓΡΣΦ', 'ΑΦ', 'ΤΣΙΠΡ', 'ΓΙΑΒΡΟΓΛ']\n",
      "Label: 1\n",
      "\n",
      "Example 2 - Text: ['ΤΣΙΠΡ', 'ΖΗΤ', 'ΑΝΤΙΠΟΛΙΤΕΥΣ', 'ΣΥΜΜΕΤΕΧ', 'ΔΙΑΔΙΚΑΣ', 'ΑΛΛΑΓ', 'ΗΓΕΣΙ', 'ΔΙΚΑΙΟΣΥΝ', 'ΑΡΝ', 'ΕΠΡΕΠ', 'ΝΟΜ', 'ΠΡΟΧΩΡ', 'ΜΗΝ', 'ΜΕΙΝ', 'ΑΚΕΦΑΛ']\n",
      "Label: 2\n",
      "\n",
      "Example 3 - Text: ['ΣΩΣΤ', 'ΕΛΛΗΝ', 'ΔΗΜΟΚΡΑΤ', 'ΕΛΛΗΝ', 'ΕΞ', 'ΕΡΧ', 'ΕΛΛΑΔ', 'ΨΗΦΙΣ', 'ΝΔ', 'ΛΕ', 'ΟΤΙ', 'ΕΡΧ', 'ΜΕΓΑΛ', 'ΑΠΑΝΤΗΣ', 'ΜΕΙΝ', 'ΕΛΛΑΔ', 'ΦΑΣ', 'ΣΥ', 'ΜΠΛΟΚΑΡ', 'ΔΗΜΟΚΡΑΤ', 'ΠΑΝ', 'ΝΔ', 'ΞΕΦΤΙΛ', 'ΕΚΛΟΓ']\n",
      "Label: 2\n",
      "\n",
      "Example 4 - Text: ['ΒΛΕΠ', 'ΕΝΔΙΑΦΕΡ', 'ΜΗΤΣΟΤΑΚ', 'ΠΗΓ', 'Κ', 'ΛΕ', 'ΠΟΛΑΚ', 'ΕΦΤΑΙΓ', 'ΜΑΤ', 'ΟΧΙ', 'ΣΟΒΑΡ', 'ΘΕΜ', 'ΣΥΝΤΑΞ', 'ΑΣΦΑΛΙΣΤ', 'ΕΡΓΑΣΙΑΚ', 'ΒΛΕΠ', 'ΜΗΤΣΟΤΑΚ', 'ΚΑΝ', 'ΚΑΝΟΝΙΣ', 'ΧΑΡ', 'ΜΕΓΑΛΟΚΑΡΧΑΡΙ']\n",
      "Label: 1\n",
      "\n",
      "Example 5 - Text: ['ΣΥΝΕΝΤΕΥΞ', 'ΜΗΤΣΟΤΑΚ', 'ΑΙΡΕΣ', '13Η', 'ΣΥΝΤΑΞ', 'ΑΥΞΗΣ', 'ΚΑΤ', 'ΜΙΣΘ', 'ΔΕΝ', 'ΚΑΤΑΡΓ', 'ΠΡΟΚΑΤΑΒΟΛ', 'ΦΟΡ', 'ΒΙΝΤΕ']\n",
      "Label: 0\n",
      "\n"
     ]
    }
   ],
   "source": [
    "# Print some examples from the training set\n",
    "print(\"Examples from the training set:\")\n",
    "for i in range(min(5, len(train_data))):\n",
    "    example = vars(train_data.examples[i])  # Convert example to a dictionary\n",
    "    text = example['Text']\n",
    "    label = example['Sentiment']\n",
    "    print(f\"Example {i + 1} - Text: {text}\\nLabel: {label}\\n\")\n",
    "\n",
    "# Print some examples from the validation set\n",
    "print(\"Examples from the validation set:\")\n",
    "for i in range(min(5, len(valid_data))):\n",
    "    example = vars(valid_data.examples[i])  # Convert example to a dictionary\n",
    "    text = example['Text']\n",
    "    label = example['Sentiment']\n",
    "    print(f\"Example {i + 1} - Text: {text}\\nLabel: {label}\\n\")"
   ]
  },
  {
   "cell_type": "code",
   "execution_count": 12,
   "id": "3d40a5cb",
   "metadata": {
    "execution": {
     "iopub.execute_input": "2024-02-09T17:30:19.607123Z",
     "iopub.status.busy": "2024-02-09T17:30:19.606536Z",
     "iopub.status.idle": "2024-02-09T17:30:19.610861Z",
     "shell.execute_reply": "2024-02-09T17:30:19.610039Z"
    },
    "id": "2XPSfu2nddPr",
    "outputId": "c1d51b10-022c-49ab-ed10-819ee8c9acc9",
    "papermill": {
     "duration": 0.029556,
     "end_time": "2024-02-09T17:30:19.613075",
     "exception": false,
     "start_time": "2024-02-09T17:30:19.583519",
     "status": "completed"
    },
    "tags": []
   },
   "outputs": [
    {
     "name": "stdout",
     "output_type": "stream",
     "text": [
      "Num Train: 36613\n",
      "Num val: 5230\n"
     ]
    }
   ],
   "source": [
    "print(f'Num Train: {len(train_data)}')\n",
    "print(f'Num val: {len(valid_data)}')\n",
    "\n"
   ]
  },
  {
   "cell_type": "markdown",
   "id": "10c1a9a2",
   "metadata": {
    "id": "JClaDraCWrAq",
    "papermill": {
     "duration": 0.021995,
     "end_time": "2024-02-09T17:30:19.657605",
     "exception": false,
     "start_time": "2024-02-09T17:30:19.635610",
     "status": "completed"
    },
    "tags": []
   },
   "source": [
    "#Finetune Word2Vec vectors"
   ]
  },
  {
   "cell_type": "markdown",
   "id": "bc1334af",
   "metadata": {
    "id": "827bf81a",
    "papermill": {
     "duration": 0.022245,
     "end_time": "2024-02-09T17:30:19.702068",
     "exception": false,
     "start_time": "2024-02-09T17:30:19.679823",
     "status": "completed"
    },
    "tags": []
   },
   "source": [
    "Once you load your respective dataset using this TEXT Field, the next step is to create a vocabulary based on all the unique words it encountered. This is also the step at which the Field needs to know what the vector Embeddings for each of those words would be.Here we use the option of finetuning word2vec vectors, by using the same hyperparameters with which the w2v model was trained in Assignment_2"
   ]
  },
  {
   "cell_type": "code",
   "execution_count": 13,
   "id": "5596316c",
   "metadata": {
    "execution": {
     "iopub.execute_input": "2024-02-09T17:30:19.750232Z",
     "iopub.status.busy": "2024-02-09T17:30:19.749659Z",
     "iopub.status.idle": "2024-02-09T17:30:21.602757Z",
     "shell.execute_reply": "2024-02-09T17:30:21.601813Z"
    },
    "id": "cef34551",
    "outputId": "4bb99d24-8d93-4ab6-96b2-5dd308594314",
    "papermill": {
     "duration": 1.87925,
     "end_time": "2024-02-09T17:30:21.604720",
     "exception": false,
     "start_time": "2024-02-09T17:30:19.725470",
     "status": "completed"
    },
    "tags": []
   },
   "outputs": [
    {
     "name": "stderr",
     "output_type": "stream",
     "text": [
      "100%|██████████| 36613/36613 [00:01<00:00, 20151.09it/s]\n"
     ]
    }
   ],
   "source": [
    "# WORD2VEC\n",
    "W2V_SIZE = 200\n",
    "W2V_WINDOW = 4\n",
    "W2V_EPOCH = 20\n",
    "W2V_MIN_COUNT = 1\n",
    "\n",
    "\n",
    "# Collect corpus for training word embeddings\n",
    "train_documents = [' '.join(example.Text) for example in train_data.examples]\n",
    "\n",
    "# Tokenize each document into a list of words\n",
    "tokenized_documents = [[token.text for token in el.tokenizer(document)] for document in tqdm(train_documents)]\n"
   ]
  },
  {
   "cell_type": "code",
   "execution_count": 14,
   "id": "5e0fec2a",
   "metadata": {
    "execution": {
     "iopub.execute_input": "2024-02-09T17:30:21.653843Z",
     "iopub.status.busy": "2024-02-09T17:30:21.653543Z",
     "iopub.status.idle": "2024-02-09T17:31:04.916319Z",
     "shell.execute_reply": "2024-02-09T17:31:04.915525Z"
    },
    "id": "381e92e9",
    "outputId": "9bbb6025-a517-4bcb-958b-f633b1245d78",
    "papermill": {
     "duration": 43.28996,
     "end_time": "2024-02-09T17:31:04.918928",
     "exception": false,
     "start_time": "2024-02-09T17:30:21.628968",
     "status": "completed"
    },
    "tags": []
   },
   "outputs": [
    {
     "name": "stdout",
     "output_type": "stream",
     "text": [
      "Vocab size 24028\n"
     ]
    }
   ],
   "source": [
    "# Train Word Embeddings and save\n",
    "w2v_model = gensim.models.Word2Vec(sg = 1,vector_size=W2V_SIZE, window=W2V_WINDOW, min_count=W2V_MIN_COUNT,alpha=0.01, hs=0,negative=10,workers=3,sample=0.001, shrink_windows=True)\n",
    "w2v_model.build_vocab(tokenized_documents)\n",
    "vocab_size = len(w2v_model.wv)\n",
    "print(\"Vocab size\", vocab_size)\n",
    "\n",
    "# Train Word Embeddings\n",
    "w2v_model.train(tokenized_documents, total_examples=len(tokenized_documents), epochs=W2V_EPOCH)\n",
    "w2v_model.save('embeddings.txt')"
   ]
  },
  {
   "cell_type": "markdown",
   "id": "0718a54f",
   "metadata": {
    "id": "WWPtnNpvgDNM",
    "papermill": {
     "duration": 0.023814,
     "end_time": "2024-02-09T17:31:04.967744",
     "exception": false,
     "start_time": "2024-02-09T17:31:04.943930",
     "status": "completed"
    },
    "tags": []
   },
   "source": [
    "Build vocab: Build the vocabulary based on the vocabulary size of the w2v model\n",
    "\n",
    "Use only the train data for fair predictions\n",
    "\n"
   ]
  },
  {
   "cell_type": "code",
   "execution_count": 15,
   "id": "4cb8b0b2",
   "metadata": {
    "execution": {
     "iopub.execute_input": "2024-02-09T17:31:05.016583Z",
     "iopub.status.busy": "2024-02-09T17:31:05.016238Z",
     "iopub.status.idle": "2024-02-09T17:31:05.244118Z",
     "shell.execute_reply": "2024-02-09T17:31:05.243069Z"
    },
    "id": "157583ca",
    "outputId": "b1e12815-5635-4ce8-f011-448761baa247",
    "papermill": {
     "duration": 0.254835,
     "end_time": "2024-02-09T17:31:05.246159",
     "exception": false,
     "start_time": "2024-02-09T17:31:04.991324",
     "status": "completed"
    },
    "tags": []
   },
   "outputs": [
    {
     "name": "stdout",
     "output_type": "stream",
     "text": [
      "Vocabulary size: 24032\n",
      "Number of classes: 3\n"
     ]
    }
   ],
   "source": [
    "TEXT.build_vocab(train_data, max_size=vocab_size,min_freq=W2V_MIN_COUNT)\n",
    "LABEL.build_vocab(train_data)\n",
    "\n",
    "print(f'Vocabulary size: {len(TEXT.vocab)}')\n",
    "print(f'Number of classes: {len(LABEL.vocab)}')"
   ]
  },
  {
   "cell_type": "code",
   "execution_count": 16,
   "id": "69e9260d",
   "metadata": {
    "execution": {
     "iopub.execute_input": "2024-02-09T17:31:05.295524Z",
     "iopub.status.busy": "2024-02-09T17:31:05.295202Z",
     "iopub.status.idle": "2024-02-09T17:31:05.649011Z",
     "shell.execute_reply": "2024-02-09T17:31:05.648056Z"
    },
    "id": "9bc6d7c8",
    "papermill": {
     "duration": 0.380878,
     "end_time": "2024-02-09T17:31:05.651336",
     "exception": false,
     "start_time": "2024-02-09T17:31:05.270458",
     "status": "completed"
    },
    "tags": []
   },
   "outputs": [],
   "source": [
    "w2v_model = gensim.models.word2vec.Word2Vec.load('embeddings.txt')\n"
   ]
  },
  {
   "cell_type": "markdown",
   "id": "380f3bac",
   "metadata": {
    "id": "6311dc48",
    "papermill": {
     "duration": 0.025368,
     "end_time": "2024-02-09T17:31:05.701257",
     "exception": false,
     "start_time": "2024-02-09T17:31:05.675889",
     "status": "completed"
    },
    "tags": []
   },
   "source": [
    "Step 3: We set the vectors manually for each word in the vocabulary using the TEXT.vocab.set_vectors(…) . It accepts the following arguments (according to the Torchtext documentation):\n",
    "\n",
    "stoi — A dictionary of string to the index of the associated vector in the vectors input argument. This can be obtained using TEXT.vocab.stoi.\n",
    "\n",
    "vectors — An indexed iterable that given an input index, returns a FloatTensor representing the vector for the token associated with the index. For example, vector[stoi[“string”]] should return the vector for “string”.\n",
    "\n",
    "dim — The dimensionality of the vectors. This is given by W2V_SIZE when training the Word2Vec embeddings.\n",
    "Special tokens i.e. <unk>, <pad>, <eos>, <sos>, which are used for sequence-to-sequence or language generation tasks are not considered when training the Word2Vec embeddings but are present in the TEXT Field vocabulary. Therefore, these special tokens and any other extra tokens in the vocabulary are initialized a vector embedding with all zeros."
   ]
  },
  {
   "cell_type": "code",
   "execution_count": 17,
   "id": "6aeea63b",
   "metadata": {
    "execution": {
     "iopub.execute_input": "2024-02-09T17:31:05.750667Z",
     "iopub.status.busy": "2024-02-09T17:31:05.750354Z",
     "iopub.status.idle": "2024-02-09T17:31:06.293605Z",
     "shell.execute_reply": "2024-02-09T17:31:06.292810Z"
    },
    "id": "7ca269e7",
    "outputId": "bfc791f1-48f9-40fb-8879-c8ca66f5224e",
    "papermill": {
     "duration": 0.57033,
     "end_time": "2024-02-09T17:31:06.295749",
     "exception": false,
     "start_time": "2024-02-09T17:31:05.725419",
     "status": "completed"
    },
    "tags": []
   },
   "outputs": [
    {
     "data": {
      "application/vnd.jupyter.widget-view+json": {
       "model_id": "9cbba1d8dbc046839487e97ac50c2906",
       "version_major": 2,
       "version_minor": 0
      },
      "text/plain": [
       "  0%|          | 0/24032 [00:00<?, ?it/s]"
      ]
     },
     "metadata": {},
     "output_type": "display_data"
    },
    {
     "name": "stderr",
     "output_type": "stream",
     "text": [
      "/tmp/ipykernel_26/1443564188.py:7: UserWarning: The given NumPy array is not writable, and PyTorch does not support non-writable tensors. This means writing to this tensor will result in undefined behavior. You may want to copy the array to protect its data or make it writable before converting it to a tensor. This type of warning will be suppressed for the rest of this program. (Triggered internally at /usr/local/src/pytorch/torch/csrc/utils/tensor_numpy.cpp:206.)\n",
      "  word2vec_vectors.append(torch.FloatTensor(w2v_model.wv.get_vector(token)))\n"
     ]
    }
   ],
   "source": [
    "word2vec_vectors = []\n",
    "# Mean and standard deviation for normal distribution\n",
    "mean, std = 0, 1\n",
    "\n",
    "for token, idx in tqdm_notebook(TEXT.vocab.stoi.items()):\n",
    "    if token in w2v_model.wv.key_to_index:\n",
    "        word2vec_vectors.append(torch.FloatTensor(w2v_model.wv.get_vector(token)))\n",
    "    else:\n",
    "        # If the word is not in the Word2Vec model, initialize it randomly with normal distribution\n",
    "        random_vector = torch.FloatTensor(np.random.normal(mean, std, W2V_SIZE))\n",
    "        word2vec_vectors.append(random_vector)\n",
    "\n",
    "TEXT.vocab.set_vectors(TEXT.vocab.stoi, word2vec_vectors, W2V_SIZE)"
   ]
  },
  {
   "cell_type": "code",
   "execution_count": 18,
   "id": "7953a82f",
   "metadata": {
    "execution": {
     "iopub.execute_input": "2024-02-09T17:31:06.346416Z",
     "iopub.status.busy": "2024-02-09T17:31:06.346100Z",
     "iopub.status.idle": "2024-02-09T17:31:06.351089Z",
     "shell.execute_reply": "2024-02-09T17:31:06.350317Z"
    },
    "id": "d8615f4e",
    "outputId": "ffc363c6-a981-4fee-84f0-72c12dc76fbd",
    "papermill": {
     "duration": 0.03279,
     "end_time": "2024-02-09T17:31:06.353201",
     "exception": false,
     "start_time": "2024-02-09T17:31:06.320411",
     "status": "completed"
    },
    "tags": []
   },
   "outputs": [
    {
     "name": "stdout",
     "output_type": "stream",
     "text": [
      "\n",
      "Tokens in TEXT vocabulary: 24032\n",
      "Tokens in LABEL vocabulary: 3\n"
     ]
    }
   ],
   "source": [
    "print('\\nTokens in TEXT vocabulary: {}'.format(len(TEXT.vocab)))\n",
    "print('Tokens in LABEL vocabulary: {}'.format(len(LABEL.vocab)))"
   ]
  },
  {
   "cell_type": "markdown",
   "id": "b323a9ed",
   "metadata": {
    "id": "XnH6ArWygvoZ",
    "papermill": {
     "duration": 0.02399,
     "end_time": "2024-02-09T17:31:06.401677",
     "exception": false,
     "start_time": "2024-02-09T17:31:06.377687",
     "status": "completed"
    },
    "tags": []
   },
   "source": [
    "24032 not 24028 because of the 'unk','pad','sos' and 'eos' tokens"
   ]
  },
  {
   "cell_type": "code",
   "execution_count": 19,
   "id": "c1f380c1",
   "metadata": {
    "execution": {
     "iopub.execute_input": "2024-02-09T17:31:06.451844Z",
     "iopub.status.busy": "2024-02-09T17:31:06.451558Z",
     "iopub.status.idle": "2024-02-09T17:31:06.465987Z",
     "shell.execute_reply": "2024-02-09T17:31:06.465115Z"
    },
    "id": "4b43c725",
    "outputId": "76048033-1f3f-42c7-8ebc-7cce44a04d25",
    "papermill": {
     "duration": 0.041701,
     "end_time": "2024-02-09T17:31:06.468058",
     "exception": false,
     "start_time": "2024-02-09T17:31:06.426357",
     "status": "completed"
    },
    "tags": []
   },
   "outputs": [
    {
     "name": "stdout",
     "output_type": "stream",
     "text": [
      "[('ΤΣΙΠΡ', 11141), ('ΜΗΤΣΟΤΑΚ', 9238), ('ΔΕΝ', 9157), ('ΝΔ', 8157), ('ΣΥΡΙΖ', 7571), ('ΕΚΛΟΓ', 4820), ('ΟΤΙ', 4342), ('ΚΚΕ', 3515), ('ΚΥΡΙΑΚ', 2414), ('ΠΑΣΟΚ', 2280), ('ΣΚΑ', 2273), ('ΚΑΝ', 2246), ('ΕΚΛΟΓΕΣ2019', 2156), ('ΚΙΝΑΛ', 2080), ('ΑΛΕΞ', 1620), ('ΨΗΦΙΣ', 1595), ('ΘΕΛ', 1549), ('ΕΛΛΑΔ', 1529), ('ΜΕΓΑΛ', 1486), ('ΧΡΟΝ', 1485)]\n",
      "['<unk>', '<pad>', '<sos>', '<eos>', 'ΤΣΙΠΡ', 'ΜΗΤΣΟΤΑΚ', 'ΔΕΝ', 'ΝΔ', 'ΣΥΡΙΖ', 'ΕΚΛΟΓ']\n",
      "5\n",
      "defaultdict(None, {'1': 0, '2': 1, '0': 2})\n"
     ]
    },
    {
     "data": {
      "text/plain": [
       "Counter({'1': 12207, '2': 12205, '0': 12201})"
      ]
     },
     "execution_count": 19,
     "metadata": {},
     "output_type": "execute_result"
    }
   ],
   "source": [
    "#Look at most common words:\n",
    "print(TEXT.vocab.freqs.most_common(20))\n",
    "#Tokens corresponding to the first 10 indices (0, 1, ..., 9):\n",
    "print(TEXT.vocab.itos[:10]) # itos = integer-to-string\n",
    "#Converting a string to an integer:\n",
    "print(TEXT.vocab.stoi['ΜΗΤΣΟΤΑΚ']) # stoi = string-to-integer\n",
    "#Class labels:\n",
    "print(LABEL.vocab.stoi)\n",
    "#Class label count:\n",
    "LABEL.vocab.freqs\n"
   ]
  },
  {
   "cell_type": "markdown",
   "id": "c0f8eb79",
   "metadata": {
    "id": "l6WZyEHaW2qq",
    "papermill": {
     "duration": 0.024158,
     "end_time": "2024-02-09T17:31:06.516653",
     "exception": false,
     "start_time": "2024-02-09T17:31:06.492495",
     "status": "completed"
    },
    "tags": []
   },
   "source": [
    "#Define Data Loaders"
   ]
  },
  {
   "cell_type": "markdown",
   "id": "d662b69c",
   "metadata": {
    "id": "58db8515",
    "papermill": {
     "duration": 0.024156,
     "end_time": "2024-02-09T17:31:06.565459",
     "exception": false,
     "start_time": "2024-02-09T17:31:06.541303",
     "status": "completed"
    },
    "tags": []
   },
   "source": [
    "**PytorchText BucketIterator functionality ensures that the batches are of the same length. Having batches with similar length examples provides a lot of gain for recurrent models (RNN, GRU, LSTM)**\n",
    "\n",
    "It uses the torchtext.data.BucketIterator.splits to create two iterators\n",
    "for the train and validation data. In the iterators, each index represents a token and each column\n",
    "represents a sentence. The number of columns is equal to the number of the batch size. The data are\n",
    "sorted in each batch according to the lambda function. This function instructs the iterator to try and find\n",
    "sentences of similar length. The examples are also shuffled in each epoch run during training."
   ]
  },
  {
   "cell_type": "code",
   "execution_count": 20,
   "id": "4247096b",
   "metadata": {
    "execution": {
     "iopub.execute_input": "2024-02-09T17:31:06.615482Z",
     "iopub.status.busy": "2024-02-09T17:31:06.615149Z",
     "iopub.status.idle": "2024-02-09T17:31:06.620955Z",
     "shell.execute_reply": "2024-02-09T17:31:06.620119Z"
    },
    "id": "8ecd97a1",
    "papermill": {
     "duration": 0.033246,
     "end_time": "2024-02-09T17:31:06.622873",
     "exception": false,
     "start_time": "2024-02-09T17:31:06.589627",
     "status": "completed"
    },
    "tags": []
   },
   "outputs": [],
   "source": [
    "# A function that creates iterators for the given datasets\n",
    "# In each batch, the sentences are transposed to be descending vertically\n",
    "# Each index represents a token and each column represents a sentence\n",
    "# The batch size specifies the number of columns\n",
    "# The lambda function finds sentences of the same length\n",
    "\n",
    "def create_iterators(train_dataset, validation_dataset, batch_size):\n",
    "\n",
    "  train_iterator, val_iterator = data.BucketIterator.splits(\n",
    "  # The Datasets to load Examples from\n",
    "  (train_dataset, validation_dataset),\n",
    "  # The batch size\n",
    "  batch_size = batch_size,\n",
    "  # Function to use for sorting examples\n",
    "  sort_key = lambda x: len(x.Text),\n",
    "  # Repeat the iterator for multiple epochs\n",
    "  repeat = False,\n",
    "  # Shuffle data on each epoch run\n",
    "  shuffle = True,\n",
    "  # Use 'sort_key' to sort examples in each batch\n",
    "  sort_within_batch = True,\n",
    "  device = device)\n",
    "\n",
    "  return train_iterator, val_iterator"
   ]
  },
  {
   "cell_type": "markdown",
   "id": "c3ffab2a",
   "metadata": {
    "id": "hDgfvJ7LW-6L",
    "papermill": {
     "duration": 0.024295,
     "end_time": "2024-02-09T17:31:06.671873",
     "exception": false,
     "start_time": "2024-02-09T17:31:06.647578",
     "status": "completed"
    },
    "tags": []
   },
   "source": [
    "#Train_validation_testing funcs"
   ]
  },
  {
   "cell_type": "code",
   "execution_count": 21,
   "id": "30e8c10d",
   "metadata": {
    "execution": {
     "iopub.execute_input": "2024-02-09T17:31:06.723859Z",
     "iopub.status.busy": "2024-02-09T17:31:06.723125Z",
     "iopub.status.idle": "2024-02-09T17:31:06.730797Z",
     "shell.execute_reply": "2024-02-09T17:31:06.729953Z"
    },
    "id": "667d3f2f",
    "papermill": {
     "duration": 0.035834,
     "end_time": "2024-02-09T17:31:06.732763",
     "exception": false,
     "start_time": "2024-02-09T17:31:06.696929",
     "status": "completed"
    },
    "tags": []
   },
   "outputs": [],
   "source": [
    "# ====== Training (Train data) ======\n",
    "def train(model, iterator, optimizer, criterion, clip):\n",
    "\n",
    "  training_loss = 0\n",
    "  training_acc = 0\n",
    "  # Set model to training mode\n",
    "  model.train()\n",
    "\n",
    "  # For each batch in the training iterator\n",
    "  for batch in tqdm(iterator):\n",
    "    # Zero the gradients\n",
    "    optimizer.zero_grad()\n",
    "\n",
    "    # batch.Tweet is a tuple (tensor, len of seq)\n",
    "    text, text_lengths = batch.Text\n",
    "\n",
    "    # Compute the predictions\n",
    "    predictions = model(text,text_lengths).squeeze(1)\n",
    "\n",
    "    # Compute the loss\n",
    "    loss = criterion(predictions, batch.Sentiment.long())\n",
    "\n",
    "    # Compute the accuracy\n",
    "    acc = accuracy(predictions, batch.Sentiment.float())\n",
    "\n",
    "    # Use loss to compute gradients\n",
    "    loss.backward()\n",
    "\n",
    "    # Clip the gradient value\n",
    "    nn.utils.clip_grad_norm_(model.parameters(), clip)\n",
    "\n",
    "    # Use optimizer to take gradient step\n",
    "    optimizer.step()\n",
    "\n",
    "    training_loss += loss.item()\n",
    "    training_acc += acc.item()\n",
    "\n",
    "  loss_of_epoch = training_loss / len(iterator)\n",
    "  accuracy_of_epoch = training_acc / len(iterator)\n",
    "\n",
    "  # Return the loss and accuracy, averaged across each epoch\n",
    "  # len of iterator = number of batches in the iterator\n",
    "  return loss_of_epoch, accuracy_of_epoch"
   ]
  },
  {
   "cell_type": "code",
   "execution_count": 22,
   "id": "b3ec2fbe",
   "metadata": {
    "execution": {
     "iopub.execute_input": "2024-02-09T17:31:06.782888Z",
     "iopub.status.busy": "2024-02-09T17:31:06.782323Z",
     "iopub.status.idle": "2024-02-09T17:31:06.791586Z",
     "shell.execute_reply": "2024-02-09T17:31:06.790877Z"
    },
    "id": "4b679756",
    "papermill": {
     "duration": 0.036505,
     "end_time": "2024-02-09T17:31:06.793570",
     "exception": false,
     "start_time": "2024-02-09T17:31:06.757065",
     "status": "completed"
    },
    "tags": []
   },
   "outputs": [],
   "source": [
    "# ====== Evaluation (validation data) ======\n",
    "def evaluate(model, iterator, criterion):\n",
    "\n",
    "  eval_loss = 0\n",
    "  eval_acc = 0\n",
    "\n",
    "  # Set model to evaluation mode\n",
    "  model.eval()\n",
    "\n",
    "  # Don't calculate the gradients\n",
    "  with torch.no_grad():\n",
    "\n",
    "    for batch in tqdm(iterator):\n",
    "\n",
    "      # batch.Tweet is a tuple (tensor, len of seq)\n",
    "      text, text_lengths = batch.Text\n",
    "\n",
    "      # Compute the predictions\n",
    "      predictions = model(text, text_lengths).squeeze(1)\n",
    "\n",
    "      # Compute the loss\n",
    "      loss = criterion(predictions, batch.Sentiment.long())\n",
    "\n",
    "      # Compute the accuracy\n",
    "      acc = accuracy(predictions, batch.Sentiment.float())\n",
    "\n",
    "      eval_loss += loss.item()\n",
    "      eval_acc += acc.item()\n",
    "\n",
    "  loss_of_epoch = eval_loss / len(iterator)\n",
    "  accuracy_of_epoch = eval_acc / len(iterator)\n",
    "\n",
    "  # Return the loss and accuracy, averaged across each epoch\n",
    "  # len of iterator = number of batches in the iterator\n",
    "  return loss_of_epoch, accuracy_of_epoch\n",
    "\n",
    "\n",
    "def testing(model, iterator):\n",
    "    predictions_all = []\n",
    "    labels_all = []\n",
    "\n",
    "    model.eval()\n",
    "\n",
    "    with torch.no_grad():\n",
    "        for batch in iterator:\n",
    "            labels = batch.Sentiment\n",
    "            labels = labels.flatten().cpu().numpy().tolist()\n",
    "            labels_all.extend(labels)\n",
    "\n",
    "            text, text_lengths = batch.Text\n",
    "            predictions = model(text, text_lengths).squeeze(1)\n",
    "            output = torch.argmax(predictions, dim=1).data.cpu().numpy()\n",
    "            predictions_all.extend(output)\n",
    "\n",
    "    return predictions_all, labels_all\n",
    "\n"
   ]
  },
  {
   "cell_type": "code",
   "execution_count": 23,
   "id": "57179b9c",
   "metadata": {
    "execution": {
     "iopub.execute_input": "2024-02-09T17:31:06.843890Z",
     "iopub.status.busy": "2024-02-09T17:31:06.843612Z",
     "iopub.status.idle": "2024-02-09T17:31:06.864105Z",
     "shell.execute_reply": "2024-02-09T17:31:06.863237Z"
    },
    "id": "bfc45749",
    "papermill": {
     "duration": 0.048043,
     "end_time": "2024-02-09T17:31:06.865999",
     "exception": false,
     "start_time": "2024-02-09T17:31:06.817956",
     "status": "completed"
    },
    "tags": []
   },
   "outputs": [],
   "source": [
    "# A function that calculates the trainable parameters of the model\n",
    "def count_parameters(model):\n",
    "    return sum(p.numel() for p in model.parameters() if p.requires_grad)\n",
    "\n",
    "# A function that sets seed for reproducibility\n",
    "def set_seed(seed_value):\n",
    "    random.seed(seed_value)\n",
    "    np.random.seed(seed_value)\n",
    "    torch.manual_seed(seed_value)\n",
    "    torch.cuda.manual_seed_all(seed_value)\n",
    "\n",
    "# A function that calculates the time needed for training and evaluation in each epoch\n",
    "def epoch_time(start_time, end_time):\n",
    "    elapsed_time = end_time - start_time\n",
    "    elapsed_mins = int(elapsed_time / 60)\n",
    "    elapsed_secs = int(elapsed_time - (elapsed_mins * 60))\n",
    "    return elapsed_mins, elapsed_secs\n",
    "\n",
    "def accuracy(preds, y_true):\n",
    "    _, pred_label = torch.max(preds, dim=1)  # Get the index of the maximum predicted probability\n",
    "    correct = (pred_label == y_true).float()  # Compare with true labels\n",
    "    acc = correct.sum() / len(correct)  # Calculate accuracy\n",
    "    return acc\n",
    "\n",
    "# A function that calculates all the metrics using the validation/test set\n",
    "def calculate_metrics(y_true, preds):\n",
    "\n",
    "  print('\\nCalculating metrics...')\n",
    "\n",
    "  # Calculate the accuracy of the model\n",
    "  acc = accuracy_score(y_true, preds)\n",
    "\n",
    "  # Calculate general precision, recall, F1 score of the model and of each class\n",
    "  precision, recall, fscore, support = score(y_true, preds)\n",
    "  print('Accuracy: {}'.format(acc))\n",
    "  print('Precision: {}'.format(precision))\n",
    "  print('Recall: {}'.format(recall))\n",
    "  print('F1 score: {}'.format(fscore))\n",
    "  print('Support: {}'.format(support))\n",
    "\n",
    "  # Print classification report\n",
    "  print(classification_report(y_true, preds))\n",
    "\n",
    "def plot_roc_auc(y_true, y_pred, n_classes):\n",
    "    # Compute ROC curve and ROC area for each class\n",
    "    fpr = dict()\n",
    "    tpr = dict()\n",
    "    roc_auc = dict()\n",
    "    for i in range(n_classes):\n",
    "        fpr[i], tpr[i], _ = roc_curve(y_true[:, i], y_pred[:, i])\n",
    "        roc_auc[i] = auc(fpr[i], tpr[i])\n",
    "\n",
    "    # Compute micro-average ROC curve and ROC area\n",
    "    fpr['micro'], tpr['micro'], _ = roc_curve(y_true.ravel(), y_pred.ravel())\n",
    "    roc_auc['micro'] = auc(fpr['micro'], tpr['micro'])\n",
    "\n",
    "    # First aggregate all false positive rates\n",
    "    all_fpr = np.unique(np.concatenate([fpr[i] for i in range(n_classes)]))\n",
    "\n",
    "    # Then interpolate all ROC curves at this points\n",
    "    mean_tpr = np.zeros_like(all_fpr)\n",
    "    for i in range(n_classes):\n",
    "        mean_tpr += interp(all_fpr, fpr[i], tpr[i])\n",
    "\n",
    "    # Finally average it and compute AUC\n",
    "    mean_tpr /= n_classes\n",
    "    fpr['macro'] = all_fpr\n",
    "    tpr['macro'] = mean_tpr\n",
    "    roc_auc['macro'] = auc(fpr['macro'], tpr['macro'])\n",
    "    lw = 2\n",
    "\n",
    "    # Plot all ROC curves\n",
    "    plt.figure()\n",
    "    plt.plot(\n",
    "        fpr['micro'],\n",
    "        tpr['micro'],\n",
    "        label='micro-average ROC curve (area = {0:0.2f})'.format(roc_auc['micro']),\n",
    "        color='deeppink',\n",
    "        linestyle=':',\n",
    "        linewidth=4,)\n",
    "\n",
    "    plt.plot(\n",
    "        fpr['macro'],\n",
    "        tpr['macro'],\n",
    "        label='macro-average ROC curve (area = {0:0.2f})'.format(roc_auc['macro']),\n",
    "        color='navy',\n",
    "        linestyle=':',\n",
    "        linewidth=4,)\n",
    "    colors = cycle(['aqua', 'darkorange', 'cornflowerblue'])\n",
    "    for i, color in zip(range(n_classes), colors):\n",
    "        plt.plot(\n",
    "            fpr[i],\n",
    "            tpr[i],\n",
    "            color=color,\n",
    "            lw=lw,\n",
    "            label='ROC curve of class {0} (area = {1:0.2f})'.format(i, roc_auc[i]),)\n",
    "\n",
    "    plt.plot([0, 1], [0, 1], \"k--\", lw=lw)\n",
    "    plt.xlim([0.0, 1.0])\n",
    "    plt.ylim([0.0, 1.05])\n",
    "    plt.xlabel('False Positive Rate')\n",
    "    plt.ylabel('True Positive Rate')\n",
    "    plt.title('Roc curve for all classes')\n",
    "    plt.legend(loc='lower right')\n",
    "    plt.show()"
   ]
  },
  {
   "cell_type": "markdown",
   "id": "8e409936",
   "metadata": {
    "id": "yt-j2f4AX5Uw",
    "papermill": {
     "duration": 0.024891,
     "end_time": "2024-02-09T17:31:06.915925",
     "exception": false,
     "start_time": "2024-02-09T17:31:06.891034",
     "status": "completed"
    },
    "tags": []
   },
   "source": [
    "#Define Model class for bi_LSTM/bi_GRU network"
   ]
  },
  {
   "cell_type": "code",
   "execution_count": 24,
   "id": "ff617bed",
   "metadata": {
    "execution": {
     "iopub.execute_input": "2024-02-09T17:31:06.968875Z",
     "iopub.status.busy": "2024-02-09T17:31:06.968172Z",
     "iopub.status.idle": "2024-02-09T17:31:06.980693Z",
     "shell.execute_reply": "2024-02-09T17:31:06.979837Z"
    },
    "id": "71760294",
    "papermill": {
     "duration": 0.040846,
     "end_time": "2024-02-09T17:31:06.982574",
     "exception": false,
     "start_time": "2024-02-09T17:31:06.941728",
     "status": "completed"
    },
    "tags": []
   },
   "outputs": [],
   "source": [
    "class BIDIRECTIONAL_RNN_LSTM_GRU(nn.Module):\n",
    "\n",
    "  def __init__(self, cell_type, input_size, embedding_size, hidden_size, output_size, embeddings, num_layers, dropout,pad_idx):\n",
    "    super(BIDIRECTIONAL_RNN_LSTM_GRU, self).__init__()\n",
    "\n",
    "    cells = {'LSTM': nn.LSTM, 'GRU': nn.GRU}\n",
    "\n",
    "    # Initializations\n",
    "    self.cell_type = cell_type\n",
    "    self.input_size = input_size\n",
    "    self.embedding_size = embedding_size\n",
    "    self.hidden_size = hidden_size\n",
    "    self.output_size = output_size\n",
    "    self.num_layers = num_layers\n",
    "    self.dropout = dropout\n",
    "\n",
    "    # Feed the tweets in the embedding layer\n",
    "    # padding_idx set to not learn the embedding for the <pad> token - irrelevant to determining sentiment\n",
    "    self.word_embeddings = nn.Embedding(input_size, embedding_size, padding_idx = pad_idx)\n",
    "\n",
    "    assert cell_type in cells, 'Use one of the following: {}'.format(str(cells))\n",
    "    rnn_cell = getattr(nn, cell_type) # It fetches the constructor from torch.nn\n",
    "    self.rnn = rnn_cell(\n",
    "        input_size = self.embedding_size,   # Number of features for each time step\n",
    "        num_layers = self.num_layers,       # If the number of layers is bigger than 1, then it is a stacked RNN)\n",
    "        hidden_size = self.hidden_size,     # LSTM/GRU hidden embedding representation\n",
    "        batch_first = True,                 # Input and output will have batch size as 1st dimension: (batch, time_step, input_size)\n",
    "        bidirectional = True,               # It is a bidirectional RNN\n",
    "        dropout = self.dropout)             # Dropout regularization\n",
    "\n",
    "    # Final hidden state has both a forward and a backward component concatenated together\n",
    "    # The size of the input to the nn.Linear layer is twice that of the hidden dimension size\n",
    "    self.predictor = nn.Linear(hidden_size*2, output_size)\n",
    "\n",
    "    # Initialize dropout layer for regularization\n",
    "    self.dropout = nn.Dropout(dropout)\n",
    "    # Initialize RELU activation function\n",
    "    self.relu = nn.ReLU()\n",
    "\n",
    "  def forward(self, text, text_lengths):\n",
    "\n",
    "    # Text - [tweet length, batch size]\n",
    "    # Text_lengths - lengths of tweet\n",
    "\n",
    "    # Embedded = [sentence len, batch size, emb dim] with dropout\n",
    "    embedded = self.dropout(self.word_embeddings(text))\n",
    "\n",
    "    # Pack the embeddings to only process non-padded elements, it speeds up computation\n",
    "    packed_embedded = nn.utils.rnn.pack_padded_sequence(embedded, text_lengths.to('cpu'))\n",
    "\n",
    "    if self.cell_type == 'LSTM':\n",
    "      packed_output, (hidden, cell) = self.rnn(packed_embedded)\n",
    "    if self.cell_type == 'GRU':\n",
    "      packed_output, hidden = self.rnn(packed_embedded)\n",
    "\n",
    "    # Unpack the sequence - transform packed sequence to a tensor\n",
    "    output, output_lengths = nn.utils.rnn.pad_packed_sequence(packed_output)\n",
    "\n",
    "    # Output = [sentence len, batch size, hid dim * num directions]\n",
    "    # Output over padding tokens are zero tensors\n",
    "\n",
    "    # Hidden = [num layers * num directions, batch size, hid dim]\n",
    "    # Cell = [num layers * num directions, batch size, hid dim]\n",
    "\n",
    "    # Get the final layer forward and backward hidden states\n",
    "    # Concat the final forward and backward hidden layers and apply dropout\n",
    "    hidden = self.dropout(torch.cat((hidden[-2,:,:], hidden[-1,:,:]), dim = 1))\n",
    "\n",
    "    return self.predictor(self.relu(hidden))\n",
    "\n"
   ]
  },
  {
   "cell_type": "markdown",
   "id": "82424830",
   "metadata": {
    "id": "EymFZ-viXi-7",
    "papermill": {
     "duration": 0.024446,
     "end_time": "2024-02-09T17:31:07.031334",
     "exception": false,
     "start_time": "2024-02-09T17:31:07.006888",
     "status": "completed"
    },
    "tags": []
   },
   "source": [
    "#Optimize neural network architecture with Optuna framework\n",
    "Defining Optuna search space for RNN_LSTM_GRU, and picking the chosen parameters as per Otuna best trial:\n",
    "- Number of hidden layers (stacked RNNs): 1-3\n",
    "- lstm/gru hidden embedding representation(hidden_size): 64-256\n",
    "- Type of cells : LSTM | GRU\n",
    "- Dropout probability : 0.2-0.7\n",
    "- gradient clipping to avoid exploding gradients: 1-5\n",
    "\n",
    "The rest following parameters were chosen by default :\n",
    "- embedding_dim:200\n",
    "- num_epochs:40\n",
    "- batch_size: 256\n",
    "- lr: 0.0001\n",
    "- weight_decay: 1e-4\n",
    "- optimizer: Adam\n",
    "- loss: cross-entropy"
   ]
  },
  {
   "cell_type": "code",
   "execution_count": 25,
   "id": "bfd4e532",
   "metadata": {
    "execution": {
     "iopub.execute_input": "2024-02-09T17:31:07.082282Z",
     "iopub.status.busy": "2024-02-09T17:31:07.081670Z",
     "iopub.status.idle": "2024-02-09T17:31:07.087827Z",
     "shell.execute_reply": "2024-02-09T17:31:07.086974Z"
    },
    "id": "cfe9b35f",
    "outputId": "b048c757-bdc4-4e91-f94c-54406ed912a8",
    "papermill": {
     "duration": 0.033796,
     "end_time": "2024-02-09T17:31:07.089744",
     "exception": false,
     "start_time": "2024-02-09T17:31:07.055948",
     "status": "completed"
    },
    "tags": []
   },
   "outputs": [],
   "source": [
    "# Define the objective function for Optuna\n",
    "#def objective(trial):\n",
    "    # Set up the hyperparameters to be optimized\n",
    "#    input_size = len(TEXT.vocab)\n",
    "#    embedding_size = 200\n",
    "#    hidden_size = trial.suggest_int(\"hidden_size\", 64, 256)\n",
    "#    num_layers = trial.suggest_int(\"num_layers\", 1, 3)\n",
    "#    cell_type = trial.suggest_categorical(\"cell_type\", [\"LSTM\", \"GRU\"])\n",
    "#    gradient_clipping = trial.suggest_float(\"gradient_clipping\", 1.0, 5.0)\n",
    "#    dropout_probability = trial.suggest_float(\"dropout_probability\", 0.2, 0.7)\n",
    "#    embeddings = TEXT.vocab.vectors\n",
    "#    print(embeddings.shape)\n",
    "#    # Create the RNN model with the optimized hyperparameters\n",
    "#    model = BIDIRECTIONAL_RNN_LSTM_GRU(\n",
    "#        cell_type=cell_type,\n",
    "#        input_size=input_size,\n",
    "#        embedding_size=embedding_size,\n",
    "#        hidden_size=hidden_size,\n",
    "#        output_size=3,\n",
    "#        embeddings=embeddings,\n",
    "#        num_layers=num_layers,\n",
    "#        dropout=dropout_probability,\n",
    "#        pad_idx=TEXT.vocab.stoi[TEXT.pad_token]\n",
    "#    ).to(device)\n",
    "\n",
    "   # Define the optimizer and criterion\n",
    "#    optimizer = optim.Adam(model.parameters())\n",
    "#    criterion = nn.CrossEntropyLoss()\n",
    "#    criterion = criterion.to(device)\n",
    "    # Replace the initial weights of the embedding layer with the Glove pre-trained embeddings\n",
    "#    model.word_embeddings.weight.data.copy_(embeddings)\n",
    "    # Initialize <unk> and <pad> both to all zeros - irrelevant for sentiment analysis\n",
    "#    UNK_IDX = TEXT.vocab.stoi[TEXT.unk_token]\n",
    "#    PAD_IDX = TEXT.vocab.stoi[TEXT.pad_token]\n",
    "    #print(model.embedding.weight.data)\n",
    "    # Setting row in the embedding weights matrix to zero using the token index\n",
    "#    model.word_embeddings.weight.data[UNK_IDX] = torch.zeros(embedding_size)\n",
    "#    model.word_embeddings.weight.data[PAD_IDX] = torch.zeros(embedding_size)\n",
    "    # print(model.word_embeddings.weight.data)\n",
    "    # Create iterators for training and validation data\n",
    "#    train_iterator, val_iterator = create_iterators(train_data, valid_data, batch_size=64)\n",
    "\n",
    "\n",
    "    # Train the model\n",
    "#    num_epochs = 1\n",
    "#    for epoch in range(num_epochs):\n",
    "#        train_loss, train_acc = train(model, train_iterator, optimizer, criterion, clip=gradient_clipping)\n",
    "#        val_loss, val_acc = evaluate(model, val_iterator, criterion)\n",
    "\n",
    "#    return val_loss\n",
    "\n",
    "# Set up Optuna study\n",
    "#study = optuna.create_study(direction=\"minimize\")\n",
    "#study.optimize(objective, n_trials=100)\n",
    "# Get the best hyperparameters\n",
    "#best_params = study.best_params\n",
    "#print(\"Best Hyperparameters:\", best_params)\n",
    "\n",
    "#print(\"Best trial:\")\n",
    "#trial = study.best_trial\n",
    "#print(\"  Value: \", trial.value)\n",
    "#print(\"  Params: \")\n",
    "#for key, value in trial.params.items():\n",
    "#  print(\"    {}: {}\".format(key, value))"
   ]
  },
  {
   "cell_type": "markdown",
   "id": "86f661e8",
   "metadata": {
    "id": "aYn3WDJjYZRC",
    "papermill": {
     "duration": 0.024304,
     "end_time": "2024-02-09T17:31:07.138834",
     "exception": false,
     "start_time": "2024-02-09T17:31:07.114530",
     "status": "completed"
    },
    "tags": []
   },
   "source": [
    "#Optuna visulaizations (explainability)"
   ]
  },
  {
   "cell_type": "code",
   "execution_count": 26,
   "id": "0865860d",
   "metadata": {
    "execution": {
     "iopub.execute_input": "2024-02-09T17:31:07.188998Z",
     "iopub.status.busy": "2024-02-09T17:31:07.188661Z",
     "iopub.status.idle": "2024-02-09T17:31:07.192910Z",
     "shell.execute_reply": "2024-02-09T17:31:07.192029Z"
    },
    "id": "b637cc14",
    "outputId": "e4fbbda7-b028-4dee-82d8-21e7798fd70f",
    "papermill": {
     "duration": 0.031645,
     "end_time": "2024-02-09T17:31:07.194856",
     "exception": false,
     "start_time": "2024-02-09T17:31:07.163211",
     "status": "completed"
    },
    "tags": []
   },
   "outputs": [],
   "source": [
    "#from optuna.visualization import plot_contour\n",
    "#from optuna.visualization import plot_edf\n",
    "#from optuna.visualization import plot_intermediate_values\n",
    "#from optuna.visualization import plot_optimization_history\n",
    "#from optuna.visualization import plot_parallel_coordinate\n",
    "#from optuna.visualization import plot_param_importances\n",
    "#from optuna.visualization import plot_slice\n",
    "\n",
    "#plot_optimization_history(study)\n",
    "#plot_contour(study)\n",
    "#plot_parallel_coordinate(study)\n",
    "#plot_param_importances(study)\n",
    "#plot_slice(study)"
   ]
  },
  {
   "cell_type": "markdown",
   "id": "6c079e8d",
   "metadata": {
    "id": "1b286760",
    "papermill": {
     "duration": 0.024148,
     "end_time": "2024-02-09T17:31:07.243423",
     "exception": false,
     "start_time": "2024-02-09T17:31:07.219275",
     "status": "completed"
    },
    "tags": []
   },
   "source": [
    "#Experiment_1\n",
    "BiRNN with Optuna tuned hyperparameters based on best trial\n"
   ]
  },
  {
   "cell_type": "code",
   "execution_count": 27,
   "id": "ce7d993c",
   "metadata": {
    "execution": {
     "iopub.execute_input": "2024-02-09T17:31:07.293465Z",
     "iopub.status.busy": "2024-02-09T17:31:07.293164Z",
     "iopub.status.idle": "2024-02-09T17:31:07.310836Z",
     "shell.execute_reply": "2024-02-09T17:31:07.309975Z"
    },
    "id": "ef73066a",
    "outputId": "45ddc714-a2d9-4132-c767-64dd2f98e225",
    "papermill": {
     "duration": 0.045017,
     "end_time": "2024-02-09T17:31:07.312705",
     "exception": false,
     "start_time": "2024-02-09T17:31:07.267688",
     "status": "completed"
    },
    "tags": []
   },
   "outputs": [],
   "source": [
    "def train_evaluate_best_bidirectional_RNN(TEXT, data_train, data_val, best_params):\n",
    "\n",
    "    # -----Initialize the model and its parameters-----\n",
    "\n",
    "    # The number of words in the vocabulary\n",
    "    input_dim = len(TEXT.vocab)\n",
    "    # The dimensions of each w2v vector\n",
    "    embedding_dim = 200\n",
    "    # The number of hidden neurons\n",
    "    hidden_dim = best_params[\"hidden_size\"]\n",
    "    # The number of output layers\n",
    "    output_dim = 3\n",
    "    # The number of hidden layers\n",
    "    num_layers = best_params[\"num_layers\"]\n",
    "    # Cell type of model\n",
    "    cell_type = best_params[\"cell_type\"]\n",
    "    # Dropout\n",
    "    dropout = best_params[\"dropout_probability\"]\n",
    "    # The w2v pre-trained embeddings\n",
    "    embeddings = TEXT.vocab.vectors\n",
    "    # Get pad token index from vocab\n",
    "    PAD_IDX = TEXT.vocab.stoi[TEXT.pad_token]\n",
    "    # Initialize <unk> and <pad> both to all zeros - irrelevant for sentiment analysis\n",
    "    UNK_IDX = TEXT.vocab.stoi[TEXT.unk_token]\n",
    "    # Initialize the model parameters\n",
    "    num_epochs = 10\n",
    "    batch_size = 256\n",
    "    clip = best_params[\"gradient_clipping\"]\n",
    "\n",
    "    # Instantiate the model\n",
    "    model = BIDIRECTIONAL_RNN_LSTM_GRU(cell_type, input_dim, embedding_dim, hidden_dim, output_dim, embeddings, num_layers, dropout,PAD_IDX)\n",
    "    print(model)\n",
    "    print(f'The model has {count_parameters(model):,} trainable parameters')\n",
    "\n",
    "    # Replace the initial weights of the embedding layer with the Glove pre-trained embeddings\n",
    "    model.word_embeddings.weight.data.copy_(embeddings)\n",
    "    # Setting row in the embedding weights matrix to zero using the token index\n",
    "    model.word_embeddings.weight.data[UNK_IDX] = torch.zeros(embedding_dim)\n",
    "    model.word_embeddings.weight.data[PAD_IDX] = torch.zeros(embedding_dim)\n",
    "    # print(model.word_embeddings.weight.data)\n",
    "\n",
    "    # Define the optimizer\n",
    "    optimizer = torch.optim.Adam(model.parameters(), lr=0.0001, weight_decay=1e-4)\n",
    "\n",
    "    # Define loss function\n",
    "    loss_function = nn.CrossEntropyLoss()\n",
    "\n",
    "    model = model.to(device)\n",
    "    loss_function = loss_function.to(device)\n",
    "\n",
    "    set_seed(42)\n",
    "\n",
    "    # Create the iterators used for training and evaluating the model\n",
    "    train_iterator, valid_iterator = create_iterators(data_train, data_val, batch_size)\n",
    "\n",
    "    best_valid_loss = float('inf')\n",
    "\n",
    "    # Initialize empty lists to store the values of loss and accuracy for each epoch\n",
    "    train_accuracies = []\n",
    "    train_losses = []\n",
    "    val_accuracies = []\n",
    "    val_losses = []\n",
    "\n",
    "    for epoch in range(num_epochs):\n",
    "\n",
    "        start_time = time.time()\n",
    "\n",
    "        train_loss, train_accuracy = train(model, train_iterator, optimizer, loss_function, clip)\n",
    "        validation_loss, validation_accuracy = evaluate(model, valid_iterator, loss_function)\n",
    "\n",
    "        end_time = time.time()\n",
    "\n",
    "        epoch_mins, epoch_secs = epoch_time(start_time, end_time)\n",
    "\n",
    "        print(f'Epoch: {epoch + 1:02} | Epoch Time: {epoch_mins}m {epoch_secs}s')\n",
    "        print(f'\\tTrain Loss: {train_loss:.3f} | Train Acc: {train_accuracy * 100:.2f}%')\n",
    "        print(f'\\t Val. Loss: {validation_loss:.3f} |  Val. Acc: {validation_accuracy * 100:.2f}%')\n",
    "\n",
    "        if validation_loss < best_valid_loss:\n",
    "            best_valid_loss = validation_loss\n",
    "            save_path = f'{cell_type}_model.pt'\n",
    "            torch.save(model.state_dict(), save_path)\n",
    "\n",
    "        # Fill the empty lists with the values of accuracy and loss for training and evaluation sets\n",
    "        train_losses.append(train_loss)\n",
    "        train_accuracies.append(train_accuracy)\n",
    "        val_losses.append(validation_loss)\n",
    "        val_accuracies.append(validation_accuracy)\n",
    "\n",
    "    # Plot the loss vs epochs\n",
    "    plt.plot(train_losses)\n",
    "    plt.plot(val_losses)\n",
    "    plt.title('Train vs Validation Model Loss')\n",
    "    plt.ylabel('Loss')\n",
    "    plt.xlabel('Epoch')\n",
    "    plt.legend(['Train', 'Validation'])\n",
    "    plt.show()\n",
    "\n",
    "    # Plot the accuracy vs epochs\n",
    "    plt.plot(train_accuracies)\n",
    "    plt.plot(val_accuracies)\n",
    "    plt.title('Train vs Validation Model Accuracy')\n",
    "    plt.ylabel('Accuracy')\n",
    "    plt.xlabel('Epoch')\n",
    "    plt.legend(['Train', 'Validation'])\n",
    "    plt.show()\n",
    "\n",
    "    # Evaluate model on the validation set\n",
    "    predictions, labels = testing(model, valid_iterator)\n",
    "\n",
    "    # Calculate the evaluation metrics on the testing set\n",
    "    calculate_metrics(labels, predictions)\n",
    "\n",
    "    # Label binarization and store the number of classes\n",
    "    y_test = label_binarize(labels, classes=[0, 1, 2])\n",
    "    n_classes = y_test.shape[1]\n",
    "\n",
    "  # Label binarization and store the number of classes\n",
    "    y_score = label_binarize(predictions, classes=[0, 1, 2])\n",
    "\n",
    "    plot_roc_auc(y_test, y_score, n_classes)\n",
    "    return model\n",
    "\n",
    "\n",
    "#trained_model=train_evaluate_best_bidirectional_RNN(TEXT, train_data, valid_data,best_params)"
   ]
  },
  {
   "cell_type": "markdown",
   "id": "c1950c92",
   "metadata": {
    "id": "AAax5qSLZyG_",
    "papermill": {
     "duration": 0.024633,
     "end_time": "2024-02-09T17:31:07.362295",
     "exception": false,
     "start_time": "2024-02-09T17:31:07.337662",
     "status": "completed"
    },
    "tags": []
   },
   "source": [
    "#Define Model class for bi_LSTM/bi_GRU network+ attention mechanism"
   ]
  },
  {
   "cell_type": "code",
   "execution_count": 28,
   "id": "82cb6a95",
   "metadata": {
    "execution": {
     "iopub.execute_input": "2024-02-09T17:31:07.412637Z",
     "iopub.status.busy": "2024-02-09T17:31:07.412332Z",
     "iopub.status.idle": "2024-02-09T17:31:07.426645Z",
     "shell.execute_reply": "2024-02-09T17:31:07.425834Z"
    },
    "id": "887c6f61",
    "papermill": {
     "duration": 0.041906,
     "end_time": "2024-02-09T17:31:07.428523",
     "exception": false,
     "start_time": "2024-02-09T17:31:07.386617",
     "status": "completed"
    },
    "tags": []
   },
   "outputs": [],
   "source": [
    "class BIDIRECTIONAL_RNN_LSTM_GRU_ATTENTION(nn.Module):\n",
    "\n",
    "  def __init__(self, cell_type, input_size, embedding_size, hidden_size, output_size, embeddings, num_layers, dropout, pad_idx):\n",
    "    super(BIDIRECTIONAL_RNN_LSTM_GRU_ATTENTION, self).__init__()\n",
    "\n",
    "    cells = {'LSTM': nn.LSTM, 'GRU': nn.GRU}\n",
    "\n",
    "    # Initializations\n",
    "    self.cell_type = cell_type\n",
    "    self.input_size = input_size\n",
    "    self.embedding_size = embedding_size\n",
    "    self.hidden_size = hidden_size\n",
    "    self.output_size = output_size\n",
    "    self.num_layers = num_layers\n",
    "    self.dropout = dropout\n",
    "\n",
    "    # Feed the tweets in the embedding layer\n",
    "    # padding_idx set to not learn the embedding for the <pad> token - irrelevant to determining sentiment\n",
    "    self.word_embeddings = nn.Embedding(input_size, embedding_size, padding_idx = pad_idx)\n",
    "\n",
    "\n",
    "    assert cell_type in cells, 'Use one of the following: {}'.format(str(cells))\n",
    "    rnn_cell = getattr(nn, cell_type) # It fetches the constructor from torch.nn\n",
    "    self.rnn = rnn_cell(\n",
    "        input_size = self.embedding_size,   # Number of features for each time step\n",
    "        num_layers = self.num_layers,       # If the number of layers is bigger than 1, then it is a stacked RNN)\n",
    "        hidden_size = self.hidden_size,     # LSTM/GRU hidden embedding representation\n",
    "        batch_first = True,                 # Input and output's batch size: (batch, time_step, input_size) => 1st dimension\n",
    "        bidirectional = True,               # It is a bidirectional RNN\n",
    "        dropout = self.dropout)             # Dropout regularization\n",
    "\n",
    "    # Final hidden state has both a forward and a backward component concatenated together\n",
    "    # The size of the input to the nn.Linear layer is twice that of the hidden dimension size\n",
    "    self.predictor = nn.Linear(hidden_size*2, output_size)\n",
    "\n",
    "    # Initialize dropout layer for regularization\n",
    "    self.dropout = nn.Dropout(dropout)\n",
    "\n",
    "    # Initialize RELU activation function\n",
    "    self.relu = nn.ReLU()\n",
    "\n",
    "  def attention(self, output, final_state):\n",
    "\n",
    "    # output : The final output of the RNN which contains hidden layer outputs for each sequence\n",
    "    # final_state : The final time-step hidden state (h_n) of the RNN\n",
    "\n",
    "    # It computes the weights for each sequence in the output\n",
    "    # and then computes the new hidden state\n",
    "\n",
    "    # Use torch.bmm for batch matrix multiplication\n",
    "    attn_weights = torch.bmm(output, final_state.unsqueeze(2)).squeeze(2)\n",
    "    soft_attn_weights = F.softmax(attn_weights, 1).unsqueeze(2)\n",
    "    new_hidden_state = torch.bmm(output.transpose(1, 2), soft_attn_weights).squeeze(2)\n",
    "\n",
    "    return new_hidden_state\n",
    "\n",
    "  def forward(self, text, text_lengths):\n",
    "\n",
    "    # Text - [tweet length, batch size]\n",
    "    # Text_lengths - lengths of tweet\n",
    "\n",
    "    # Embedded = [sentence len, batch size, emb dim] with dropout\n",
    "    embedded = self.dropout(self.word_embeddings(text))\n",
    "\n",
    "    # Pack the embeddings to only process non-padded elements, it speeds up computation\n",
    "    packed_embedded = nn.utils.rnn.pack_padded_sequence(embedded, text_lengths.to('cpu'),enforce_sorted=False)\n",
    "\n",
    "\n",
    "    if self.cell_type == 'LSTM':\n",
    "      packed_output, (hidden, cell) = self.rnn(packed_embedded)\n",
    "    if self.cell_type == 'GRU':\n",
    "      packed_output, hidden = self.rnn(packed_embedded)\n",
    "\n",
    "    # Unpack the sequence - transform packed sequence to a tensor\n",
    "    output, output_lengths = nn.utils.rnn.pad_packed_sequence(packed_output)\n",
    "\n",
    "    output = output.permute(1, 0, 2)\n",
    "\n",
    "    # Get the final layer forward and backward hidden states\n",
    "    # Concat the final forward and backward hidden layers and apply dropout\n",
    "    hidden = self.dropout(torch.cat((hidden[-2,:,:], hidden[-1,:,:]), dim = 1))\n",
    "\n",
    "    # Add attention\n",
    "    attn_output = self.attention(output, hidden)\n",
    "\n",
    "    # Output = [sentence len, batch size, hid dim * num directions]\n",
    "    # Output over padding tokens are zero tensors\n",
    "\n",
    "    # Hidden = [num layers * num directions, batch size, hid dim]\n",
    "    # Cell = [num layers * num directions, batch size, hid dim]\n",
    "\n",
    "    return self.predictor(self.relu(attn_output))"
   ]
  },
  {
   "cell_type": "markdown",
   "id": "edbcc4b4",
   "metadata": {
    "id": "a114be99",
    "papermill": {
     "duration": 0.024178,
     "end_time": "2024-02-09T17:31:07.478165",
     "exception": false,
     "start_time": "2024-02-09T17:31:07.453987",
     "status": "completed"
    },
    "tags": []
   },
   "source": [
    "#Experiment_2\n",
    "Adding attention to the optimized model"
   ]
  },
  {
   "cell_type": "code",
   "execution_count": 29,
   "id": "4322a6d3",
   "metadata": {
    "execution": {
     "iopub.execute_input": "2024-02-09T17:31:07.529001Z",
     "iopub.status.busy": "2024-02-09T17:31:07.528701Z",
     "iopub.status.idle": "2024-02-09T17:31:07.545650Z",
     "shell.execute_reply": "2024-02-09T17:31:07.544800Z"
    },
    "id": "00c3531a",
    "papermill": {
     "duration": 0.044416,
     "end_time": "2024-02-09T17:31:07.547604",
     "exception": false,
     "start_time": "2024-02-09T17:31:07.503188",
     "status": "completed"
    },
    "tags": []
   },
   "outputs": [],
   "source": [
    "# STACKED RNN + ATTENTION mechanism (Best model from the previous ones)\n",
    "def train_evaluate_bidirectional_RNN_model_ATTENTION(TEXT, data_train, data_val):\n",
    "\n",
    "    # -----Initialize the model and its parameters-----\n",
    "\n",
    "    # The number of words in the vocabulary\n",
    "    input_dim = len(TEXT.vocab)\n",
    "    # The dimensions of each Glove vector\n",
    "    embedding_dim = 200\n",
    "    # The number of hidden neurons\n",
    "    hidden_dim = 133\n",
    "    # The number of output layers\n",
    "    output_dim = 3\n",
    "    # The number of hidden layers\n",
    "    num_layers = 2\n",
    "    # Cell type of model\n",
    "    cell_type = \"LSTM\"\n",
    "    # Dropout\n",
    "    dropout = 0.23\n",
    "    # The w2v pre-trained embeddings\n",
    "    embeddings = torch.FloatTensor(TEXT.vocab.vectors)\n",
    "    # Get pad token index from vocab\n",
    "    PAD_IDX = TEXT.vocab.stoi[TEXT.pad_token]\n",
    "    # Initialize <unk> and <pad> both to all zeros - irrelevant for sentiment analysis\n",
    "    UNK_IDX = TEXT.vocab.stoi[TEXT.unk_token]\n",
    "  # Initialize the model parameters\n",
    "    num_epochs = 10\n",
    "    batch_size = 256\n",
    "    clip = 5\n",
    "\n",
    "  # Instantiate the model\n",
    "    model = BIDIRECTIONAL_RNN_LSTM_GRU_ATTENTION(cell_type, input_dim, embedding_dim, hidden_dim, output_dim, embeddings, num_layers, dropout, PAD_IDX)\n",
    "    print(model)\n",
    "    model = model.to(device)\n",
    "    print(f'The model has {count_parameters(model):,} trainable parameters')\n",
    "\n",
    "  # Replace the initial weights of the embedding layer with the pre-trained embeddings\n",
    "    model.word_embeddings.weight.data.copy_(embeddings)\n",
    "  # Setting row in the embedding weights matrix to zero using the token index\n",
    "    model.word_embeddings.weight.data[UNK_IDX] = torch.zeros(embedding_dim)\n",
    "    model.word_embeddings.weight.data[PAD_IDX] = torch.zeros(embedding_dim)\n",
    "  #print(model.embedding.weight.data)\n",
    "\n",
    "  # Define the optimizer\n",
    "    optimizer = torch.optim.Adam(model.parameters(), lr = 0.0001, weight_decay = 1e-4)\n",
    "\n",
    "  # Define loss function\n",
    "    loss_function = nn.CrossEntropyLoss()\n",
    "    loss_function = loss_function.to(device)\n",
    "\n",
    "  # Create the iterators used for training and evaluating the model\n",
    "    train_iterator, valid_iterator = create_iterators(data_train, data_val, batch_size)\n",
    "\n",
    "    best_valid_loss = float('inf')\n",
    "\n",
    "  # Initialize empty lists to store the values of loss and accuracy for each epoch\n",
    "    train_accuracies = []\n",
    "    train_losses = []\n",
    "    val_accuracies = []\n",
    "    val_losses = []\n",
    "\n",
    "\n",
    "    for epoch in range(num_epochs):\n",
    "      start_time = time.time()\n",
    "\n",
    "      train_loss, train_accuracy = train(model, train_iterator, optimizer, loss_function, clip)\n",
    "      validation_loss, validation_accuracy = evaluate(model, valid_iterator, loss_function)\n",
    "\n",
    "      end_time = time.time()\n",
    "\n",
    "      epoch_mins, epoch_secs = epoch_time(start_time, end_time)\n",
    "\n",
    "      print(f'Epoch: {epoch+1:02} | Epoch Time: {epoch_mins}m {epoch_secs}s')\n",
    "      print(f'\\tTrain Loss: {train_loss:.3f} | Train Acc: {train_accuracy*100:.2f}%')\n",
    "      print(f'\\t Val. Loss: {validation_loss:.3f} |  Val. Acc: {validation_accuracy*100:.2f}%')\n",
    "\n",
    "      if validation_loss < best_valid_loss:\n",
    "        best_valid_loss = validation_loss\n",
    "        save_path = f'{cell_type}_ATTENTION_model.pt'\n",
    "        torch.save(model.state_dict(), save_path)\n",
    "\n",
    "    # Fill the empty lists with the values of accuracy and loss for training and evaluation sets\n",
    "      train_losses.append(train_loss)\n",
    "      train_accuracies.append(train_accuracy)\n",
    "      val_losses.append(validation_loss)\n",
    "      val_accuracies.append(validation_accuracy)\n",
    "\n",
    "  # Plot the loss vs epochs\n",
    "    plt.plot(train_losses)\n",
    "    plt.plot(val_losses)\n",
    "    plt.title('Train vs Validation Model Loss')\n",
    "    plt.ylabel('Loss')\n",
    "    plt.xlabel('Epoch')\n",
    "    plt.legend(['Train', 'Validation'])\n",
    "    plt.show()\n",
    "\n",
    "  # Plot the accuracy vs epochs\n",
    "    plt.plot(train_accuracies)\n",
    "    plt.plot(val_accuracies)\n",
    "    plt.title('Train vs Validation Model Accuracy')\n",
    "    plt.ylabel('Accuracy')\n",
    "    plt.xlabel('Epoch')\n",
    "    plt.legend(['Train', 'Validation'])\n",
    "    plt.show()\n",
    "\n",
    "  # Evaluate model on the validation set\n",
    "    predictions, labels = testing(model, valid_iterator)\n",
    "\n",
    "  # Calculate the evaluation metrics on the testing set\n",
    "    calculate_metrics(labels, predictions)\n",
    "\n",
    "  # Label binarization and store the number of classes\n",
    "    y_test = label_binarize(labels, classes=[0, 1, 2])\n",
    "    n_classes = y_test.shape[1]\n",
    "\n",
    "  # Label binarization and store the number of classes\n",
    "    y_score = label_binarize(predictions, classes=[0, 1, 2])\n",
    "    plot_roc_auc(y_test, y_score, n_classes)\n",
    "    return model"
   ]
  },
  {
   "cell_type": "code",
   "execution_count": 30,
   "id": "32918128",
   "metadata": {
    "execution": {
     "iopub.execute_input": "2024-02-09T17:31:07.597624Z",
     "iopub.status.busy": "2024-02-09T17:31:07.597087Z",
     "iopub.status.idle": "2024-02-09T17:31:37.558024Z",
     "shell.execute_reply": "2024-02-09T17:31:37.557117Z"
    },
    "id": "1a0e07b0",
    "outputId": "3bfb4d35-54d7-4b5e-b787-9a8806ae50e9",
    "papermill": {
     "duration": 29.988032,
     "end_time": "2024-02-09T17:31:37.559940",
     "exception": false,
     "start_time": "2024-02-09T17:31:07.571908",
     "status": "completed"
    },
    "tags": []
   },
   "outputs": [
    {
     "name": "stdout",
     "output_type": "stream",
     "text": [
      "BIDIRECTIONAL_RNN_LSTM_GRU_ATTENTION(\n",
      "  (word_embeddings): Embedding(24032, 200, padding_idx=1)\n",
      "  (rnn): LSTM(200, 133, num_layers=2, batch_first=True, dropout=0.23, bidirectional=True)\n",
      "  (predictor): Linear(in_features=266, out_features=3, bias=True)\n",
      "  (dropout): Dropout(p=0.23, inplace=False)\n",
      "  (relu): ReLU()\n",
      ")\n",
      "The model has 5,590,305 trainable parameters\n"
     ]
    },
    {
     "name": "stderr",
     "output_type": "stream",
     "text": [
      "100%|██████████| 144/144 [00:04<00:00, 32.25it/s]\n",
      "100%|██████████| 21/21 [00:00<00:00, 175.37it/s]\n"
     ]
    },
    {
     "name": "stdout",
     "output_type": "stream",
     "text": [
      "Epoch: 01 | Epoch Time: 0m 4s\n",
      "\tTrain Loss: 1.097 | Train Acc: 36.83%\n",
      "\t Val. Loss: 1.093 |  Val. Acc: 38.54%\n"
     ]
    },
    {
     "name": "stderr",
     "output_type": "stream",
     "text": [
      "100%|██████████| 144/144 [00:02<00:00, 69.13it/s]\n",
      "100%|██████████| 21/21 [00:00<00:00, 181.65it/s]\n"
     ]
    },
    {
     "name": "stdout",
     "output_type": "stream",
     "text": [
      "Epoch: 02 | Epoch Time: 0m 2s\n",
      "\tTrain Loss: 1.090 | Train Acc: 38.30%\n",
      "\t Val. Loss: 1.085 |  Val. Acc: 39.19%\n"
     ]
    },
    {
     "name": "stderr",
     "output_type": "stream",
     "text": [
      "100%|██████████| 144/144 [00:02<00:00, 68.28it/s]\n",
      "100%|██████████| 21/21 [00:00<00:00, 176.15it/s]\n"
     ]
    },
    {
     "name": "stdout",
     "output_type": "stream",
     "text": [
      "Epoch: 03 | Epoch Time: 0m 2s\n",
      "\tTrain Loss: 1.086 | Train Acc: 38.90%\n",
      "\t Val. Loss: 1.082 |  Val. Acc: 39.61%\n"
     ]
    },
    {
     "name": "stderr",
     "output_type": "stream",
     "text": [
      "100%|██████████| 144/144 [00:02<00:00, 69.20it/s]\n",
      "100%|██████████| 21/21 [00:00<00:00, 182.18it/s]\n"
     ]
    },
    {
     "name": "stdout",
     "output_type": "stream",
     "text": [
      "Epoch: 04 | Epoch Time: 0m 2s\n",
      "\tTrain Loss: 1.084 | Train Acc: 39.01%\n",
      "\t Val. Loss: 1.080 |  Val. Acc: 39.48%\n"
     ]
    },
    {
     "name": "stderr",
     "output_type": "stream",
     "text": [
      "100%|██████████| 144/144 [00:02<00:00, 69.05it/s]\n",
      "100%|██████████| 21/21 [00:00<00:00, 186.28it/s]\n"
     ]
    },
    {
     "name": "stdout",
     "output_type": "stream",
     "text": [
      "Epoch: 05 | Epoch Time: 0m 2s\n",
      "\tTrain Loss: 1.080 | Train Acc: 39.40%\n",
      "\t Val. Loss: 1.077 |  Val. Acc: 39.66%\n"
     ]
    },
    {
     "name": "stderr",
     "output_type": "stream",
     "text": [
      "100%|██████████| 144/144 [00:02<00:00, 68.88it/s]\n",
      "100%|██████████| 21/21 [00:00<00:00, 186.73it/s]\n"
     ]
    },
    {
     "name": "stdout",
     "output_type": "stream",
     "text": [
      "Epoch: 06 | Epoch Time: 0m 2s\n",
      "\tTrain Loss: 1.076 | Train Acc: 39.87%\n",
      "\t Val. Loss: 1.077 |  Val. Acc: 40.06%\n"
     ]
    },
    {
     "name": "stderr",
     "output_type": "stream",
     "text": [
      "100%|██████████| 144/144 [00:02<00:00, 67.29it/s]\n",
      "100%|██████████| 21/21 [00:00<00:00, 168.63it/s]\n"
     ]
    },
    {
     "name": "stdout",
     "output_type": "stream",
     "text": [
      "Epoch: 07 | Epoch Time: 0m 2s\n",
      "\tTrain Loss: 1.074 | Train Acc: 39.93%\n",
      "\t Val. Loss: 1.072 |  Val. Acc: 39.91%\n"
     ]
    },
    {
     "name": "stderr",
     "output_type": "stream",
     "text": [
      "100%|██████████| 144/144 [00:02<00:00, 69.29it/s]\n",
      "100%|██████████| 21/21 [00:00<00:00, 169.98it/s]\n"
     ]
    },
    {
     "name": "stdout",
     "output_type": "stream",
     "text": [
      "Epoch: 08 | Epoch Time: 0m 2s\n",
      "\tTrain Loss: 1.072 | Train Acc: 40.15%\n",
      "\t Val. Loss: 1.071 |  Val. Acc: 40.21%\n"
     ]
    },
    {
     "name": "stderr",
     "output_type": "stream",
     "text": [
      "100%|██████████| 144/144 [00:02<00:00, 68.30it/s]\n",
      "100%|██████████| 21/21 [00:00<00:00, 184.43it/s]\n"
     ]
    },
    {
     "name": "stdout",
     "output_type": "stream",
     "text": [
      "Epoch: 09 | Epoch Time: 0m 2s\n",
      "\tTrain Loss: 1.069 | Train Acc: 40.35%\n",
      "\t Val. Loss: 1.070 |  Val. Acc: 40.20%\n"
     ]
    },
    {
     "name": "stderr",
     "output_type": "stream",
     "text": [
      "100%|██████████| 144/144 [00:02<00:00, 69.51it/s]\n",
      "100%|██████████| 21/21 [00:00<00:00, 187.18it/s]\n"
     ]
    },
    {
     "name": "stdout",
     "output_type": "stream",
     "text": [
      "Epoch: 10 | Epoch Time: 0m 2s\n",
      "\tTrain Loss: 1.066 | Train Acc: 40.73%\n",
      "\t Val. Loss: 1.074 |  Val. Acc: 40.27%\n"
     ]
    },
    {
     "data": {
      "image/png": "[encoded data removed]",
      "text/plain": [
       "<Figure size 640x480 with 1 Axes>"
      ]
     },
     "metadata": {},
     "output_type": "display_data"
    },
    {
     "data": {
      "image/png": "[encoded data removed]",
      "text/plain": [
       "<Figure size 640x480 with 1 Axes>"
      ]
     },
     "metadata": {},
     "output_type": "display_data"
    },
    {
     "name": "stdout",
     "output_type": "stream",
     "text": [
      "\n",
      "Calculating metrics...\n",
      "Accuracy: 0.4032504780114723\n",
      "Precision: [0.41363926 0.39362149 0.4084507 ]\n",
      "Recall: [0.37213303 0.53784404 0.29965557]\n",
      "F1 score: [0.39178992 0.45456748 0.34569536]\n",
      "Support: [1744 1744 1742]\n",
      "              precision    recall  f1-score   support\n",
      "\n",
      "           0       0.41      0.37      0.39      1744\n",
      "           1       0.39      0.54      0.45      1744\n",
      "           2       0.41      0.30      0.35      1742\n",
      "\n",
      "    accuracy                           0.40      5230\n",
      "   macro avg       0.41      0.40      0.40      5230\n",
      "weighted avg       0.41      0.40      0.40      5230\n",
      "\n"
     ]
    },
    {
     "data": {
      "image/png": "[encoded data removed]",
      "text/plain": [
       "<Figure size 640x480 with 1 Axes>"
      ]
     },
     "metadata": {},
     "output_type": "display_data"
    }
   ],
   "source": [
    "trained_model_attention=train_evaluate_bidirectional_RNN_model_ATTENTION(TEXT, train_data, valid_data)"
   ]
  },
  {
   "cell_type": "markdown",
   "id": "ed0af302",
   "metadata": {
    "id": "6fe5b665",
    "papermill": {
     "duration": 0.047376,
     "end_time": "2024-02-09T17:31:37.655209",
     "exception": false,
     "start_time": "2024-02-09T17:31:37.607833",
     "status": "completed"
    },
    "tags": []
   },
   "source": [
    "#Predictions for submission"
   ]
  },
  {
   "cell_type": "markdown",
   "id": "2ad35b3c",
   "metadata": {
    "id": "349X5aqFJPJo",
    "papermill": {
     "duration": 0.047044,
     "end_time": "2024-02-09T17:31:37.749596",
     "exception": false,
     "start_time": "2024-02-09T17:31:37.702552",
     "status": "completed"
    },
    "tags": []
   },
   "source": [
    "Preprocess test data"
   ]
  },
  {
   "cell_type": "code",
   "execution_count": 31,
   "id": "9e3993e7",
   "metadata": {
    "execution": {
     "iopub.execute_input": "2024-02-09T17:31:37.846916Z",
     "iopub.status.busy": "2024-02-09T17:31:37.845884Z",
     "iopub.status.idle": "2024-02-09T17:31:37.851448Z",
     "shell.execute_reply": "2024-02-09T17:31:37.850550Z"
    },
    "id": "RLN6FjPx-FBk",
    "papermill": {
     "duration": 0.057021,
     "end_time": "2024-02-09T17:31:37.853423",
     "exception": false,
     "start_time": "2024-02-09T17:31:37.796402",
     "status": "completed"
    },
    "tags": []
   },
   "outputs": [],
   "source": [
    "def get_text(dataframe, text_column, stopwords_file):\n",
    "\n",
    "    # Apply the pre-processing function to the text column\n",
    "    dataframe[text_column] = dataframe[text_column].apply(preprocess_text, stopwords_file=stopwords_file)\n",
    "    print('\\nText done pre-processing!')\n",
    "\n",
    "    return dataframe[text_column]"
   ]
  },
  {
   "cell_type": "code",
   "execution_count": 32,
   "id": "b344e01c",
   "metadata": {
    "execution": {
     "iopub.execute_input": "2024-02-09T17:31:37.952216Z",
     "iopub.status.busy": "2024-02-09T17:31:37.951534Z",
     "iopub.status.idle": "2024-02-09T17:32:12.910430Z",
     "shell.execute_reply": "2024-02-09T17:32:12.909465Z"
    },
    "id": "c9fdedda",
    "outputId": "0ba6073c-6813-4324-8935-ef091deb1413",
    "papermill": {
     "duration": 35.063499,
     "end_time": "2024-02-09T17:32:12.964207",
     "exception": false,
     "start_time": "2024-02-09T17:31:37.900708",
     "status": "completed"
    },
    "tags": []
   },
   "outputs": [
    {
     "name": "stdout",
     "output_type": "stream",
     "text": [
      "\n",
      "Text done pre-processing!\n"
     ]
    }
   ],
   "source": [
    "test=pd.read_csv('/kaggle/input/ys19-2023-assignment-3/test_set.csv',encoding='utf-8')\n",
    "# Preprocess and resample dataset and return a new cleaned one\n",
    "test_dataframe = get_text(test, 'Text',stopwords_file=stopwords_file)"
   ]
  },
  {
   "cell_type": "markdown",
   "id": "b9331fc5",
   "metadata": {
    "id": "O2Jii3dbJJbx",
    "papermill": {
     "duration": 0.046946,
     "end_time": "2024-02-09T17:32:13.059630",
     "exception": false,
     "start_time": "2024-02-09T17:32:13.012684",
     "status": "completed"
    },
    "tags": []
   },
   "source": [
    "Dynamically load trained model"
   ]
  },
  {
   "cell_type": "code",
   "execution_count": 33,
   "id": "0c5c0a4e",
   "metadata": {
    "execution": {
     "iopub.execute_input": "2024-02-09T17:32:13.155840Z",
     "iopub.status.busy": "2024-02-09T17:32:13.155501Z",
     "iopub.status.idle": "2024-02-09T17:32:13.180824Z",
     "shell.execute_reply": "2024-02-09T17:32:13.179838Z"
    },
    "id": "4OiIvxxQJIAh",
    "outputId": "a0026f95-edab-48c2-88ce-5d3981521aee",
    "papermill": {
     "duration": 0.075493,
     "end_time": "2024-02-09T17:32:13.182636",
     "exception": false,
     "start_time": "2024-02-09T17:32:13.107143",
     "status": "completed"
    },
    "tags": []
   },
   "outputs": [
    {
     "name": "stdout",
     "output_type": "stream",
     "text": [
      "LSTM+attention model loaded.\n"
     ]
    }
   ],
   "source": [
    "import os\n",
    "\n",
    "# Check if GRU model file exists\n",
    "if os.path.exists('GRU_ATTENTION_model.pt'):\n",
    "    trained_model_attention.load_state_dict(torch.load('GRU_ATTENTION_model.pt'))\n",
    "    print(\"GRU+attention model loaded.\")\n",
    "# Check if LSTM model file exists\n",
    "elif os.path.exists('LSTM_ATTENTION_model.pt'):\n",
    "    trained_model_attention.load_state_dict(torch.load('LSTM_ATTENTION_model.pt'))\n",
    "    print(\"LSTM+attention model loaded.\")\n",
    "else:\n",
    "    print(\"No trained model file found.\")"
   ]
  },
  {
   "cell_type": "code",
   "execution_count": 34,
   "id": "93c6e1da",
   "metadata": {
    "execution": {
     "iopub.execute_input": "2024-02-09T17:32:13.279839Z",
     "iopub.status.busy": "2024-02-09T17:32:13.279125Z",
     "iopub.status.idle": "2024-02-09T17:32:32.905624Z",
     "shell.execute_reply": "2024-02-09T17:32:32.904323Z"
    },
    "id": "ttLKUGqn-jtV",
    "papermill": {
     "duration": 19.677909,
     "end_time": "2024-02-09T17:32:32.908245",
     "exception": false,
     "start_time": "2024-02-09T17:32:13.230336",
     "status": "completed"
    },
    "tags": []
   },
   "outputs": [],
   "source": [
    "nlp = spacy.blank(\"el\")\n",
    "def predict_sentiment_labels(model, sentences, label_vocab):\n",
    "    model.eval()\n",
    "    predictions = []\n",
    "    for sentence in sentences:\n",
    "        if isinstance(sentence, str) and sentence.strip() == \"\":\n",
    "            # If the sentence is an empty string, assign polarity as neutral (0)\n",
    "            predictions.append(\"0\")\n",
    "        else:\n",
    "            tokenized = [tok.text for tok in nlp.tokenizer(sentence)]\n",
    "            indexed = [TEXT.vocab.stoi[t] for t in tokenized]\n",
    "            length = [len(indexed)]\n",
    "            tensor = torch.LongTensor(indexed).to(device)\n",
    "            tensor = tensor.unsqueeze(1)\n",
    "            length_tensor = torch.LongTensor(length)\n",
    "            prediction_index = torch.argmax(model(tensor, length_tensor)).item()\n",
    "            predicted_label = label_vocab[prediction_index]\n",
    "            predictions.append(predicted_label)\n",
    "    return predictions\n",
    "\n",
    "predictions = predict_sentiment_labels(trained_model_attention, test['Text'], LABEL.vocab.itos)\n",
    "#we use the argmax to get the highest predicted class index. We then use this index with the label vocab to get \n",
    "#the actual label \"1\",\"2\",\"0\" and then map it to the human readable label \"POSITIVE\",\"NEGATIVE\",\"NEUTRAL\".\n"
   ]
  },
  {
   "cell_type": "code",
   "execution_count": 35,
   "id": "475f3b23",
   "metadata": {
    "execution": {
     "iopub.execute_input": "2024-02-09T17:32:33.016971Z",
     "iopub.status.busy": "2024-02-09T17:32:33.016610Z",
     "iopub.status.idle": "2024-02-09T17:32:33.022603Z",
     "shell.execute_reply": "2024-02-09T17:32:33.021748Z"
    },
    "id": "MjgYGzTHEt-U",
    "outputId": "c00765f9-9684-4d38-976b-77f5ca2243e9",
    "papermill": {
     "duration": 0.062032,
     "end_time": "2024-02-09T17:32:33.024751",
     "exception": false,
     "start_time": "2024-02-09T17:32:32.962719",
     "status": "completed"
    },
    "tags": []
   },
   "outputs": [
    {
     "data": {
      "text/plain": [
       "10470"
      ]
     },
     "execution_count": 35,
     "metadata": {},
     "output_type": "execute_result"
    }
   ],
   "source": [
    "len(predictions)"
   ]
  },
  {
   "cell_type": "code",
   "execution_count": 36,
   "id": "3e29c3db",
   "metadata": {
    "execution": {
     "iopub.execute_input": "2024-02-09T17:32:33.126548Z",
     "iopub.status.busy": "2024-02-09T17:32:33.125777Z",
     "iopub.status.idle": "2024-02-09T17:32:33.131296Z",
     "shell.execute_reply": "2024-02-09T17:32:33.130419Z"
    },
    "id": "f88c873c",
    "papermill": {
     "duration": 0.058002,
     "end_time": "2024-02-09T17:32:33.133068",
     "exception": false,
     "start_time": "2024-02-09T17:32:33.075066",
     "status": "completed"
    },
    "tags": []
   },
   "outputs": [],
   "source": [
    "mapping = {\"0\": 'NEUTRAL', \"1\": 'POSITIVE', \"2\": 'NEGATIVE'}\n",
    "y_categorical = [mapping[value] for value in predictions]\n",
    "# Print the result\n",
    "#print(y_categorical)"
   ]
  },
  {
   "cell_type": "code",
   "execution_count": 37,
   "id": "6601f53b",
   "metadata": {
    "execution": {
     "iopub.execute_input": "2024-02-09T17:32:33.231034Z",
     "iopub.status.busy": "2024-02-09T17:32:33.230337Z",
     "iopub.status.idle": "2024-02-09T17:32:33.251832Z",
     "shell.execute_reply": "2024-02-09T17:32:33.251106Z"
    },
    "id": "98f04aee",
    "papermill": {
     "duration": 0.072659,
     "end_time": "2024-02-09T17:32:33.253882",
     "exception": false,
     "start_time": "2024-02-09T17:32:33.181223",
     "status": "completed"
    },
    "tags": []
   },
   "outputs": [],
   "source": [
    "my_submission = pd.DataFrame({'Id': test.New_ID, 'Predicted': y_categorical})\n",
    "my_submission.to_csv('submission-lt12200010.csv', index=False)"
   ]
  },
  {
   "cell_type": "code",
   "execution_count": 38,
   "id": "7b27c564",
   "metadata": {
    "execution": {
     "iopub.execute_input": "2024-02-09T17:32:33.352391Z",
     "iopub.status.busy": "2024-02-09T17:32:33.351687Z",
     "iopub.status.idle": "2024-02-09T17:32:33.366439Z",
     "shell.execute_reply": "2024-02-09T17:32:33.365261Z"
    },
    "id": "f454f69f",
    "outputId": "8f252246-72d2-4bf4-f537-ec98af25a7fb",
    "papermill": {
     "duration": 0.066386,
     "end_time": "2024-02-09T17:32:33.368357",
     "exception": false,
     "start_time": "2024-02-09T17:32:33.301971",
     "status": "completed"
    },
    "tags": []
   },
   "outputs": [
    {
     "name": "stdout",
     "output_type": "stream",
     "text": [
      "Distribution of data in classes:\n",
      "Predicted\n",
      "NEGATIVE    0.628176\n",
      "POSITIVE    0.340210\n",
      "NEUTRAL     0.031614\n",
      "Name: count, dtype: float64\n"
     ]
    }
   ],
   "source": [
    "df=pd.read_csv('submission-lt12200010.csv')\n",
    "# Check the distribution of classes\n",
    "distribution = df['Predicted'].value_counts()/df.shape[0]\n",
    "print('Distribution of data in classes:')\n",
    "print(distribution)"
   ]
  }
 ],
 "metadata": {
  "accelerator": "GPU",
  "colab": {
   "collapsed_sections": [
    "D6XkSdtaWDRM",
    "0b7e1a9e",
    "LS6Ma3hQV2pP",
    "NxGEl7DBWMMi",
    "F4hWGNFDWYkQ",
    "JClaDraCWrAq",
    "l6WZyEHaW2qq",
    "yt-j2f4AX5Uw",
    "EymFZ-viXi-7",
    "aYn3WDJjYZRC",
    "1b286760",
    "AAax5qSLZyG_",
    "a114be99"
   ],
   "gpuType": "T4",
   "machine_shape": "hm",
   "provenance": []
  },
  "kaggle": {
   "accelerator": "nvidiaTeslaT4",
   "dataSources": [
    {
     "databundleVersionId": 7351814,
     "sourceId": 66593,
     "sourceType": "competition"
    },
    {
     "datasetId": 4049538,
     "sourceId": 7038672,
     "sourceType": "datasetVersion"
    }
   ],
   "isGpuEnabled": true,
   "isInternetEnabled": true,
   "language": "python",
   "sourceType": "notebook"
  },
  "kernelspec": {
   "display_name": "Python 3",
   "language": "python",
   "name": "python3"
  },
  "language_info": {
   "codemirror_mode": {
    "name": "ipython",
    "version": 3
   },
   "file_extension": ".py",
   "mimetype": "text/x-python",
   "name": "python",
   "nbconvert_exporter": "python",
   "pygments_lexer": "ipython3",
   "version": "3.10.13"
  },
  "papermill": {
   "default_parameters": {},
   "duration": 351.110295,
   "end_time": "2024-02-09T17:32:36.410456",
   "environment_variables": {},
   "exception": null,
   "input_path": "__notebook__.ipynb",
   "output_path": "__notebook__.ipynb",
   "parameters": {},
   "start_time": "2024-02-09T17:26:45.300161",
   "version": "2.5.0"
  },
  "widgets": {
   "application/vnd.jupyter.widget-state+json": {
    "state": {
     "06b56aab469444548223fbb02974fabc": {
      "model_module": "@jupyter-widgets/base",
      "model_module_version": "1.2.0",
      "model_name": "LayoutModel",
      "state": {
       "_model_module": "@jupyter-widgets/base",
       "_model_module_version": "1.2.0",
       "_model_name": "LayoutModel",
       "_view_count": null,
       "_view_module": "@jupyter-widgets/base",
       "_view_module_version": "1.2.0",
       "_view_name": "LayoutView",
       "align_content": null,
       "align_items": null,
       "align_self": null,
       "border": null,
       "bottom": null,
       "display": null,
       "flex": null,
       "flex_flow": null,
       "grid_area": null,
       "grid_auto_columns": null,
       "grid_auto_flow": null,
       "grid_auto_rows": null,
       "grid_column": null,
       "grid_gap": null,
       "grid_row": null,
       "grid_template_areas": null,
       "grid_template_columns": null,
       "grid_template_rows": null,
       "height": null,
       "justify_content": null,
       "justify_items": null,
       "left": null,
       "margin": null,
       "max_height": null,
       "max_width": null,
       "min_height": null,
       "min_width": null,
       "object_fit": null,
       "object_position": null,
       "order": null,
       "overflow": null,
       "overflow_x": null,
       "overflow_y": null,
       "padding": null,
       "right": null,
       "top": null,
       "visibility": null,
       "width": null
      }
     },
     "2b8480afe23941ecbdceb80d8bea4ec2": {
      "model_module": "@jupyter-widgets/base",
      "model_module_version": "1.2.0",
      "model_name": "LayoutModel",
      "state": {
       "_model_module": "@jupyter-widgets/base",
       "_model_module_version": "1.2.0",
       "_model_name": "LayoutModel",
       "_view_count": null,
       "_view_module": "@jupyter-widgets/base",
       "_view_module_version": "1.2.0",
       "_view_name": "LayoutView",
       "align_content": null,
       "align_items": null,
       "align_self": null,
       "border": null,
       "bottom": null,
       "display": null,
       "flex": null,
       "flex_flow": null,
       "grid_area": null,
       "grid_auto_columns": null,
       "grid_auto_flow": null,
       "grid_auto_rows": null,
       "grid_column": null,
       "grid_gap": null,
       "grid_row": null,
       "grid_template_areas": null,
       "grid_template_columns": null,
       "grid_template_rows": null,
       "height": null,
       "justify_content": null,
       "justify_items": null,
       "left": null,
       "margin": null,
       "max_height": null,
       "max_width": null,
       "min_height": null,
       "min_width": null,
       "object_fit": null,
       "object_position": null,
       "order": null,
       "overflow": null,
       "overflow_x": null,
       "overflow_y": null,
       "padding": null,
       "right": null,
       "top": null,
       "visibility": null,
       "width": null
      }
     },
     "3031f779205341569bf9de642e931c4f": {
      "model_module": "@jupyter-widgets/controls",
      "model_module_version": "1.5.0",
      "model_name": "HTMLModel",
      "state": {
       "_dom_classes": [],
       "_model_module": "@jupyter-widgets/controls",
       "_model_module_version": "1.5.0",
       "_model_name": "HTMLModel",
       "_view_count": null,
       "_view_module": "@jupyter-widgets/controls",
       "_view_module_version": "1.5.0",
       "_view_name": "HTMLView",
       "description": "",
       "description_tooltip": null,
       "layout": "IPY_MODEL_06b56aab469444548223fbb02974fabc",
       "placeholder": "​",
       "style": "IPY_MODEL_ea8e55105dbc4d8ea4355a599c9d22e6",
       "value": "100%"
      }
     },
     "5e997fdf9a4e458eab3820ad15e62b64": {
      "model_module": "@jupyter-widgets/controls",
      "model_module_version": "1.5.0",
      "model_name": "ProgressStyleModel",
      "state": {
       "_model_module": "@jupyter-widgets/controls",
       "_model_module_version": "1.5.0",
       "_model_name": "ProgressStyleModel",
       "_view_count": null,
       "_view_module": "@jupyter-widgets/base",
       "_view_module_version": "1.2.0",
       "_view_name": "StyleView",
       "bar_color": null,
       "description_width": ""
      }
     },
     "9cbba1d8dbc046839487e97ac50c2906": {
      "model_module": "@jupyter-widgets/controls",
      "model_module_version": "1.5.0",
      "model_name": "HBoxModel",
      "state": {
       "_dom_classes": [],
       "_model_module": "@jupyter-widgets/controls",
       "_model_module_version": "1.5.0",
       "_model_name": "HBoxModel",
       "_view_count": null,
       "_view_module": "@jupyter-widgets/controls",
       "_view_module_version": "1.5.0",
       "_view_name": "HBoxView",
       "box_style": "",
       "children": [
        "IPY_MODEL_3031f779205341569bf9de642e931c4f",
        "IPY_MODEL_ae6bef22adc24f86bebf08fab5bc6e2c",
        "IPY_MODEL_c60378e57d7a49a68f701c9fffb323c9"
       ],
       "layout": "IPY_MODEL_2b8480afe23941ecbdceb80d8bea4ec2"
      }
     },
     "a9ff15a23cd2432ca3acc782ea9a6e8b": {
      "model_module": "@jupyter-widgets/base",
      "model_module_version": "1.2.0",
      "model_name": "LayoutModel",
      "state": {
       "_model_module": "@jupyter-widgets/base",
       "_model_module_version": "1.2.0",
       "_model_name": "LayoutModel",
       "_view_count": null,
       "_view_module": "@jupyter-widgets/base",
       "_view_module_version": "1.2.0",
       "_view_name": "LayoutView",
       "align_content": null,
       "align_items": null,
       "align_self": null,
       "border": null,
       "bottom": null,
       "display": null,
       "flex": null,
       "flex_flow": null,
       "grid_area": null,
       "grid_auto_columns": null,
       "grid_auto_flow": null,
       "grid_auto_rows": null,
       "grid_column": null,
       "grid_gap": null,
       "grid_row": null,
       "grid_template_areas": null,
       "grid_template_columns": null,
       "grid_template_rows": null,
       "height": null,
       "justify_content": null,
       "justify_items": null,
       "left": null,
       "margin": null,
       "max_height": null,
       "max_width": null,
       "min_height": null,
       "min_width": null,
       "object_fit": null,
       "object_position": null,
       "order": null,
       "overflow": null,
       "overflow_x": null,
       "overflow_y": null,
       "padding": null,
       "right": null,
       "top": null,
       "visibility": null,
       "width": null
      }
     },
     "ae6bef22adc24f86bebf08fab5bc6e2c": {
      "model_module": "@jupyter-widgets/controls",
      "model_module_version": "1.5.0",
      "model_name": "FloatProgressModel",
      "state": {
       "_dom_classes": [],
       "_model_module": "@jupyter-widgets/controls",
       "_model_module_version": "1.5.0",
       "_model_name": "FloatProgressModel",
       "_view_count": null,
       "_view_module": "@jupyter-widgets/controls",
       "_view_module_version": "1.5.0",
       "_view_name": "ProgressView",
       "bar_style": "success",
       "description": "",
       "description_tooltip": null,
       "layout": "IPY_MODEL_f0da366a8924467eb3abfd183e9fe3df",
       "max": 24032.0,
       "min": 0.0,
       "orientation": "horizontal",
       "style": "IPY_MODEL_5e997fdf9a4e458eab3820ad15e62b64",
       "value": 24032.0
      }
     },
     "bcb3bc9d2f9b4395bea584604c38784c": {
      "model_module": "@jupyter-widgets/controls",
      "model_module_version": "1.5.0",
      "model_name": "DescriptionStyleModel",
      "state": {
       "_model_module": "@jupyter-widgets/controls",
       "_model_module_version": "1.5.0",
       "_model_name": "DescriptionStyleModel",
       "_view_count": null,
       "_view_module": "@jupyter-widgets/base",
       "_view_module_version": "1.2.0",
       "_view_name": "StyleView",
       "description_width": ""
      }
     },
     "c60378e57d7a49a68f701c9fffb323c9": {
      "model_module": "@jupyter-widgets/controls",
      "model_module_version": "1.5.0",
      "model_name": "HTMLModel",
      "state": {
       "_dom_classes": [],
       "_model_module": "@jupyter-widgets/controls",
       "_model_module_version": "1.5.0",
       "_model_name": "HTMLModel",
       "_view_count": null,
       "_view_module": "@jupyter-widgets/controls",
       "_view_module_version": "1.5.0",
       "_view_name": "HTMLView",
       "description": "",
       "description_tooltip": null,
       "layout": "IPY_MODEL_a9ff15a23cd2432ca3acc782ea9a6e8b",
       "placeholder": "​",
       "style": "IPY_MODEL_bcb3bc9d2f9b4395bea584604c38784c",
       "value": " 24032/24032 [00:00&lt;00:00, 63522.88it/s]"
      }
     },
     "ea8e55105dbc4d8ea4355a599c9d22e6": {
      "model_module": "@jupyter-widgets/controls",
      "model_module_version": "1.5.0",
      "model_name": "DescriptionStyleModel",
      "state": {
       "_model_module": "@jupyter-widgets/controls",
       "_model_module_version": "1.5.0",
       "_model_name": "DescriptionStyleModel",
       "_view_count": null,
       "_view_module": "@jupyter-widgets/base",
       "_view_module_version": "1.2.0",
       "_view_name": "StyleView",
       "description_width": ""
      }
     },
     "f0da366a8924467eb3abfd183e9fe3df": {
      "model_module": "@jupyter-widgets/base",
      "model_module_version": "1.2.0",
      "model_name": "LayoutModel",
      "state": {
       "_model_module": "@jupyter-widgets/base",
       "_model_module_version": "1.2.0",
       "_model_name": "LayoutModel",
       "_view_count": null,
       "_view_module": "@jupyter-widgets/base",
       "_view_module_version": "1.2.0",
       "_view_name": "LayoutView",
       "align_content": null,
       "align_items": null,
       "align_self": null,
       "border": null,
       "bottom": null,
       "display": null,
       "flex": null,
       "flex_flow": null,
       "grid_area": null,
       "grid_auto_columns": null,
       "grid_auto_flow": null,
       "grid_auto_rows": null,
       "grid_column": null,
       "grid_gap": null,
       "grid_row": null,
       "grid_template_areas": null,
       "grid_template_columns": null,
       "grid_template_rows": null,
       "height": null,
       "justify_content": null,
       "justify_items": null,
       "left": null,
       "margin": null,
       "max_height": null,
       "max_width": null,
       "min_height": null,
       "min_width": null,
       "object_fit": null,
       "object_position": null,
       "order": null,
       "overflow": null,
       "overflow_x": null,
       "overflow_y": null,
       "padding": null,
       "right": null,
       "top": null,
       "visibility": null,
       "width": null
      }
     }
    },
    "version_major": 2,
    "version_minor": 0
   }
  }
 },
 "nbformat": 4,
 "nbformat_minor": 5
}
